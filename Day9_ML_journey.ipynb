{
  "nbformat": 4,
  "nbformat_minor": 0,
  "metadata": {
    "colab": {
      "provenance": [],
      "name": "Day9_ML_journey.ipynb",
      "authorship_tag": "ABX9TyOkWIqJqilYjcbiPaI5ZIhp",
      "include_colab_link": true
    },
    "kernelspec": {
      "name": "python3",
      "display_name": "Python 3"
    },
    "language_info": {
      "name": "python"
    }
  },
  "cells": [
    {
      "cell_type": "markdown",
      "metadata": {
        "id": "view-in-github",
        "colab_type": "text"
      },
      "source": [
        "<a href=\"https://colab.research.google.com/github/dilip-ksa/dilip_pythondemo/blob/main/Day9_ML_journey.ipynb\" target=\"_parent\"><img src=\"https://colab.research.google.com/assets/colab-badge.svg\" alt=\"Open In Colab\"/></a>"
      ]
    },
    {
      "cell_type": "code",
      "source": [
        "# range function\n",
        "\n",
        "for i in range(0,11,3):\n",
        "  print(i)"
      ],
      "metadata": {
        "id": "MV5fabx2Wvqn",
        "outputId": "70f86b5e-7f97-48be-c493-67ef5475f1c9",
        "colab": {
          "base_uri": "https://localhost:8080/"
        }
      },
      "execution_count": null,
      "outputs": [
        {
          "output_type": "stream",
          "name": "stdout",
          "text": [
            "0\n",
            "3\n",
            "6\n",
            "9\n"
          ]
        }
      ]
    },
    {
      "cell_type": "code",
      "source": [
        "s1 = \"NTT\"\n",
        "s2 = \"DATA\"\n",
        "s3 = s1+s2\n",
        "print(s3)\n",
        "s4 = s2*4\n",
        "print(s4)\n",
        "\n",
        "s2[0]=\"d\""
      ],
      "metadata": {
        "id": "8nhFULSxWwMd",
        "outputId": "dd7bb1b1-db5f-49af-996f-e42690be6a76",
        "colab": {
          "base_uri": "https://localhost:8080/",
          "height": 211
        }
      },
      "execution_count": null,
      "outputs": [
        {
          "output_type": "stream",
          "name": "stdout",
          "text": [
            "NTTDATA\n",
            "DATADATADATADATA\n"
          ]
        },
        {
          "output_type": "error",
          "ename": "TypeError",
          "evalue": "'str' object does not support item assignment",
          "traceback": [
            "\u001b[0;31m---------------------------------------------------------------------------\u001b[0m",
            "\u001b[0;31mTypeError\u001b[0m                                 Traceback (most recent call last)",
            "\u001b[0;32m<ipython-input-30-c5d6ee255318>\u001b[0m in \u001b[0;36m<cell line: 0>\u001b[0;34m()\u001b[0m\n\u001b[1;32m      6\u001b[0m \u001b[0mprint\u001b[0m\u001b[0;34m(\u001b[0m\u001b[0ms4\u001b[0m\u001b[0;34m)\u001b[0m\u001b[0;34m\u001b[0m\u001b[0;34m\u001b[0m\u001b[0m\n\u001b[1;32m      7\u001b[0m \u001b[0;34m\u001b[0m\u001b[0m\n\u001b[0;32m----> 8\u001b[0;31m \u001b[0ms2\u001b[0m\u001b[0;34m[\u001b[0m\u001b[0;36m0\u001b[0m\u001b[0;34m]\u001b[0m\u001b[0;34m=\u001b[0m\u001b[0;34m\"d\"\u001b[0m\u001b[0;34m\u001b[0m\u001b[0;34m\u001b[0m\u001b[0m\n\u001b[0m",
            "\u001b[0;31mTypeError\u001b[0m: 'str' object does not support item assignment"
          ]
        }
      ]
    },
    {
      "cell_type": "code",
      "source": [
        "# String deletion\n",
        "s1 = \"Ntt\"\n",
        "print(s1)\n",
        "del s1\n",
        "print(s1)"
      ],
      "metadata": {
        "id": "osYSv9MMWwSv",
        "outputId": "2b86d26b-b6c0-40f0-fbce-7d68727e7ae2",
        "colab": {
          "base_uri": "https://localhost:8080/",
          "height": 193
        }
      },
      "execution_count": null,
      "outputs": [
        {
          "output_type": "stream",
          "name": "stdout",
          "text": [
            "Ntt\n"
          ]
        },
        {
          "output_type": "error",
          "ename": "NameError",
          "evalue": "name 's1' is not defined",
          "traceback": [
            "\u001b[0;31m---------------------------------------------------------------------------\u001b[0m",
            "\u001b[0;31mNameError\u001b[0m                                 Traceback (most recent call last)",
            "\u001b[0;32m<ipython-input-31-e0ed5197b68f>\u001b[0m in \u001b[0;36m<cell line: 0>\u001b[0;34m()\u001b[0m\n\u001b[1;32m      3\u001b[0m \u001b[0mprint\u001b[0m\u001b[0;34m(\u001b[0m\u001b[0ms1\u001b[0m\u001b[0;34m)\u001b[0m\u001b[0;34m\u001b[0m\u001b[0;34m\u001b[0m\u001b[0m\n\u001b[1;32m      4\u001b[0m \u001b[0;32mdel\u001b[0m \u001b[0ms1\u001b[0m\u001b[0;34m\u001b[0m\u001b[0;34m\u001b[0m\u001b[0m\n\u001b[0;32m----> 5\u001b[0;31m \u001b[0mprint\u001b[0m\u001b[0;34m(\u001b[0m\u001b[0ms1\u001b[0m\u001b[0;34m)\u001b[0m\u001b[0;34m\u001b[0m\u001b[0;34m\u001b[0m\u001b[0m\n\u001b[0m",
            "\u001b[0;31mNameError\u001b[0m: name 's1' is not defined"
          ]
        }
      ]
    },
    {
      "cell_type": "code",
      "source": [
        "#  length of the string\n",
        "\n",
        "s = input(\"enter a string\")\n",
        "c=0\n",
        "for i in s:\n",
        "  c= c+1\n",
        "print(\"length =\", c)\n",
        "\n",
        "#use len function\n",
        "\n",
        "print(len(s))"
      ],
      "metadata": {
        "id": "WzjcJzYUWwXG",
        "outputId": "4ea35bb6-b0d3-44c4-9a2f-bf4638baefd9",
        "colab": {
          "base_uri": "https://localhost:8080/"
        }
      },
      "execution_count": null,
      "outputs": [
        {
          "output_type": "stream",
          "name": "stdout",
          "text": [
            "enter a stringasdf\n",
            "length = 4\n",
            "4\n"
          ]
        }
      ]
    },
    {
      "cell_type": "code",
      "source": [
        "# memebership operator\n",
        "\n",
        "if \"b\" not in \"apple\":\n",
        "  print(\"yes\")\n",
        "else:\n",
        "  print(\"no\")"
      ],
      "metadata": {
        "id": "hIu0SoGxWway",
        "outputId": "052fc1e0-61a5-447f-b67d-854a3d3a61cd",
        "colab": {
          "base_uri": "https://localhost:8080/"
        }
      },
      "execution_count": null,
      "outputs": [
        {
          "output_type": "stream",
          "name": "stdout",
          "text": [
            "yes\n"
          ]
        }
      ]
    },
    {
      "cell_type": "code",
      "source": [
        "# count method\n",
        "\n",
        "main_string = input(\"enter a string\")\n",
        "sub_string = input(\"enetr a sub string\")\n",
        "\n",
        "c = main_string.count(sub_string,0,3)\n",
        "\n",
        "print(c)"
      ],
      "metadata": {
        "id": "hYRpm7F1WweM",
        "outputId": "4605fff9-15c0-4e5a-d4fe-9a30082802f3",
        "colab": {
          "base_uri": "https://localhost:8080/"
        }
      },
      "execution_count": null,
      "outputs": [
        {
          "output_type": "stream",
          "name": "stdout",
          "text": [
            "enter a stringasdf\n",
            "enetr a sub stringyxcv\n",
            "0\n"
          ]
        }
      ]
    },
    {
      "cell_type": "code",
      "source": [
        "mobno = input(\" enter you mob no with country code\")\n",
        "\n",
        "if mobno.startswith(\"+91\"):\n",
        "  print(\"india\")\n",
        "elif mobno.startswith(\"+1\"):\n",
        "  print(\"USA\")"
      ],
      "metadata": {
        "id": "Vb3B0pW8Wwpx",
        "outputId": "1dc05de0-67a6-42af-8a37-c29fe23ee8a4",
        "colab": {
          "base_uri": "https://localhost:8080/"
        }
      },
      "execution_count": null,
      "outputs": [
        {
          "output_type": "stream",
          "name": "stdout",
          "text": [
            " enter you mob no with country code+91646454\n",
            "india\n"
          ]
        }
      ]
    },
    {
      "cell_type": "code",
      "source": [
        "# endswith\n",
        "url = input(\"enter a URL\")\n",
        "if url.endswith('.edu'):\n",
        "  print(\"educational website\")\n",
        "elif url.endswith('.com'):\n",
        "  print(\"commercial website\")\n"
      ],
      "metadata": {
        "id": "2qJ4cBfcXT-I",
        "outputId": "90b396c2-596d-41d6-ba01-8860a8fc8393",
        "colab": {
          "base_uri": "https://localhost:8080/"
        }
      },
      "execution_count": null,
      "outputs": [
        {
          "output_type": "stream",
          "name": "stdout",
          "text": [
            "enter a URL.edu\n",
            "educational website\n"
          ]
        }
      ]
    },
    {
      "cell_type": "code",
      "source": [
        "#lstrip method\n",
        "name = input(\"enter your name\")\n",
        "print(name)\n",
        "name = name.lstrip()\n",
        "print(name)\n"
      ],
      "metadata": {
        "id": "g8YAderHXT7j",
        "outputId": "9c6cd920-58db-4186-b0af-1209dbc00aaf",
        "colab": {
          "base_uri": "https://localhost:8080/"
        }
      },
      "execution_count": null,
      "outputs": [
        {
          "output_type": "stream",
          "name": "stdout",
          "text": [
            "enter your namedfsd\n",
            "dfsd\n",
            "dfsd\n"
          ]
        }
      ]
    },
    {
      "cell_type": "code",
      "source": [
        "url = [\"httphttphttphhpp\",\"http://www.ajio.com\",\"http://www.cricbuzz.com\"]\n",
        "\n",
        "for i in url:\n",
        "  #i = i.lstrip(\"http://www.\")\n",
        "  i = i.lstrip(\"tph\")\n",
        "  print(i)"
      ],
      "metadata": {
        "id": "r1Aktu-iXT4h",
        "outputId": "d4f7c0c6-4a5e-4c81-df95-e46229cb8dcf",
        "colab": {
          "base_uri": "https://localhost:8080/"
        }
      },
      "execution_count": null,
      "outputs": [
        {
          "output_type": "stream",
          "name": "stdout",
          "text": [
            "\n",
            "://www.ajio.com\n",
            "://www.cricbuzz.com\n"
          ]
        }
      ]
    },
    {
      "cell_type": "code",
      "source": [],
      "metadata": {
        "id": "Jt9XnBOYXTyP"
      },
      "execution_count": null,
      "outputs": []
    },
    {
      "cell_type": "code",
      "source": [
        "url=[\"https://www.google.com\",\"https://www.microsoft.com\",\"https://www.amazon.com\", \"http://www.swiss.com\"]\n",
        "for s in url:\n",
        "  newstr = s.lstrip(\"htps:/w.\")\n",
        "  print(newstr)"
      ],
      "metadata": {
        "id": "7a26uF0aHmV4",
        "colab": {
          "base_uri": "https://localhost:8080/"
        },
        "outputId": "234f6ef5-b231-4a07-e86f-e93ccf063199"
      },
      "execution_count": null,
      "outputs": [
        {
          "output_type": "stream",
          "name": "stdout",
          "text": [
            "google.com\n",
            "microsoft.com\n",
            "amazon.com\n",
            "iss.com\n"
          ]
        }
      ]
    },
    {
      "cell_type": "code",
      "source": [
        "url=[\"https://www.google.com\",\"https://www.microsoft.com\",\"https://www.amazon.com\", \"http://www.swiss.com\"]\n",
        "for s in url:\n",
        "  newstr = s.rstrip(\".moce\")\n",
        "  print(newstr)"
      ],
      "metadata": {
        "colab": {
          "base_uri": "https://localhost:8080/"
        },
        "id": "YpVnV_zLMFMq",
        "outputId": "672aed9c-bc2c-4dfd-9a78-3c8945411aff"
      },
      "execution_count": null,
      "outputs": [
        {
          "output_type": "stream",
          "name": "stdout",
          "text": [
            "https://www.googl\n",
            "https://www.microsoft\n",
            "https://www.amazon\n",
            "http://www.swiss\n"
          ]
        }
      ]
    },
    {
      "cell_type": "code",
      "source": [
        "url=[\"http://www.myntra.com\",\"http://www.ajio.com\",\"http://www.cricbuzz.com\", \"http://www.amazon.com\"]\n",
        "for s in url:\n",
        "  newstr = s.rstrip(\"htp.com\")\n",
        "  print(newstr)"
      ],
      "metadata": {
        "colab": {
          "base_uri": "https://localhost:8080/"
        },
        "id": "cH_6MtWkMgUi",
        "outputId": "44a4d96d-00b3-4983-f5db-a7a981d535ac"
      },
      "execution_count": null,
      "outputs": [
        {
          "output_type": "stream",
          "name": "stdout",
          "text": [
            "http://www.myntra\n",
            "http://www.aji\n",
            "http://www.cricbuzz\n",
            "http://www.amazon\n"
          ]
        }
      ]
    },
    {
      "cell_type": "code",
      "source": [
        "url=[\"http://www.myntra.com\",\"http://www.ajio.com\",\"http://www.cricbuzz.com\"]\n",
        "for s in url:\n",
        "  newstr = s.strip(\"htp:/.com\")\n",
        "  print(newstr)"
      ],
      "metadata": {
        "colab": {
          "base_uri": "https://localhost:8080/"
        },
        "id": "NU-5pMYgNBo8",
        "outputId": "0cb726e2-a5cf-454d-a157-5640a5a3a520"
      },
      "execution_count": null,
      "outputs": [
        {
          "output_type": "stream",
          "name": "stdout",
          "text": [
            "www.myntra\n",
            "www.aji\n",
            "www.cricbuzz\n"
          ]
        }
      ]
    },
    {
      "cell_type": "code",
      "source": [
        "#ascii value\n",
        "st = \"ABCDEFGHIJK\"\n",
        "for s in st:\n",
        "  print(ord(s), end=' ')"
      ],
      "metadata": {
        "colab": {
          "base_uri": "https://localhost:8080/"
        },
        "id": "yCdNiZcdQvuQ",
        "outputId": "e25b8536-874a-4adc-a24b-c917c248aead"
      },
      "execution_count": null,
      "outputs": [
        {
          "output_type": "stream",
          "name": "stdout",
          "text": [
            "65 66 67 68 69 70 71 72 73 74 75 "
          ]
        }
      ]
    },
    {
      "cell_type": "code",
      "source": [
        "#replace\n",
        "str1 = \"Bangalore\"\n",
        "newstr = str1.replace(\"Bangalore\", \"Bengaluru\")\n",
        "print(newstr)"
      ],
      "metadata": {
        "colab": {
          "base_uri": "https://localhost:8080/"
        },
        "id": "WlPPVM2MRHja",
        "outputId": "c7b32a99-2ebd-43c9-ffed-5e6f4a77fb66"
      },
      "execution_count": null,
      "outputs": [
        {
          "output_type": "stream",
          "name": "stdout",
          "text": [
            "Bengaluru\n"
          ]
        }
      ]
    },
    {
      "cell_type": "code",
      "source": [
        "#replace\n",
        "str1 = \"Bangalore\"\n",
        "newstr = str1.replace(\"a\", \"o\")\n",
        "print(newstr)"
      ],
      "metadata": {
        "colab": {
          "base_uri": "https://localhost:8080/"
        },
        "id": "CxNbO5X5Rjh2",
        "outputId": "97a5bd7f-b692-4cfb-a42b-78158e298a72"
      },
      "execution_count": null,
      "outputs": [
        {
          "output_type": "stream",
          "name": "stdout",
          "text": [
            "Bongolore\n"
          ]
        }
      ]
    },
    {
      "cell_type": "code",
      "source": [
        "#replace\n",
        "str1 = \"Bangalore\"\n",
        "newstr = str1.replace(\"a\", \"o\", 1)\n",
        "print(newstr)"
      ],
      "metadata": {
        "colab": {
          "base_uri": "https://localhost:8080/"
        },
        "id": "cy4msp4gRs2g",
        "outputId": "37522155-e7dd-4fea-d2da-fda5b83957cd"
      },
      "execution_count": null,
      "outputs": [
        {
          "output_type": "stream",
          "name": "stdout",
          "text": [
            "Bongalore\n"
          ]
        }
      ]
    },
    {
      "cell_type": "code",
      "source": [
        "str1 = \"I live in Mumbai, Mumbai is a beautiful place\"\n",
        "newstr = str1.replace(\"Mumbai\", \"Bangalore\")\n",
        "print(newstr)"
      ],
      "metadata": {
        "colab": {
          "base_uri": "https://localhost:8080/"
        },
        "id": "ORUKHaT2TE47",
        "outputId": "9a495a00-7dd0-4785-966e-93c8663081bd"
      },
      "execution_count": null,
      "outputs": [
        {
          "output_type": "stream",
          "name": "stdout",
          "text": [
            "I live in Bangalore, Bangalore is a beautiful place\n"
          ]
        }
      ]
    },
    {
      "cell_type": "code",
      "source": [
        "str1 = \"I live in Mumbai, Mumbai is a beautiful place\"\n",
        "newstr = str1.replace(\"Mumbai\", \"Bangalore\", 1)\n",
        "print(newstr)"
      ],
      "metadata": {
        "colab": {
          "base_uri": "https://localhost:8080/"
        },
        "id": "1avnqVVxTUKm",
        "outputId": "0c08c97a-7f66-48da-e9fb-62b3362d8216"
      },
      "execution_count": null,
      "outputs": [
        {
          "output_type": "stream",
          "name": "stdout",
          "text": [
            "I live in Bangalore, Mumbai is a beautiful place\n"
          ]
        }
      ]
    },
    {
      "cell_type": "code",
      "source": [
        "str1 = \"I live in Mumbai, Mumbai is a beautiful place\"\n",
        "newstr = str1.find(\"Mumbai\", 1)\n",
        "print(newstr)"
      ],
      "metadata": {
        "colab": {
          "base_uri": "https://localhost:8080/"
        },
        "id": "tYZOTxNvTbo4",
        "outputId": "cc7f4890-3e28-4194-f160-b4d85b26ea5c"
      },
      "execution_count": null,
      "outputs": [
        {
          "output_type": "stream",
          "name": "stdout",
          "text": [
            "10\n"
          ]
        }
      ]
    },
    {
      "cell_type": "code",
      "source": [
        "str1 = \"I live in Mumbai, Mumbai is a beautiful place\"\n",
        "newstr = str1.rfind(\"Mumbai\", 1)\n",
        "print(newstr)"
      ],
      "metadata": {
        "colab": {
          "base_uri": "https://localhost:8080/"
        },
        "id": "wyqMy8wRTo7Y",
        "outputId": "9d015f94-ab99-4e05-8a36-59b2eed8caad"
      },
      "execution_count": null,
      "outputs": [
        {
          "output_type": "stream",
          "name": "stdout",
          "text": [
            "18\n"
          ]
        }
      ]
    },
    {
      "cell_type": "code",
      "source": [
        "str1 = \"I live in Mumbai, Mumbai is a beautiful place\"\n",
        "newstr = str1.split(\" \")\n",
        "print(newstr)"
      ],
      "metadata": {
        "colab": {
          "base_uri": "https://localhost:8080/"
        },
        "id": "5NLXQLUcTsPy",
        "outputId": "9ab409fa-c4e1-4a86-b9de-b2a09267b681"
      },
      "execution_count": null,
      "outputs": [
        {
          "output_type": "stream",
          "name": "stdout",
          "text": [
            "['I', 'live', 'in', 'Mumbai,', 'Mumbai', 'is', 'a', 'beautiful', 'place']\n"
          ]
        }
      ]
    },
    {
      "cell_type": "code",
      "source": [
        "str1 = \"I live in Mumbai, Mumbai is a beautiful place\"\n",
        "newstr = str1.split(\" \", 3)\n",
        "print(newstr)"
      ],
      "metadata": {
        "colab": {
          "base_uri": "https://localhost:8080/"
        },
        "id": "Jc8qFiUNTsaI",
        "outputId": "7726d259-81f8-47d1-8dac-5565d3036d78"
      },
      "execution_count": null,
      "outputs": [
        {
          "output_type": "stream",
          "name": "stdout",
          "text": [
            "['I', 'live', 'in', 'Mumbai, Mumbai is a beautiful place']\n"
          ]
        }
      ]
    },
    {
      "cell_type": "code",
      "source": [
        "str1 = \"I live in Mumbai, Mumbai is a beautiful place\"\n",
        "newstr = str1.split()\n",
        "print(newstr)"
      ],
      "metadata": {
        "colab": {
          "base_uri": "https://localhost:8080/"
        },
        "id": "k2By0wojTsdq",
        "outputId": "338b96c3-7679-4c07-df8a-ec85a6f8b6d6"
      },
      "execution_count": null,
      "outputs": [
        {
          "output_type": "stream",
          "name": "stdout",
          "text": [
            "['I', 'live', 'in', 'Mumbai,', 'Mumbai', 'is', 'a', 'beautiful', 'place']\n"
          ]
        }
      ]
    },
    {
      "cell_type": "code",
      "source": [
        "str1 = \"I live in Mumbai, Mumbai is a beautiful place\"\n",
        "newstr = str1.split(\"i\")\n",
        "print(newstr)"
      ],
      "metadata": {
        "colab": {
          "base_uri": "https://localhost:8080/"
        },
        "id": "we6VvPAaTshK",
        "outputId": "fe1470e7-2e98-430d-d288-d0bf31c299d7"
      },
      "execution_count": null,
      "outputs": [
        {
          "output_type": "stream",
          "name": "stdout",
          "text": [
            "['I l', 've ', 'n Mumba', ', Mumba', ' ', 's a beaut', 'ful place']\n"
          ]
        }
      ]
    },
    {
      "cell_type": "code",
      "source": [
        "###################### Day 6  #################################\n",
        "list1 = [12,23.4,\"Test\", True, 2+3j, (1, 2, 3), [23, 24, 25]]\n",
        "print(list1)\n",
        "print(type(list1))\n",
        "print(list1[0], list1[-1])\n"
      ],
      "metadata": {
        "id": "7KxuMd7JTskY",
        "colab": {
          "base_uri": "https://localhost:8080/"
        },
        "outputId": "a02cb49e-2d6b-4a59-e617-061ad53b0c6e"
      },
      "execution_count": null,
      "outputs": [
        {
          "output_type": "stream",
          "name": "stdout",
          "text": [
            "[12, 23.4, 'Test', True, (2+3j), (1, 2, 3), [23, 24, 25]]\n",
            "<class 'list'>\n",
            "12 [23, 24, 25]\n"
          ]
        }
      ]
    },
    {
      "cell_type": "code",
      "source": [
        "list1 = [12,23.4,\"Test\", True, 2+3j, (1, 2, 3), [23, 24, 25]]\n",
        "print(list1[6][1])\n",
        "print(list1[2::2])\n",
        "print(list1[::-1])"
      ],
      "metadata": {
        "id": "1p2B0KVjTs6h",
        "colab": {
          "base_uri": "https://localhost:8080/"
        },
        "outputId": "06a7bbfc-1056-4391-febe-28dc4a955715"
      },
      "execution_count": null,
      "outputs": [
        {
          "output_type": "stream",
          "name": "stdout",
          "text": [
            "24\n",
            "['Test', (2+3j), [23, 24, 25]]\n",
            "[[23, 24, 25], (1, 2, 3), (2+3j), True, 'Test', 23.4, 12]\n"
          ]
        }
      ]
    },
    {
      "cell_type": "code",
      "source": [
        "#List concatenation\n",
        "l1 = [1,2,3]\n",
        "l2 = [4,5,6]\n",
        "l3 = l1+l2\n",
        "print(l1)\n",
        "print(l2)\n",
        "print(l3)\n",
        "\n",
        "print(id(l1))\n",
        "print(id(l2))\n",
        "print(id(l3))\n"
      ],
      "metadata": {
        "colab": {
          "base_uri": "https://localhost:8080/"
        },
        "id": "_PxMCLhczvwC",
        "outputId": "3fbfb72e-6a81-4a4d-a040-c5c17b68a4e2"
      },
      "execution_count": null,
      "outputs": [
        {
          "output_type": "stream",
          "name": "stdout",
          "text": [
            "[1, 2, 3]\n",
            "[4, 5, 6]\n",
            "[1, 2, 3, 4, 5, 6]\n",
            "138041345447296\n",
            "138041343771008\n",
            "138041345448576\n"
          ]
        }
      ]
    },
    {
      "cell_type": "code",
      "source": [
        "#List multiplication\n",
        "l1 = [1,2,3]\n",
        "l2 = [4,5,6]\n",
        "l3 = l1*3\n",
        "print(l1)\n",
        "print(l2)\n",
        "print(l3)"
      ],
      "metadata": {
        "colab": {
          "base_uri": "https://localhost:8080/"
        },
        "id": "WzDPOvbozv_n",
        "outputId": "5d2fee42-d8b2-48d9-8a27-29a866da1910"
      },
      "execution_count": null,
      "outputs": [
        {
          "output_type": "stream",
          "name": "stdout",
          "text": [
            "[1, 2, 3]\n",
            "[4, 5, 6]\n",
            "[1, 2, 3, 1, 2, 3, 1, 2, 3]\n"
          ]
        }
      ]
    },
    {
      "cell_type": "code",
      "source": [
        "#\n",
        "l1 = (1,2,3)\n",
        "l2 = [4,5,6]\n",
        "l3 = l1 * 3\n",
        "print(l1)\n",
        "print(l2)\n",
        "print(l3)"
      ],
      "metadata": {
        "colab": {
          "base_uri": "https://localhost:8080/"
        },
        "id": "YKIx9V09zwDY",
        "outputId": "7d975baf-a58a-48ff-bb39-b7c45898dc98"
      },
      "execution_count": null,
      "outputs": [
        {
          "output_type": "stream",
          "name": "stdout",
          "text": [
            "(1, 2, 3)\n",
            "[4, 5, 6]\n",
            "(1, 2, 3, 1, 2, 3, 1, 2, 3)\n"
          ]
        }
      ]
    },
    {
      "cell_type": "code",
      "source": [
        "#Membership operator\n",
        "l1 = [1,2,3]\n",
        "print(1 in l1)\n",
        "print(4 in l1)\n",
        "print()\n",
        "print(1 not in l1)\n",
        "print(4 not in l1)"
      ],
      "metadata": {
        "colab": {
          "base_uri": "https://localhost:8080/"
        },
        "id": "Vux5IGHIzwKw",
        "outputId": "dccbcce9-3d5a-40e2-eedd-b6445f263252"
      },
      "execution_count": null,
      "outputs": [
        {
          "output_type": "stream",
          "name": "stdout",
          "text": [
            "True\n",
            "False\n",
            "\n",
            "False\n",
            "True\n"
          ]
        }
      ]
    },
    {
      "cell_type": "code",
      "source": [
        "print ('NTT' in \"NTT DATA\")"
      ],
      "metadata": {
        "colab": {
          "base_uri": "https://localhost:8080/"
        },
        "id": "ZpNFU59yzwOC",
        "outputId": "01b3609e-4e5d-4982-a902-841c15cacf2e"
      },
      "execution_count": null,
      "outputs": [
        {
          "output_type": "stream",
          "name": "stdout",
          "text": [
            "True\n"
          ]
        }
      ]
    },
    {
      "cell_type": "code",
      "source": [
        "#Functions max()\n",
        "l1 = [1,2,3]\n",
        "print(max(l1))\n",
        "\n",
        "l2 = ['a', 'b', 'c']\n",
        "print(max(l2))\n",
        "\n",
        "l3 = [12, 13, \"NTT\"]\n",
        "print(max(l3))"
      ],
      "metadata": {
        "colab": {
          "base_uri": "https://localhost:8080/",
          "height": 211
        },
        "id": "vZVMloRgzwRc",
        "outputId": "a778e5fc-1bdf-4153-9d0d-11e1ae3dbf0e"
      },
      "execution_count": null,
      "outputs": [
        {
          "output_type": "stream",
          "name": "stdout",
          "text": [
            "3\n",
            "c\n"
          ]
        },
        {
          "output_type": "error",
          "ename": "TypeError",
          "evalue": "'>' not supported between instances of 'str' and 'int'",
          "traceback": [
            "\u001b[0;31m---------------------------------------------------------------------------\u001b[0m",
            "\u001b[0;31mTypeError\u001b[0m                                 Traceback (most recent call last)",
            "\u001b[0;32m<ipython-input-17-3287651002d1>\u001b[0m in \u001b[0;36m<cell line: 0>\u001b[0;34m()\u001b[0m\n\u001b[1;32m      7\u001b[0m \u001b[0;34m\u001b[0m\u001b[0m\n\u001b[1;32m      8\u001b[0m \u001b[0ml3\u001b[0m \u001b[0;34m=\u001b[0m \u001b[0;34m[\u001b[0m\u001b[0;36m12\u001b[0m\u001b[0;34m,\u001b[0m \u001b[0;36m13\u001b[0m\u001b[0;34m,\u001b[0m \u001b[0;34m\"NTT\"\u001b[0m\u001b[0;34m]\u001b[0m\u001b[0;34m\u001b[0m\u001b[0;34m\u001b[0m\u001b[0m\n\u001b[0;32m----> 9\u001b[0;31m \u001b[0mprint\u001b[0m\u001b[0;34m(\u001b[0m\u001b[0mmax\u001b[0m\u001b[0;34m(\u001b[0m\u001b[0ml3\u001b[0m\u001b[0;34m)\u001b[0m\u001b[0;34m)\u001b[0m\u001b[0;34m\u001b[0m\u001b[0;34m\u001b[0m\u001b[0m\n\u001b[0m",
            "\u001b[0;31mTypeError\u001b[0m: '>' not supported between instances of 'str' and 'int'"
          ]
        }
      ]
    },
    {
      "cell_type": "code",
      "source": [
        "l2 = ['aaa', 'bbbb', 'ccc', 'dd']\n",
        "print(max(l2), min(l2))\n",
        "print(max(l2, key=len), min(l2, key=len))"
      ],
      "metadata": {
        "colab": {
          "base_uri": "https://localhost:8080/"
        },
        "id": "PYjFHCwIzwXp",
        "outputId": "3431fc2f-2b60-419b-f6da-e425713d3ddc"
      },
      "execution_count": null,
      "outputs": [
        {
          "output_type": "stream",
          "name": "stdout",
          "text": [
            "dd aaa\n",
            "bbbb dd\n"
          ]
        }
      ]
    },
    {
      "cell_type": "code",
      "source": [
        "l1 = []\n",
        "print(max(l1, default=\"list is empty\"))\n",
        "print(len(l1))"
      ],
      "metadata": {
        "colab": {
          "base_uri": "https://localhost:8080/"
        },
        "id": "RS7_lccNzwba",
        "outputId": "06278e05-ef7f-464f-c23e-6add4013ff74"
      },
      "execution_count": null,
      "outputs": [
        {
          "output_type": "stream",
          "name": "stdout",
          "text": [
            "list is empty\n",
            "0\n"
          ]
        }
      ]
    },
    {
      "cell_type": "code",
      "source": [
        "#List append\n",
        "l1 = [1,2,3]\n",
        "print(l1)\n",
        "l1.append(4)\n",
        "print(l1)\n",
        "l1.append([5, 6, 7])\n",
        "print(l1)\n",
        "l1.append((8, 9, 10))\n",
        "print(l1)\n",
        "\n",
        "l1.append(\"test\")\n",
        "print(l1)\n",
        "\n",
        "l1.append(21, 22, 23)\n",
        "print(l1)"
      ],
      "metadata": {
        "colab": {
          "base_uri": "https://localhost:8080/",
          "height": 280
        },
        "id": "MwW4zMRezwe2",
        "outputId": "64591e35-b622-463d-eedf-a8b788c4fd03"
      },
      "execution_count": null,
      "outputs": [
        {
          "output_type": "stream",
          "name": "stdout",
          "text": [
            "[1, 2, 3]\n",
            "[1, 2, 3, 4]\n",
            "[1, 2, 3, 4, [5, 6, 7]]\n",
            "[1, 2, 3, 4, [5, 6, 7], (8, 9, 10)]\n",
            "[1, 2, 3, 4, [5, 6, 7], (8, 9, 10), 'test']\n"
          ]
        },
        {
          "output_type": "error",
          "ename": "TypeError",
          "evalue": "list.append() takes exactly one argument (3 given)",
          "traceback": [
            "\u001b[0;31m---------------------------------------------------------------------------\u001b[0m",
            "\u001b[0;31mTypeError\u001b[0m                                 Traceback (most recent call last)",
            "\u001b[0;32m<ipython-input-25-ae1df7b53f66>\u001b[0m in \u001b[0;36m<cell line: 0>\u001b[0;34m()\u001b[0m\n\u001b[1;32m     12\u001b[0m \u001b[0mprint\u001b[0m\u001b[0;34m(\u001b[0m\u001b[0ml1\u001b[0m\u001b[0;34m)\u001b[0m\u001b[0;34m\u001b[0m\u001b[0;34m\u001b[0m\u001b[0m\n\u001b[1;32m     13\u001b[0m \u001b[0;34m\u001b[0m\u001b[0m\n\u001b[0;32m---> 14\u001b[0;31m \u001b[0ml1\u001b[0m\u001b[0;34m.\u001b[0m\u001b[0mappend\u001b[0m\u001b[0;34m(\u001b[0m\u001b[0;36m21\u001b[0m\u001b[0;34m,\u001b[0m \u001b[0;36m22\u001b[0m\u001b[0;34m,\u001b[0m \u001b[0;36m23\u001b[0m\u001b[0;34m)\u001b[0m\u001b[0;34m\u001b[0m\u001b[0;34m\u001b[0m\u001b[0m\n\u001b[0m\u001b[1;32m     15\u001b[0m \u001b[0mprint\u001b[0m\u001b[0;34m(\u001b[0m\u001b[0ml1\u001b[0m\u001b[0;34m)\u001b[0m\u001b[0;34m\u001b[0m\u001b[0;34m\u001b[0m\u001b[0m\n",
            "\u001b[0;31mTypeError\u001b[0m: list.append() takes exactly one argument (3 given)"
          ]
        }
      ]
    },
    {
      "cell_type": "code",
      "source": [
        "#Create list at runtime\n",
        "list = [10, 20]\n",
        "for i in range(6):\n",
        "  num = int(input(\"enter a number\"))\n",
        "  list.append(num)\n",
        "print(list)"
      ],
      "metadata": {
        "colab": {
          "base_uri": "https://localhost:8080/"
        },
        "id": "12ZJgjWTzwic",
        "outputId": "7d94e416-512a-4bfd-ea36-1800bbd25622"
      },
      "execution_count": null,
      "outputs": [
        {
          "output_type": "stream",
          "name": "stdout",
          "text": [
            "enter a number12\n",
            "enter a number13\n",
            "enter a number14\n",
            "enter a number15\n",
            "enter a number16\n",
            "enter a number17\n",
            "[10, 20, 12, 13, 14, 15, 16, 17]\n"
          ]
        }
      ]
    },
    {
      "cell_type": "code",
      "source": [
        "#List extend\n",
        "list1 = [1,2,3]\n",
        "list2 = [4,5,6]\n",
        "list1.extend(list2)\n",
        "print(list1)"
      ],
      "metadata": {
        "colab": {
          "base_uri": "https://localhost:8080/"
        },
        "id": "Jt3VwgJ27pmt",
        "outputId": "775bf5d2-37ba-4698-82c1-05e262eef8f9"
      },
      "execution_count": null,
      "outputs": [
        {
          "output_type": "stream",
          "name": "stdout",
          "text": [
            "[1, 2, 3, 4, 5, 6]\n"
          ]
        }
      ]
    },
    {
      "cell_type": "code",
      "source": [
        "list1 = [1,2,3]\n",
        "list1.extend([4,5,6])\n",
        "print(list1)"
      ],
      "metadata": {
        "colab": {
          "base_uri": "https://localhost:8080/"
        },
        "id": "R1GlLyNd7pqk",
        "outputId": "cc5776fb-1a82-4510-e6ea-ce875c9bd6ea"
      },
      "execution_count": null,
      "outputs": [
        {
          "output_type": "stream",
          "name": "stdout",
          "text": [
            "[1, 2, 3, 4, 5, 6]\n"
          ]
        }
      ]
    },
    {
      "cell_type": "code",
      "source": [
        "#List insert\n",
        "list1 = [1,2,3]\n",
        "list1.insert(0, 100)\n",
        "print(list1)\n",
        "list1.insert(2, 200)\n",
        "print(list1)\n",
        "list1.insert(10, 1000)\n",
        "print(list1)"
      ],
      "metadata": {
        "colab": {
          "base_uri": "https://localhost:8080/"
        },
        "id": "MteXd-nu7pt9",
        "outputId": "8e59e9ee-6ab6-4acb-f5cb-b00f252117af"
      },
      "execution_count": null,
      "outputs": [
        {
          "output_type": "stream",
          "name": "stdout",
          "text": [
            "[100, 1, 2, 3]\n",
            "[100, 1, 200, 2, 3]\n",
            "[100, 1, 200, 2, 3, 1000]\n"
          ]
        }
      ]
    },
    {
      "cell_type": "code",
      "source": [
        "#List remove\n",
        "list1 = [1,2,3,2,4,5,2]\n",
        "list1.remove(2)\n",
        "print(list1)"
      ],
      "metadata": {
        "colab": {
          "base_uri": "https://localhost:8080/"
        },
        "id": "aaNYpv977pxJ",
        "outputId": "5ef88f61-63d4-423c-8d05-19f52f1f2dce"
      },
      "execution_count": null,
      "outputs": [
        {
          "output_type": "stream",
          "name": "stdout",
          "text": [
            "[1, 3, 2, 4, 5, 2]\n"
          ]
        }
      ]
    },
    {
      "cell_type": "code",
      "source": [
        "#List pop\n",
        "list1 = [1,2,3,2,4,5,2]\n",
        "print(list1)\n",
        "print(list1.pop())\n",
        "print(list1)\n",
        "print(list1.pop(2))\n",
        "print(list1)\n",
        "print(list1.pop(20))\n",
        "print(list1)"
      ],
      "metadata": {
        "id": "kHEUte4__GYv",
        "outputId": "92d1bd3e-82bb-443f-d4c6-a3c482220603",
        "colab": {
          "base_uri": "https://localhost:8080/",
          "height": 280
        }
      },
      "execution_count": null,
      "outputs": [
        {
          "output_type": "stream",
          "name": "stdout",
          "text": [
            "[1, 2, 3, 2, 4, 5, 2]\n",
            "2\n",
            "[1, 2, 3, 2, 4, 5]\n",
            "3\n",
            "[1, 2, 2, 4, 5]\n"
          ]
        },
        {
          "output_type": "error",
          "ename": "IndexError",
          "evalue": "pop index out of range",
          "traceback": [
            "\u001b[0;31m---------------------------------------------------------------------------\u001b[0m",
            "\u001b[0;31mIndexError\u001b[0m                                Traceback (most recent call last)",
            "\u001b[0;32m<ipython-input-38-2704fa73c824>\u001b[0m in \u001b[0;36m<cell line: 0>\u001b[0;34m()\u001b[0m\n\u001b[1;32m      6\u001b[0m \u001b[0mprint\u001b[0m\u001b[0;34m(\u001b[0m\u001b[0mlist1\u001b[0m\u001b[0;34m.\u001b[0m\u001b[0mpop\u001b[0m\u001b[0;34m(\u001b[0m\u001b[0;36m2\u001b[0m\u001b[0;34m)\u001b[0m\u001b[0;34m)\u001b[0m\u001b[0;34m\u001b[0m\u001b[0;34m\u001b[0m\u001b[0m\n\u001b[1;32m      7\u001b[0m \u001b[0mprint\u001b[0m\u001b[0;34m(\u001b[0m\u001b[0mlist1\u001b[0m\u001b[0;34m)\u001b[0m\u001b[0;34m\u001b[0m\u001b[0;34m\u001b[0m\u001b[0m\n\u001b[0;32m----> 8\u001b[0;31m \u001b[0mprint\u001b[0m\u001b[0;34m(\u001b[0m\u001b[0mlist1\u001b[0m\u001b[0;34m.\u001b[0m\u001b[0mpop\u001b[0m\u001b[0;34m(\u001b[0m\u001b[0;36m20\u001b[0m\u001b[0;34m)\u001b[0m\u001b[0;34m)\u001b[0m\u001b[0;34m\u001b[0m\u001b[0;34m\u001b[0m\u001b[0m\n\u001b[0m\u001b[1;32m      9\u001b[0m \u001b[0mprint\u001b[0m\u001b[0;34m(\u001b[0m\u001b[0mlist1\u001b[0m\u001b[0;34m)\u001b[0m\u001b[0;34m\u001b[0m\u001b[0;34m\u001b[0m\u001b[0m\n",
            "\u001b[0;31mIndexError\u001b[0m: pop index out of range"
          ]
        }
      ]
    },
    {
      "cell_type": "code",
      "source": [
        "#List other operation\n",
        "list1 = [1,2,3,2,4,5,2]\n",
        "list1.reverse()\n",
        "print(list1)\n",
        "\n",
        "list1 = [1,2,3,2,4,5,2]\n",
        "list1.sort()\n",
        "print(list1)\n",
        "\n",
        "list1 = [1,2,3,2,4,5,2]\n",
        "list1.sort(reverse=True)\n",
        "print(list1)\n",
        "\n",
        "list1 = [1,2,3,2,4,5,2]\n",
        "count = list1.count(2)\n",
        "print(list1)\n",
        "print(count)"
      ],
      "metadata": {
        "id": "sO-iIgNx_GcB",
        "outputId": "f7d15fbe-cf53-4b53-a6ca-21beb31b90f3",
        "colab": {
          "base_uri": "https://localhost:8080/"
        }
      },
      "execution_count": null,
      "outputs": [
        {
          "output_type": "stream",
          "name": "stdout",
          "text": [
            "[2, 5, 4, 2, 3, 2, 1]\n",
            "[1, 2, 2, 2, 3, 4, 5]\n",
            "[5, 4, 3, 2, 2, 2, 1]\n",
            "[1, 2, 3, 2, 4, 5, 2]\n",
            "3\n"
          ]
        }
      ]
    },
    {
      "cell_type": "code",
      "source": [
        "#List Delete (del)\n",
        "list1 = [1,2,3,4,5,6,2,4,5]\n",
        "print(list1)\n",
        "del list1[0]\n",
        "print(list1)\n",
        "list1 = [1,2,3,4,5,6,2,4,5]\n",
        "del list1[1:3]\n",
        "print(list1)\n",
        "list1 = [1,2,3,4,5,6,2,4,5]\n",
        "del list1\n",
        "print(list1)"
      ],
      "metadata": {
        "id": "C_rGSAWq_GfU",
        "outputId": "6533d7c8-0963-45c4-8bb6-8aa3383749c6",
        "colab": {
          "base_uri": "https://localhost:8080/",
          "height": 228
        }
      },
      "execution_count": null,
      "outputs": [
        {
          "output_type": "stream",
          "name": "stdout",
          "text": [
            "[1, 2, 3, 4, 5, 6, 2, 4, 5]\n",
            "[2, 3, 4, 5, 6, 2, 4, 5]\n",
            "[1, 4, 5, 6, 2, 4, 5]\n"
          ]
        },
        {
          "output_type": "error",
          "ename": "NameError",
          "evalue": "name 'list1' is not defined",
          "traceback": [
            "\u001b[0;31m---------------------------------------------------------------------------\u001b[0m",
            "\u001b[0;31mNameError\u001b[0m                                 Traceback (most recent call last)",
            "\u001b[0;32m<ipython-input-47-a667e2a19b1d>\u001b[0m in \u001b[0;36m<cell line: 0>\u001b[0;34m()\u001b[0m\n\u001b[1;32m      9\u001b[0m \u001b[0mlist1\u001b[0m \u001b[0;34m=\u001b[0m \u001b[0;34m[\u001b[0m\u001b[0;36m1\u001b[0m\u001b[0;34m,\u001b[0m\u001b[0;36m2\u001b[0m\u001b[0;34m,\u001b[0m\u001b[0;36m3\u001b[0m\u001b[0;34m,\u001b[0m\u001b[0;36m4\u001b[0m\u001b[0;34m,\u001b[0m\u001b[0;36m5\u001b[0m\u001b[0;34m,\u001b[0m\u001b[0;36m6\u001b[0m\u001b[0;34m,\u001b[0m\u001b[0;36m2\u001b[0m\u001b[0;34m,\u001b[0m\u001b[0;36m4\u001b[0m\u001b[0;34m,\u001b[0m\u001b[0;36m5\u001b[0m\u001b[0;34m]\u001b[0m\u001b[0;34m\u001b[0m\u001b[0;34m\u001b[0m\u001b[0m\n\u001b[1;32m     10\u001b[0m \u001b[0;32mdel\u001b[0m \u001b[0mlist1\u001b[0m\u001b[0;34m\u001b[0m\u001b[0;34m\u001b[0m\u001b[0m\n\u001b[0;32m---> 11\u001b[0;31m \u001b[0mprint\u001b[0m\u001b[0;34m(\u001b[0m\u001b[0mlist1\u001b[0m\u001b[0;34m)\u001b[0m\u001b[0;34m\u001b[0m\u001b[0;34m\u001b[0m\u001b[0m\n\u001b[0m",
            "\u001b[0;31mNameError\u001b[0m: name 'list1' is not defined"
          ]
        }
      ]
    },
    {
      "cell_type": "code",
      "source": [
        "list = [10, 20, 10, 30, 20, 45]\n",
        "uniqList = []\n",
        "for i in list:\n",
        "  if i not in uniqList:\n",
        "    uniqList.append(i)\n",
        "print(uniqList)\n"
      ],
      "metadata": {
        "id": "4BaddQXt_Gis",
        "outputId": "8bbda5bf-1057-4e4c-c7d3-36482e7bbb4e",
        "colab": {
          "base_uri": "https://localhost:8080/"
        }
      },
      "execution_count": null,
      "outputs": [
        {
          "output_type": "stream",
          "name": "stdout",
          "text": [
            "[10, 20, 30, 45]\n"
          ]
        }
      ]
    },
    {
      "cell_type": "code",
      "source": [
        "#################  Day 7  #####################\n",
        "#List methods\n",
        "list1 = [1,2,3,4,5]\n",
        "print(list1)\n",
        "list1.clear()\n",
        "print(list1)"
      ],
      "metadata": {
        "id": "uJbIw50s_GmG",
        "colab": {
          "base_uri": "https://localhost:8080/"
        },
        "outputId": "d989f734-a4e6-44e0-da7c-36b7718c4b94"
      },
      "execution_count": null,
      "outputs": [
        {
          "output_type": "stream",
          "name": "stdout",
          "text": [
            "[1, 2, 3, 4, 5]\n",
            "[]\n"
          ]
        }
      ]
    },
    {
      "cell_type": "code",
      "source": [
        "#list()\n",
        "l1 = list()\n",
        "print(l1)\n",
        "print(type(l1))"
      ],
      "metadata": {
        "colab": {
          "base_uri": "https://localhost:8080/"
        },
        "id": "1wtKUd_5D6LJ",
        "outputId": "63dc8951-46b5-4913-a877-02d62e2ba836"
      },
      "execution_count": null,
      "outputs": [
        {
          "output_type": "stream",
          "name": "stdout",
          "text": [
            "[]\n",
            "<class 'list'>\n"
          ]
        }
      ]
    },
    {
      "cell_type": "code",
      "source": [
        "l1 = list(\"hello\")\n",
        "print(l1)\n",
        "\n",
        "l2 = list((1,2,3,4,5))\n",
        "print(l2)\n",
        "\n",
        "l3 = list([1,2,3,4,5])\n",
        "print(l3)\n",
        "\n",
        "l4 = list({1,2,3,4,5})\n",
        "print(l4)\n",
        "\n",
        "l5 = list({1:2, 3:4, 5:6})\n",
        "print(l5)\n",
        "\n",
        "l6 = list(range(10))\n",
        "print(l6)"
      ],
      "metadata": {
        "colab": {
          "base_uri": "https://localhost:8080/"
        },
        "id": "LMd7oqmWD6ct",
        "outputId": "3807bd5a-c600-46ea-c46c-7a53a72c763c"
      },
      "execution_count": null,
      "outputs": [
        {
          "output_type": "stream",
          "name": "stdout",
          "text": [
            "['h', 'e', 'l', 'l', 'o']\n",
            "[1, 2, 3, 4, 5]\n",
            "[1, 2, 3, 4, 5]\n",
            "[1, 2, 3, 4, 5]\n",
            "[1, 3, 5]\n",
            "[0, 1, 2, 3, 4, 5, 6, 7, 8, 9]\n"
          ]
        }
      ]
    },
    {
      "cell_type": "code",
      "source": [
        "l1 = [2,3,3,4,4,4,2,6,7,8,6]\n",
        "uniqList = []\n",
        "countList = []\n",
        "\n",
        "for i in l1:\n",
        "  if i not in uniqList:\n",
        "    uniqList.append(i)\n",
        "    countList.append(1)\n",
        "  elif i in uniqList:\n",
        "    index = uniqList.index(i)\n",
        "    count = countList[index] + 1\n",
        "    del countList[index]\n",
        "    countList.insert(index, count)\n",
        "\n",
        "print(uniqList)\n",
        "print(countList)\n"
      ],
      "metadata": {
        "colab": {
          "base_uri": "https://localhost:8080/"
        },
        "id": "6d8Ax1LuD6fo",
        "outputId": "3e5d2296-eae5-4f53-cba4-d37f9777d9d9"
      },
      "execution_count": null,
      "outputs": [
        {
          "output_type": "stream",
          "name": "stdout",
          "text": [
            "[2, 3, 4, 6, 7, 8]\n",
            "[2, 2, 3, 2, 1, 1]\n"
          ]
        }
      ]
    },
    {
      "cell_type": "code",
      "source": [
        "l1 = [2,3,3,4,4,4,2,6,7,8,6]\n",
        "uniqList = []\n",
        "countList = []\n",
        "\n",
        "for i in l1:\n",
        "  if i not in uniqList:\n",
        "    uniqList.append(i)\n",
        "    countList.append(1)\n",
        "  elif i in uniqList:\n",
        "    index = uniqList.index(i)\n",
        "    countList[index] = countList[index] + 1\n",
        "\n",
        "print(uniqList)\n",
        "print(countList)"
      ],
      "metadata": {
        "id": "RY4U2oQsRp7J",
        "outputId": "e10586a8-fc18-4df3-ba3f-cf7e3d5c5bd5",
        "colab": {
          "base_uri": "https://localhost:8080/"
        }
      },
      "execution_count": null,
      "outputs": [
        {
          "output_type": "stream",
          "name": "stdout",
          "text": [
            "[2, 3, 4, 6, 7, 8]\n",
            "[2, 2, 3, 2, 1, 1]\n"
          ]
        }
      ]
    },
    {
      "cell_type": "code",
      "source": [
        "l1 = [2,3,3,4,4,4,2,6,7,8,6]\n",
        "uniqList = []\n",
        "countList = []\n",
        "\n",
        "for i in l1:\n",
        "  if i not in uniqList:\n",
        "    uniqList.append(i)\n",
        "    countList.append(l1.count(i))\n",
        "\n",
        "print(uniqList)\n",
        "print(countList)"
      ],
      "metadata": {
        "colab": {
          "base_uri": "https://localhost:8080/"
        },
        "id": "6qXDlVVnD6jB",
        "outputId": "f70ce148-323c-4a31-e954-8d69c81949b9"
      },
      "execution_count": null,
      "outputs": [
        {
          "output_type": "stream",
          "name": "stdout",
          "text": [
            "[2, 3, 4, 6, 7, 8]\n",
            "[2, 2, 3, 2, 1, 1]\n"
          ]
        }
      ]
    },
    {
      "cell_type": "code",
      "source": [
        "#Tuple\n",
        "t1 = (1,2,3,4.1, 2+3j, \"test\", True, (1,2,3), [1,2,3])\n",
        "print(t1)\n",
        "print(type(t1))"
      ],
      "metadata": {
        "colab": {
          "base_uri": "https://localhost:8080/"
        },
        "id": "E4Y7qTfUD6l9",
        "outputId": "f492b087-2909-4396-dff9-ad125ac763f6"
      },
      "execution_count": null,
      "outputs": [
        {
          "output_type": "stream",
          "name": "stdout",
          "text": [
            "(1, 2, 3, 4.1, (2+3j), 'test', True, (1, 2, 3), [1, 2, 3])\n",
            "<class 'tuple'>\n"
          ]
        }
      ]
    },
    {
      "cell_type": "code",
      "source": [
        "# tuple muthod\n",
        "n = \"NTT DATA\"\n",
        "t2 = tuple(n)\n",
        "print(t2)\n",
        "\n",
        "l1 = [1,2,3,4,5]\n",
        "t3 = tuple(l1)\n",
        "print(t3)\n",
        "print(type(t3))\n",
        "\n",
        "l2 = list(t3)\n",
        "print(l2)\n",
        "print(type(l2))\n"
      ],
      "metadata": {
        "colab": {
          "base_uri": "https://localhost:8080/"
        },
        "id": "jN6e6J7VD6ox",
        "outputId": "d72e1183-3354-45bc-871d-9a6fd7f7eabc"
      },
      "execution_count": null,
      "outputs": [
        {
          "output_type": "stream",
          "name": "stdout",
          "text": [
            "('N', 'T', 'T', ' ', 'D', 'A', 'T', 'A')\n",
            "(1, 2, 3, 4, 5)\n",
            "<class 'tuple'>\n",
            "[1, 2, 3, 4, 5]\n",
            "<class 'list'>\n"
          ]
        }
      ]
    },
    {
      "cell_type": "code",
      "source": [
        "t = (5)\n",
        "print(t)\n",
        "print(type(t))\n",
        "\n",
        "t2 = (5,)\n",
        "print(t2)\n",
        "print(type(t2))"
      ],
      "metadata": {
        "colab": {
          "base_uri": "https://localhost:8080/"
        },
        "id": "G_QchWT5JseD",
        "outputId": "e4d6eae7-2fe9-4075-bc24-6decb644c47d"
      },
      "execution_count": null,
      "outputs": [
        {
          "output_type": "stream",
          "name": "stdout",
          "text": [
            "5\n",
            "<class 'int'>\n",
            "(5,)\n",
            "<class 'tuple'>\n"
          ]
        }
      ]
    },
    {
      "cell_type": "code",
      "source": [
        "#tuple concatenetion\n",
        "t1 = (1,2,3)\n",
        "t2 = (4,5,6)\n",
        "t3 = t1+t2\n",
        "print(t1)\n",
        "print(t2)\n",
        "print(t3)"
      ],
      "metadata": {
        "colab": {
          "base_uri": "https://localhost:8080/"
        },
        "id": "bW2ZrQjrJshU",
        "outputId": "c6af9fd2-316a-49b6-a47b-602a6f12e182"
      },
      "execution_count": null,
      "outputs": [
        {
          "output_type": "stream",
          "name": "stdout",
          "text": [
            "(1, 2, 3)\n",
            "(4, 5, 6)\n",
            "(1, 2, 3, 4, 5, 6)\n"
          ]
        }
      ]
    },
    {
      "cell_type": "code",
      "source": [
        "#tuple multiplication\n",
        "t1 = (1,2,3)\n",
        "t3 = t1*3\n",
        "print(t1)\n",
        "print(t3)"
      ],
      "metadata": {
        "colab": {
          "base_uri": "https://localhost:8080/"
        },
        "id": "535VyiE-Jskl",
        "outputId": "f93fa2ee-5962-4149-adb3-a7c8fa7612f1"
      },
      "execution_count": null,
      "outputs": [
        {
          "output_type": "stream",
          "name": "stdout",
          "text": [
            "(1, 2, 3)\n",
            "(4, 5, 6)\n",
            "(1, 2, 3, 1, 2, 3, 1, 2, 3)\n"
          ]
        }
      ]
    },
    {
      "cell_type": "code",
      "source": [
        "#tuple with for loop\n",
        "t1 = (1,2,3)\n",
        "for i in t1:\n",
        "  print(i * 10)"
      ],
      "metadata": {
        "colab": {
          "base_uri": "https://localhost:8080/"
        },
        "id": "su1eZCtSJsn6",
        "outputId": "38a7bd8c-32d6-4872-e2ad-3cceb6d61113"
      },
      "execution_count": null,
      "outputs": [
        {
          "output_type": "stream",
          "name": "stdout",
          "text": [
            "10\n",
            "20\n",
            "30\n"
          ]
        }
      ]
    },
    {
      "cell_type": "code",
      "source": [
        "#slicing with tuple\n",
        "t1 = (1,2,3,4,5,6,7)\n",
        "print(t1[0])\n",
        "print(t1[-1])\n",
        "print(t1[1:5])\n",
        "print(t1[::-1])"
      ],
      "metadata": {
        "colab": {
          "base_uri": "https://localhost:8080/"
        },
        "id": "48IrzsHeMcBM",
        "outputId": "66bcbfd7-0c39-4617-c47b-11978102be8c"
      },
      "execution_count": null,
      "outputs": [
        {
          "output_type": "stream",
          "name": "stdout",
          "text": [
            "1\n",
            "7\n",
            "(2, 3, 4, 5)\n",
            "(7, 6, 5, 4, 3, 2, 1)\n"
          ]
        }
      ]
    },
    {
      "cell_type": "code",
      "source": [
        "#dictionary\n",
        "d1 = {1:100, 2:200, 3:300}\n",
        "print(d1)\n",
        "print(type(d1))\n",
        "print(d1[1])\n",
        "print(d1[2])\n",
        "print(d1[3])\n",
        "print(d1.get(1))\n",
        "print(d1.get(2))\n",
        "print(d1.items())"
      ],
      "metadata": {
        "colab": {
          "base_uri": "https://localhost:8080/"
        },
        "id": "UYpNTxriMcEl",
        "outputId": "d1f0d623-27f3-444c-d396-54c9587d5d3b"
      },
      "execution_count": null,
      "outputs": [
        {
          "output_type": "stream",
          "name": "stdout",
          "text": [
            "{1: 100, 2: 200, 3: 300}\n",
            "<class 'dict'>\n",
            "100\n",
            "200\n",
            "300\n",
            "100\n",
            "200\n",
            "dict_items([(1, 100), (2, 200), (3, 300)])\n"
          ]
        }
      ]
    },
    {
      "cell_type": "code",
      "source": [
        "######################  Day 8 #####################\n",
        "#Dictionary number key and number value\n",
        "d1 = {2:100, 4:200, 6:300, 8:400, 10:500}\n",
        "print(d1)\n",
        "print(type(d1))\n",
        "print(\"Keys :\", d1.keys(), end='\\n\\n')\n",
        "for k in d1.keys():\n",
        "  print(k, sep='::')\n",
        "print(\"Values :\", d1.values(), end='\\n\\n')\n",
        "for v in d1.values():\n",
        "  print(v, sep='::', end='-')\n",
        "print(\"\\nItems :\", d1.items(), end='\\n\\n')\n",
        "for k, v in d1.items():\n",
        "  print(k, v, sep='::')"
      ],
      "metadata": {
        "id": "zAXM5j_tMcLR",
        "colab": {
          "base_uri": "https://localhost:8080/"
        },
        "outputId": "9871c3a3-0c2a-4634-d620-99305b2f2a17"
      },
      "execution_count": null,
      "outputs": [
        {
          "output_type": "stream",
          "name": "stdout",
          "text": [
            "{2: 100, 4: 200, 6: 300, 8: 400, 10: 500}\n",
            "<class 'dict'>\n",
            "Keys : dict_keys([2, 4, 6, 8, 10])\n",
            "\n",
            "2\n",
            "4\n",
            "6\n",
            "8\n",
            "10\n",
            "Values : dict_values([100, 200, 300, 400, 500])\n",
            "\n",
            "100-200-300-400-500-\n",
            "Items : dict_items([(2, 100), (4, 200), (6, 300), (8, 400), (10, 500)])\n",
            "\n",
            "2::100\n",
            "4::200\n",
            "6::300\n",
            "8::400\n",
            "10::500\n"
          ]
        }
      ]
    },
    {
      "cell_type": "code",
      "source": [
        "#string as key and different type of values\n",
        "d2 = {'aa': 100, 'bb': 200, 'cc': 300}\n",
        "print(d2)\n",
        "print(type(d2))\n",
        "print(\"Keys :\", d2.keys(), end='\\n\\n')\n",
        "for k in d2.keys():\n",
        "  print(k, end='::')\n",
        "\n",
        "print()\n",
        "print(\"\\nValues :\", d2.values(), end='\\n\\n')\n",
        "for v in d2.values():\n",
        "  print(v, end='::')\n",
        "\n",
        "print()\n",
        "print(\"\\nItems :\", d2.items(), end='\\n\\n')\n",
        "for k, v in d2.items():\n",
        "  print(k, v, sep='::')"
      ],
      "metadata": {
        "id": "pK0sS7B_McPJ",
        "colab": {
          "base_uri": "https://localhost:8080/"
        },
        "outputId": "946b1d77-1d38-4fe3-de07-927a2c2641a9"
      },
      "execution_count": null,
      "outputs": [
        {
          "output_type": "stream",
          "name": "stdout",
          "text": [
            "{'aa': 100, 'bb': 200, 'cc': 300}\n",
            "<class 'dict'>\n",
            "Keys : dict_keys(['aa', 'bb', 'cc'])\n",
            "\n",
            "aa::bb::cc::\n",
            "\n",
            "Values : dict_values([100, 200, 300])\n",
            "\n",
            "100::200::300::\n",
            "\n",
            "Items : dict_items([('aa', 100), ('bb', 200), ('cc', 300)])\n",
            "\n",
            "aa::100\n",
            "bb::200\n",
            "cc::300\n"
          ]
        }
      ]
    },
    {
      "cell_type": "code",
      "source": [
        "#number as key and different type of values\n",
        "d3 = {3:[1,2,3], 6:(4,5,6), 9:{7,8,9}, 12:{10:100, 20:200}, 15:'NTT'}\n",
        "print(d3)\n",
        "print(type(d3))\n",
        "print(\"Keys :\", d3.keys(), end='\\n\\n')\n",
        "for k in d3.keys():\n",
        "  print(k, end='::')\n",
        "\n",
        "print()\n",
        "print(\"\\nValues :\", d3.values(), end='\\n\\n')\n",
        "for v in d3.values():\n",
        "  print(v, end='::')\n",
        "\n",
        "print()\n",
        "print(\"\\nItems :\", d3.items(), end='\\n\\n')\n",
        "for k, v in d3.items():\n",
        "  print(k, v, sep='::')\n"
      ],
      "metadata": {
        "colab": {
          "base_uri": "https://localhost:8080/"
        },
        "id": "wz1rNP6gcH9-",
        "outputId": "61ba0eb2-9e8a-466b-f1db-be7f8bfe2059"
      },
      "execution_count": null,
      "outputs": [
        {
          "output_type": "stream",
          "name": "stdout",
          "text": [
            "{3: [1, 2, 3], 6: (4, 5, 6), 9: {8, 9, 7}, 12: {10: 100, 20: 200}, 15: 'NTT'}\n",
            "<class 'dict'>\n",
            "Keys : dict_keys([3, 6, 9, 12, 15])\n",
            "\n",
            "3::6::9::12::15::\n",
            "\n",
            "Values : dict_values([[1, 2, 3], (4, 5, 6), {8, 9, 7}, {10: 100, 20: 200}, 'NTT'])\n",
            "\n",
            "[1, 2, 3]::(4, 5, 6)::{8, 9, 7}::{10: 100, 20: 200}::NTT::\n",
            "\n",
            "Items : dict_items([(3, [1, 2, 3]), (6, (4, 5, 6)), (9, {8, 9, 7}), (12, {10: 100, 20: 200}), (15, 'NTT')])\n",
            "\n",
            "3::[1, 2, 3]\n",
            "6::(4, 5, 6)\n",
            "9::{8, 9, 7}\n",
            "12::{10: 100, 20: 200}\n",
            "15::NTT\n"
          ]
        }
      ]
    },
    {
      "cell_type": "code",
      "source": [
        "#tuple as key and different type of values\n",
        "d3 = {(1,2):[1,2,3], (1,3):(4,5,6), (1,4):{7,8,9}, (1,5):{10:100, (1,6):200}, (1,7):'NTT'}\n",
        "print(d3)\n",
        "print(type(d3))\n",
        "print(\"Keys :\", d3.keys(), end='\\n\\n')\n",
        "for k in d3.keys():\n",
        "  print(k, end='::')\n",
        "\n",
        "print()\n",
        "print(\"\\nValues :\", d3.values(), end='\\n\\n')\n",
        "for v in d3.values():\n",
        "  print(v, end='::')\n",
        "\n",
        "print()\n",
        "print(\"\\nItems :\", d3.items(), end='\\n\\n')\n",
        "for k, v in d3.items():\n",
        "  print(k, v, sep='::')"
      ],
      "metadata": {
        "colab": {
          "base_uri": "https://localhost:8080/"
        },
        "id": "_Rcu_odIcIDl",
        "outputId": "8f7c903b-d53d-41f1-eb24-9cca6aab4f73"
      },
      "execution_count": null,
      "outputs": [
        {
          "output_type": "stream",
          "name": "stdout",
          "text": [
            "{(1, 2): [1, 2, 3], (1, 3): (4, 5, 6), (1, 4): {8, 9, 7}, (1, 5): {10: 100, (1, 6): 200}, (1, 7): 'NTT'}\n",
            "<class 'dict'>\n",
            "Keys : dict_keys([(1, 2), (1, 3), (1, 4), (1, 5), (1, 7)])\n",
            "\n",
            "(1, 2)::(1, 3)::(1, 4)::(1, 5)::(1, 7)::\n",
            "\n",
            "Values : dict_values([[1, 2, 3], (4, 5, 6), {8, 9, 7}, {10: 100, (1, 6): 200}, 'NTT'])\n",
            "\n",
            "[1, 2, 3]::(4, 5, 6)::{8, 9, 7}::{10: 100, (1, 6): 200}::NTT::\n",
            "\n",
            "Items : dict_items([((1, 2), [1, 2, 3]), ((1, 3), (4, 5, 6)), ((1, 4), {8, 9, 7}), ((1, 5), {10: 100, (1, 6): 200}), ((1, 7), 'NTT')])\n",
            "\n",
            "(1, 2)::[1, 2, 3]\n",
            "(1, 3)::(4, 5, 6)\n",
            "(1, 4)::{8, 9, 7}\n",
            "(1, 5)::{10: 100, (1, 6): 200}\n",
            "(1, 7)::NTT\n"
          ]
        }
      ]
    },
    {
      "cell_type": "code",
      "source": [
        "#Different type key and different type value\n",
        "d3 = {'aa': 100, 12: 200, ('a', 'b'): 300, (2,3):400, 23:[40,50], 'bb':{'yy':101, 'xx':201}}\n",
        "print(d3)\n",
        "print(type(d3))\n",
        "print(\"Keys :\", d3.keys(), end='\\n\\n')\n",
        "for k in d3.keys():\n",
        "  print(k, end='::')\n",
        "\n",
        "print()\n",
        "print(\"\\nValues :\", d3.values(), end='\\n\\n')\n",
        "for v in d3.values():\n",
        "  print(v, end='::')\n",
        "\n",
        "print()\n",
        "print(\"\\nItems :\", d3.items(), end='\\n\\n')\n",
        "for k, v in d3.items():\n",
        "  print(k, v, sep='::')"
      ],
      "metadata": {
        "colab": {
          "base_uri": "https://localhost:8080/"
        },
        "id": "BJQnnLVgcIG-",
        "outputId": "4cdd54ce-3aa2-4429-ecec-b7bb99e8dd05"
      },
      "execution_count": null,
      "outputs": [
        {
          "output_type": "stream",
          "name": "stdout",
          "text": [
            "{'aa': 100, 12: 200, ('a', 'b'): 300, (2, 3): 400, 23: [40, 50], 'bb': {'yy': 101, 'xx': 201}}\n",
            "<class 'dict'>\n",
            "Keys : dict_keys(['aa', 12, ('a', 'b'), (2, 3), 23, 'bb'])\n",
            "\n",
            "aa::12::('a', 'b')::(2, 3)::23::bb::\n",
            "\n",
            "Values : dict_values([100, 200, 300, 400, [40, 50], {'yy': 101, 'xx': 201}])\n",
            "\n",
            "100::200::300::400::[40, 50]::{'yy': 101, 'xx': 201}::\n",
            "\n",
            "Items : dict_items([('aa', 100), (12, 200), (('a', 'b'), 300), ((2, 3), 400), (23, [40, 50]), ('bb', {'yy': 101, 'xx': 201})])\n",
            "\n",
            "aa::100\n",
            "12::200\n",
            "('a', 'b')::300\n",
            "(2, 3)::400\n",
            "23::[40, 50]\n",
            "bb::{'yy': 101, 'xx': 201}\n"
          ]
        }
      ]
    },
    {
      "cell_type": "code",
      "source": [
        "#Different type key and different type value\n",
        "d3 = {'aa': 100, 12: 200, ('a', 'b'): 300, (2,3):400, 23:[40,50], 'bb':{'yy':101, 'xx':201}}\n",
        "print(d3)\n",
        "\n",
        "print(d3.get('aa'))\n",
        "print(d3.values())\n",
        "print(d3.fromkeys(d3.keys()))\n",
        "if 'aa' in d3:\n",
        "  print(\"aa present in dict and value is:\", d3['aa'])\n",
        "else:\n",
        "  print(\"key not found\")"
      ],
      "metadata": {
        "colab": {
          "base_uri": "https://localhost:8080/"
        },
        "id": "iiGzQkBrcIKT",
        "outputId": "ad8f31c8-c1af-42f4-ba83-13d0110ee007"
      },
      "execution_count": null,
      "outputs": [
        {
          "output_type": "stream",
          "name": "stdout",
          "text": [
            "{'aa': 100, 12: 200, ('a', 'b'): 300, (2, 3): 400, 23: [40, 50], 'bb': {'yy': 101, 'xx': 201}}\n",
            "100\n",
            "dict_values([100, 200, 300, 400, [40, 50], {'yy': 101, 'xx': 201}])\n",
            "{'aa': None, 12: None, ('a', 'b'): None, (2, 3): None, 23: None, 'bb': None}\n",
            "aa present in dict and value is: 100\n"
          ]
        }
      ]
    },
    {
      "cell_type": "code",
      "source": [
        "d3 = {'aa': 100, 12: 200, ('a', 'b'): 300, (2,3):400, 23:[40,50], 'bb':{'yy':101, 'xx':201}}\n",
        "keys = d3.keys()\n",
        "values = d3.values()\n",
        "print(keys)\n",
        "l1 = list(keys)\n",
        "print(l1)"
      ],
      "metadata": {
        "colab": {
          "base_uri": "https://localhost:8080/"
        },
        "id": "P40koY4lcINr",
        "outputId": "5a26c534-b778-4ed3-d09a-3ae69c5a0fc7"
      },
      "execution_count": null,
      "outputs": [
        {
          "output_type": "stream",
          "name": "stdout",
          "text": [
            "dict_keys(['aa', 12, ('a', 'b'), (2, 3), 23, 'bb'])\n",
            "['aa', 12, ('a', 'b'), (2, 3), 23, 'bb']\n"
          ]
        }
      ]
    },
    {
      "cell_type": "code",
      "source": [
        "d1 = {2:100, 4:200, 6:300, 8:400, 10:500}\n",
        "print(d1)\n",
        "print(type(d1))\n",
        "print(\"Keys :\", d1.keys(), end='\\n\\n')\n",
        "for k in d1.keys():\n",
        "  print(k, '=', d1.get(k))\n",
        "\n",
        "print(d1.get(3, -100))"
      ],
      "metadata": {
        "colab": {
          "base_uri": "https://localhost:8080/"
        },
        "id": "PhYcO4EhcIQu",
        "outputId": "0212a34d-eb95-48c4-8e51-012e4f9ac1b4"
      },
      "execution_count": null,
      "outputs": [
        {
          "output_type": "stream",
          "name": "stdout",
          "text": [
            "{2: 100, 4: 200, 6: 300, 8: 400, 10: 500}\n",
            "<class 'dict'>\n",
            "Keys : dict_keys([2, 4, 6, 8, 10])\n",
            "\n",
            "2 = 100\n",
            "4 = 200\n",
            "6 = 300\n",
            "8 = 400\n",
            "10 = 500\n",
            "-100\n"
          ]
        }
      ]
    },
    {
      "cell_type": "code",
      "source": [
        "d1 = {2:100, 4:200, 6:300, 8:400, 10:500}\n",
        "print(d1)\n",
        "print(d1.pop(4))\n",
        "print(d1)\n",
        "print(d1.pop(40, 4000))\n",
        "print(d1)\n",
        "print(d1.popitem())\n",
        "print(d1)\n"
      ],
      "metadata": {
        "colab": {
          "base_uri": "https://localhost:8080/"
        },
        "id": "geklvVTxcIbc",
        "outputId": "335537e8-daee-4bae-c0cb-1ebdf7532f28"
      },
      "execution_count": null,
      "outputs": [
        {
          "output_type": "stream",
          "name": "stdout",
          "text": [
            "{2: 100, 4: 200, 6: 300, 8: 400, 10: 500}\n",
            "200\n",
            "{2: 100, 6: 300, 8: 400, 10: 500}\n",
            "4000\n",
            "{2: 100, 6: 300, 8: 400, 10: 500}\n",
            "(10, 500)\n",
            "{2: 100, 6: 300, 8: 400}\n"
          ]
        }
      ]
    },
    {
      "cell_type": "code",
      "source": [
        "d1 = {2:100, 4:200, 6:300, 8:400, 10:500}\n",
        "d2 = {11:10, 12:20, 13:30}\n",
        "d1.update(d2)\n",
        "print(d1)\n",
        "d2.update({12:211, 14:311, 15:511})\n",
        "print(d2)\n",
        "d1.update(d2)\n",
        "print(d1)"
      ],
      "metadata": {
        "colab": {
          "base_uri": "https://localhost:8080/"
        },
        "id": "qKWQQuHDcIej",
        "outputId": "0aa436c5-1f5c-44fe-f12a-9d2302192806"
      },
      "execution_count": null,
      "outputs": [
        {
          "output_type": "stream",
          "name": "stdout",
          "text": [
            "{2: 100, 4: 200, 6: 300, 8: 400, 10: 500, 11: 10, 12: 20, 13: 30}\n",
            "{11: 10, 12: 211, 13: 30, 14: 311, 15: 511}\n",
            "{2: 100, 4: 200, 6: 300, 8: 400, 10: 500, 11: 10, 12: 211, 13: 30, 14: 311, 15: 511}\n"
          ]
        }
      ]
    },
    {
      "cell_type": "code",
      "source": [
        "d1 = {'11':100, '22':200, '33':300}\n",
        "print(d1)\n",
        "d2 = {'44':400, '55':500, '66':600}\n",
        "print(d2)\n",
        "d1.update(d2)\n",
        "print(d1)\n",
        "d1.update({11:1000, 22:2000})\n",
        "print(d1)\n",
        "d1.clear()\n",
        "print(d1)"
      ],
      "metadata": {
        "colab": {
          "base_uri": "https://localhost:8080/"
        },
        "id": "-qt2-uhokXEH",
        "outputId": "f54f9876-f804-4e50-99c2-7277e53966db"
      },
      "execution_count": null,
      "outputs": [
        {
          "output_type": "stream",
          "name": "stdout",
          "text": [
            "{'11': 100, '22': 200, '33': 300}\n",
            "{'44': 400, '55': 500, '66': 600}\n",
            "{'11': 100, '22': 200, '33': 300, '44': 400, '55': 500, '66': 600}\n",
            "{'11': 100, '22': 200, '33': 300, '44': 400, '55': 500, '66': 600, 11: 1000, 22: 2000}\n",
            "{}\n"
          ]
        }
      ]
    },
    {
      "cell_type": "code",
      "source": [
        "#shallow copy\n",
        "d1 = {'11':100, '22':200, '33':300}\n",
        "d2 = d1\n",
        "print(d1)\n",
        "print(d2)\n",
        "d2['11'] = 1000\n",
        "print(d1)\n",
        "print(d2)\n",
        "print(id(d1))\n",
        "print(id(d2))"
      ],
      "metadata": {
        "colab": {
          "base_uri": "https://localhost:8080/"
        },
        "id": "Ql63e_JnkXH8",
        "outputId": "077eddc9-8e6d-4e08-e28c-4ab41564d723"
      },
      "execution_count": null,
      "outputs": [
        {
          "output_type": "stream",
          "name": "stdout",
          "text": [
            "{'11': 100, '22': 200, '33': 300}\n",
            "{'11': 100, '22': 200, '33': 300}\n",
            "{'11': 1000, '22': 200, '33': 300}\n",
            "{'11': 1000, '22': 200, '33': 300}\n",
            "133977849420352\n",
            "133977849420352\n"
          ]
        }
      ]
    },
    {
      "cell_type": "code",
      "source": [
        "#shallow copy(deep if values are scalar and shallow if complex)\n",
        "d1 = {'11':100, '22':200, '33':300}\n",
        "d2 = d1.copy()\n",
        "print(d1)\n",
        "print(d2)\n",
        "d2['11'] = 1000\n",
        "print(d1)\n",
        "print(d2)\n",
        "print(id(d1))\n",
        "print(id(d2))"
      ],
      "metadata": {
        "colab": {
          "base_uri": "https://localhost:8080/"
        },
        "id": "AccGVvFbkXLO",
        "outputId": "b2fa13fe-7985-4d16-c158-dfac63b9fde1"
      },
      "execution_count": null,
      "outputs": [
        {
          "output_type": "stream",
          "name": "stdout",
          "text": [
            "{'11': 100, '22': 200, '33': 300}\n",
            "{'11': 100, '22': 200, '33': 300}\n",
            "{'11': 100, '22': 200, '33': 300}\n",
            "{'11': 1000, '22': 200, '33': 300}\n",
            "133977661618560\n",
            "133977661618240\n"
          ]
        }
      ]
    },
    {
      "cell_type": "code",
      "source": [
        "#shallow copy\n",
        "d1 = {'11':[1,2,3], '22':[4,5,6], '33':[7,8,9]}\n",
        "d2 = d1.copy()\n",
        "print(d1)\n",
        "print(d2)\n",
        "d2['11'][1] = 9\n",
        "print(d1)\n",
        "print(d2)\n",
        "print(id(d1))\n",
        "print(id(d2))"
      ],
      "metadata": {
        "colab": {
          "base_uri": "https://localhost:8080/"
        },
        "id": "_AjuHDSmkXOL",
        "outputId": "dc6a0fc1-1e27-4a44-d833-6905822dc42f"
      },
      "execution_count": null,
      "outputs": [
        {
          "output_type": "stream",
          "name": "stdout",
          "text": [
            "{'11': [1, 2, 3], '22': [4, 5, 6], '33': [7, 8, 9]}\n",
            "{'11': [1, 2, 3], '22': [4, 5, 6], '33': [7, 8, 9]}\n",
            "{'11': [1, 9, 3], '22': [4, 5, 6], '33': [7, 8, 9]}\n",
            "{'11': [1, 9, 3], '22': [4, 5, 6], '33': [7, 8, 9]}\n",
            "133977660043328\n",
            "133977660044480\n"
          ]
        }
      ]
    },
    {
      "cell_type": "code",
      "source": [
        "#deep copy\n",
        "import copy\n",
        "d1 = {'11':[1,2,3], '22':[4,5,6], '33':[7,8,9]}\n",
        "d2 = copy.deepcopy(d1)\n",
        "print(d1)\n",
        "print(d2)\n",
        "d2['11'][1] = 9\n",
        "print(d1)\n",
        "print(d2)\n",
        "print(id(d1))\n",
        "print(id(d2))"
      ],
      "metadata": {
        "colab": {
          "base_uri": "https://localhost:8080/"
        },
        "id": "EjVrHMXIkXRc",
        "outputId": "e4719207-6209-455e-a39f-ecd173903023"
      },
      "execution_count": null,
      "outputs": [
        {
          "output_type": "stream",
          "name": "stdout",
          "text": [
            "{'11': [1, 2, 3], '22': [4, 5, 6], '33': [7, 8, 9]}\n",
            "{'11': [1, 2, 3], '22': [4, 5, 6], '33': [7, 8, 9]}\n",
            "{'11': [1, 2, 3], '22': [4, 5, 6], '33': [7, 8, 9]}\n",
            "{'11': [1, 9, 3], '22': [4, 5, 6], '33': [7, 8, 9]}\n",
            "133977660082112\n",
            "133977661206720\n"
          ]
        }
      ]
    },
    {
      "cell_type": "code",
      "source": [
        "#shallow copy\n",
        "import copy\n",
        "d1 = {'11':[1,2,3], '22':[4,5,6], '33':[7,8,9]}\n",
        "d2 = copy.copy(d1)\n",
        "print(d1)\n",
        "print(d2)\n",
        "d2['11'][1] = 9\n",
        "print(d1)\n",
        "print(d2)\n",
        "print(id(d1))\n",
        "print(id(d2))"
      ],
      "metadata": {
        "colab": {
          "base_uri": "https://localhost:8080/"
        },
        "id": "AGdSYYOLu1EF",
        "outputId": "5091ae67-ead4-4f84-e1ee-04c138b7f4ff"
      },
      "execution_count": null,
      "outputs": [
        {
          "output_type": "stream",
          "name": "stdout",
          "text": [
            "{'11': [1, 2, 3], '22': [4, 5, 6], '33': [7, 8, 9]}\n",
            "{'11': [1, 2, 3], '22': [4, 5, 6], '33': [7, 8, 9]}\n",
            "{'11': [1, 9, 3], '22': [4, 5, 6], '33': [7, 8, 9]}\n",
            "{'11': [1, 9, 3], '22': [4, 5, 6], '33': [7, 8, 9]}\n",
            "133977660354432\n",
            "133977660353472\n"
          ]
        }
      ]
    },
    {
      "cell_type": "code",
      "source": [
        "#fromkeys\n",
        "d1 = {2:100, 4:200, 6:300, 8:400, 10:500}\n",
        "l1 = [1,2,3,4,5]\n",
        "d1 = dict.fromkeys(l1)\n",
        "print(d1)\n",
        "d2 = dict.fromkeys(l1, [2000,3000,4000,5000,6000])\n",
        "print(d2)"
      ],
      "metadata": {
        "colab": {
          "base_uri": "https://localhost:8080/"
        },
        "id": "ae8MOxyAkXUm",
        "outputId": "e26d1338-6f2e-496a-fafb-eb4959f51dde"
      },
      "execution_count": null,
      "outputs": [
        {
          "output_type": "stream",
          "name": "stdout",
          "text": [
            "{1: None, 2: None, 3: None, 4: None, 5: None}\n",
            "{1: [2000, 3000, 4000, 5000, 6000], 2: [2000, 3000, 4000, 5000, 6000], 3: [2000, 3000, 4000, 5000, 6000], 4: [2000, 3000, 4000, 5000, 6000], 5: [2000, 3000, 4000, 5000, 6000]}\n"
          ]
        }
      ]
    },
    {
      "cell_type": "code",
      "source": [
        "k= [1,2,3,4]\n",
        "v=[11,22,33,44]\n",
        "d1 = dict(zip(k,v))\n",
        "print(d1)"
      ],
      "metadata": {
        "colab": {
          "base_uri": "https://localhost:8080/"
        },
        "id": "8-Ec66ICkXbN",
        "outputId": "89aed020-aef5-4dcc-ceb2-30f3d81d22f6"
      },
      "execution_count": null,
      "outputs": [
        {
          "output_type": "stream",
          "name": "stdout",
          "text": [
            "{1: 11, 2: 22, 3: 33, 4: 44}\n"
          ]
        }
      ]
    },
    {
      "cell_type": "code",
      "source": [
        "s = \"I live in blr, blr is a garden city and beautiful city\"\n",
        "s = s.replace(',', '')\n",
        "l1 = s.split(sep=' ')\n",
        "print(l1)\n",
        "d1 = {}\n",
        "for i in l1:\n",
        "  d1.update({i:l1.count(i)})\n",
        "print(d1)\n"
      ],
      "metadata": {
        "colab": {
          "base_uri": "https://localhost:8080/"
        },
        "id": "X874rEmaq6gR",
        "outputId": "8152027f-8cb8-4ddc-a381-09c2d58e17bc"
      },
      "execution_count": 2,
      "outputs": [
        {
          "output_type": "stream",
          "name": "stdout",
          "text": [
            "['I', 'live', 'in', 'blr', 'blr', 'is', 'a', 'garden', 'city', 'and', 'beautiful', 'city']\n",
            "{'I': 1, 'live': 1, 'in': 1, 'blr': 2, 'is': 1, 'a': 1, 'garden': 1, 'city': 2, 'and': 1, 'beautiful': 1}\n"
          ]
        }
      ]
    },
    {
      "cell_type": "code",
      "source": [
        "################## Day 9 #########################\n",
        "#shallow copy using copy library/function\n",
        "import copy\n",
        "d1 = {'11':[1,2,3], '22':[4,5,6], '33':[7,8,9]}\n",
        "d2 = copy.copy(d1)\n",
        "print(d1)\n",
        "print(d2)\n",
        "d2['11'][1] = 99\n",
        "print(d1)\n",
        "print(d2)\n",
        "print(id(d1))\n",
        "print(id(d2))"
      ],
      "metadata": {
        "id": "p-4YDZ6VxdQb",
        "outputId": "a575a9cf-8c1a-4caf-f6aa-795ced9fe654",
        "colab": {
          "base_uri": "https://localhost:8080/"
        }
      },
      "execution_count": 6,
      "outputs": [
        {
          "output_type": "stream",
          "name": "stdout",
          "text": [
            "{'11': [1, 2, 3], '22': [4, 5, 6], '33': [7, 8, 9]}\n",
            "{'11': [1, 2, 3], '22': [4, 5, 6], '33': [7, 8, 9]}\n",
            "{'11': [1, 99, 3], '22': [4, 5, 6], '33': [7, 8, 9]}\n",
            "{'11': [1, 99, 3], '22': [4, 5, 6], '33': [7, 8, 9]}\n",
            "139963629838784\n",
            "139963629840128\n"
          ]
        }
      ]
    },
    {
      "cell_type": "code",
      "source": [
        "#shallow copy using copy library/function\n",
        "import copy\n",
        "d1 = {'11':[1,2,3], '22':[4,5,6], '33':[7,8,9]}\n",
        "d2 = copy.deepcopy(d1)\n",
        "print(d1)\n",
        "print(d2)\n",
        "d2['11'][1] = 99\n",
        "print(d1)\n",
        "print(d2)\n",
        "print(id(d1))\n",
        "print(id(d2))"
      ],
      "metadata": {
        "id": "kCs-J4G9xdMz",
        "outputId": "c1f8f5fc-7ead-4a17-904b-120845fa3ba9",
        "colab": {
          "base_uri": "https://localhost:8080/"
        }
      },
      "execution_count": 7,
      "outputs": [
        {
          "output_type": "stream",
          "name": "stdout",
          "text": [
            "{'11': [1, 2, 3], '22': [4, 5, 6], '33': [7, 8, 9]}\n",
            "{'11': [1, 2, 3], '22': [4, 5, 6], '33': [7, 8, 9]}\n",
            "{'11': [1, 2, 3], '22': [4, 5, 6], '33': [7, 8, 9]}\n",
            "{'11': [1, 99, 3], '22': [4, 5, 6], '33': [7, 8, 9]}\n",
            "139963589637760\n",
            "139963589637632\n"
          ]
        }
      ]
    },
    {
      "cell_type": "code",
      "source": [],
      "metadata": {
        "id": "Ce9r-gcTxdJR"
      },
      "execution_count": null,
      "outputs": []
    },
    {
      "cell_type": "code",
      "source": [],
      "metadata": {
        "id": "6WAtB1QnxdF3"
      },
      "execution_count": null,
      "outputs": []
    },
    {
      "cell_type": "code",
      "source": [],
      "metadata": {
        "id": "wj-n8UmNxdCf"
      },
      "execution_count": null,
      "outputs": []
    },
    {
      "cell_type": "code",
      "source": [],
      "metadata": {
        "id": "Fyga9_5cxc_E"
      },
      "execution_count": null,
      "outputs": []
    },
    {
      "cell_type": "code",
      "source": [],
      "metadata": {
        "id": "R_mRuVrkxc7r"
      },
      "execution_count": null,
      "outputs": []
    },
    {
      "cell_type": "code",
      "source": [],
      "metadata": {
        "id": "4MQmbr_yxc4Z"
      },
      "execution_count": null,
      "outputs": []
    },
    {
      "cell_type": "code",
      "source": [],
      "metadata": {
        "id": "tubR6NJ_xc0_"
      },
      "execution_count": null,
      "outputs": []
    },
    {
      "cell_type": "code",
      "source": [],
      "metadata": {
        "id": "NtccVwuxxcul"
      },
      "execution_count": null,
      "outputs": []
    },
    {
      "cell_type": "code",
      "source": [],
      "metadata": {
        "id": "QGaWN1Nuxcro"
      },
      "execution_count": null,
      "outputs": []
    },
    {
      "cell_type": "code",
      "source": [],
      "metadata": {
        "id": "VzXCTiDNxcn_"
      },
      "execution_count": null,
      "outputs": []
    },
    {
      "cell_type": "code",
      "source": [],
      "metadata": {
        "id": "mkC4BU0uxckA"
      },
      "execution_count": null,
      "outputs": []
    },
    {
      "cell_type": "code",
      "source": [],
      "metadata": {
        "id": "lHA57Cp7xcgX"
      },
      "execution_count": null,
      "outputs": []
    },
    {
      "cell_type": "code",
      "source": [],
      "metadata": {
        "id": "Rfk_KaOExcMV"
      },
      "execution_count": null,
      "outputs": []
    },
    {
      "cell_type": "code",
      "source": [],
      "metadata": {
        "id": "YgMGpySbq6jK"
      },
      "execution_count": null,
      "outputs": []
    },
    {
      "cell_type": "code",
      "source": [],
      "metadata": {
        "id": "urTQ6hmvkXez"
      },
      "execution_count": null,
      "outputs": []
    }
  ]
}