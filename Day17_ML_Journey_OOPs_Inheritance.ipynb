{
  "nbformat": 4,
  "nbformat_minor": 0,
  "metadata": {
    "colab": {
      "provenance": [],
      "name": "Day17_ML_Journey_OOPs_Inheritance.ipynb",
      "authorship_tag": "ABX9TyPt4SuE6nhfUiRrvGRSQUXw",
      "include_colab_link": true
    },
    "kernelspec": {
      "name": "python3",
      "display_name": "Python 3"
    },
    "language_info": {
      "name": "python"
    }
  },
  "cells": [
    {
      "cell_type": "markdown",
      "metadata": {
        "id": "view-in-github",
        "colab_type": "text"
      },
      "source": [
        "<a href=\"https://colab.research.google.com/github/dilip-ksa/dilip_ml_pythondemo/blob/main/Day17_ML_Journey_OOPs_Inheritance.ipynb\" target=\"_parent\"><img src=\"https://colab.research.google.com/assets/colab-badge.svg\" alt=\"Open In Colab\"/></a>"
      ]
    },
    {
      "cell_type": "code",
      "source": [
        "###################  OOPs  ##################\n",
        "class Person:\n",
        "  def __init__(self, name, age, address):\n",
        "    self.name = name\n",
        "    self.age = age\n",
        "    self.address = address\n",
        "  def display(self):\n",
        "    print('Name:',self.name, ', Age:',self.age, ', Address:',self.address)\n",
        "\n",
        "p1 = Person(\"Dinesh\", 25, \"Mumbai\")\n",
        "p1.display()"
      ],
      "metadata": {
        "colab": {
          "base_uri": "https://localhost:8080/"
        },
        "id": "EOfkDwUXe6GY",
        "outputId": "473a504f-0f6c-4099-8dfa-9d904d4da1ba"
      },
      "execution_count": null,
      "outputs": [
        {
          "output_type": "stream",
          "name": "stdout",
          "text": [
            "Name: Dinesh , Age: 25 , Address: Mumbai\n"
          ]
        }
      ]
    },
    {
      "cell_type": "code",
      "source": [
        "class Calculator:\n",
        "  n1 = 0\n",
        "  n2 = 0\n",
        "  res = 0\n",
        "  def __init__(self, n1, n2):\n",
        "    self.n1 = n1\n",
        "    self.n2 = n2\n",
        "    self.res = 0\n",
        "\n",
        "  def add(self, n1, n2):\n",
        "    self.res = n1 + n2\n",
        "\n",
        "  def sub(self, n1, n2):\n",
        "    self.res = n1 - n2\n",
        "\n",
        "  def mul(self, n1, n2):\n",
        "    self.res = n1 * n2\n",
        "\n",
        "  def div(self, n1, n2):\n",
        "    self.res = n1 / n2\n",
        "\n",
        "c1 = Calculator(10,20)\n",
        "print(c1.n1, c1.n2, c1.res)\n",
        "c1.add(40,20)\n",
        "print(c1.res)\n",
        "c1.sub(40,20)\n",
        "print(c1.res)\n",
        "c1.mul(40,20)\n",
        "print(c1.res)\n",
        "c1.div(40,20)\n",
        "print(c1.res)\n"
      ],
      "metadata": {
        "id": "Kd5jp-YIe6Jp",
        "colab": {
          "base_uri": "https://localhost:8080/"
        },
        "outputId": "d7b37996-b600-4878-dd67-10fa5ef62ee3"
      },
      "execution_count": null,
      "outputs": [
        {
          "output_type": "stream",
          "name": "stdout",
          "text": [
            "10 20 0\n",
            "60\n",
            "20\n",
            "800\n",
            "2.0\n"
          ]
        }
      ]
    },
    {
      "cell_type": "code",
      "source": [
        "######################  Day 15  ##############################\n",
        "# Class example\n",
        "\n",
        "class Sample:\n",
        "  def __init__(self):\n",
        "    self.data = 10\n",
        "\n",
        "  def read_input(self):\n",
        "    self.data = input(\"Enter some text\")\n",
        "\n",
        "  def process_input(self):\n",
        "    self.data = self.data.upper()\n",
        "\n",
        "  def display_input(self):\n",
        "    print(self.data)\n",
        "\n",
        "s1 = Sample()\n",
        "s1.display_input()\n",
        "s1.read_input()\n",
        "s1.display_input()\n",
        "s1.process_input()\n",
        "s1.display_input()\n",
        "\n",
        "s2 = Sample()\n",
        "s2.display_input()\n",
        "s2.read_input()\n",
        "s2.process_input()\n",
        "s2.display_input()"
      ],
      "metadata": {
        "id": "q90gp2xje6NN",
        "colab": {
          "base_uri": "https://localhost:8080/"
        },
        "outputId": "fcb05028-237a-4539-af13-c597a07e61c6"
      },
      "execution_count": null,
      "outputs": [
        {
          "output_type": "stream",
          "name": "stdout",
          "text": [
            "10\n",
            "Enter some textTest\n",
            "Test\n",
            "TEST\n",
            "10\n",
            "Enter some textWelcome\n",
            "WELCOME\n"
          ]
        }
      ]
    },
    {
      "cell_type": "code",
      "source": [
        "class Calculator1:\n",
        "  def __init__(self):\n",
        "    self.n1 = 0\n",
        "    self.n2 = 0\n",
        "    self.res = 0\n",
        "\n",
        "  def read_input(self):\n",
        "    self.n1 = int(input(\"Enter first number :\"))\n",
        "    self.n2 = int(input(\"Enter second number :\"))\n",
        "\n",
        "  def add(self):\n",
        "    self.res = self.n1 + self.n2\n",
        "\n",
        "  def sub(self):\n",
        "    self.res = self.n1 - self.n2\n",
        "\n",
        "  def mul(self):\n",
        "    self.res = self.n1 * self.n2\n",
        "\n",
        "  def div(self):\n",
        "    self.res = self.n1 / self.n2\n",
        "\n",
        "  def display(self):\n",
        "    return self.res\n",
        "\n",
        "  def compare(self, obj):\n",
        "    if self.res == obj.res:\n",
        "      return True\n",
        "    else:\n",
        "      return False\n",
        "\n",
        "\n",
        "c1 = Calculator1()\n",
        "c1.read_input()\n",
        "c1.sub()\n",
        "print('Subtraction result:', c1.display())\n",
        "c1.mul()\n",
        "print('Multiplication result:', c1.display())\n",
        "c1.div()\n",
        "print('Division result:', c1.display())\n",
        "c1.add()\n",
        "print('Addition result:', c1.display())\n",
        "\n",
        "c2 = Calculator1()\n",
        "c2.read_input()\n",
        "c2.add()\n",
        "print('\\nAddition result:', c2.display())\n",
        "c1.compare(c2)"
      ],
      "metadata": {
        "id": "dgKpy3vUehRR",
        "colab": {
          "base_uri": "https://localhost:8080/"
        },
        "outputId": "b7dadbfe-7bf3-49fe-b19b-693e676ad2a2"
      },
      "execution_count": null,
      "outputs": [
        {
          "output_type": "stream",
          "name": "stdout",
          "text": [
            "Enter first number :50\n",
            "Enter second number :10\n",
            "Subtraction result: 40\n",
            "Multiplication result: 500\n",
            "Division result: 5.0\n",
            "Addition result: 60\n",
            "Enter first number :40\n",
            "Enter second number :20\n",
            "\n",
            "Addition result: 60\n"
          ]
        },
        {
          "output_type": "execute_result",
          "data": {
            "text/plain": [
              "True"
            ]
          },
          "metadata": {},
          "execution_count": 16
        }
      ]
    },
    {
      "cell_type": "code",
      "source": [
        "class Student:\n",
        "  teacher = 'Mr. Patil'\n",
        "  def __init__(self):\n",
        "    self.name = ''\n",
        "    self.rollno = 0\n",
        "    self.math = 0\n",
        "    self.lit = 0\n",
        "    self.science = 0\n",
        "    self.hist = 0\n",
        "    self.average = 0\n",
        "\n",
        "  def read_input(self):\n",
        "    self.name = input(\"Enter student name :\")\n",
        "    self.rollno = int(input(\"Enter roll number :\"))\n",
        "    self.math = int(input(\"Enter marks in Maths :\"))\n",
        "    self.lit = int(input(\"Enter marks in Literature :\"))\n",
        "    self.science = int(input(\"Enter marks in Science :\"))\n",
        "    self.hist = int(input(\"Enter marks in History :\"))\n",
        "  def calculate_average(self):\n",
        "    self.average = (self.math + self.lit + self.science + self.hist) / 4\n",
        "\n",
        "  def display_details(self):\n",
        "    print('Student Name:', self.name, ', Roll no:', self.rollno, ', Average mark:', self.average)\n",
        "\n",
        "s1 = Student()\n",
        "s1.read_input()\n",
        "s1.calculate_average()\n",
        "s1.display_details()\n",
        "\n",
        "print('Teacher name:', Student.teacher)\n",
        "\n",
        "s2 = Student()\n",
        "s2.teacher = 'John'\n",
        "print('S2 Teacher name:', s2.teacher)\n",
        "print('S1 Teacher name:', s2.teacher)"
      ],
      "metadata": {
        "colab": {
          "base_uri": "https://localhost:8080/"
        },
        "id": "SEREjf8Do-rd",
        "outputId": "a6fb0d4b-7d05-4492-9d0a-689933939bdd"
      },
      "execution_count": null,
      "outputs": [
        {
          "output_type": "stream",
          "name": "stdout",
          "text": [
            "Enter student name :dsf\n",
            "Enter roll number :34\n",
            "Enter marks in Maths :5\n",
            "Enter marks in Literature :65\n",
            "Enter marks in Science :34\n",
            "Enter marks in History :5\n",
            "Student Name: dsf , Roll no: 34  Average mark: 27.25\n",
            "Teacher name: Mr. Patil\n",
            "S2 Teacher name: John\n",
            "S1 Teacher name: John\n"
          ]
        }
      ]
    },
    {
      "cell_type": "code",
      "source": [
        "class Employee:\n",
        "  def __init__(self, n, id, dep, sal):\n",
        "    self.name = n\n",
        "    self.empid = id\n",
        "    self.dept = dep\n",
        "    self.salary = sal\n",
        "    self.bonus = 20\n",
        "    self.total_salary = 0\n",
        "\n",
        "  def calculate_salary(self):\n",
        "    self.total_salary = self.salary + self.bonus\n",
        "\n",
        "  def display_details(self):\n",
        "    print('Employee Name:', self.name, ', Employee ID:', self.empid, '\\nDepartment:', self.dept, ', Salary:', self.salary, ', Bonus:', self.bonus, ', Total Salary:', self.total_salary)\n",
        "\n",
        "  def compare(self, obj, any):\n",
        "    if self.total_salary == obj.total_salary:\n",
        "      return True\n",
        "    else:\n",
        "      return False\n",
        "\n",
        "e1 = Employee('Tom', 101, 'IT', 5000)\n",
        "e1.calculate_salary()\n",
        "e1.display_details()\n",
        "\n"
      ],
      "metadata": {
        "colab": {
          "base_uri": "https://localhost:8080/"
        },
        "id": "Lmo7IyFuo-u2",
        "outputId": "7e1fd3b3-d0f4-4568-de95-6e0f3bc5f9f8"
      },
      "execution_count": null,
      "outputs": [
        {
          "output_type": "stream",
          "name": "stdout",
          "text": [
            "Employee Name: Tom , Employee ID: 101 \n",
            "Department: IT , Salary: 5000 , Bonus: 20 , Total Salary: 5020\n"
          ]
        }
      ]
    },
    {
      "cell_type": "code",
      "source": [
        "#########################  Day 16  ###########################\n",
        "# class variable\n",
        "class Student:\n",
        "  count = 0 # class variable\n",
        "  college_name = 'XYZ' # class variable\n",
        "  def __init__(self, nm, roll):\n",
        "    Student.count = Student.count + 1\n",
        "    self.name = nm\n",
        "    self.rollno = roll\n",
        "    self.college_name = 'ABC'\n",
        "\n",
        "  def display(self):\n",
        "    print('Student Name:', self.name, ', Roll no:', self.rollno, ', College Name:', self.college_name)\n",
        "    print('Total Students:', Student.count)\n",
        "\n",
        "s1 = Student('Tom', 101)\n",
        "s1.display()\n",
        "s2 = Student('Harry', 102)\n",
        "s2.college_name = 'PQR'\n",
        "s2.display()\n",
        "s3 = Student('Don', 103)\n",
        "s3.display()"
      ],
      "metadata": {
        "id": "7RwJDUmVo-yP",
        "colab": {
          "base_uri": "https://localhost:8080/"
        },
        "outputId": "d77db846-8956-446f-aed4-d2656005ac86"
      },
      "execution_count": null,
      "outputs": [
        {
          "output_type": "stream",
          "name": "stdout",
          "text": [
            "Student Name: Tom , Roll no: 101 , College Name: ABC\n",
            "Total Students: 1\n",
            "Student Name: Harry , Roll no: 102 , College Name: PQR\n",
            "Total Students: 2\n",
            "Student Name: Don , Roll no: 103 , College Name: ABC\n",
            "Total Students: 3\n"
          ]
        }
      ]
    },
    {
      "cell_type": "code",
      "source": [
        "# class variable and instance variable with same name\n",
        "class Student:\n",
        "  count = 0 # class variable\n",
        "  college_name = 'XYZ' # class variable\n",
        "  def __init__(self, nm, roll):\n",
        "    Student.count = Student.count + 1\n",
        "    self.name = nm\n",
        "    self.rollno = roll\n",
        "    self.college_name = 'ABC'\n",
        "\n",
        "  def display(self):\n",
        "    print('Student Name:', self.name, ', Roll no:', self.rollno,\n",
        "          ', Instance College Name:', self.college_name, ', Class college name:', Student.college_name)\n",
        "    print('Total Students:', Student.count)\n",
        "\n",
        "s1 = Student('Tom', 101)\n",
        "s1.display()\n",
        "s2 = Student('Harry', 102)\n",
        "s2.college_name = 'PQR'\n",
        "s2.display()\n",
        "s3 = Student('Don', 103)\n",
        "s3.display()"
      ],
      "metadata": {
        "id": "RJsNvKvmo-15",
        "colab": {
          "base_uri": "https://localhost:8080/"
        },
        "outputId": "281b1547-ff08-4c62-ee15-0178b7a8eadf"
      },
      "execution_count": null,
      "outputs": [
        {
          "output_type": "stream",
          "name": "stdout",
          "text": [
            "Student Name: Tom , Roll no: 101 , Instance College Name: ABC , Class college name: XYZ\n",
            "Total Students: 1\n",
            "Student Name: Harry , Roll no: 102 , Instance College Name: PQR , Class college name: XYZ\n",
            "Total Students: 2\n",
            "Student Name: Don , Roll no: 103 , Instance College Name: ABC , Class college name: XYZ\n",
            "Total Students: 3\n"
          ]
        }
      ]
    },
    {
      "cell_type": "code",
      "source": [
        "# class variable and instance variable with same name\n",
        "class Student:\n",
        "  count = 0 # class variable\n",
        "  college_name = 'XYZ' # class variable\n",
        "  def __init__(self, nm, roll):\n",
        "    Student.count = Student.count + 1\n",
        "    self.name = nm\n",
        "    self.rollno = roll\n",
        "\n",
        "  def display(self):\n",
        "    print('Student Name:', self.name, ', Roll no:', self.rollno,\n",
        "          ', Instance College Name:', self.college_name, ', Class college name:', Student.college_name)\n",
        "    print('Total Students:', Student.count, self.count)\n",
        "\n",
        "  def display_static_details(name):\n",
        "    print('Class Roll no:', Student.count, ', Class college name:', Student.college_name)\n",
        "    print('Instance name:', name.count)\n",
        "\n",
        "s1 = Student('Tom', 101)\n",
        "s1.display()\n",
        "s2 = Student('Harry', 102)\n",
        "Student.college_name = 'PQR'\n",
        "s2.count = 200\n",
        "s2.display()\n",
        "s3 = Student('Don', 103)\n",
        "s3.display()\n",
        "s3.display_static_details()\n",
        "s4 = Student('Don', 103)\n",
        "Student.count = 300\n",
        "s4.display()\n",
        "s4.display_static_details()\n"
      ],
      "metadata": {
        "id": "wSUUygiso-4z",
        "colab": {
          "base_uri": "https://localhost:8080/"
        },
        "outputId": "ebac5f41-4c46-4ad5-a6aa-7527aec4dac8"
      },
      "execution_count": null,
      "outputs": [
        {
          "output_type": "stream",
          "name": "stdout",
          "text": [
            "Student Name: Tom , Roll no: 101 , Instance College Name: XYZ , Class college name: XYZ\n",
            "Total Students: 1 1\n",
            "Student Name: Harry , Roll no: 102 , Instance College Name: PQR , Class college name: PQR\n",
            "Total Students: 2 200\n",
            "Student Name: Don , Roll no: 103 , Instance College Name: PQR , Class college name: PQR\n",
            "Total Students: 3 3\n",
            "Class Roll no: 3 , Class college name: PQR\n",
            "Instance name: 3\n",
            "Student Name: Don , Roll no: 103 , Instance College Name: PQR , Class college name: PQR\n",
            "Total Students: 300 300\n",
            "Class Roll no: 300 , Class college name: PQR\n",
            "Instance name: 300\n"
          ]
        }
      ]
    },
    {
      "cell_type": "code",
      "source": [
        "# Basic of inheritance, no inheritance\n",
        "class Employee:\n",
        "  bonus = 2000\n",
        "  def __init__(self, name, id):\n",
        "    self.name = name\n",
        "    self.empid = id\n",
        "  def display(self):\n",
        "    print('Employee Name:', self.name, ', Employee ID:', self.empid, ', Bonus:', Employee.bonus)\n",
        "\n",
        "class Manager:\n",
        "  bonus1 = 5000\n",
        "  def __init__(self, name, id, dept):\n",
        "    self.name = name\n",
        "    self.empid = id\n",
        "    self.dept = dept\n",
        "  def display(self):\n",
        "    print('Employee Name:', self.name, ', Employee ID:', self.empid, ', Department:', self.dept, ', Bonus:', Manager.bonus1)\n",
        "\n",
        "e1 = Employee('Tom', 101)\n",
        "e1.display()\n",
        "m1 = Manager('Harry', 102, 'IT')\n",
        "m1.display()"
      ],
      "metadata": {
        "id": "_BniweL6o-8V",
        "colab": {
          "base_uri": "https://localhost:8080/"
        },
        "outputId": "0f8de7fc-e2cd-4d40-82f0-9df95aa418d5"
      },
      "execution_count": null,
      "outputs": [
        {
          "output_type": "stream",
          "name": "stdout",
          "text": [
            "Employee Name: Tom , Employee ID: 101 , Bonus: 2000\n",
            "Employee Name: Harry , Employee ID: 102 , Department: IT , Bonus: 5000\n"
          ]
        }
      ]
    },
    {
      "cell_type": "code",
      "source": [
        "# With inheritance\n",
        "class Employee:\n",
        "  bonus = 2000\n",
        "  def __init__(self, name, id):\n",
        "    self.name = name\n",
        "    self.empid = id\n",
        "  def display(self):\n",
        "    print('Employee Name:', self.name, ', Employee ID:', self.empid, ', Bonus:', Employee.bonus)\n",
        "\n",
        "class Manager(Employee):\n",
        "  bonus1 = 5000\n",
        "  def __init__(self, name, id, dept):\n",
        "    self.name = name\n",
        "    self.empid = id\n",
        "    self.dept = dept\n",
        "  def display(self):\n",
        "    print('Employee Name:', self.name, ', Employee ID:', self.empid,\n",
        "          ', Department:', self.dept, ', M Bonus:', Manager.bonus1, ', E Bonus:', self.bonus)\n",
        "\n",
        "e1 = Employee('Tom', 101)\n",
        "e1.display()\n",
        "m1 = Manager('Harry', 102, 'IT')\n",
        "m1.display()\n",
        "m1.bonus = 3000\n",
        "m1.display()"
      ],
      "metadata": {
        "id": "AL1NiCmAo-_X",
        "colab": {
          "base_uri": "https://localhost:8080/"
        },
        "outputId": "75d6be9c-aa12-4580-a4a0-ee3421c98218"
      },
      "execution_count": null,
      "outputs": [
        {
          "output_type": "stream",
          "name": "stdout",
          "text": [
            "Employee Name: Tom , Employee ID: 101 , Bonus: 2000\n",
            "Employee Name: Harry , Employee ID: 102 , Department: IT , M Bonus: 5000 , E Bonus: 2000\n",
            "Employee Name: Harry , Employee ID: 102 , Department: IT , M Bonus: 5000 , E Bonus: 3000\n"
          ]
        }
      ]
    },
    {
      "cell_type": "code",
      "source": [
        "# Constructor in inheritance\n",
        "class Father:\n",
        "  def __init__(self):\n",
        "    print('Father Constructor')\n",
        "    self.vehicle = 'Scooter'\n",
        "\n",
        "class Son(Father):\n",
        "  pass\n",
        "\n",
        "s1 = Son()\n",
        "print(s1.vehicle)\n",
        "print(s1.__dict__)"
      ],
      "metadata": {
        "id": "rA3S3d9to_CT",
        "colab": {
          "base_uri": "https://localhost:8080/"
        },
        "outputId": "13d249e8-8925-428b-aa3f-3feb2e3df7d9"
      },
      "execution_count": null,
      "outputs": [
        {
          "output_type": "stream",
          "name": "stdout",
          "text": [
            "Father Constructor\n",
            "Scooter\n",
            "{'vehicle': 'Scooter'}\n"
          ]
        }
      ]
    },
    {
      "cell_type": "code",
      "source": [
        "class Father:\n",
        "  def __init__(self):\n",
        "    print('Father Constructor')\n",
        "    self.vehicle = 'Scooter'\n",
        "\n",
        "class Son(Father):\n",
        "  def __init__(self):\n",
        "    print('Son Constructor')\n",
        "    self.vehicle = 'Car'\n",
        "\n",
        "s1 = Son()\n",
        "print(s1.vehicle)\n",
        "print(s1.__dict__)\n",
        "print()\n",
        "f1 = Father()\n",
        "print(f1.vehicle)\n",
        "print(f1.__dict__)\n",
        "print()\n"
      ],
      "metadata": {
        "id": "3dY_MVLpehUq",
        "colab": {
          "base_uri": "https://localhost:8080/"
        },
        "outputId": "981f58ee-cf11-4a37-8b68-d2560566a9be"
      },
      "execution_count": null,
      "outputs": [
        {
          "output_type": "stream",
          "name": "stdout",
          "text": [
            "Son Constructor\n",
            "Car\n",
            "{'vehicle': 'Car'}\n",
            "\n",
            "Father Constructor\n",
            "Scooter\n",
            "{'vehicle': 'Scooter'}\n",
            "\n"
          ]
        }
      ]
    },
    {
      "cell_type": "code",
      "source": [
        "## super method\n",
        "class Father:\n",
        "  def __init__(self):\n",
        "    print('Father Constructor')\n",
        "    self.vehicle = 'Scooter'\n",
        "\n",
        "class Son(Father):\n",
        "  def __init__(self):\n",
        "    super().__init__()\n",
        "    print('Son Constructor')\n",
        "    self.vehicle = 'Car'\n",
        "\n",
        "s1 = Son()\n",
        "print(s1.vehicle)\n",
        "print(s1.__dict__)\n",
        "print()\n"
      ],
      "metadata": {
        "id": "2BQ219DHNGv_",
        "outputId": "52febae8-020c-4078-9252-baaa4fb9c1c8",
        "colab": {
          "base_uri": "https://localhost:8080/"
        }
      },
      "execution_count": null,
      "outputs": [
        {
          "output_type": "stream",
          "name": "stdout",
          "text": [
            "Father Constructor\n",
            "Son Constructor\n",
            "Car\n",
            "{'vehicle': 'Car'}\n",
            "\n"
          ]
        }
      ]
    },
    {
      "cell_type": "code",
      "source": [
        "class Mobile:\n",
        "  def __init__(self):\n",
        "    print('Mobile Constructor')\n",
        "    self.ram = '8GB'\n",
        "    self.processor = 'Snapdragon'\n",
        "\n",
        "class Model(Mobile):\n",
        "  def __init__(self):\n",
        "    super().__init__() # calls parent class constructor\n",
        "    print('Model Constructor')\n",
        "    self.name = 'iPhone16'\n",
        "    self.price = 100000\n",
        "\n",
        "  def display(self):\n",
        "    print('Name:', self.name, ', Price:', self.price, ', Ram', self.ram, ', Processor:', self.processor)\n",
        "\n",
        "m = Model()\n",
        "m.display()\n",
        "\n",
        "m1 = Model()\n",
        "m1.name = 'iPhone15'\n",
        "m1.price = 90000\n",
        "m1.display()"
      ],
      "metadata": {
        "id": "NJPFxguRNGzI",
        "outputId": "93c3dbd1-1bbb-432e-9170-d1e2a1f4f9ee",
        "colab": {
          "base_uri": "https://localhost:8080/"
        }
      },
      "execution_count": null,
      "outputs": [
        {
          "output_type": "stream",
          "name": "stdout",
          "text": [
            "Mobile Constructor\n",
            "Model Constructor\n",
            "Name: iPhone16 , Price: 100000 , Ram 8GB , Processor: Snapdragon\n",
            "Mobile Constructor\n",
            "Model Constructor\n",
            "Name: iPhone15 , Price: 90000 , Ram 8GB , Processor: Snapdragon\n"
          ]
        }
      ]
    },
    {
      "cell_type": "code",
      "source": [
        "# Inheritance with call to parent class constructor with attributes\n",
        "class Mobile:\n",
        "  def __init__(self, rm, proc):\n",
        "    print('Mobile Constructor')\n",
        "    self.ram = rm\n",
        "    self.processor = proc\n",
        "\n",
        "class Model(Mobile):\n",
        "  def __init__(self, mname, prce, rm, proc='Snapdragon'):\n",
        "    super().__init__(rm, proc) # calls parent class constructor & attributes\n",
        "    print('Model Constructor')\n",
        "    self.name = mname\n",
        "    self.price = prce\n",
        "\n",
        "  def display(self):\n",
        "    print('Name:', self.name, ', Price:', self.price, ', Ram', self.ram, ', Processor:', self.processor)\n",
        "\n",
        "m = Model('8GB', 'iPhone16', 130000, 'iOS 16')\n",
        "m.display()\n",
        "\n",
        "m1 = Model('6GB', 'iPhone15', 99990)\n",
        "m1.display()\n"
      ],
      "metadata": {
        "id": "gB_YSfZING2j",
        "outputId": "5f088368-d1ab-49b5-8702-03b63b9b44b4",
        "colab": {
          "base_uri": "https://localhost:8080/"
        }
      },
      "execution_count": 2,
      "outputs": [
        {
          "output_type": "stream",
          "name": "stdout",
          "text": [
            "Mobile Constructor\n",
            "Model Constructor\n",
            "Name: 8GB , Price: iPhone16 , Ram 130000 , Processor: iOS 16\n",
            "Mobile Constructor\n",
            "Model Constructor\n",
            "Name: 6GB , Price: iPhone15 , Ram 99990 , Processor: Snapdragon\n"
          ]
        }
      ]
    },
    {
      "cell_type": "code",
      "source": [
        "###########################  Day 17  ################################\n",
        "#Inheritence : parameterized super init"
      ],
      "metadata": {
        "id": "Boz7xM6zNG5k"
      },
      "execution_count": null,
      "outputs": []
    },
    {
      "cell_type": "code",
      "source": [],
      "metadata": {
        "id": "Qbzydr1RNG8Y"
      },
      "execution_count": null,
      "outputs": []
    },
    {
      "cell_type": "code",
      "source": [],
      "metadata": {
        "id": "027kHjE3NG_U"
      },
      "execution_count": null,
      "outputs": []
    },
    {
      "cell_type": "code",
      "source": [],
      "metadata": {
        "id": "5J0Xyrs9NHCQ"
      },
      "execution_count": null,
      "outputs": []
    }
  ]
}