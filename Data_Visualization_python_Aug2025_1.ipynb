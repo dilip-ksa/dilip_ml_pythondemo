{
  "nbformat": 4,
  "nbformat_minor": 0,
  "metadata": {
    "colab": {
      "provenance": [],
      "name": "Data_Visualization_python_Aug2025_1.ipynb",
      "include_colab_link": true
    },
    "kernelspec": {
      "name": "python3",
      "display_name": "Python 3"
    },
    "language_info": {
      "name": "python"
    }
  },
  "cells": [
    {
      "cell_type": "markdown",
      "metadata": {
        "id": "view-in-github",
        "colab_type": "text"
      },
      "source": [
        "<a href=\"https://colab.research.google.com/github/dilip-ksa/dilip_ml_pythondemo/blob/main/Data_Visualization_python_Aug2025_1.ipynb\" target=\"_parent\"><img src=\"https://colab.research.google.com/assets/colab-badge.svg\" alt=\"Open In Colab\"/></a>"
      ]
    },
    {
      "cell_type": "code",
      "execution_count": 1,
      "metadata": {
        "colab": {
          "base_uri": "https://localhost:8080/"
        },
        "id": "HpmbKqI7jltH",
        "outputId": "64ddadd0-67f6-4438-d43f-fce7b5aeaf75"
      },
      "outputs": [
        {
          "output_type": "stream",
          "name": "stdout",
          "text": [
            "<class 'numpy.ndarray'>\n",
            "[10 20 30 40]\n"
          ]
        }
      ],
      "source": [
        "import numpy as np\n",
        "\n",
        "arr = np.array([10,20,30,40]) # array element separated by space\n",
        "print(type(arr))\n",
        "print(arr)"
      ]
    },
    {
      "cell_type": "code",
      "source": [
        "import pandas as pd\n",
        "import numpy as np\n",
        "import pickle\n",
        "import os\n",
        "from pathlib import Path\n",
        "import matplotlib.pyplot as plt\n",
        "import seaborn as sns\n",
        "print('import complete')"
      ],
      "metadata": {
        "id": "WZpTzJP59M9q",
        "outputId": "64671d40-4309-4ff3-c86b-825c87e1c384",
        "colab": {
          "base_uri": "https://localhost:8080/"
        }
      },
      "execution_count": 8,
      "outputs": [
        {
          "output_type": "stream",
          "name": "stdout",
          "text": [
            "import complete\n"
          ]
        }
      ]
    },
    {
      "cell_type": "code",
      "source": [
        "# This dataset is of type dataframe. Let's assign this dataset to a variable, so that we can manipulate it freely.\n",
        "df = pd.read_csv(\"diabetes.csv\")\n",
        "print(type(df))\n",
        "print(len(df))"
      ],
      "metadata": {
        "id": "D8eA3MTs9NBJ",
        "outputId": "b95b35f6-2f28-4fcc-ff4b-25d8322ea418",
        "colab": {
          "base_uri": "https://localhost:8080/"
        }
      },
      "execution_count": 7,
      "outputs": [
        {
          "output_type": "stream",
          "name": "stdout",
          "text": [
            "<class 'pandas.core.frame.DataFrame'>\n",
            "768\n"
          ]
        }
      ]
    },
    {
      "cell_type": "code",
      "source": [
        "# Set 'main_dir' to location of the project folder\n",
        "home_dir = Path(\".\").resolve()\n",
        "main_dir = home_dir.parent.parent\n",
        "print(main_dir)\n",
        "\n",
        "data_dir = str(main_dir) + \"/data\"\n",
        "print(data_dir)\n",
        "\n",
        "plot_dir = str(main_dir) + \"/plots\"\n",
        "if not os.path.exists(plot_dir):\n",
        "  os.makedirs(plot_dir)\n",
        "print(plot_dir)\n",
        "\n",
        "# This dataset is of type dataframe. Let's assign this dataset to a variable, so that we can manipulate it freely.\n",
        "df = pd.read_csv(str(data_dir)+\"/\"+ \"diabetes.csv\")\n",
        "\n",
        "print(type(df))\n",
        "print(len(df))"
      ],
      "metadata": {
        "id": "szSMQ3kX9NEp",
        "outputId": "509b4c2a-c4a7-4e54-8d86-53c7b702afab",
        "colab": {
          "base_uri": "https://localhost:8080/",
          "height": 443
        }
      },
      "execution_count": 10,
      "outputs": [
        {
          "output_type": "stream",
          "name": "stdout",
          "text": [
            "/\n",
            "//data\n",
            "//plots\n"
          ]
        },
        {
          "output_type": "error",
          "ename": "FileNotFoundError",
          "evalue": "[Errno 2] No such file or directory: '//data/diabetes.csv'",
          "traceback": [
            "\u001b[0;31m---------------------------------------------------------------------------\u001b[0m",
            "\u001b[0;31mFileNotFoundError\u001b[0m                         Traceback (most recent call last)",
            "\u001b[0;32m/tmp/ipython-input-1538182105.py\u001b[0m in \u001b[0;36m<cell line: 0>\u001b[0;34m()\u001b[0m\n\u001b[1;32m     13\u001b[0m \u001b[0;34m\u001b[0m\u001b[0m\n\u001b[1;32m     14\u001b[0m \u001b[0;31m# This dataset is of type dataframe. Let's assign this dataset to a variable, so that we can manipulate it freely.\u001b[0m\u001b[0;34m\u001b[0m\u001b[0;34m\u001b[0m\u001b[0m\n\u001b[0;32m---> 15\u001b[0;31m \u001b[0mdf\u001b[0m \u001b[0;34m=\u001b[0m \u001b[0mpd\u001b[0m\u001b[0;34m.\u001b[0m\u001b[0mread_csv\u001b[0m\u001b[0;34m(\u001b[0m\u001b[0mstr\u001b[0m\u001b[0;34m(\u001b[0m\u001b[0mdata_dir\u001b[0m\u001b[0;34m)\u001b[0m\u001b[0;34m+\u001b[0m\u001b[0;34m\"/\"\u001b[0m\u001b[0;34m+\u001b[0m \u001b[0;34m\"diabetes.csv\"\u001b[0m\u001b[0;34m)\u001b[0m\u001b[0;34m\u001b[0m\u001b[0;34m\u001b[0m\u001b[0m\n\u001b[0m\u001b[1;32m     16\u001b[0m \u001b[0;34m\u001b[0m\u001b[0m\n\u001b[1;32m     17\u001b[0m \u001b[0mprint\u001b[0m\u001b[0;34m(\u001b[0m\u001b[0mtype\u001b[0m\u001b[0;34m(\u001b[0m\u001b[0mdf\u001b[0m\u001b[0;34m)\u001b[0m\u001b[0;34m)\u001b[0m\u001b[0;34m\u001b[0m\u001b[0;34m\u001b[0m\u001b[0m\n",
            "\u001b[0;32m/usr/local/lib/python3.11/dist-packages/pandas/io/parsers/readers.py\u001b[0m in \u001b[0;36mread_csv\u001b[0;34m(filepath_or_buffer, sep, delimiter, header, names, index_col, usecols, dtype, engine, converters, true_values, false_values, skipinitialspace, skiprows, skipfooter, nrows, na_values, keep_default_na, na_filter, verbose, skip_blank_lines, parse_dates, infer_datetime_format, keep_date_col, date_parser, date_format, dayfirst, cache_dates, iterator, chunksize, compression, thousands, decimal, lineterminator, quotechar, quoting, doublequote, escapechar, comment, encoding, encoding_errors, dialect, on_bad_lines, delim_whitespace, low_memory, memory_map, float_precision, storage_options, dtype_backend)\u001b[0m\n\u001b[1;32m   1024\u001b[0m     \u001b[0mkwds\u001b[0m\u001b[0;34m.\u001b[0m\u001b[0mupdate\u001b[0m\u001b[0;34m(\u001b[0m\u001b[0mkwds_defaults\u001b[0m\u001b[0;34m)\u001b[0m\u001b[0;34m\u001b[0m\u001b[0;34m\u001b[0m\u001b[0m\n\u001b[1;32m   1025\u001b[0m \u001b[0;34m\u001b[0m\u001b[0m\n\u001b[0;32m-> 1026\u001b[0;31m     \u001b[0;32mreturn\u001b[0m \u001b[0m_read\u001b[0m\u001b[0;34m(\u001b[0m\u001b[0mfilepath_or_buffer\u001b[0m\u001b[0;34m,\u001b[0m \u001b[0mkwds\u001b[0m\u001b[0;34m)\u001b[0m\u001b[0;34m\u001b[0m\u001b[0;34m\u001b[0m\u001b[0m\n\u001b[0m\u001b[1;32m   1027\u001b[0m \u001b[0;34m\u001b[0m\u001b[0m\n\u001b[1;32m   1028\u001b[0m \u001b[0;34m\u001b[0m\u001b[0m\n",
            "\u001b[0;32m/usr/local/lib/python3.11/dist-packages/pandas/io/parsers/readers.py\u001b[0m in \u001b[0;36m_read\u001b[0;34m(filepath_or_buffer, kwds)\u001b[0m\n\u001b[1;32m    618\u001b[0m \u001b[0;34m\u001b[0m\u001b[0m\n\u001b[1;32m    619\u001b[0m     \u001b[0;31m# Create the parser.\u001b[0m\u001b[0;34m\u001b[0m\u001b[0;34m\u001b[0m\u001b[0m\n\u001b[0;32m--> 620\u001b[0;31m     \u001b[0mparser\u001b[0m \u001b[0;34m=\u001b[0m \u001b[0mTextFileReader\u001b[0m\u001b[0;34m(\u001b[0m\u001b[0mfilepath_or_buffer\u001b[0m\u001b[0;34m,\u001b[0m \u001b[0;34m**\u001b[0m\u001b[0mkwds\u001b[0m\u001b[0;34m)\u001b[0m\u001b[0;34m\u001b[0m\u001b[0;34m\u001b[0m\u001b[0m\n\u001b[0m\u001b[1;32m    621\u001b[0m \u001b[0;34m\u001b[0m\u001b[0m\n\u001b[1;32m    622\u001b[0m     \u001b[0;32mif\u001b[0m \u001b[0mchunksize\u001b[0m \u001b[0;32mor\u001b[0m \u001b[0miterator\u001b[0m\u001b[0;34m:\u001b[0m\u001b[0;34m\u001b[0m\u001b[0;34m\u001b[0m\u001b[0m\n",
            "\u001b[0;32m/usr/local/lib/python3.11/dist-packages/pandas/io/parsers/readers.py\u001b[0m in \u001b[0;36m__init__\u001b[0;34m(self, f, engine, **kwds)\u001b[0m\n\u001b[1;32m   1618\u001b[0m \u001b[0;34m\u001b[0m\u001b[0m\n\u001b[1;32m   1619\u001b[0m         \u001b[0mself\u001b[0m\u001b[0;34m.\u001b[0m\u001b[0mhandles\u001b[0m\u001b[0;34m:\u001b[0m \u001b[0mIOHandles\u001b[0m \u001b[0;34m|\u001b[0m \u001b[0;32mNone\u001b[0m \u001b[0;34m=\u001b[0m \u001b[0;32mNone\u001b[0m\u001b[0;34m\u001b[0m\u001b[0;34m\u001b[0m\u001b[0m\n\u001b[0;32m-> 1620\u001b[0;31m         \u001b[0mself\u001b[0m\u001b[0;34m.\u001b[0m\u001b[0m_engine\u001b[0m \u001b[0;34m=\u001b[0m \u001b[0mself\u001b[0m\u001b[0;34m.\u001b[0m\u001b[0m_make_engine\u001b[0m\u001b[0;34m(\u001b[0m\u001b[0mf\u001b[0m\u001b[0;34m,\u001b[0m \u001b[0mself\u001b[0m\u001b[0;34m.\u001b[0m\u001b[0mengine\u001b[0m\u001b[0;34m)\u001b[0m\u001b[0;34m\u001b[0m\u001b[0;34m\u001b[0m\u001b[0m\n\u001b[0m\u001b[1;32m   1621\u001b[0m \u001b[0;34m\u001b[0m\u001b[0m\n\u001b[1;32m   1622\u001b[0m     \u001b[0;32mdef\u001b[0m \u001b[0mclose\u001b[0m\u001b[0;34m(\u001b[0m\u001b[0mself\u001b[0m\u001b[0;34m)\u001b[0m \u001b[0;34m->\u001b[0m \u001b[0;32mNone\u001b[0m\u001b[0;34m:\u001b[0m\u001b[0;34m\u001b[0m\u001b[0;34m\u001b[0m\u001b[0m\n",
            "\u001b[0;32m/usr/local/lib/python3.11/dist-packages/pandas/io/parsers/readers.py\u001b[0m in \u001b[0;36m_make_engine\u001b[0;34m(self, f, engine)\u001b[0m\n\u001b[1;32m   1878\u001b[0m                 \u001b[0;32mif\u001b[0m \u001b[0;34m\"b\"\u001b[0m \u001b[0;32mnot\u001b[0m \u001b[0;32min\u001b[0m \u001b[0mmode\u001b[0m\u001b[0;34m:\u001b[0m\u001b[0;34m\u001b[0m\u001b[0;34m\u001b[0m\u001b[0m\n\u001b[1;32m   1879\u001b[0m                     \u001b[0mmode\u001b[0m \u001b[0;34m+=\u001b[0m \u001b[0;34m\"b\"\u001b[0m\u001b[0;34m\u001b[0m\u001b[0;34m\u001b[0m\u001b[0m\n\u001b[0;32m-> 1880\u001b[0;31m             self.handles = get_handle(\n\u001b[0m\u001b[1;32m   1881\u001b[0m                 \u001b[0mf\u001b[0m\u001b[0;34m,\u001b[0m\u001b[0;34m\u001b[0m\u001b[0;34m\u001b[0m\u001b[0m\n\u001b[1;32m   1882\u001b[0m                 \u001b[0mmode\u001b[0m\u001b[0;34m,\u001b[0m\u001b[0;34m\u001b[0m\u001b[0;34m\u001b[0m\u001b[0m\n",
            "\u001b[0;32m/usr/local/lib/python3.11/dist-packages/pandas/io/common.py\u001b[0m in \u001b[0;36mget_handle\u001b[0;34m(path_or_buf, mode, encoding, compression, memory_map, is_text, errors, storage_options)\u001b[0m\n\u001b[1;32m    871\u001b[0m         \u001b[0;32mif\u001b[0m \u001b[0mioargs\u001b[0m\u001b[0;34m.\u001b[0m\u001b[0mencoding\u001b[0m \u001b[0;32mand\u001b[0m \u001b[0;34m\"b\"\u001b[0m \u001b[0;32mnot\u001b[0m \u001b[0;32min\u001b[0m \u001b[0mioargs\u001b[0m\u001b[0;34m.\u001b[0m\u001b[0mmode\u001b[0m\u001b[0;34m:\u001b[0m\u001b[0;34m\u001b[0m\u001b[0;34m\u001b[0m\u001b[0m\n\u001b[1;32m    872\u001b[0m             \u001b[0;31m# Encoding\u001b[0m\u001b[0;34m\u001b[0m\u001b[0;34m\u001b[0m\u001b[0m\n\u001b[0;32m--> 873\u001b[0;31m             handle = open(\n\u001b[0m\u001b[1;32m    874\u001b[0m                 \u001b[0mhandle\u001b[0m\u001b[0;34m,\u001b[0m\u001b[0;34m\u001b[0m\u001b[0;34m\u001b[0m\u001b[0m\n\u001b[1;32m    875\u001b[0m                 \u001b[0mioargs\u001b[0m\u001b[0;34m.\u001b[0m\u001b[0mmode\u001b[0m\u001b[0;34m,\u001b[0m\u001b[0;34m\u001b[0m\u001b[0;34m\u001b[0m\u001b[0m\n",
            "\u001b[0;31mFileNotFoundError\u001b[0m: [Errno 2] No such file or directory: '//data/diabetes.csv'"
          ]
        }
      ]
    },
    {
      "cell_type": "code",
      "source": [
        "# This dataset is of type dataframe. Let's assign this dataset to a variable, so that we can manipulate it freely.\n",
        "df = pd.read_csv(\"diabetes.csv\")\n",
        "print(type(df))\n",
        "print(len(df))"
      ],
      "metadata": {
        "id": "Dnz6BU_R9NHd",
        "outputId": "e0707740-7032-41a2-98b5-9a0789fef64b",
        "colab": {
          "base_uri": "https://localhost:8080/"
        }
      },
      "execution_count": 11,
      "outputs": [
        {
          "output_type": "stream",
          "name": "stdout",
          "text": [
            "<class 'pandas.core.frame.DataFrame'>\n",
            "768\n"
          ]
        }
      ]
    },
    {
      "cell_type": "code",
      "source": [
        "df_subset = df[['DiabetesPedigreeFunction', 'Age', 'BloodPressure', 'Insulin', 'Glucose', 'BMI',\n",
        "'SkinThickness', 'Outcome', 'Pregnancies']]\n",
        "print(df_subset.head())"
      ],
      "metadata": {
        "id": "aH-EjAj39NKn",
        "outputId": "8f8df8c2-511c-4148-f75d-a3e8a4d01882",
        "colab": {
          "base_uri": "https://localhost:8080/"
        }
      },
      "execution_count": 12,
      "outputs": [
        {
          "output_type": "stream",
          "name": "stdout",
          "text": [
            "   DiabetesPedigreeFunction  Age  BloodPressure  Insulin  Glucose   BMI  \\\n",
            "0                     0.627   50             72        0      148  33.6   \n",
            "1                     0.351   31             66        0       85  26.6   \n",
            "2                     0.672   32             64        0      183  23.3   \n",
            "3                     0.167   21             66       94       89  28.1   \n",
            "4                     2.288   33             40      168      137  43.1   \n",
            "\n",
            "   SkinThickness  Outcome  Pregnancies  \n",
            "0             35        1            6  \n",
            "1             29        0            1  \n",
            "2              0        1            8  \n",
            "3             23        0            1  \n",
            "4             35        1            0  \n"
          ]
        }
      ]
    },
    {
      "cell_type": "code",
      "source": [
        "col_dict = df_subset.nunique().to_dict()\n",
        "grouping_col = min(col_dict, key=col_dict.get)\n",
        "# Group data by variable with min levels.\n",
        "grouped = df_subset.groupby(grouping_col)"
      ],
      "metadata": {
        "id": "YJ-CJ9aW_-Ou"
      },
      "execution_count": 13,
      "outputs": []
    },
    {
      "cell_type": "code",
      "source": [
        "# Compute mean on the listed variables using the grouped data.\n",
        "df_grouped_mean = grouped.mean()[['DiabetesPedigreeFunction', 'Age', 'BloodPressure', 'Insulin',\n",
        "'Glucose', 'BMI', 'SkinThickness']]\n",
        "print(df_grouped_mean)"
      ],
      "metadata": {
        "id": "39O8Utpi_-SA",
        "outputId": "a8877df7-6ac1-4345-f197-f828e194c578",
        "colab": {
          "base_uri": "https://localhost:8080/"
        }
      },
      "execution_count": 14,
      "outputs": [
        {
          "output_type": "stream",
          "name": "stdout",
          "text": [
            "         DiabetesPedigreeFunction        Age  BloodPressure     Insulin  \\\n",
            "Outcome                                                                   \n",
            "0                        0.429734  31.190000      68.184000   68.792000   \n",
            "1                        0.550500  37.067164      70.824627  100.335821   \n",
            "\n",
            "            Glucose        BMI  SkinThickness  \n",
            "Outcome                                        \n",
            "0        109.980000  30.304200      19.664000  \n",
            "1        141.257463  35.142537      22.164179  \n"
          ]
        }
      ]
    },
    {
      "cell_type": "code",
      "source": [
        "# Reset index of the dataset.\n",
        "df_grouped_mean = df_grouped_mean.reset_index()\n",
        "print(df_grouped_mean)"
      ],
      "metadata": {
        "id": "gIVkk5Q2_-Vh",
        "outputId": "dfe60a14-2507-4691-b571-8d84daa58c8f",
        "colab": {
          "base_uri": "https://localhost:8080/"
        }
      },
      "execution_count": 15,
      "outputs": [
        {
          "output_type": "stream",
          "name": "stdout",
          "text": [
            "   Outcome  DiabetesPedigreeFunction        Age  BloodPressure     Insulin  \\\n",
            "0        0                  0.429734  31.190000      68.184000   68.792000   \n",
            "1        1                  0.550500  37.067164      70.824627  100.335821   \n",
            "\n",
            "      Glucose        BMI  SkinThickness  \n",
            "0  109.980000  30.304200      19.664000  \n",
            "1  141.257463  35.142537      22.164179  \n"
          ]
        }
      ]
    },
    {
      "cell_type": "code",
      "source": [
        "# Melt the wide data into long.\n",
        "df_grouped_mean_long = pd.melt(df_grouped_mean, #<- wide dataset\n",
        "id_vars = [grouping_col], #<- identifying variable\n",
        "var_name = 'metric', #<- contains col names of wide data\n",
        "value_name = 'mean') #<- contains values from above columns\n",
        "print(df_grouped_mean_long)"
      ],
      "metadata": {
        "id": "AZxVH-LI_-Yy",
        "outputId": "7195c767-8de5-4914-a3bf-d06e1565d4bb",
        "colab": {
          "base_uri": "https://localhost:8080/"
        }
      },
      "execution_count": 16,
      "outputs": [
        {
          "output_type": "stream",
          "name": "stdout",
          "text": [
            "    Outcome                    metric        mean\n",
            "0         0  DiabetesPedigreeFunction    0.429734\n",
            "1         1  DiabetesPedigreeFunction    0.550500\n",
            "2         0                       Age   31.190000\n",
            "3         1                       Age   37.067164\n",
            "4         0             BloodPressure   68.184000\n",
            "5         1             BloodPressure   70.824627\n",
            "6         0                   Insulin   68.792000\n",
            "7         1                   Insulin  100.335821\n",
            "8         0                   Glucose  109.980000\n",
            "9         1                   Glucose  141.257463\n",
            "10        0                       BMI   30.304200\n",
            "11        1                       BMI   35.142537\n",
            "12        0             SkinThickness   19.664000\n",
            "13        1             SkinThickness   22.164179\n"
          ]
        }
      ]
    },
    {
      "cell_type": "code",
      "source": [
        "# Melt the long data into wide.\n",
        "df_grouped_mean_wide = df_grouped_mean_long.pivot(\n",
        "index = [grouping_col], #<- identifying variable\n",
        "columns = 'metric', #<- col names of wide data\n",
        "values = 'mean') #<- values from above columns\n",
        "print(df_grouped_mean_wide)"
      ],
      "metadata": {
        "id": "JEF1vTeO_-cE",
        "outputId": "f48acce9-bcc4-4a85-9785-ea11b76783e5",
        "colab": {
          "base_uri": "https://localhost:8080/"
        }
      },
      "execution_count": 18,
      "outputs": [
        {
          "output_type": "stream",
          "name": "stdout",
          "text": [
            "metric         Age        BMI  BloodPressure  DiabetesPedigreeFunction  \\\n",
            "Outcome                                                                  \n",
            "0        31.190000  30.304200      68.184000                  0.429734   \n",
            "1        37.067164  35.142537      70.824627                  0.550500   \n",
            "\n",
            "metric      Glucose     Insulin  SkinThickness  \n",
            "Outcome                                         \n",
            "0        109.980000   68.792000      19.664000  \n",
            "1        141.257463  100.335821      22.164179  \n"
          ]
        }
      ]
    },
    {
      "cell_type": "code",
      "source": [
        "plt.rcParams.update({'font.size': 15})\n",
        "plt.hist(df_subset['DiabetesPedigreeFunction'])\n",
        "plt.show()"
      ],
      "metadata": {
        "id": "bjnRcgmzAp0S",
        "outputId": "8cf19d52-f6d0-4e00-da72-6198081948e3",
        "colab": {
          "base_uri": "https://localhost:8080/",
          "height": 436
        }
      },
      "execution_count": 24,
      "outputs": [
        {
          "output_type": "display_data",
          "data": {
            "text/plain": [
              "<Figure size 640x480 with 1 Axes>"
            ],
            "image/png": "[encoded data removed]"
          },
          "metadata": {}
        }
      ]
    },
    {
      "cell_type": "code",
      "source": [
        "plt.hist(df_subset['DiabetesPedigreeFunction'],bins = 20)\n",
        "plt.xlabel('DiabetesPedigreeFunction') #<- label x-axis\n",
        "plt.ylabel('Frequency') #<- label y-axis\n",
        "plt.title('Diabetes Pedigree Function distribution') #<- add plot title\n",
        "plt.show()"
      ],
      "metadata": {
        "id": "Dp9He5bNAp3s",
        "outputId": "ae857218-ccd8-4cfa-f1bc-a94097ae9a56",
        "colab": {
          "base_uri": "https://localhost:8080/",
          "height": 489
        }
      },
      "execution_count": 25,
      "outputs": [
        {
          "output_type": "display_data",
          "data": {
            "text/plain": [
              "<Figure size 640x480 with 1 Axes>"
            ],
            "image/png": "[encoded data removed]"
          },
          "metadata": {}
        }
      ]
    },
    {
      "cell_type": "code",
      "source": [
        "plt.boxplot(df_subset['DiabetesPedigreeFunction'], vert = False)\n",
        "plt.xlabel('DiabetesPedigreeFunction') #label x-axis\n",
        "plt.title('DiabetesPedigreeFunction distribution') # add plot title\n",
        "plt.show()"
      ],
      "metadata": {
        "id": "4am4HA16Ap69",
        "outputId": "36b43a31-c0d8-4be9-eec3-68338802f155",
        "colab": {
          "base_uri": "https://localhost:8080/",
          "height": 489
        }
      },
      "execution_count": 26,
      "outputs": [
        {
          "output_type": "display_data",
          "data": {
            "text/plain": [
              "<Figure size 640x480 with 1 Axes>"
            ],
            "image/png": "[encoded data removed]"
          },
          "metadata": {}
        }
      ]
    },
    {
      "cell_type": "code",
      "source": [],
      "metadata": {
        "id": "eSwPBctlAp-t"
      },
      "execution_count": null,
      "outputs": []
    },
    {
      "cell_type": "code",
      "source": [],
      "metadata": {
        "id": "19lDYuN8AqCe"
      },
      "execution_count": null,
      "outputs": []
    },
    {
      "cell_type": "code",
      "source": [],
      "metadata": {
        "id": "d7kQ1tUyAqFj"
      },
      "execution_count": null,
      "outputs": []
    },
    {
      "cell_type": "code",
      "source": [],
      "metadata": {
        "id": "rI7tKRQ7AqIO"
      },
      "execution_count": null,
      "outputs": []
    },
    {
      "cell_type": "code",
      "source": [],
      "metadata": {
        "id": "dXceJs6f_-fH"
      },
      "execution_count": null,
      "outputs": []
    },
    {
      "cell_type": "code",
      "source": [],
      "metadata": {
        "id": "5J6puK5s_-i4"
      },
      "execution_count": null,
      "outputs": []
    }
  ]
}