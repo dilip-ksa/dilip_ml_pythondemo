{
  "nbformat": 4,
  "nbformat_minor": 0,
  "metadata": {
    "colab": {
      "provenance": [],
      "authorship_tag": "ABX9TyNZBQSPQBsWbFQr9QL4Luh2",
      "include_colab_link": true
    },
    "kernelspec": {
      "name": "python3",
      "display_name": "Python 3"
    },
    "language_info": {
      "name": "python"
    }
  },
  "cells": [
    {
      "cell_type": "markdown",
      "metadata": {
        "id": "view-in-github",
        "colab_type": "text"
      },
      "source": [
        "<a href=\"https://colab.research.google.com/github/dilip-ksa/dilip_pythondemo/blob/main/Day5_ML_Journey.ipynb\" target=\"_parent\"><img src=\"https://colab.research.google.com/assets/colab-badge.svg\" alt=\"Open In Colab\"/></a>"
      ]
    },
    {
      "cell_type": "code",
      "source": [
        "url=[\"https://www.google.com\",\"https://www.microsoft.com\",\"https://www.amazon.com\", \"http://www.swiss.com\"]\n",
        "for s in url:\n",
        "  newstr = s.lstrip(\"htps:/w.\")\n",
        "  print(newstr)"
      ],
      "metadata": {
        "id": "7a26uF0aHmV4",
        "outputId": "234f6ef5-b231-4a07-e86f-e93ccf063199",
        "colab": {
          "base_uri": "https://localhost:8080/"
        }
      },
      "execution_count": 5,
      "outputs": [
        {
          "output_type": "stream",
          "name": "stdout",
          "text": [
            "google.com\n",
            "microsoft.com\n",
            "amazon.com\n",
            "iss.com\n"
          ]
        }
      ]
    }
  ]
}