{
  "nbformat": 4,
  "nbformat_minor": 0,
  "metadata": {
    "colab": {
      "provenance": [],
      "authorship_tag": "ABX9TyNOgDpPPOJBRhxKSRvxtiY5",
      "include_colab_link": true
    },
    "kernelspec": {
      "name": "python3",
      "display_name": "Python 3"
    },
    "language_info": {
      "name": "python"
    }
  },
  "cells": [
    {
      "cell_type": "markdown",
      "metadata": {
        "id": "view-in-github",
        "colab_type": "text"
      },
      "source": [
        "<a href=\"https://colab.research.google.com/github/dilip-ksa/dilip_pythondemo/blob/main/Day5_ML_Journey.ipynb\" target=\"_parent\"><img src=\"https://colab.research.google.com/assets/colab-badge.svg\" alt=\"Open In Colab\"/></a>"
      ]
    },
    {
      "cell_type": "code",
      "source": [
        "url=[\"https://www.google.com\",\"https://www.microsoft.com\",\"https://www.amazon.com\", \"http://www.swiss.com\"]\n",
        "for s in url:\n",
        "  newstr = s.lstrip(\"htps:/w.\")\n",
        "  print(newstr)"
      ],
      "metadata": {
        "id": "7a26uF0aHmV4",
        "colab": {
          "base_uri": "https://localhost:8080/"
        },
        "outputId": "234f6ef5-b231-4a07-e86f-e93ccf063199"
      },
      "execution_count": 5,
      "outputs": [
        {
          "output_type": "stream",
          "name": "stdout",
          "text": [
            "google.com\n",
            "microsoft.com\n",
            "amazon.com\n",
            "iss.com\n"
          ]
        }
      ]
    },
    {
      "cell_type": "code",
      "source": [
        "url=[\"https://www.google.com\",\"https://www.microsoft.com\",\"https://www.amazon.com\", \"http://www.swiss.com\"]\n",
        "for s in url:\n",
        "  newstr = s.rstrip(\".moce\")\n",
        "  print(newstr)"
      ],
      "metadata": {
        "colab": {
          "base_uri": "https://localhost:8080/"
        },
        "id": "YpVnV_zLMFMq",
        "outputId": "672aed9c-bc2c-4dfd-9a78-3c8945411aff"
      },
      "execution_count": 7,
      "outputs": [
        {
          "output_type": "stream",
          "name": "stdout",
          "text": [
            "https://www.googl\n",
            "https://www.microsoft\n",
            "https://www.amazon\n",
            "http://www.swiss\n"
          ]
        }
      ]
    },
    {
      "cell_type": "code",
      "source": [
        "url=[\"http://www.myntra.com\",\"http://www.ajio.com\",\"http://www.cricbuzz.com\", \"http://www.amazon.com\"]\n",
        "for s in url:\n",
        "  newstr = s.rstrip(\"htp.com\")\n",
        "  print(newstr)"
      ],
      "metadata": {
        "colab": {
          "base_uri": "https://localhost:8080/"
        },
        "id": "cH_6MtWkMgUi",
        "outputId": "44a4d96d-00b3-4983-f5db-a7a981d535ac"
      },
      "execution_count": 12,
      "outputs": [
        {
          "output_type": "stream",
          "name": "stdout",
          "text": [
            "http://www.myntra\n",
            "http://www.aji\n",
            "http://www.cricbuzz\n",
            "http://www.amazon\n"
          ]
        }
      ]
    },
    {
      "cell_type": "code",
      "source": [
        "url=[\"http://www.myntra.com\",\"http://www.ajio.com\",\"http://www.cricbuzz.com\"]\n",
        "for s in url:\n",
        "  newstr = s.strip(\"htp:/.com\")\n",
        "  print(newstr)"
      ],
      "metadata": {
        "colab": {
          "base_uri": "https://localhost:8080/"
        },
        "id": "NU-5pMYgNBo8",
        "outputId": "0cb726e2-a5cf-454d-a157-5640a5a3a520"
      },
      "execution_count": 11,
      "outputs": [
        {
          "output_type": "stream",
          "name": "stdout",
          "text": [
            "www.myntra\n",
            "www.aji\n",
            "www.cricbuzz\n"
          ]
        }
      ]
    },
    {
      "cell_type": "code",
      "source": [
        "#ascii value\n",
        "st = \"ABCDEFGHIJK\"\n",
        "for s in st:\n",
        "  print(ord(s), end=' ')"
      ],
      "metadata": {
        "colab": {
          "base_uri": "https://localhost:8080/"
        },
        "id": "yCdNiZcdQvuQ",
        "outputId": "e25b8536-874a-4adc-a24b-c917c248aead"
      },
      "execution_count": 15,
      "outputs": [
        {
          "output_type": "stream",
          "name": "stdout",
          "text": [
            "65 66 67 68 69 70 71 72 73 74 75 "
          ]
        }
      ]
    },
    {
      "cell_type": "code",
      "source": [
        "#replace\n",
        "str1 = \"Bangalore\"\n",
        "newstr = str1.replace(\"Bangalore\", \"Bengaluru\")\n",
        "print(newstr)"
      ],
      "metadata": {
        "colab": {
          "base_uri": "https://localhost:8080/"
        },
        "id": "WlPPVM2MRHja",
        "outputId": "c7b32a99-2ebd-43c9-ffed-5e6f4a77fb66"
      },
      "execution_count": 16,
      "outputs": [
        {
          "output_type": "stream",
          "name": "stdout",
          "text": [
            "Bengaluru\n"
          ]
        }
      ]
    },
    {
      "cell_type": "code",
      "source": [
        "#replace\n",
        "str1 = \"Bangalore\"\n",
        "newstr = str1.replace(\"a\", \"o\")\n",
        "print(newstr)"
      ],
      "metadata": {
        "colab": {
          "base_uri": "https://localhost:8080/"
        },
        "id": "CxNbO5X5Rjh2",
        "outputId": "97a5bd7f-b692-4cfb-a42b-78158e298a72"
      },
      "execution_count": 17,
      "outputs": [
        {
          "output_type": "stream",
          "name": "stdout",
          "text": [
            "Bongolore\n"
          ]
        }
      ]
    },
    {
      "cell_type": "code",
      "source": [
        "#replace\n",
        "str1 = \"Bangalore\"\n",
        "newstr = str1.replace(\"a\", \"o\", 1)\n",
        "print(newstr)"
      ],
      "metadata": {
        "colab": {
          "base_uri": "https://localhost:8080/"
        },
        "id": "cy4msp4gRs2g",
        "outputId": "37522155-e7dd-4fea-d2da-fda5b83957cd"
      },
      "execution_count": 18,
      "outputs": [
        {
          "output_type": "stream",
          "name": "stdout",
          "text": [
            "Bongalore\n"
          ]
        }
      ]
    },
    {
      "cell_type": "code",
      "source": [
        "str1 = \"I live in Mumbai, Mumbai is a beautiful place\"\n",
        "newstr = str1.replace(\"Mumbai\", \"Bangalore\")\n",
        "print(newstr)"
      ],
      "metadata": {
        "colab": {
          "base_uri": "https://localhost:8080/"
        },
        "id": "ORUKHaT2TE47",
        "outputId": "9a495a00-7dd0-4785-966e-93c8663081bd"
      },
      "execution_count": 20,
      "outputs": [
        {
          "output_type": "stream",
          "name": "stdout",
          "text": [
            "I live in Bangalore, Bangalore is a beautiful place\n"
          ]
        }
      ]
    },
    {
      "cell_type": "code",
      "source": [
        "str1 = \"I live in Mumbai, Mumbai is a beautiful place\"\n",
        "newstr = str1.replace(\"Mumbai\", \"Bangalore\", 1)\n",
        "print(newstr)"
      ],
      "metadata": {
        "colab": {
          "base_uri": "https://localhost:8080/"
        },
        "id": "1avnqVVxTUKm",
        "outputId": "0c08c97a-7f66-48da-e9fb-62b3362d8216"
      },
      "execution_count": 21,
      "outputs": [
        {
          "output_type": "stream",
          "name": "stdout",
          "text": [
            "I live in Bangalore, Mumbai is a beautiful place\n"
          ]
        }
      ]
    },
    {
      "cell_type": "code",
      "source": [
        "str1 = \"I live in Mumbai, Mumbai is a beautiful place\"\n",
        "newstr = str1.find(\"Mumbai\", 1)\n",
        "print(newstr)"
      ],
      "metadata": {
        "colab": {
          "base_uri": "https://localhost:8080/"
        },
        "id": "tYZOTxNvTbo4",
        "outputId": "cc7f4890-3e28-4194-f160-b4d85b26ea5c"
      },
      "execution_count": 23,
      "outputs": [
        {
          "output_type": "stream",
          "name": "stdout",
          "text": [
            "10\n"
          ]
        }
      ]
    },
    {
      "cell_type": "code",
      "source": [
        "str1 = \"I live in Mumbai, Mumbai is a beautiful place\"\n",
        "newstr = str1.rfind(\"Mumbai\", 1)\n",
        "print(newstr)"
      ],
      "metadata": {
        "colab": {
          "base_uri": "https://localhost:8080/"
        },
        "id": "wyqMy8wRTo7Y",
        "outputId": "9d015f94-ab99-4e05-8a36-59b2eed8caad"
      },
      "execution_count": 24,
      "outputs": [
        {
          "output_type": "stream",
          "name": "stdout",
          "text": [
            "18\n"
          ]
        }
      ]
    },
    {
      "cell_type": "code",
      "source": [
        "str1 = \"I live in Mumbai, Mumbai is a beautiful place\"\n",
        "newstr = str1.split(\" \")\n",
        "print(newstr)"
      ],
      "metadata": {
        "colab": {
          "base_uri": "https://localhost:8080/"
        },
        "id": "5NLXQLUcTsPy",
        "outputId": "9ab409fa-c4e1-4a86-b9de-b2a09267b681"
      },
      "execution_count": 25,
      "outputs": [
        {
          "output_type": "stream",
          "name": "stdout",
          "text": [
            "['I', 'live', 'in', 'Mumbai,', 'Mumbai', 'is', 'a', 'beautiful', 'place']\n"
          ]
        }
      ]
    },
    {
      "cell_type": "code",
      "source": [
        "str1 = \"I live in Mumbai, Mumbai is a beautiful place\"\n",
        "newstr = str1.split(\" \", 3)\n",
        "print(newstr)"
      ],
      "metadata": {
        "colab": {
          "base_uri": "https://localhost:8080/"
        },
        "id": "Jc8qFiUNTsaI",
        "outputId": "7726d259-81f8-47d1-8dac-5565d3036d78"
      },
      "execution_count": 26,
      "outputs": [
        {
          "output_type": "stream",
          "name": "stdout",
          "text": [
            "['I', 'live', 'in', 'Mumbai, Mumbai is a beautiful place']\n"
          ]
        }
      ]
    },
    {
      "cell_type": "code",
      "source": [
        "str1 = \"I live in Mumbai, Mumbai is a beautiful place\"\n",
        "newstr = str1.split()\n",
        "print(newstr)"
      ],
      "metadata": {
        "colab": {
          "base_uri": "https://localhost:8080/"
        },
        "id": "k2By0wojTsdq",
        "outputId": "338b96c3-7679-4c07-df8a-ec85a6f8b6d6"
      },
      "execution_count": 27,
      "outputs": [
        {
          "output_type": "stream",
          "name": "stdout",
          "text": [
            "['I', 'live', 'in', 'Mumbai,', 'Mumbai', 'is', 'a', 'beautiful', 'place']\n"
          ]
        }
      ]
    },
    {
      "cell_type": "code",
      "source": [
        "str1 = \"I live in Mumbai, Mumbai is a beautiful place\"\n",
        "newstr = str1.split(\"i\")\n",
        "print(newstr)"
      ],
      "metadata": {
        "colab": {
          "base_uri": "https://localhost:8080/"
        },
        "id": "we6VvPAaTshK",
        "outputId": "1b3a0dd4-9f3a-4602-c9ba-fb053f122556"
      },
      "execution_count": 28,
      "outputs": [
        {
          "output_type": "stream",
          "name": "stdout",
          "text": [
            "['I l', 've ', 'n Mumba', ', Mumba', ' ', 's a beaut', 'ful place']\n"
          ]
        }
      ]
    },
    {
      "cell_type": "code",
      "source": [],
      "metadata": {
        "id": "7KxuMd7JTskY"
      },
      "execution_count": null,
      "outputs": []
    },
    {
      "cell_type": "code",
      "source": [],
      "metadata": {
        "id": "1p2B0KVjTs6h"
      },
      "execution_count": null,
      "outputs": []
    }
  ]
}