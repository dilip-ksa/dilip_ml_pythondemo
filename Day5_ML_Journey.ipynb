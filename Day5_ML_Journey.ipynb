{
  "nbformat": 4,
  "nbformat_minor": 0,
  "metadata": {
    "colab": {
      "provenance": [],
      "authorship_tag": "ABX9TyMZif48HLBHqddUNjOxnz0+",
      "include_colab_link": true
    },
    "kernelspec": {
      "name": "python3",
      "display_name": "Python 3"
    },
    "language_info": {
      "name": "python"
    }
  },
  "cells": [
    {
      "cell_type": "markdown",
      "metadata": {
        "id": "view-in-github",
        "colab_type": "text"
      },
      "source": [
        "<a href=\"https://colab.research.google.com/github/dilip-ksa/dilip_pythondemo/blob/main/Day5_ML_Journey.ipynb\" target=\"_parent\"><img src=\"https://colab.research.google.com/assets/colab-badge.svg\" alt=\"Open In Colab\"/></a>"
      ]
    },
    {
      "cell_type": "code",
      "source": [
        "url=[\"https://www.google.com\",\"https://www.microsoft.com\",\"https://www.amazon.com\", \"http://www.swiss.com\"]\n",
        "for s in url:\n",
        "  newstr = s.lstrip(\"htps:/w.\")\n",
        "  print(newstr)"
      ],
      "metadata": {
        "id": "7a26uF0aHmV4",
        "colab": {
          "base_uri": "https://localhost:8080/"
        },
        "outputId": "234f6ef5-b231-4a07-e86f-e93ccf063199"
      },
      "execution_count": 5,
      "outputs": [
        {
          "output_type": "stream",
          "name": "stdout",
          "text": [
            "google.com\n",
            "microsoft.com\n",
            "amazon.com\n",
            "iss.com\n"
          ]
        }
      ]
    },
    {
      "cell_type": "code",
      "source": [
        "url=[\"https://www.google.com\",\"https://www.microsoft.com\",\"https://www.amazon.com\", \"http://www.swiss.com\"]\n",
        "for s in url:\n",
        "  newstr = s.rstrip(\".moce\")\n",
        "  print(newstr)"
      ],
      "metadata": {
        "id": "YpVnV_zLMFMq",
        "outputId": "672aed9c-bc2c-4dfd-9a78-3c8945411aff",
        "colab": {
          "base_uri": "https://localhost:8080/"
        }
      },
      "execution_count": 7,
      "outputs": [
        {
          "output_type": "stream",
          "name": "stdout",
          "text": [
            "https://www.googl\n",
            "https://www.microsoft\n",
            "https://www.amazon\n",
            "http://www.swiss\n"
          ]
        }
      ]
    },
    {
      "cell_type": "code",
      "source": [
        "url=[\"http://www.myntra.com\",\"http://www.ajio.com\",\"http://www.cricbuzz.com\", \"http://www.amazon.com\"]\n",
        "for s in url:\n",
        "  newstr = s.rstrip(\"htp.com\")\n",
        "  print(newstr)"
      ],
      "metadata": {
        "id": "cH_6MtWkMgUi",
        "outputId": "44a4d96d-00b3-4983-f5db-a7a981d535ac",
        "colab": {
          "base_uri": "https://localhost:8080/"
        }
      },
      "execution_count": 12,
      "outputs": [
        {
          "output_type": "stream",
          "name": "stdout",
          "text": [
            "http://www.myntra\n",
            "http://www.aji\n",
            "http://www.cricbuzz\n",
            "http://www.amazon\n"
          ]
        }
      ]
    },
    {
      "cell_type": "code",
      "source": [
        "url=[\"http://www.myntra.com\",\"http://www.ajio.com\",\"http://www.cricbuzz.com\"]\n",
        "for s in url:\n",
        "  newstr = s.strip(\"htp:/.com\")\n",
        "  print(newstr)"
      ],
      "metadata": {
        "id": "NU-5pMYgNBo8",
        "outputId": "0cb726e2-a5cf-454d-a157-5640a5a3a520",
        "colab": {
          "base_uri": "https://localhost:8080/"
        }
      },
      "execution_count": 11,
      "outputs": [
        {
          "output_type": "stream",
          "name": "stdout",
          "text": [
            "www.myntra\n",
            "www.aji\n",
            "www.cricbuzz\n"
          ]
        }
      ]
    },
    {
      "cell_type": "code",
      "source": [
        "#ascii value\n",
        "st = \"ABCDEFGHIJK\"\n",
        "for s in st:\n",
        "  print(ord(s), end=' ')"
      ],
      "metadata": {
        "id": "yCdNiZcdQvuQ",
        "outputId": "e25b8536-874a-4adc-a24b-c917c248aead",
        "colab": {
          "base_uri": "https://localhost:8080/"
        }
      },
      "execution_count": 15,
      "outputs": [
        {
          "output_type": "stream",
          "name": "stdout",
          "text": [
            "65 66 67 68 69 70 71 72 73 74 75 "
          ]
        }
      ]
    },
    {
      "cell_type": "code",
      "source": [
        "#replace\n",
        "str1 = \"Bangalore\"\n",
        "newstr = str1.replace(\"Bangalore\", \"Bengaluru\")\n",
        "print(newstr)"
      ],
      "metadata": {
        "id": "WlPPVM2MRHja",
        "outputId": "c7b32a99-2ebd-43c9-ffed-5e6f4a77fb66",
        "colab": {
          "base_uri": "https://localhost:8080/"
        }
      },
      "execution_count": 16,
      "outputs": [
        {
          "output_type": "stream",
          "name": "stdout",
          "text": [
            "Bengaluru\n"
          ]
        }
      ]
    },
    {
      "cell_type": "code",
      "source": [
        "#replace\n",
        "str1 = \"Bangalore\"\n",
        "newstr = str1.replace(\"a\", \"o\")\n",
        "print(newstr)"
      ],
      "metadata": {
        "id": "CxNbO5X5Rjh2",
        "outputId": "97a5bd7f-b692-4cfb-a42b-78158e298a72",
        "colab": {
          "base_uri": "https://localhost:8080/"
        }
      },
      "execution_count": 17,
      "outputs": [
        {
          "output_type": "stream",
          "name": "stdout",
          "text": [
            "Bongolore\n"
          ]
        }
      ]
    },
    {
      "cell_type": "code",
      "source": [
        "#replace\n",
        "str1 = \"Bangalore\"\n",
        "newstr = str1.replace(\"a\", \"o\", 1)\n",
        "print(newstr)"
      ],
      "metadata": {
        "id": "cy4msp4gRs2g",
        "outputId": "37522155-e7dd-4fea-d2da-fda5b83957cd",
        "colab": {
          "base_uri": "https://localhost:8080/"
        }
      },
      "execution_count": 18,
      "outputs": [
        {
          "output_type": "stream",
          "name": "stdout",
          "text": [
            "Bongalore\n"
          ]
        }
      ]
    }
  ]
}