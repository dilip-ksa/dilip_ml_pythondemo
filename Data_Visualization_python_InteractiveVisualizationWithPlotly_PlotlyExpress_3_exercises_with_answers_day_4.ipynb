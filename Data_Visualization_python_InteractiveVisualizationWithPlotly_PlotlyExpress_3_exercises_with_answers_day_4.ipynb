{
  "cells": [
    {
      "cell_type": "markdown",
      "metadata": {
        "id": "view-in-github",
        "colab_type": "text"
      },
      "source": [
        "<a href=\"https://colab.research.google.com/github/dilip-ksa/dilip_ml_pythondemo/blob/main/Data_Visualization_python_InteractiveVisualizationWithPlotly_PlotlyExpress_3_exercises_with_answers_day_4.ipynb\" target=\"_parent\"><img src=\"https://colab.research.google.com/assets/colab-badge.svg\" alt=\"Open In Colab\"/></a>"
      ]
    },
    {
      "cell_type": "markdown",
      "id": "483f053c",
      "metadata": {
        "id": "483f053c"
      },
      "source": [
        "## INTERACTIVEVISUALIZATIONWITHPLOTLY/2 PLOTLYEXPRESS/INTERACTIVEVISUALIZATIONWITHPLOTLY PLOTLYEXPRESS 3 EXERCISE ANSWERS ##\n",
        "#### Please refer to module 1 of InteractiveVisualizationWithPlotly - PlotlyExpress for Tasks 1-3\n",
        "#### Task 1\n",
        "##### Import the Plotly Express library as px.\n",
        "##### Use the Plotly Express library to pull in the dataset `iris` and save it as iris_df.\n",
        "#### Result:\n"
      ]
    },
    {
      "cell_type": "code",
      "execution_count": null,
      "id": "8f9d6a10",
      "metadata": {
        "id": "8f9d6a10"
      },
      "outputs": [],
      "source": [
        "import plotly.express as px\n",
        "iris_df = px.data.iris()\n"
      ]
    },
    {
      "cell_type": "markdown",
      "id": "970ce2af",
      "metadata": {
        "id": "970ce2af"
      },
      "source": [
        "#### Task 2\n",
        "##### Create a histogram of petal_length colored by species.\n",
        "##### Add a title, choose a number of bins, and change the axes labels, and the color palette as you see fit.\n",
        "#### Result:\n"
      ]
    },
    {
      "cell_type": "code",
      "execution_count": null,
      "id": "78f67c51",
      "metadata": {
        "id": "78f67c51"
      },
      "outputs": [],
      "source": [
        "fig=px.histogram(iris_df,\n",
        "          x = 'petal_length',\n",
        "          color = 'species',\n",
        "          title = 'Petal Length by Species',\n",
        "          labels = {'petal_length':'Petal Length'},\n",
        "          color_discrete_sequence=px.colors.sequential.Aggrnyl,\n",
        "          nbins = 40)\n",
        "fig.show()\n"
      ]
    },
    {
      "cell_type": "markdown",
      "id": "5795d88a",
      "metadata": {
        "id": "5795d88a"
      },
      "source": [
        "#### Task 3\n",
        "##### Create a box plot of `sepal_length` colored by species.  \n",
        "##### Add a title, change axes labels, and the color palette as you see fit.\n",
        "#### Result:\n"
      ]
    },
    {
      "cell_type": "code",
      "execution_count": null,
      "id": "096b8a1d",
      "metadata": {
        "id": "096b8a1d"
      },
      "outputs": [],
      "source": [
        "fig=px.box(iris_df,\n",
        "          x = 'sepal_length',\n",
        "          color = 'species',\n",
        "          title = 'Sepal Length by Species',\n",
        "          labels = {'sepal_length', \"Sepal Length\"},\n",
        "          color_discrete_sequence = px.colors.sequential.Blackbody)\n",
        "fig.show()\n"
      ]
    },
    {
      "cell_type": "markdown",
      "id": "7d55e74b",
      "metadata": {
        "id": "7d55e74b"
      },
      "source": [
        "#### Please refer to module 2 of InteractiveVisualizationWithPlotly - PlotlyExpress for Tasks 4-8\n",
        "#### Task 4\n",
        "##### Load the dataset `experiment` from Plotly Express and save it as `exps_df`.\n",
        "##### Load the dataset `stocks` from `plotly express` as stocks_df.\n",
        "#### Result:\n"
      ]
    },
    {
      "cell_type": "code",
      "execution_count": null,
      "id": "4c09b9d8",
      "metadata": {
        "id": "4c09b9d8"
      },
      "outputs": [],
      "source": [
        "exps_df = px.data.experiment()\n",
        "stocks_df = px.data.stocks()\n"
      ]
    },
    {
      "cell_type": "markdown",
      "id": "a8072add",
      "metadata": {
        "id": "a8072add"
      },
      "source": [
        "#### Task 5\n",
        "##### Create a scatter plot using exps_df, plot experiment_1 versus experiment_2, coloring by group.\n",
        "#### Result:\n"
      ]
    },
    {
      "cell_type": "code",
      "execution_count": null,
      "id": "d4835562",
      "metadata": {
        "id": "d4835562"
      },
      "outputs": [],
      "source": [
        "fig = px.scatter(exps_df,\n",
        "          x = 'experiment_1',\n",
        "          y = 'experiment_2',\n",
        "          color = 'group')\n",
        "fig.show()\n"
      ]
    },
    {
      "cell_type": "markdown",
      "id": "4e7c26c4",
      "metadata": {
        "id": "4e7c26c4"
      },
      "source": [
        "#### Task 6\n",
        "##### Use the code from Task 2 and create a linear regression by group.  \n",
        "##### Show the model summary for your group of choice.  \n",
        "##### Is this a good model?\n",
        "#### Result:\n"
      ]
    },
    {
      "cell_type": "code",
      "execution_count": null,
      "id": "b9d66ee4",
      "metadata": {
        "id": "b9d66ee4"
      },
      "outputs": [],
      "source": [
        "fig = px.scatter(exps_df,\n",
        "          x = 'experiment_1',\n",
        "          y = 'experiment_2',\n",
        "          color = 'group',\n",
        "          trendline = 'ols')\n",
        "fig.show()\n",
        "results = px.get_trendline_results(fig)\n",
        "results.query(\"group=='treatment'\").px_fit_results.iloc[0].summary()\n"
      ]
    },
    {
      "cell_type": "markdown",
      "id": "8dd558fa",
      "metadata": {
        "id": "8dd558fa"
      },
      "source": [
        "#### Task 7\n",
        "##### Create a Scatter Matrix using the exps_df data.\n",
        "##### Save the figure as an html file.\n",
        "#### Result:\n"
      ]
    },
    {
      "cell_type": "code",
      "execution_count": null,
      "id": "7e4e885b",
      "metadata": {
        "id": "7e4e885b"
      },
      "outputs": [],
      "source": [
        "fig = px.scatter_matrix(exps_df,\n",
        "          dimensions = ['experiment_1','experiment_2', 'experiment_3'])\n",
        "fig.show()\n",
        "fig.write_html('expscattermatrix.html')\n"
      ]
    },
    {
      "cell_type": "markdown",
      "id": "d76445e0",
      "metadata": {
        "id": "d76445e0"
      },
      "source": [
        "#### Task 8\n",
        "##### Create a line plot using the stocksdf.  \n",
        "##### Use pandas and melt to make the data long for plotting all the stocks on the same plot, use the code below:\n",
        "#### Hint:\n"
      ]
    },
    {
      "cell_type": "code",
      "execution_count": null,
      "id": "cee5976e",
      "metadata": {
        "id": "cee5976e"
      },
      "outputs": [],
      "source": [
        "# Use the melt() function to convert the data from the wide to long format. Here's the reference from the pandas documentation: https://pandas.pydata.org/docs/reference/api/pandas.melt.html\n",
        "import pandas as pd\n",
        "stocksdf_long = pd.melt(stocks_df, id_vars='date', value_name='Value', var_name='Stock')\n"
      ]
    },
    {
      "cell_type": "markdown",
      "id": "ac391dca",
      "metadata": {
        "id": "ac391dca"
      },
      "source": [
        "##### Plot each line colored by Stock.\n",
        "#### Result:\n"
      ]
    },
    {
      "cell_type": "code",
      "execution_count": null,
      "id": "864a3f76",
      "metadata": {
        "id": "864a3f76"
      },
      "outputs": [],
      "source": [
        "fig = px.line(stocksdf_long,\n",
        "          x = 'date',\n",
        "          y = 'Value',\n",
        "          color = 'Stock')\n",
        "fig.show()\n"
      ]
    },
    {
      "cell_type": "markdown",
      "id": "e1be6803",
      "metadata": {
        "id": "e1be6803"
      },
      "source": [
        "#### Please refer to module 3 of InteractiveVisualizationWithPlotly - PlotlyExpress for Tasks 9-14\n",
        "#### Task 9\n",
        "##### Use the Plotly Express library to pull in the dataset `election` and save it as `el_df`.\n",
        "##### Load in `gapminder` from Plotly Express and save as `gap_df`.\n",
        "##### Load in `experiment` from Plotly Express and save as `exp_df`.\n",
        "#### Result:\n"
      ]
    },
    {
      "cell_type": "code",
      "execution_count": null,
      "id": "e758e4f4",
      "metadata": {
        "id": "e758e4f4"
      },
      "outputs": [],
      "source": [
        "el_df = px.data.election()\n",
        "gap_df = px.data.gapminder()\n",
        "exp_df= px.data.experiment()\n"
      ]
    },
    {
      "cell_type": "markdown",
      "id": "b3542c1a",
      "metadata": {
        "id": "b3542c1a"
      },
      "source": [
        "#### Task 10\n",
        "##### Create a correlation plot using a subset of exp_df which includes the columns `experiment_1`, `experiment_2`, and  `experiment_3`.\n",
        "##### Which of these are correlated?\n",
        "#### Result:\n"
      ]
    },
    {
      "cell_type": "code",
      "execution_count": null,
      "id": "15bc29d4",
      "metadata": {
        "id": "15bc29d4"
      },
      "outputs": [],
      "source": [
        "expdf_subset = exp_df[['experiment_1', 'experiment_2', 'experiment_3']].corr()\n",
        "fig = px.imshow(expdf_subset,\n",
        "          zmin = -1,\n",
        "          zmax = 1)\n",
        "fig.show()\n"
      ]
    },
    {
      "cell_type": "markdown",
      "id": "db5cbe27",
      "metadata": {
        "id": "db5cbe27"
      },
      "source": [
        "#### Task 11\n",
        "##### Create a density heatmap of `experiment_1` and `experiment_3`.  \n",
        "##### Would both of these contribute to a model?\n",
        "#### Result:\n"
      ]
    },
    {
      "cell_type": "code",
      "execution_count": null,
      "id": "ee9885b3",
      "metadata": {
        "id": "ee9885b3"
      },
      "outputs": [],
      "source": [
        "fig = px.density_heatmap(exp_df,\n",
        "            x = 'experiment_1',\n",
        "            y = 'experiment_3')\n",
        "fig.show()\n"
      ]
    },
    {
      "cell_type": "markdown",
      "id": "ebf261fb",
      "metadata": {
        "id": "ebf261fb"
      },
      "source": [
        "#### Task 12\n",
        "##### Use gap_df and create a choropleth map of `gdpPercap` in year 1982 for the world.\n",
        "#### Result:\n"
      ]
    },
    {
      "cell_type": "code",
      "execution_count": null,
      "id": "bd878f63",
      "metadata": {
        "id": "bd878f63"
      },
      "outputs": [],
      "source": [
        "gapdf2 = gap_df.query(\"year==1982\")\n",
        "fig = px.choropleth(gapdf2,\n",
        "          locations = \"iso_alpha\",\n",
        "          color = \"gdpPercap\",\n",
        "          hover_name = \"country\",\n",
        "          color_continuous_scale = px.colors.sequential.Plasma)\n",
        "fig.show()\n"
      ]
    },
    {
      "cell_type": "markdown",
      "id": "51df0876",
      "metadata": {
        "id": "51df0876"
      },
      "source": [
        "#### Task 13\n",
        "##### Use `el_df` and load in the geoJSON that goes with it to make a map of the votes for Coderre.\n",
        "#### Result:\n"
      ]
    },
    {
      "cell_type": "code",
      "execution_count": null,
      "id": "56fc3f75",
      "metadata": {
        "id": "56fc3f75"
      },
      "outputs": [],
      "source": [
        "geojson = px.data.election_geojson()\n",
        "fig = px.choropleth(el_df,\n",
        "          geojson = geojson,\n",
        "          color = \"Coderre\",\n",
        "          locations = \"district\",\n",
        "          featureidkey = \"properties.district\",\n",
        "          projection = \"mercator\")\n",
        "\n",
        "fig.update_geos(fitbounds = \"locations\",\n",
        "          visible = False)\n",
        "\n",
        "fig.update_layout(margin = {\"r\":0,\"t\":0,\"l\":0,\"b\":0})\n",
        "fig.show()\n"
      ]
    },
    {
      "cell_type": "markdown",
      "id": "c708edd7",
      "metadata": {
        "id": "c708edd7"
      },
      "source": [
        "#### Task 14\n",
        "##### Use `gap_df` to create an animation of `gdpPercap` over the world by using year as the `animation_frame`.\n",
        "#### Result:\n"
      ]
    },
    {
      "cell_type": "code",
      "execution_count": null,
      "id": "2808778c",
      "metadata": {
        "id": "2808778c"
      },
      "outputs": [],
      "source": [
        "fig=px.choropleth(gap_df,\n",
        "          locations = \"iso_alpha\",\n",
        "          color = \"gdpPercap\",\n",
        "          hover_name = \"country\",\n",
        "          animation_frame = \"year\")\n",
        "fig.show()\n"
      ]
    }
  ],
  "metadata": {
    "language": "python",
    "colab": {
      "provenance": [],
      "include_colab_link": true
    }
  },
  "nbformat": 4,
  "nbformat_minor": 5
}