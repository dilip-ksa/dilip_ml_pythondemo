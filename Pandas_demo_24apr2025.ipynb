{
  "nbformat": 4,
  "nbformat_minor": 0,
  "metadata": {
    "colab": {
      "provenance": [],
      "name": "Pandas_demo_24apr2025.ipynb",
      "authorship_tag": "ABX9TyOmHjUp6KRiUClTK2G15DM4",
      "include_colab_link": true
    },
    "kernelspec": {
      "name": "python3",
      "display_name": "Python 3"
    },
    "language_info": {
      "name": "python"
    }
  },
  "cells": [
    {
      "cell_type": "markdown",
      "metadata": {
        "id": "view-in-github",
        "colab_type": "text"
      },
      "source": [
        "<a href=\"https://colab.research.google.com/github/dilip-ksa/dilip_pythondemo/blob/main/Pandas_demo_24apr2025.ipynb\" target=\"_parent\"><img src=\"https://colab.research.google.com/assets/colab-badge.svg\" alt=\"Open In Colab\"/></a>"
      ]
    },
    {
      "cell_type": "code",
      "execution_count": 4,
      "metadata": {
        "colab": {
          "base_uri": "https://localhost:8080/"
        },
        "id": "GHeMpCv33U2B",
        "outputId": "9cb72699-20ca-44d9-c875-d0c2594a41fd"
      },
      "outputs": [
        {
          "output_type": "stream",
          "name": "stdout",
          "text": [
            "0    1234\n",
            "dtype: int64\n",
            "\n",
            "0    N\n",
            "1    T\n",
            "2    T\n",
            "3     \n",
            "4    D\n",
            "5    A\n",
            "6    T\n",
            "7    A\n",
            "dtype: object\n",
            "D\n"
          ]
        }
      ],
      "source": [
        "#import the pandas library\n",
        "\n",
        "import pandas as pd\n",
        "import numpy as np\n",
        "\n",
        "data = np.array(['N', 'T', 'T', ' ', 'D', 'A', 'T', 'A']) #Array value\n",
        "d = pd.Series(data)\n",
        "\n",
        "num = 1234\n",
        "d1 = pd.Series(num) # This is not allowed\n",
        "print(d1)\n",
        "print()\n",
        "# d = pd.Series(['N', 'T', 'T', ' ', 'D', 'A', 'T', 'A']) # This is also allowed\n",
        "print(d)\n",
        "\n",
        "print(d[4])"
      ]
    },
    {
      "cell_type": "code",
      "source": [
        "import pandas as pd\n",
        "myData = [1, 2, 3, 4, 5]\n",
        "myIndex = pd.Series(myData, index=['a', 'b', 'c', 'd', 'e'])\n",
        "print(myIndex)\n",
        "print(myData[2])\n",
        "print(myIndex['c'])"
      ],
      "metadata": {
        "colab": {
          "base_uri": "https://localhost:8080/"
        },
        "id": "aExk30U54e4o",
        "outputId": "ffeea47a-a3d4-406a-bcb8-fcbb7091da2b"
      },
      "execution_count": null,
      "outputs": [
        {
          "output_type": "stream",
          "name": "stdout",
          "text": [
            "a    1\n",
            "b    2\n",
            "c    3\n",
            "d    4\n",
            "e    5\n",
            "dtype: int64\n",
            "3\n",
            "3\n"
          ]
        }
      ]
    },
    {
      "cell_type": "code",
      "source": [
        "import pandas as pd\n",
        "employee = {'John':101, 'James': 105, 'Harry': 110, 'Ram':112, 'Tom':'125'}\n",
        "\n",
        "empSeries = pd.Series(employee)\n",
        "print(empSeries)\n",
        "print(empSeries['John'])\n",
        "print(employee)"
      ],
      "metadata": {
        "colab": {
          "base_uri": "https://localhost:8080/"
        },
        "id": "C1ZqxQU94fFK",
        "outputId": "f54fbaab-6a7c-42fb-922f-dd2eb0d9d59c"
      },
      "execution_count": null,
      "outputs": [
        {
          "output_type": "stream",
          "name": "stdout",
          "text": [
            "John     101\n",
            "James    105\n",
            "Harry    110\n",
            "Ram      112\n",
            "Tom      125\n",
            "dtype: object\n",
            "101\n",
            "{'John': 101, 'James': 105, 'Harry': 110, 'Ram': 112, 'Tom': '125'}\n"
          ]
        }
      ]
    },
    {
      "cell_type": "code",
      "source": [
        "import pandas as pd\n",
        "data = {'a':101, 'b': 100, 'c': 234, 'Ram':112}\n",
        "\n",
        "dataSeries = pd.Series(data, index=['b', 'c', 'x', 'y','a'])\n",
        "print(dataSeries)"
      ],
      "metadata": {
        "colab": {
          "base_uri": "https://localhost:8080/"
        },
        "id": "tVgk_4Fx4fJI",
        "outputId": "33d37193-2613-48c6-9ac0-c0557b6d5271"
      },
      "execution_count": null,
      "outputs": [
        {
          "output_type": "stream",
          "name": "stdout",
          "text": [
            "b    100.0\n",
            "c    234.0\n",
            "x      NaN\n",
            "y      NaN\n",
            "a    101.0\n",
            "dtype: float64\n"
          ]
        }
      ]
    },
    {
      "cell_type": "code",
      "source": [
        "import pandas as pd\n",
        "\n",
        "dataSeries = pd.Series(5, index=[1,2,3,4])\n",
        "print(dataSeries)\n",
        "\n",
        "dataSeries2 = pd.Series(5, index=['a', 'b', 'c', 'd'])\n",
        "print(dataSeries2)\n",
        "\n",
        "dataSeries3 = pd.Series(5, index=['a', 'b', 'c', 'd'], dtype=float)\n",
        "print(dataSeries3)\n",
        "\n",
        "dataSeries4 = pd.Series(5, index=['aaa', 'bbb', 'ccc', 'ddd'], dtype=float, name='String')\n",
        "print(dataSeries4)"
      ],
      "metadata": {
        "colab": {
          "base_uri": "https://localhost:8080/"
        },
        "id": "ZXY1OWSt8bIK",
        "outputId": "5721a91a-e05c-4a66-e538-630602804095"
      },
      "execution_count": null,
      "outputs": [
        {
          "output_type": "stream",
          "name": "stdout",
          "text": [
            "1    5\n",
            "2    5\n",
            "3    5\n",
            "4    5\n",
            "dtype: int64\n",
            "a    5\n",
            "b    5\n",
            "c    5\n",
            "d    5\n",
            "dtype: int64\n",
            "a    5.0\n",
            "b    5.0\n",
            "c    5.0\n",
            "d    5.0\n",
            "dtype: float64\n",
            "aaa    5.0\n",
            "bbb    5.0\n",
            "ccc    5.0\n",
            "ddd    5.0\n",
            "Name: String, dtype: float64\n"
          ]
        }
      ]
    },
    {
      "cell_type": "code",
      "source": [
        "dataSeries2 = pd.Series(['a', 'b', 'c', 'd'])\n",
        "print(dataSeries2)\n",
        "\n",
        "print(dataSeries2[1])\n",
        "print(dataSeries2[1:3])\n",
        "print(dataSeries2[1:])\n",
        "print()\n",
        "print(dataSeries2[:-2])\n",
        "print()\n",
        "print(dataSeries2[::-1])\n",
        "print()\n",
        "print(dataSeries2[-3:])\n"
      ],
      "metadata": {
        "colab": {
          "base_uri": "https://localhost:8080/"
        },
        "id": "oACr1hQm8bO0",
        "outputId": "97420d90-08c1-4597-d433-8fe4669fa712"
      },
      "execution_count": null,
      "outputs": [
        {
          "output_type": "stream",
          "name": "stdout",
          "text": [
            "0    a\n",
            "1    b\n",
            "2    c\n",
            "3    d\n",
            "dtype: object\n",
            "b\n",
            "1    b\n",
            "2    c\n",
            "dtype: object\n",
            "1    b\n",
            "2    c\n",
            "3    d\n",
            "dtype: object\n",
            "\n",
            "0    a\n",
            "1    b\n",
            "dtype: object\n",
            "\n",
            "3    d\n",
            "2    c\n",
            "1    b\n",
            "0    a\n",
            "dtype: object\n",
            "\n",
            "1    b\n",
            "2    c\n",
            "3    d\n",
            "dtype: object\n"
          ]
        }
      ]
    },
    {
      "cell_type": "code",
      "source": [
        "data2 = pd.Series([1, 2, 3, 4, 5], index=['a', 'b', 'c', 'd', 'e'])\n",
        "print(data2)\n",
        "print(data2.loc['b'])\n",
        "print()\n",
        "print(data2['a':'d'])\n",
        "print(data2['a':'d': -1])"
      ],
      "metadata": {
        "colab": {
          "base_uri": "https://localhost:8080/"
        },
        "id": "qeJN4_fd8bVh",
        "outputId": "ab012f24-23e1-40bb-c812-9a2c101cc0c9"
      },
      "execution_count": null,
      "outputs": [
        {
          "output_type": "stream",
          "name": "stdout",
          "text": [
            "a    1\n",
            "b    2\n",
            "c    3\n",
            "d    4\n",
            "e    5\n",
            "dtype: int64\n",
            "2\n",
            "\n",
            "a    1\n",
            "b    2\n",
            "c    3\n",
            "d    4\n",
            "dtype: int64\n",
            "a    1\n",
            "b    2\n",
            "c    3\n",
            "d    4\n",
            "dtype: int64\n"
          ]
        }
      ]
    },
    {
      "cell_type": "code",
      "source": [
        "data = ['a', 'b', 'c', 'd', 'e']\n",
        "print(data)\n",
        "data[:2] = ['Harry', 'Tom']\n",
        "print(data)"
      ],
      "metadata": {
        "colab": {
          "base_uri": "https://localhost:8080/"
        },
        "id": "vQbkeJ3K8bfW",
        "outputId": "98e9a67e-6241-420d-b448-ed75fe18bf7a"
      },
      "execution_count": null,
      "outputs": [
        {
          "output_type": "stream",
          "name": "stdout",
          "text": [
            "['a', 'b', 'c', 'd', 'e']\n",
            "['Harry', 'Tom', 'c', 'd', 'e']\n"
          ]
        }
      ]
    },
    {
      "cell_type": "code",
      "source": [
        "num = 12\n",
        "data = pd.Series(num)\n",
        "print(data)\n",
        "print(\"\\nAddition:\\n\", num + 23)\n",
        "print(\"\\nMultiplication:\\n\", num * 23)"
      ],
      "metadata": {
        "colab": {
          "base_uri": "https://localhost:8080/"
        },
        "id": "EEJmap548blN",
        "outputId": "f15cd7e5-c630-4d3a-9eb5-71742b61cf75"
      },
      "execution_count": null,
      "outputs": [
        {
          "output_type": "stream",
          "name": "stdout",
          "text": [
            "0    12\n",
            "dtype: int64\n",
            "\n",
            "Addition:\n",
            " 35\n",
            "\n",
            "Multiplication:\n",
            " 276\n"
          ]
        }
      ]
    },
    {
      "cell_type": "code",
      "source": [
        "data = pd.Series([1,2,3,4], index=['a', 'b', 'c', 'd'])\n",
        "print(\"My data:\", data, sep='\\n')\n",
        "print(\"My addition data:\", data + 10, sep='\\n')\n",
        "print(\"My multiplication data:\", data * 10, sep='\\n')\n",
        "print(\"My subtraction data:\", data - 10, sep='\\n')\n",
        "print(\"My expomentiation data:\", data**2, sep='\\n')"
      ],
      "metadata": {
        "colab": {
          "base_uri": "https://localhost:8080/"
        },
        "id": "1CAFm27t8bo9",
        "outputId": "7c61efe9-890c-4f0d-f06b-22dcbaaac358"
      },
      "execution_count": null,
      "outputs": [
        {
          "output_type": "stream",
          "name": "stdout",
          "text": [
            "My data:\n",
            "a    1\n",
            "b    2\n",
            "c    3\n",
            "d    4\n",
            "dtype: int64\n",
            "My addition data:\n",
            "a    11\n",
            "b    12\n",
            "c    13\n",
            "d    14\n",
            "dtype: int64\n",
            "My multiplication data:\n",
            "a    10\n",
            "b    20\n",
            "c    30\n",
            "d    40\n",
            "dtype: int64\n",
            "My subtraction data:\n",
            "a   -9\n",
            "b   -8\n",
            "c   -7\n",
            "d   -6\n",
            "dtype: int64\n",
            "My expomentiation data:\n",
            "a     1\n",
            "b     4\n",
            "c     9\n",
            "d    16\n",
            "dtype: int64\n"
          ]
        }
      ]
    },
    {
      "cell_type": "code",
      "source": [
        "data1 = pd.Series([1,2,3,4,5], index=['a', 'b', 'c', 'd','e'])\n",
        "data2 = pd.Series([6,7,8,9], index=['x', 'a', 'b', 'c'])\n",
        "print(data1)\n",
        "print(data2)\n",
        "print(data1 + data2)\n",
        "print(data1 * data2)\n",
        "print(data2 - data1)\n",
        "print(data2 / data1)"
      ],
      "metadata": {
        "colab": {
          "base_uri": "https://localhost:8080/"
        },
        "id": "KL90EY99EHIm",
        "outputId": "8a5b21c2-e329-4223-b9fd-1e8bd016d111"
      },
      "execution_count": null,
      "outputs": [
        {
          "output_type": "stream",
          "name": "stdout",
          "text": [
            "a    1\n",
            "b    2\n",
            "c    3\n",
            "d    4\n",
            "e    5\n",
            "dtype: int64\n",
            "x    6\n",
            "a    7\n",
            "b    8\n",
            "c    9\n",
            "dtype: int64\n",
            "a     8.0\n",
            "b    10.0\n",
            "c    12.0\n",
            "d     NaN\n",
            "e     NaN\n",
            "x     NaN\n",
            "dtype: float64\n",
            "a     7.0\n",
            "b    16.0\n",
            "c    27.0\n",
            "d     NaN\n",
            "e     NaN\n",
            "x     NaN\n",
            "dtype: float64\n",
            "a    6.0\n",
            "b    6.0\n",
            "c    6.0\n",
            "d    NaN\n",
            "e    NaN\n",
            "x    NaN\n",
            "dtype: float64\n",
            "a    7.0\n",
            "b    4.0\n",
            "c    3.0\n",
            "d    NaN\n",
            "e    NaN\n",
            "x    NaN\n",
            "dtype: float64\n"
          ]
        }
      ]
    },
    {
      "cell_type": "code",
      "source": [
        "data = pd.Series([1,2,3,4])\n",
        "print(data)\n",
        "print(type(data))\n",
        "print(data.index)\n",
        "print(data.values, sep='-')\n",
        "print(data.to_csv)\n",
        "\n",
        "lst = data.to_list()\n",
        "\n",
        "print(lst)\n",
        "print(type(lst))"
      ],
      "metadata": {
        "colab": {
          "base_uri": "https://localhost:8080/"
        },
        "id": "jF1vvgSNEHL_",
        "outputId": "de39d978-eca5-428c-af51-726a91be7c59"
      },
      "execution_count": null,
      "outputs": [
        {
          "output_type": "stream",
          "name": "stdout",
          "text": [
            "0    1\n",
            "1    2\n",
            "2    3\n",
            "3    4\n",
            "dtype: int64\n",
            "<class 'pandas.core.series.Series'>\n",
            "RangeIndex(start=0, stop=4, step=1)\n",
            "[1 2 3 4]\n",
            "<bound method NDFrame.to_csv of 0    1\n",
            "1    2\n",
            "2    3\n",
            "3    4\n",
            "dtype: int64>\n",
            "[1, 2, 3, 4]\n",
            "<class 'list'>\n"
          ]
        }
      ]
    },
    {
      "cell_type": "code",
      "source": [
        "data1 = pd.Series([1,2,3,4,5], index=['a', 'b', 'c', 'd','e'])\n",
        "print(data1)\n",
        "res = data1.to_dict()\n",
        "print(res)\n",
        "print(type(res))"
      ],
      "metadata": {
        "colab": {
          "base_uri": "https://localhost:8080/"
        },
        "id": "oRZJ1HsNEHPY",
        "outputId": "03f3a6d1-2827-4811-a9c4-afbdb48837c1"
      },
      "execution_count": 5,
      "outputs": [
        {
          "output_type": "stream",
          "name": "stdout",
          "text": [
            "a    1\n",
            "b    2\n",
            "c    3\n",
            "d    4\n",
            "e    5\n",
            "dtype: int64\n",
            "{'a': 1, 'b': 2, 'c': 3, 'd': 4, 'e': 5}\n",
            "<class 'dict'>\n"
          ]
        }
      ]
    },
    {
      "cell_type": "code",
      "source": [
        "############ 24 Apr 2025  #####################\n",
        "data = pd.Series([1,2,3,4,5])\n",
        "print(data)\n",
        "print(type(data))\n",
        "str1 = data.to_string()\n",
        "print(str1)\n",
        "print(type(str1))"
      ],
      "metadata": {
        "id": "gqTnLZ75DgQ4",
        "outputId": "434ec2f2-e92b-451d-e361-707ea9f5dbf5",
        "colab": {
          "base_uri": "https://localhost:8080/"
        }
      },
      "execution_count": 7,
      "outputs": [
        {
          "output_type": "stream",
          "name": "stdout",
          "text": [
            "0    1\n",
            "1    2\n",
            "2    3\n",
            "3    4\n",
            "4    5\n",
            "dtype: int64\n",
            "<class 'pandas.core.series.Series'>\n",
            "0    1\n",
            "1    2\n",
            "2    3\n",
            "3    4\n",
            "4    5\n",
            "<class 'str'>\n"
          ]
        }
      ]
    },
    {
      "cell_type": "code",
      "source": [],
      "metadata": {
        "id": "TV8LHR-yDgCV"
      },
      "execution_count": null,
      "outputs": []
    },
    {
      "cell_type": "code",
      "source": [],
      "metadata": {
        "id": "Afq0AZ46Df_x"
      },
      "execution_count": null,
      "outputs": []
    },
    {
      "cell_type": "code",
      "source": [],
      "metadata": {
        "id": "PNYGQAn3Df8X"
      },
      "execution_count": null,
      "outputs": []
    },
    {
      "cell_type": "code",
      "source": [],
      "metadata": {
        "id": "PkZGEPH8Df5j"
      },
      "execution_count": null,
      "outputs": []
    },
    {
      "cell_type": "code",
      "source": [],
      "metadata": {
        "id": "m5ujuL0PDf2Z"
      },
      "execution_count": null,
      "outputs": []
    },
    {
      "cell_type": "code",
      "source": [],
      "metadata": {
        "id": "H_XNE39EDfzW"
      },
      "execution_count": null,
      "outputs": []
    },
    {
      "cell_type": "code",
      "source": [],
      "metadata": {
        "id": "Bn8r3bfoDfvt"
      },
      "execution_count": null,
      "outputs": []
    },
    {
      "cell_type": "code",
      "source": [],
      "metadata": {
        "id": "9Ab94n5WDfjD"
      },
      "execution_count": null,
      "outputs": []
    }
  ]
}