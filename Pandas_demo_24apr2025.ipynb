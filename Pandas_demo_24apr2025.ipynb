{
  "nbformat": 4,
  "nbformat_minor": 0,
  "metadata": {
    "colab": {
      "provenance": [],
      "name": "Pandas_demo_24apr2025.ipynb",
      "authorship_tag": "ABX9TyNi9OjG/dVseayya6WtjfWi",
      "include_colab_link": true
    },
    "kernelspec": {
      "name": "python3",
      "display_name": "Python 3"
    },
    "language_info": {
      "name": "python"
    }
  },
  "cells": [
    {
      "cell_type": "markdown",
      "metadata": {
        "id": "view-in-github",
        "colab_type": "text"
      },
      "source": [
        "<a href=\"https://colab.research.google.com/github/dilip-ksa/dilip_pythondemo/blob/main/Pandas_demo_24apr2025.ipynb\" target=\"_parent\"><img src=\"https://colab.research.google.com/assets/colab-badge.svg\" alt=\"Open In Colab\"/></a>"
      ]
    },
    {
      "cell_type": "code",
      "execution_count": 4,
      "metadata": {
        "colab": {
          "base_uri": "https://localhost:8080/"
        },
        "id": "GHeMpCv33U2B",
        "outputId": "9cb72699-20ca-44d9-c875-d0c2594a41fd"
      },
      "outputs": [
        {
          "output_type": "stream",
          "name": "stdout",
          "text": [
            "0    1234\n",
            "dtype: int64\n",
            "\n",
            "0    N\n",
            "1    T\n",
            "2    T\n",
            "3     \n",
            "4    D\n",
            "5    A\n",
            "6    T\n",
            "7    A\n",
            "dtype: object\n",
            "D\n"
          ]
        }
      ],
      "source": [
        "#import the pandas library\n",
        "\n",
        "import pandas as pd\n",
        "import numpy as np\n",
        "\n",
        "data = np.array(['N', 'T', 'T', ' ', 'D', 'A', 'T', 'A']) #Array value\n",
        "d = pd.Series(data)\n",
        "\n",
        "num = 1234\n",
        "d1 = pd.Series(num) # This is not allowed\n",
        "print(d1)\n",
        "print()\n",
        "# d = pd.Series(['N', 'T', 'T', ' ', 'D', 'A', 'T', 'A']) # This is also allowed\n",
        "print(d)\n",
        "\n",
        "print(d[4])"
      ]
    },
    {
      "cell_type": "code",
      "source": [
        "import pandas as pd\n",
        "myData = [1, 2, 3, 4, 5]\n",
        "myIndex = pd.Series(myData, index=['a', 'b', 'c', 'd', 'e'])\n",
        "print(myIndex)\n",
        "print(myData[2])\n",
        "print(myIndex['c'])"
      ],
      "metadata": {
        "colab": {
          "base_uri": "https://localhost:8080/"
        },
        "id": "aExk30U54e4o",
        "outputId": "ffeea47a-a3d4-406a-bcb8-fcbb7091da2b"
      },
      "execution_count": null,
      "outputs": [
        {
          "output_type": "stream",
          "name": "stdout",
          "text": [
            "a    1\n",
            "b    2\n",
            "c    3\n",
            "d    4\n",
            "e    5\n",
            "dtype: int64\n",
            "3\n",
            "3\n"
          ]
        }
      ]
    },
    {
      "cell_type": "code",
      "source": [
        "import pandas as pd\n",
        "employee = {'John':101, 'James': 105, 'Harry': 110, 'Ram':112, 'Tom':'125'}\n",
        "\n",
        "empSeries = pd.Series(employee)\n",
        "print(empSeries)\n",
        "print(empSeries['John'])\n",
        "print(employee)"
      ],
      "metadata": {
        "colab": {
          "base_uri": "https://localhost:8080/"
        },
        "id": "C1ZqxQU94fFK",
        "outputId": "f54fbaab-6a7c-42fb-922f-dd2eb0d9d59c"
      },
      "execution_count": null,
      "outputs": [
        {
          "output_type": "stream",
          "name": "stdout",
          "text": [
            "John     101\n",
            "James    105\n",
            "Harry    110\n",
            "Ram      112\n",
            "Tom      125\n",
            "dtype: object\n",
            "101\n",
            "{'John': 101, 'James': 105, 'Harry': 110, 'Ram': 112, 'Tom': '125'}\n"
          ]
        }
      ]
    },
    {
      "cell_type": "code",
      "source": [
        "import pandas as pd\n",
        "data = {'a':101, 'b': 100, 'c': 234, 'Ram':112}\n",
        "\n",
        "dataSeries = pd.Series(data, index=['b', 'c', 'x', 'y','a'])\n",
        "print(dataSeries)"
      ],
      "metadata": {
        "colab": {
          "base_uri": "https://localhost:8080/"
        },
        "id": "tVgk_4Fx4fJI",
        "outputId": "33d37193-2613-48c6-9ac0-c0557b6d5271"
      },
      "execution_count": null,
      "outputs": [
        {
          "output_type": "stream",
          "name": "stdout",
          "text": [
            "b    100.0\n",
            "c    234.0\n",
            "x      NaN\n",
            "y      NaN\n",
            "a    101.0\n",
            "dtype: float64\n"
          ]
        }
      ]
    },
    {
      "cell_type": "code",
      "source": [
        "import pandas as pd\n",
        "\n",
        "dataSeries = pd.Series(5, index=[1,2,3,4])\n",
        "print(dataSeries)\n",
        "\n",
        "dataSeries2 = pd.Series(5, index=['a', 'b', 'c', 'd'])\n",
        "print(dataSeries2)\n",
        "\n",
        "dataSeries3 = pd.Series(5, index=['a', 'b', 'c', 'd'], dtype=float)\n",
        "print(dataSeries3)\n",
        "\n",
        "dataSeries4 = pd.Series(5, index=['aaa', 'bbb', 'ccc', 'ddd'], dtype=float, name='String')\n",
        "print(dataSeries4)"
      ],
      "metadata": {
        "colab": {
          "base_uri": "https://localhost:8080/"
        },
        "id": "ZXY1OWSt8bIK",
        "outputId": "5721a91a-e05c-4a66-e538-630602804095"
      },
      "execution_count": null,
      "outputs": [
        {
          "output_type": "stream",
          "name": "stdout",
          "text": [
            "1    5\n",
            "2    5\n",
            "3    5\n",
            "4    5\n",
            "dtype: int64\n",
            "a    5\n",
            "b    5\n",
            "c    5\n",
            "d    5\n",
            "dtype: int64\n",
            "a    5.0\n",
            "b    5.0\n",
            "c    5.0\n",
            "d    5.0\n",
            "dtype: float64\n",
            "aaa    5.0\n",
            "bbb    5.0\n",
            "ccc    5.0\n",
            "ddd    5.0\n",
            "Name: String, dtype: float64\n"
          ]
        }
      ]
    },
    {
      "cell_type": "code",
      "source": [
        "dataSeries2 = pd.Series(['a', 'b', 'c', 'd'])\n",
        "print(dataSeries2)\n",
        "\n",
        "print(dataSeries2[1])\n",
        "print(dataSeries2[1:3])\n",
        "print(dataSeries2[1:])\n",
        "print()\n",
        "print(dataSeries2[:-2])\n",
        "print()\n",
        "print(dataSeries2[::-1])\n",
        "print()\n",
        "print(dataSeries2[-3:])\n"
      ],
      "metadata": {
        "colab": {
          "base_uri": "https://localhost:8080/"
        },
        "id": "oACr1hQm8bO0",
        "outputId": "97420d90-08c1-4597-d433-8fe4669fa712"
      },
      "execution_count": null,
      "outputs": [
        {
          "output_type": "stream",
          "name": "stdout",
          "text": [
            "0    a\n",
            "1    b\n",
            "2    c\n",
            "3    d\n",
            "dtype: object\n",
            "b\n",
            "1    b\n",
            "2    c\n",
            "dtype: object\n",
            "1    b\n",
            "2    c\n",
            "3    d\n",
            "dtype: object\n",
            "\n",
            "0    a\n",
            "1    b\n",
            "dtype: object\n",
            "\n",
            "3    d\n",
            "2    c\n",
            "1    b\n",
            "0    a\n",
            "dtype: object\n",
            "\n",
            "1    b\n",
            "2    c\n",
            "3    d\n",
            "dtype: object\n"
          ]
        }
      ]
    },
    {
      "cell_type": "code",
      "source": [
        "data2 = pd.Series([1, 2, 3, 4, 5], index=['a', 'b', 'c', 'd', 'e'])\n",
        "print(data2)\n",
        "print(data2.loc['b'])\n",
        "print()\n",
        "print(data2['a':'d'])\n",
        "print(data2['a':'d': -1])"
      ],
      "metadata": {
        "colab": {
          "base_uri": "https://localhost:8080/"
        },
        "id": "qeJN4_fd8bVh",
        "outputId": "ab012f24-23e1-40bb-c812-9a2c101cc0c9"
      },
      "execution_count": null,
      "outputs": [
        {
          "output_type": "stream",
          "name": "stdout",
          "text": [
            "a    1\n",
            "b    2\n",
            "c    3\n",
            "d    4\n",
            "e    5\n",
            "dtype: int64\n",
            "2\n",
            "\n",
            "a    1\n",
            "b    2\n",
            "c    3\n",
            "d    4\n",
            "dtype: int64\n",
            "a    1\n",
            "b    2\n",
            "c    3\n",
            "d    4\n",
            "dtype: int64\n"
          ]
        }
      ]
    },
    {
      "cell_type": "code",
      "source": [
        "data = ['a', 'b', 'c', 'd', 'e']\n",
        "print(data)\n",
        "data[:2] = ['Harry', 'Tom']\n",
        "print(data)"
      ],
      "metadata": {
        "colab": {
          "base_uri": "https://localhost:8080/"
        },
        "id": "vQbkeJ3K8bfW",
        "outputId": "98e9a67e-6241-420d-b448-ed75fe18bf7a"
      },
      "execution_count": null,
      "outputs": [
        {
          "output_type": "stream",
          "name": "stdout",
          "text": [
            "['a', 'b', 'c', 'd', 'e']\n",
            "['Harry', 'Tom', 'c', 'd', 'e']\n"
          ]
        }
      ]
    },
    {
      "cell_type": "code",
      "source": [
        "num = 12\n",
        "data = pd.Series(num)\n",
        "print(data)\n",
        "print(\"\\nAddition:\\n\", num + 23)\n",
        "print(\"\\nMultiplication:\\n\", num * 23)"
      ],
      "metadata": {
        "colab": {
          "base_uri": "https://localhost:8080/"
        },
        "id": "EEJmap548blN",
        "outputId": "f15cd7e5-c630-4d3a-9eb5-71742b61cf75"
      },
      "execution_count": null,
      "outputs": [
        {
          "output_type": "stream",
          "name": "stdout",
          "text": [
            "0    12\n",
            "dtype: int64\n",
            "\n",
            "Addition:\n",
            " 35\n",
            "\n",
            "Multiplication:\n",
            " 276\n"
          ]
        }
      ]
    },
    {
      "cell_type": "code",
      "source": [
        "data = pd.Series([1,2,3,4], index=['a', 'b', 'c', 'd'])\n",
        "print(\"My data:\", data, sep='\\n')\n",
        "print(\"My addition data:\", data + 10, sep='\\n')\n",
        "print(\"My multiplication data:\", data * 10, sep='\\n')\n",
        "print(\"My subtraction data:\", data - 10, sep='\\n')\n",
        "print(\"My expomentiation data:\", data**2, sep='\\n')"
      ],
      "metadata": {
        "colab": {
          "base_uri": "https://localhost:8080/"
        },
        "id": "1CAFm27t8bo9",
        "outputId": "7c61efe9-890c-4f0d-f06b-22dcbaaac358"
      },
      "execution_count": null,
      "outputs": [
        {
          "output_type": "stream",
          "name": "stdout",
          "text": [
            "My data:\n",
            "a    1\n",
            "b    2\n",
            "c    3\n",
            "d    4\n",
            "dtype: int64\n",
            "My addition data:\n",
            "a    11\n",
            "b    12\n",
            "c    13\n",
            "d    14\n",
            "dtype: int64\n",
            "My multiplication data:\n",
            "a    10\n",
            "b    20\n",
            "c    30\n",
            "d    40\n",
            "dtype: int64\n",
            "My subtraction data:\n",
            "a   -9\n",
            "b   -8\n",
            "c   -7\n",
            "d   -6\n",
            "dtype: int64\n",
            "My expomentiation data:\n",
            "a     1\n",
            "b     4\n",
            "c     9\n",
            "d    16\n",
            "dtype: int64\n"
          ]
        }
      ]
    },
    {
      "cell_type": "code",
      "source": [
        "data1 = pd.Series([1,2,3,4,5], index=['a', 'b', 'c', 'd','e'])\n",
        "data2 = pd.Series([6,7,8,9], index=['x', 'a', 'b', 'c'])\n",
        "print(data1)\n",
        "print(data2)\n",
        "print(data1 + data2)\n",
        "print(data1 * data2)\n",
        "print(data2 - data1)\n",
        "print(data2 / data1)"
      ],
      "metadata": {
        "colab": {
          "base_uri": "https://localhost:8080/"
        },
        "id": "KL90EY99EHIm",
        "outputId": "8a5b21c2-e329-4223-b9fd-1e8bd016d111"
      },
      "execution_count": null,
      "outputs": [
        {
          "output_type": "stream",
          "name": "stdout",
          "text": [
            "a    1\n",
            "b    2\n",
            "c    3\n",
            "d    4\n",
            "e    5\n",
            "dtype: int64\n",
            "x    6\n",
            "a    7\n",
            "b    8\n",
            "c    9\n",
            "dtype: int64\n",
            "a     8.0\n",
            "b    10.0\n",
            "c    12.0\n",
            "d     NaN\n",
            "e     NaN\n",
            "x     NaN\n",
            "dtype: float64\n",
            "a     7.0\n",
            "b    16.0\n",
            "c    27.0\n",
            "d     NaN\n",
            "e     NaN\n",
            "x     NaN\n",
            "dtype: float64\n",
            "a    6.0\n",
            "b    6.0\n",
            "c    6.0\n",
            "d    NaN\n",
            "e    NaN\n",
            "x    NaN\n",
            "dtype: float64\n",
            "a    7.0\n",
            "b    4.0\n",
            "c    3.0\n",
            "d    NaN\n",
            "e    NaN\n",
            "x    NaN\n",
            "dtype: float64\n"
          ]
        }
      ]
    },
    {
      "cell_type": "code",
      "source": [
        "data = pd.Series([1,2,3,4])\n",
        "print(data)\n",
        "print(type(data))\n",
        "print(data.index)\n",
        "print(data.values, sep='-')\n",
        "print(data.to_csv)\n",
        "\n",
        "lst = data.to_list()\n",
        "\n",
        "print(lst)\n",
        "print(type(lst))"
      ],
      "metadata": {
        "colab": {
          "base_uri": "https://localhost:8080/"
        },
        "id": "jF1vvgSNEHL_",
        "outputId": "de39d978-eca5-428c-af51-726a91be7c59"
      },
      "execution_count": null,
      "outputs": [
        {
          "output_type": "stream",
          "name": "stdout",
          "text": [
            "0    1\n",
            "1    2\n",
            "2    3\n",
            "3    4\n",
            "dtype: int64\n",
            "<class 'pandas.core.series.Series'>\n",
            "RangeIndex(start=0, stop=4, step=1)\n",
            "[1 2 3 4]\n",
            "<bound method NDFrame.to_csv of 0    1\n",
            "1    2\n",
            "2    3\n",
            "3    4\n",
            "dtype: int64>\n",
            "[1, 2, 3, 4]\n",
            "<class 'list'>\n"
          ]
        }
      ]
    },
    {
      "cell_type": "code",
      "source": [
        "data1 = pd.Series([1,2,3,4,5], index=['a', 'b', 'c', 'd','e'])\n",
        "print(data1)\n",
        "res = data1.to_dict()\n",
        "print(res)\n",
        "print(type(res))"
      ],
      "metadata": {
        "colab": {
          "base_uri": "https://localhost:8080/"
        },
        "id": "oRZJ1HsNEHPY",
        "outputId": "03f3a6d1-2827-4811-a9c4-afbdb48837c1"
      },
      "execution_count": 5,
      "outputs": [
        {
          "output_type": "stream",
          "name": "stdout",
          "text": [
            "a    1\n",
            "b    2\n",
            "c    3\n",
            "d    4\n",
            "e    5\n",
            "dtype: int64\n",
            "{'a': 1, 'b': 2, 'c': 3, 'd': 4, 'e': 5}\n",
            "<class 'dict'>\n"
          ]
        }
      ]
    },
    {
      "cell_type": "code",
      "source": [
        "############ 24 Apr 2025  #####################\n",
        "data = pd.Series([1,2,3,4,5])\n",
        "print(data)\n",
        "print(type(data))\n",
        "str1 = data.to_string()\n",
        "print(str1)\n",
        "print(type(str1))"
      ],
      "metadata": {
        "colab": {
          "base_uri": "https://localhost:8080/"
        },
        "id": "gqTnLZ75DgQ4",
        "outputId": "434ec2f2-e92b-451d-e361-707ea9f5dbf5"
      },
      "execution_count": 7,
      "outputs": [
        {
          "output_type": "stream",
          "name": "stdout",
          "text": [
            "0    1\n",
            "1    2\n",
            "2    3\n",
            "3    4\n",
            "4    5\n",
            "dtype: int64\n",
            "<class 'pandas.core.series.Series'>\n",
            "0    1\n",
            "1    2\n",
            "2    3\n",
            "3    4\n",
            "4    5\n",
            "<class 'str'>\n"
          ]
        }
      ]
    },
    {
      "cell_type": "code",
      "source": [
        "#Dataframe\n",
        "data = pd.Series([1,2,3,4,5], index=['a','b','c','d','e'])\n",
        "print(data)\n",
        "print(type(data))\n",
        "dataFrame = data.to_frame(name='Numbers')\n",
        "print(dataFrame)\n",
        "print(type(dataFrame))"
      ],
      "metadata": {
        "colab": {
          "base_uri": "https://localhost:8080/"
        },
        "id": "TV8LHR-yDgCV",
        "outputId": "6d685542-150b-4321-9628-4b584aad160f"
      },
      "execution_count": 9,
      "outputs": [
        {
          "output_type": "stream",
          "name": "stdout",
          "text": [
            "a    1\n",
            "b    2\n",
            "c    3\n",
            "d    4\n",
            "e    5\n",
            "dtype: int64\n",
            "<class 'pandas.core.series.Series'>\n",
            "   NUmbers\n",
            "a        1\n",
            "b        2\n",
            "c        3\n",
            "d        4\n",
            "e        5\n",
            "<class 'pandas.core.frame.DataFrame'>\n"
          ]
        }
      ]
    },
    {
      "cell_type": "code",
      "source": [
        "#Dataframe with list\n",
        "data = [1,2,3,4,5]\n",
        "print(data)\n",
        "print(type(data))\n",
        "dataFrame = pd.DataFrame(data)\n",
        "print(dataFrame)\n",
        "print(type(dataFrame))"
      ],
      "metadata": {
        "colab": {
          "base_uri": "https://localhost:8080/"
        },
        "id": "Afq0AZ46Df_x",
        "outputId": "cc8f07c8-1f0a-4130-92f7-269d642cf6df"
      },
      "execution_count": 10,
      "outputs": [
        {
          "output_type": "stream",
          "name": "stdout",
          "text": [
            "[1, 2, 3, 4, 5]\n",
            "<class 'list'>\n",
            "   0\n",
            "0  1\n",
            "1  2\n",
            "2  3\n",
            "3  4\n",
            "4  5\n",
            "<class 'pandas.core.frame.DataFrame'>\n"
          ]
        }
      ]
    },
    {
      "cell_type": "code",
      "source": [
        "data = [['John', 101], ['James', 102], ['Harry', 104]]\n",
        "print(data)\n",
        "print(type(data))\n",
        "dataFrame = pd.DataFrame(data)\n",
        "print(dataFrame)\n",
        "print(type(dataFrame))"
      ],
      "metadata": {
        "colab": {
          "base_uri": "https://localhost:8080/"
        },
        "id": "PNYGQAn3Df8X",
        "outputId": "fafe7aad-39f1-4111-8b14-5edc23a2e0c9"
      },
      "execution_count": 11,
      "outputs": [
        {
          "output_type": "stream",
          "name": "stdout",
          "text": [
            "[['John', 101], ['James', 102], ['Harry', 104]]\n",
            "<class 'list'>\n",
            "       0    1\n",
            "0   John  101\n",
            "1  James  102\n",
            "2  Harry  104\n",
            "<class 'pandas.core.frame.DataFrame'>\n"
          ]
        }
      ]
    },
    {
      "cell_type": "code",
      "source": [
        "data = [['John', 101], ['James', 102], ['Harry', 104]]\n",
        "print(data)\n",
        "print(type(data))\n",
        "dataFrame = pd.DataFrame(data, columns=['Name', 'ID'])\n",
        "print(dataFrame)\n",
        "print(type(dataFrame))"
      ],
      "metadata": {
        "colab": {
          "base_uri": "https://localhost:8080/"
        },
        "id": "PkZGEPH8Df5j",
        "outputId": "307ba48b-38ae-457d-ac60-a176624cfc1c"
      },
      "execution_count": 12,
      "outputs": [
        {
          "output_type": "stream",
          "name": "stdout",
          "text": [
            "[['John', 101], ['James', 102], ['Harry', 104]]\n",
            "<class 'list'>\n",
            "    Name   ID\n",
            "0   John  101\n",
            "1  James  102\n",
            "2  Harry  104\n",
            "<class 'pandas.core.frame.DataFrame'>\n"
          ]
        }
      ]
    },
    {
      "cell_type": "code",
      "source": [
        "data = [['John', 101], ['James', 102], ['Harry', 104, 'Bangalore']]\n",
        "print(data)\n",
        "print(type(data))\n",
        "dataFrame = pd.DataFrame(data, columns=['Name', 'ID', 'Address'])\n",
        "print(dataFrame)\n",
        "print(type(dataFrame))"
      ],
      "metadata": {
        "colab": {
          "base_uri": "https://localhost:8080/"
        },
        "id": "m5ujuL0PDf2Z",
        "outputId": "74344b11-484e-4815-89b6-b744dd4662c8"
      },
      "execution_count": 14,
      "outputs": [
        {
          "output_type": "stream",
          "name": "stdout",
          "text": [
            "[['John', 101], ['James', 102], ['Harry', 104, 'Bangalore']]\n",
            "<class 'list'>\n",
            "    Name   ID    Address\n",
            "0   John  101       None\n",
            "1  James  102       None\n",
            "2  Harry  104  Bangalore\n",
            "<class 'pandas.core.frame.DataFrame'>\n"
          ]
        }
      ]
    },
    {
      "cell_type": "code",
      "source": [
        "#Dataframe with list and tuple\n",
        "data = [['John', 101], ['James', 102], ['Harry', 104, 'Bangalore'], ('Tom', 106, 'Mumbai')]\n",
        "print(data)\n",
        "print(type(data))\n",
        "dataFrame = pd.DataFrame(data, columns=['Name', 'ID', 'Address'])\n",
        "print(dataFrame)\n",
        "print(type(dataFrame))"
      ],
      "metadata": {
        "colab": {
          "base_uri": "https://localhost:8080/"
        },
        "id": "H_XNE39EDfzW",
        "outputId": "dd16f9ce-c096-4e3b-87a1-87307b596579"
      },
      "execution_count": 15,
      "outputs": [
        {
          "output_type": "stream",
          "name": "stdout",
          "text": [
            "[['John', 101], ['James', 102], ['Harry', 104, 'Bangalore'], ('Tom', 106, 'Mumbai')]\n",
            "<class 'list'>\n",
            "    Name   ID    Address\n",
            "0   John  101       None\n",
            "1  James  102       None\n",
            "2  Harry  104  Bangalore\n",
            "3    Tom  106     Mumbai\n",
            "<class 'pandas.core.frame.DataFrame'>\n"
          ]
        }
      ]
    },
    {
      "cell_type": "code",
      "source": [
        "#Dataframe with dictionary\n",
        "data = {'Name':['John', 'James', 'Harry','Tom'], 'ID':[101, 102, 104,105], 'Role':['Developer','Agent','XX','YY'],'Location':['Bangalore','Mumbai','Delhi','Hyd']}\n",
        "print(data)\n",
        "print(type(data))\n",
        "dataFrame = pd.DataFrame(data, columns=['Name', 'ID', 'Role', 'Location'])\n",
        "print(dataFrame)"
      ],
      "metadata": {
        "colab": {
          "base_uri": "https://localhost:8080/"
        },
        "id": "Bn8r3bfoDfvt",
        "outputId": "7a00d57b-b5e1-4e82-d484-9ab1bcbc5144"
      },
      "execution_count": 26,
      "outputs": [
        {
          "output_type": "stream",
          "name": "stdout",
          "text": [
            "{'Name': ['John', 'James', 'Harry', 'Tom'], 'ID': [101, 102, 104, 105], 'Role': ['Developer', 'Agent', 'XX', 'YY'], 'Location': ['Bangalore', 'Mumbai', 'Delhi', 'Hyd']}\n",
            "<class 'dict'>\n",
            "    Name   ID       Role   Location\n",
            "0   John  101  Developer  Bangalore\n",
            "1  James  102      Agent     Mumbai\n",
            "2  Harry  104         XX      Delhi\n",
            "3    Tom  105         YY        Hyd\n"
          ]
        }
      ]
    },
    {
      "cell_type": "code",
      "source": [
        "#Dataframe with List of distionary\n",
        "data = [{'Name':'John', 'ID':101, 'Role':'Developer', 'Location':'Bangalore'},\n",
        "        {'Name':'James', 'ID':101, 'Role':'Developer', 'Location':'Bangalore'}]\n",
        "\n",
        "print(data)\n",
        "print(type(data))\n",
        "dataFrame = pd.DataFrame(data)\n",
        "print(dataFrame)"
      ],
      "metadata": {
        "colab": {
          "base_uri": "https://localhost:8080/"
        },
        "id": "Mt1AJxb2HOfO",
        "outputId": "19da29a3-dbb6-4a77-baf4-448a764e4d85"
      },
      "execution_count": 27,
      "outputs": [
        {
          "output_type": "stream",
          "name": "stdout",
          "text": [
            "[{'Name': 'John', 'ID': 101, 'Role': 'Developer', 'Location': 'Bangalore'}, {'Name': 'James', 'ID': 101, 'Role': 'Developer', 'Location': 'Bangalore'}]\n",
            "<class 'list'>\n",
            "    Name   ID       Role   Location\n",
            "0   John  101  Developer  Bangalore\n",
            "1  James  101  Developer  Bangalore\n"
          ]
        }
      ]
    },
    {
      "cell_type": "code",
      "source": [
        "#Dataframe with List of distionary\n",
        "data = [{'Name':'John', 'ID':101, 'Role':'Developer'},\n",
        "        {'Name':'James', 'ID':101, 'Role':'Developer', 'Location':'Bangalore'},\n",
        "        {}]\n",
        "\n",
        "print(data)\n",
        "print(type(data))\n",
        "dataFrame = pd.DataFrame(data, index=['First', 'Second', 'Third'], columns=['Name', 'ID', 'Role', 'Location'])\n",
        "print(dataFrame)"
      ],
      "metadata": {
        "colab": {
          "base_uri": "https://localhost:8080/"
        },
        "id": "JPc7eAh9HOi3",
        "outputId": "e2496e14-b8d8-468b-bfa7-3cd838f13968"
      },
      "execution_count": 30,
      "outputs": [
        {
          "output_type": "stream",
          "name": "stdout",
          "text": [
            "[{'Name': 'John', 'ID': 101, 'Role': 'Developer'}, {'Name': 'James', 'ID': 101, 'Role': 'Developer', 'Location': 'Bangalore'}, {}]\n",
            "<class 'list'>\n",
            "         Name     ID       Role   Location\n",
            "First    John  101.0  Developer        NaN\n",
            "Second  James  101.0  Developer  Bangalore\n",
            "Third     NaN    NaN        NaN        NaN\n"
          ]
        }
      ]
    },
    {
      "cell_type": "code",
      "source": [
        "#Dataframe with distionary of list\n",
        "data = {'Name':['John', 'James', 'Harry','Tom'],\n",
        "        'ID':[101, 102, 104,105],\n",
        "        'Role':['Developer','Agent','XX','YY'],\n",
        "        'Address':['Bangalore','Mumbai','Delhi','Hyd']}\n",
        "\n",
        "print(data)\n",
        "print(type(data))\n",
        "dataFrame = pd.DataFrame(data, index=['First', 'Second', 'Third', 'Four'], columns=['Name', 'ID', 'Role', 'Address'])\n",
        "print(dataFrame)"
      ],
      "metadata": {
        "colab": {
          "base_uri": "https://localhost:8080/"
        },
        "id": "rHHG_wIgHOmJ",
        "outputId": "268296ed-2d55-4840-eb80-38f7367765f0"
      },
      "execution_count": 33,
      "outputs": [
        {
          "output_type": "stream",
          "name": "stdout",
          "text": [
            "{'Name': ['John', 'James', 'Harry', 'Tom'], 'ID': [101, 102, 104, 105], 'Role': ['Developer', 'Agent', 'XX', 'YY'], 'Address': ['Bangalore', 'Mumbai', 'Delhi', 'Hyd']}\n",
            "<class 'dict'>\n",
            "         Name   ID       Role    Address\n",
            "First    John  101  Developer  Bangalore\n",
            "Second  James  102      Agent     Mumbai\n",
            "Third   Harry  104         XX      Delhi\n",
            "Four      Tom  105         YY        Hyd\n"
          ]
        }
      ]
    },
    {
      "cell_type": "code",
      "source": [
        "#Dataframe with distionary of list\n",
        "data = {'Name':['John', 'James', 'Harry','Tom'],\n",
        "        'ID':[101, 102, 104,105],\n",
        "        'Role':['Developer','Agent','XX','YY'],\n",
        "        'Address':['Bangalore','Mumbai','Delhi','Hyd']}\n",
        "\n",
        "print(data)\n",
        "\n",
        "dataFrame = pd.DataFrame(data, index=['First', 'Second', 'Third', 'Four'], columns=['Name', 'ID', 'Address', 'Role'])\n",
        "print(dataFrame, end='\\n\\n')\n",
        "\n",
        "print(dataFrame[['Name', 'ID', 'Address']])\n"
      ],
      "metadata": {
        "colab": {
          "base_uri": "https://localhost:8080/"
        },
        "id": "g_0j_o0XHOpi",
        "outputId": "fa4d6d6c-0a15-4cca-cf2a-1d0f780d2bcb"
      },
      "execution_count": 64,
      "outputs": [
        {
          "output_type": "stream",
          "name": "stdout",
          "text": [
            "{'Name': ['John', 'James', 'Harry', 'Tom'], 'ID': [101, 102, 104, 105], 'Role': ['Developer', 'Agent', 'XX', 'YY'], 'Address': ['Bangalore', 'Mumbai', 'Delhi', 'Hyd']}\n",
            "         Name   ID    Address       Role\n",
            "First    John  101  Bangalore  Developer\n",
            "Second  James  102     Mumbai      Agent\n",
            "Third   Harry  104      Delhi         XX\n",
            "Four      Tom  105        Hyd         YY\n",
            "\n",
            "         Name   ID    Address\n",
            "First    John  101  Bangalore\n",
            "Second  James  102     Mumbai\n",
            "Third   Harry  104      Delhi\n",
            "Four      Tom  105        Hyd\n"
          ]
        }
      ]
    },
    {
      "cell_type": "code",
      "source": [
        "#Dataframe with distionary of pd series\n",
        "data = {'one': pd.Series([1,2,3], index=['a', 'b', 'c']),\n",
        "        'two': pd.Series([1,2,3,4], index=['a', 'b', 'c', 'd'])}\n",
        "\n",
        "print(data)\n",
        "\n",
        "df = pd.DataFrame(data)\n",
        "print(df)"
      ],
      "metadata": {
        "colab": {
          "base_uri": "https://localhost:8080/"
        },
        "id": "kt6mx1JMHOs8",
        "outputId": "06585639-945d-422a-b288-5966726cd604"
      },
      "execution_count": 45,
      "outputs": [
        {
          "output_type": "stream",
          "name": "stdout",
          "text": [
            "{'one': a    1\n",
            "b    2\n",
            "c    3\n",
            "dtype: int64, 'two': a    1\n",
            "b    2\n",
            "c    3\n",
            "d    4\n",
            "dtype: int64}\n",
            "   one  two\n",
            "a  1.0    1\n",
            "b  2.0    2\n",
            "c  3.0    3\n",
            "d  NaN    4\n"
          ]
        }
      ]
    },
    {
      "cell_type": "code",
      "source": [
        "#Dataframe with distionary of pd series\n",
        "data = {'one': pd.Series([1,2,3,5], index=['a', 'b', 'c','e']),\n",
        "        'two': pd.Series([1,2,3,4], index=['a', 'b', 'c', 'd'])}\n",
        "\n",
        "print(data)\n",
        "print()\n",
        "print(data['one'])\n",
        "print()\n",
        "df = pd.DataFrame(data)\n",
        "print(df)"
      ],
      "metadata": {
        "colab": {
          "base_uri": "https://localhost:8080/"
        },
        "id": "M3z3GlKzHO4i",
        "outputId": "8a13398f-b12a-4648-c375-4f5fbe8ff1fb"
      },
      "execution_count": 48,
      "outputs": [
        {
          "output_type": "stream",
          "name": "stdout",
          "text": [
            "{'one': a    1\n",
            "b    2\n",
            "c    3\n",
            "e    5\n",
            "dtype: int64, 'two': a    1\n",
            "b    2\n",
            "c    3\n",
            "d    4\n",
            "dtype: int64}\n",
            "\n",
            "a    1\n",
            "b    2\n",
            "c    3\n",
            "e    5\n",
            "dtype: int64\n",
            "\n",
            "   one  two\n",
            "a  1.0  1.0\n",
            "b  2.0  2.0\n",
            "c  3.0  3.0\n",
            "d  NaN  4.0\n",
            "e  5.0  NaN\n"
          ]
        }
      ]
    },
    {
      "cell_type": "code",
      "source": [
        "#Dataframe with distionary of list\n",
        "data = {'Name':['John', 'James', 'Harry','Tom'],\n",
        "        'ID':[101, 102, 104,105],\n",
        "        'Role':['Developer','Agent','XX','YY'],\n",
        "        'Address':['Bangalore','Mumbai','Delhi','Hyd']}\n",
        "\n",
        "print(data)\n",
        "\n",
        "dataFrame = pd.DataFrame(data, index=['First', 'Second', 'Third', 'Four'], columns=['Name', 'ID', 'Address', 'Role'])\n",
        "print(dataFrame, end='\\n\\n')\n",
        "\n",
        "print(dataFrame.loc['First'], end='\\n\\n')\n",
        "result = dataFrame.index\n",
        "print('Row Labels :', result, end='\\n\\n')\n",
        "\n",
        "result = dataFrame.columns\n",
        "print('Column Labels :', result, end='\\n\\n')\n",
        "result = dataFrame.columns\n"
      ],
      "metadata": {
        "colab": {
          "base_uri": "https://localhost:8080/"
        },
        "id": "9Ab94n5WDfjD",
        "outputId": "a06d4e2b-6abd-40cd-a771-26241bbe0dfe"
      },
      "execution_count": 53,
      "outputs": [
        {
          "output_type": "stream",
          "name": "stdout",
          "text": [
            "{'Name': ['John', 'James', 'Harry', 'Tom'], 'ID': [101, 102, 104, 105], 'Role': ['Developer', 'Agent', 'XX', 'YY'], 'Address': ['Bangalore', 'Mumbai', 'Delhi', 'Hyd']}\n",
            "         Name   ID    Address       Role\n",
            "First    John  101  Bangalore  Developer\n",
            "Second  James  102     Mumbai      Agent\n",
            "Third   Harry  104      Delhi         XX\n",
            "Four      Tom  105        Hyd         YY\n",
            "\n",
            "Name            John\n",
            "ID               101\n",
            "Address    Bangalore\n",
            "Role       Developer\n",
            "Name: First, dtype: object\n",
            "\n",
            "Row Labels : Index(['First', 'Second', 'Third', 'Four'], dtype='object')\n",
            "\n",
            "Column Labels : Index(['Name', 'ID', 'Address', 'Role'], dtype='object')\n",
            "\n"
          ]
        }
      ]
    },
    {
      "cell_type": "code",
      "source": [
        "#Dataframe with distionary of list\n",
        "data = {'Name':['John', 'James', 'Harry','Tom'],\n",
        "        'ID':[101, 102, 104,105],\n",
        "        'Role':['Developer','Agent','XX','YY'],\n",
        "        'Address':['Bangalore','Mumbai','Delhi','Hyd']}\n",
        "\n",
        "print(data)\n",
        "\n",
        "dataFrame = pd.DataFrame(data, index=['First', 'Second', 'Third', 'Four'], columns=['Name', 'ID', 'Address', 'Role'])\n",
        "print(dataFrame, end='\\n\\n')\n",
        "\n",
        "dataFrame.index=['A', 'B', 'C', 'D']\n",
        "print(dataFrame, end='\\n\\n')\n",
        "\n",
        "dataFrame.columns=['Names', 'IDs', 'locations', 'Roles']\n",
        "print(dataFrame, end='\\n\\n')\n"
      ],
      "metadata": {
        "colab": {
          "base_uri": "https://localhost:8080/"
        },
        "id": "M6ROsNsIQOE9",
        "outputId": "e13c4a78-3327-46bf-a92b-2b844954a0a0"
      },
      "execution_count": 56,
      "outputs": [
        {
          "output_type": "stream",
          "name": "stdout",
          "text": [
            "{'Name': ['John', 'James', 'Harry', 'Tom'], 'ID': [101, 102, 104, 105], 'Role': ['Developer', 'Agent', 'XX', 'YY'], 'Address': ['Bangalore', 'Mumbai', 'Delhi', 'Hyd']}\n",
            "         Name   ID    Address       Role\n",
            "First    John  101  Bangalore  Developer\n",
            "Second  James  102     Mumbai      Agent\n",
            "Third   Harry  104      Delhi         XX\n",
            "Four      Tom  105        Hyd         YY\n",
            "\n",
            "    Name   ID    Address       Role\n",
            "A   John  101  Bangalore  Developer\n",
            "B  James  102     Mumbai      Agent\n",
            "C  Harry  104      Delhi         XX\n",
            "D    Tom  105        Hyd         YY\n",
            "\n",
            "   Names  IDs  locations      Roles\n",
            "A   John  101  Bangalore  Developer\n",
            "B  James  102     Mumbai      Agent\n",
            "C  Harry  104      Delhi         XX\n",
            "D    Tom  105        Hyd         YY\n",
            "\n"
          ]
        }
      ]
    },
    {
      "cell_type": "code",
      "source": [
        "#Dataframe with iloc\n",
        "data = {'Name':['John', 'James', 'Harry','Tom'],\n",
        "        'ID':[101, 102, 104,105],\n",
        "        'Role':['Developer','Agent','XX','YY'],\n",
        "        'Address':['Bangalore','Mumbai','Delhi','Hyd']}\n",
        "\n",
        "print(data, end='\\n\\n')\n",
        "\n",
        "dataFrame = pd.DataFrame(data, index=['First', 'Second', 'Third', 'Four'], columns=['Name', 'ID', 'Address', 'Role'])\n",
        "print(dataFrame, end='\\n\\n')\n",
        "\n",
        "print(dataFrame.iloc[0], end='\\n\\n')\n",
        "print(dataFrame.iloc[0:2], end='\\n\\n')\n",
        "print(dataFrame.iloc[0:2, 0:2], end='\\n\\n')\n",
        "print(dataFrame.iloc[0:2, 1:3], end='\\n\\n')\n",
        "print(dataFrame.iloc[0:2, :], end='\\n\\n')\n",
        "print(dataFrame.iloc[:, 1], end='\\n\\n')\n",
        "print(dataFrame.iloc[:, 1:3], end='\\n\\n')\n",
        "print(dataFrame.iloc[:, 2:6], end='\\n\\n')"
      ],
      "metadata": {
        "colab": {
          "base_uri": "https://localhost:8080/"
        },
        "id": "WavQxRJqQONu",
        "outputId": "33eaf5aa-70a5-45f8-825c-28c7f19f1423"
      },
      "execution_count": 69,
      "outputs": [
        {
          "output_type": "stream",
          "name": "stdout",
          "text": [
            "{'Name': ['John', 'James', 'Harry', 'Tom'], 'ID': [101, 102, 104, 105], 'Role': ['Developer', 'Agent', 'XX', 'YY'], 'Address': ['Bangalore', 'Mumbai', 'Delhi', 'Hyd']}\n",
            "\n",
            "         Name   ID    Address       Role\n",
            "First    John  101  Bangalore  Developer\n",
            "Second  James  102     Mumbai      Agent\n",
            "Third   Harry  104      Delhi         XX\n",
            "Four      Tom  105        Hyd         YY\n",
            "\n",
            "Name            John\n",
            "ID               101\n",
            "Address    Bangalore\n",
            "Role       Developer\n",
            "Name: First, dtype: object\n",
            "\n",
            "         Name   ID    Address       Role\n",
            "First    John  101  Bangalore  Developer\n",
            "Second  James  102     Mumbai      Agent\n",
            "\n",
            "         Name   ID\n",
            "First    John  101\n",
            "Second  James  102\n",
            "\n",
            "         ID    Address\n",
            "First   101  Bangalore\n",
            "Second  102     Mumbai\n",
            "\n",
            "         Name   ID    Address       Role\n",
            "First    John  101  Bangalore  Developer\n",
            "Second  James  102     Mumbai      Agent\n",
            "\n",
            "First     101\n",
            "Second    102\n",
            "Third     104\n",
            "Four      105\n",
            "Name: ID, dtype: int64\n",
            "\n",
            "         ID    Address\n",
            "First   101  Bangalore\n",
            "Second  102     Mumbai\n",
            "Third   104      Delhi\n",
            "Four    105        Hyd\n",
            "\n",
            "          Address       Role\n",
            "First   Bangalore  Developer\n",
            "Second     Mumbai      Agent\n",
            "Third       Delhi         XX\n",
            "Four          Hyd         YY\n",
            "\n"
          ]
        }
      ]
    },
    {
      "cell_type": "code",
      "source": [
        "#Dataframe slicing with loc , index and columns labels\n",
        "data = [['John', 'James', 'Harry','Tom'],\n",
        "        [101, 102, 104,105],\n",
        "        ['Developer','Agent','XX','YY'],\n",
        "        ['Bangalore','Mumbai','Delhi','Hyd']]\n",
        "\n",
        "print(data, end='\\n\\n')\n",
        "\n",
        "dataFrame = pd.DataFrame(data, columns=['First', 'Second', 'Third', 'Four'], index=['Name', 'ID', 'Role', 'Address'])\n",
        "print(dataFrame, end='\\n\\n')\n",
        "\n",
        "print(dataFrame.loc['Name'], end='\\n\\n')\n",
        "print(dataFrame.loc['Name':'Role'], end='\\n\\n')\n",
        "print(dataFrame.loc['Name':'Role', 'Second':'Third'], end='\\n\\n')\n"
      ],
      "metadata": {
        "colab": {
          "base_uri": "https://localhost:8080/"
        },
        "id": "VIs4rcHfQOQ7",
        "outputId": "b1812bd8-b18a-4508-93d4-bb6712a59288"
      },
      "execution_count": 72,
      "outputs": [
        {
          "output_type": "stream",
          "name": "stdout",
          "text": [
            "[['John', 'James', 'Harry', 'Tom'], [101, 102, 104, 105], ['Developer', 'Agent', 'XX', 'YY'], ['Bangalore', 'Mumbai', 'Delhi', 'Hyd']]\n",
            "\n",
            "             First  Second  Third Four\n",
            "Name          John   James  Harry  Tom\n",
            "ID             101     102    104  105\n",
            "Role     Developer   Agent     XX   YY\n",
            "Address  Bangalore  Mumbai  Delhi  Hyd\n",
            "\n",
            "First      John\n",
            "Second    James\n",
            "Third     Harry\n",
            "Four        Tom\n",
            "Name: Name, dtype: object\n",
            "\n",
            "          First Second  Third Four\n",
            "Name       John  James  Harry  Tom\n",
            "ID          101    102    104  105\n",
            "Role  Developer  Agent     XX   YY\n",
            "\n",
            "     Second  Third\n",
            "Name  James  Harry\n",
            "ID      102    104\n",
            "Role  Agent     XX\n",
            "\n"
          ]
        }
      ]
    },
    {
      "cell_type": "code",
      "source": [
        "#Dataframe slicing with loc , index and columns labels and then modify the data\n",
        "data = [['John', 101, 'Mumbai'],\n",
        "        ['James', 102,'Delhi'],\n",
        "         ['Harry', 104, 'Bangalore'],\n",
        "        ['Tom', 105, 'Hyd']]\n",
        "\n",
        "print(data, end='\\n\\n')\n",
        "\n",
        "dataFrame = pd.DataFrame(data, columns=['Name', 'ID', 'Address'])\n",
        "print(dataFrame, end='\\n\\n')\n",
        "\n",
        "dataFrame.iloc[1:3, 2] = ['XXX','YYY']\n",
        "print(dataFrame, end='\\n\\n')"
      ],
      "metadata": {
        "colab": {
          "base_uri": "https://localhost:8080/"
        },
        "id": "KxVZHbBSQOT0",
        "outputId": "b2005d64-38ed-4dc9-8fbe-42e91109947a"
      },
      "execution_count": 75,
      "outputs": [
        {
          "output_type": "stream",
          "name": "stdout",
          "text": [
            "[['John', 101, 'Mumbai'], ['James', 102, 'Delhi'], ['Harry', 104, 'Bangalore'], ['Tom', 105, 'Hyd']]\n",
            "\n",
            "    Name   ID    Address\n",
            "0   John  101     Mumbai\n",
            "1  James  102      Delhi\n",
            "2  Harry  104  Bangalore\n",
            "3    Tom  105        Hyd\n",
            "\n",
            "    Name   ID Address\n",
            "0   John  101  Mumbai\n",
            "1  James  102     XXX\n",
            "2  Harry  104     YYY\n",
            "3    Tom  105     Hyd\n",
            "\n"
          ]
        }
      ]
    },
    {
      "cell_type": "code",
      "source": [
        "#matplotlib.pyplot\n",
        "import matplotlib.pyplot as plt\n",
        "radius = [1,2,3,4,5,6,7,8]\n",
        "area = [3.14, 6.28, 9.42, 12.56, 14.6, 15.4,16.2, 17.0]\n",
        "plt.plot(radius, area)\n",
        "plt.show()"
      ],
      "metadata": {
        "colab": {
          "base_uri": "https://localhost:8080/",
          "height": 430
        },
        "id": "GshutDOIQOW4",
        "outputId": "2f2a9c1e-79cb-4bdc-af48-a9687cf8f52e"
      },
      "execution_count": 79,
      "outputs": [
        {
          "output_type": "display_data",
          "data": {
            "text/plain": [
              "<Figure size 640x480 with 1 Axes>"
            ],
            "image/png": "[encoded data removed]"
          },
          "metadata": {}
        }
      ]
    },
    {
      "cell_type": "code",
      "source": [
        "#Line chart graph with days and daily steps\n",
        "days = ['Mon', 'Tue', 'Wed', 'Thu', 'Fri', 'Sat', 'Sun']\n",
        "steps = [1600, 1000, 1450, 800, 1900, 1200, 1000]\n",
        "df = pd.DataFrame({'Day':days, 'Steps':steps})\n",
        "print(df)\n",
        "plt.plot(days, steps)\n",
        "plt.show()"
      ],
      "metadata": {
        "colab": {
          "base_uri": "https://localhost:8080/",
          "height": 569
        },
        "id": "UeJyjyOSQOZr",
        "outputId": "17d06ef6-2648-4c1d-8a17-f443d5238890"
      },
      "execution_count": 86,
      "outputs": [
        {
          "output_type": "stream",
          "name": "stdout",
          "text": [
            "   Day  Steps\n",
            "0  Mon   1600\n",
            "1  Tue   1000\n",
            "2  Wed   1450\n",
            "3  Thu    800\n",
            "4  Fri   1900\n",
            "5  Sat   1200\n",
            "6  Sun   1000\n"
          ]
        },
        {
          "output_type": "display_data",
          "data": {
            "text/plain": [
              "<Figure size 640x480 with 1 Axes>"
            ],
            "image/png": "[encoded data removed]"
          },
          "metadata": {}
        }
      ]
    },
    {
      "cell_type": "code",
      "source": [
        "#Pie chart graph with days and daily steps\n",
        "days = ['Mon', 'Tue', 'Wed', 'Thu', 'Fri', 'Sat', 'Sun']\n",
        "steps = [1600, 1000, 1450, 800, 1900, 1200, 1000]\n",
        "df = pd.DataFrame({'Day':days, 'Steps':steps})\n",
        "print(df)\n",
        "plt.plot(days, steps)\n",
        "plt.show()"
      ],
      "metadata": {
        "id": "QE97daKpS1iO"
      },
      "execution_count": null,
      "outputs": []
    },
    {
      "cell_type": "code",
      "source": [
        "data = {'Subject':['Math', 'Science', 'History','Biology'],\n",
        "        'Marks':[78, 91, 65,87]}\n",
        "\n",
        "df = pd.DataFrame(data)\n",
        "print(df)\n",
        "plt.pie(df['Marks'], labels=df['Subject'])\n",
        "plt.show()"
      ],
      "metadata": {
        "colab": {
          "base_uri": "https://localhost:8080/",
          "height": 493
        },
        "id": "V3oRhU2hS1aA",
        "outputId": "0643f06f-572c-4796-d43a-124c2f0d6199"
      },
      "execution_count": 83,
      "outputs": [
        {
          "output_type": "stream",
          "name": "stdout",
          "text": [
            "   Subject  Marks\n",
            "0     Math     78\n",
            "1  Science     91\n",
            "2  History     65\n",
            "3  Biology     87\n"
          ]
        },
        {
          "output_type": "display_data",
          "data": {
            "text/plain": [
              "<Figure size 640x480 with 1 Axes>"
            ],
            "image/png": "[encoded data removed]"
          },
          "metadata": {}
        }
      ]
    },
    {
      "cell_type": "code",
      "source": [
        "#Line chart graph with days and daily steps\n",
        "data = {'Day':['Mon', 'Tue', 'Wed', 'Thu', 'Fri', 'Sat', 'Sun'],\n",
        "        'Tom':[1600, 1000, 1450, 800, 1900, 1200, 1000],\n",
        "         'Harry':[1400, 800, 1250, 700, 1700, 1100, 900],\n",
        "         'James':[1100, 1100, 1050, 900, 1100, 1000, 1100]}\n",
        "df = pd.DataFrame(data)\n",
        "print(df)\n",
        "plt.plot(df['Day'], df['Tom'], label='Tom')\n",
        "plt.plot(df['Day'], df['Harry'], label='Harry')\n",
        "plt.plot(df['Day'], df['James'], label='James')\n",
        "plt.legend()\n",
        "plt.show()"
      ],
      "metadata": {
        "colab": {
          "base_uri": "https://localhost:8080/",
          "height": 569
        },
        "id": "YWvWQaJKS1Wn",
        "outputId": "ec361a52-4cb2-4dcb-8b1a-510ead61c017"
      },
      "execution_count": 87,
      "outputs": [
        {
          "output_type": "stream",
          "name": "stdout",
          "text": [
            "   Day   Tom  Harry  James\n",
            "0  Mon  1600   1400   1100\n",
            "1  Tue  1000    800   1100\n",
            "2  Wed  1450   1250   1050\n",
            "3  Thu   800    700    900\n",
            "4  Fri  1900   1700   1100\n",
            "5  Sat  1200   1100   1000\n",
            "6  Sun  1000    900   1100\n"
          ]
        },
        {
          "output_type": "display_data",
          "data": {
            "text/plain": [
              "<Figure size 640x480 with 1 Axes>"
            ],
            "image/png": "[encoded data removed]"
          },
          "metadata": {}
        }
      ]
    },
    {
      "cell_type": "code",
      "source": [
        "#Line chart graph with days and daily steps\n",
        "data = {'Day':['Mon', 'Tue', 'Wed', 'Thu', 'Fri', 'Sat', 'Sun'],\n",
        "        'Tom':[1600, 1000, 1450, 800, 1900, 1200, 1000],\n",
        "         'Harry':[1400, 800, 1250, 700, 1700, 1100, 900],\n",
        "         'James':[1100, 1100, 1050, 900, 1100, 1000, 1100]}\n",
        "df = pd.DataFrame(data)\n",
        "print(df)\n",
        "#df.plot(x='Day', y=['Tom', 'Harry', 'James'], kind='line')\n",
        "plt.show(df.plot(x='Day', y=['Tom', 'Harry', 'James'], kind='line'))\n",
        "plt.show(df.plot(x='Day', y=['Tom', 'Harry', 'James'], kind='bar'))\n",
        "plt.show(df.plot(x='Day', y=['Tom', 'Harry', 'James'], kind='box'))"
      ],
      "metadata": {
        "colab": {
          "base_uri": "https://localhost:8080/",
          "height": 1000
        },
        "id": "-IIPVVOVS1Rd",
        "outputId": "192a0010-7df8-480b-9fcd-82381b4a6316"
      },
      "execution_count": 91,
      "outputs": [
        {
          "output_type": "stream",
          "name": "stdout",
          "text": [
            "   Day   Tom  Harry  James\n",
            "0  Mon  1600   1400   1100\n",
            "1  Tue  1000    800   1100\n",
            "2  Wed  1450   1250   1050\n",
            "3  Thu   800    700    900\n",
            "4  Fri  1900   1700   1100\n",
            "5  Sat  1200   1100   1000\n",
            "6  Sun  1000    900   1100\n"
          ]
        },
        {
          "output_type": "display_data",
          "data": {
            "text/plain": [
              "<Figure size 640x480 with 1 Axes>"
            ],
            "image/png": "[encoded data removed]"
          },
          "metadata": {}
        },
        {
          "output_type": "display_data",
          "data": {
            "text/plain": [
              "<Figure size 640x480 with 1 Axes>"
            ],
            "image/png": "[encoded data removed]"
          },
          "metadata": {}
        },
        {
          "output_type": "display_data",
          "data": {
            "text/plain": [
              "<Figure size 640x480 with 1 Axes>"
            ],
            "image/png": "[encoded data removed]"
          },
          "metadata": {}
        }
      ]
    },
    {
      "cell_type": "code",
      "source": [],
      "metadata": {
        "id": "McbHAXfqS1Hu"
      },
      "execution_count": null,
      "outputs": []
    }
  ]
}