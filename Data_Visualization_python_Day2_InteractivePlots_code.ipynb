{
  "cells": [
    {
      "cell_type": "markdown",
      "metadata": {
        "id": "view-in-github",
        "colab_type": "text"
      },
      "source": [
        "<a href=\"https://colab.research.google.com/github/dilip-ksa/dilip_ml_pythondemo/blob/main/Data_Visualization_python_Day2_InteractivePlots_code.ipynb\" target=\"_parent\"><img src=\"https://colab.research.google.com/assets/colab-badge.svg\" alt=\"Open In Colab\"/></a>"
      ]
    },
    {
      "cell_type": "code",
      "execution_count": null,
      "id": "66677980",
      "metadata": {
        "id": "66677980"
      },
      "outputs": [],
      "source": [
        "#######################################################\n",
        "#######################################################\n",
        "############    COPYRIGHT - DATA SOCIETY   ############\n",
        "#######################################################\n",
        "#######################################################\n",
        "\n",
        "## INTERACTIVEVISUALIZATIONWITHBOKEH/INTERACTIVEPLOTS/INTERACTIVEVISUALIZATIONWITHBOKEH INTERACTIVEPLOTS 1 ##\n",
        "\n",
        "## NOTE: To run individual pieces of code, select the line of code and\n",
        "##       press ctrl + enter for PCs or command + enter for Macs\n",
        "\n",
        "\n"
      ]
    },
    {
      "cell_type": "code",
      "execution_count": null,
      "id": "88e31d86",
      "metadata": {
        "id": "88e31d86"
      },
      "outputs": [],
      "source": [
        "#=================================================-\n",
        "#### Slide 9: Load the libraries  ####\n",
        "\n",
        "import pandas as pd\n",
        "import numpy as np\n",
        "import os\n",
        "import matplotlib.pyplot as plt\n",
        "\n",
        "from bokeh.io import output_notebook\n",
        "from bokeh.plotting import figure, output_file, show, output_notebook, save\n",
        "from bokeh.transform import factor_cmap, factor_mark\n",
        "from bokeh.layouts import column, row, gridplot\n",
        "from bokeh.models import HoverTool, ColumnDataSource, NumeralTickFormatter, GroupFilter, CDSView\n",
        "import ipywidgets as widgets\n",
        "from ipywidgets import interact, interact_manual\n",
        "\n",
        "\n"
      ]
    },
    {
      "cell_type": "code",
      "execution_count": null,
      "id": "415153f6",
      "metadata": {
        "id": "415153f6"
      },
      "outputs": [],
      "source": [
        "#=================================================-\n",
        "#### Slide 10: Bokeh: simple plot  ####\n",
        "\n",
        "# Input the sample data below.\n",
        "x_values = [1, 2, 3, 4, 5, 6]\n",
        "y_values = [6, 7, 2, 3, 6, 4]\n",
        "\n",
        "\n",
        "\n"
      ]
    },
    {
      "cell_type": "code",
      "execution_count": null,
      "id": "4157b503",
      "metadata": {
        "id": "4157b503"
      },
      "outputs": [],
      "source": [
        "#=================================================-\n",
        "#### Slide 11: Bokeh: simple plot  ####\n",
        "\n",
        "# Set the output method\n",
        "output_notebook()\n",
        "\n",
        "p = figure()\n",
        "p.scatter(x = x_values, y = y_values, marker=\"circle\")\n",
        "show(p)\n",
        "\n",
        "\n"
      ]
    },
    {
      "cell_type": "code",
      "execution_count": null,
      "id": "96cccc64",
      "metadata": {
        "id": "96cccc64"
      },
      "outputs": [],
      "source": [
        "#=================================================-\n",
        "#### Slide 12: Bokeh: add size, color, and opacity  ####\n",
        "\n",
        "# Create the blank plot.\n",
        "p = figure(width = 400, height = 400)\n",
        "\n",
        "# Add a circle glyph with a size, color, and alpha.\n",
        "p.scatter(x_values,\n",
        "          y_values,\n",
        "          size = 20,\n",
        "          color = \"red\",\n",
        "          alpha = 0.7,\n",
        "          marker=\"circle\")\n",
        "show(p)\n",
        "\n",
        "\n"
      ]
    },
    {
      "cell_type": "code",
      "execution_count": null,
      "id": "4b8aa745",
      "metadata": {
        "id": "4b8aa745"
      },
      "outputs": [],
      "source": [
        "#=================================================-\n",
        "#### Slide 13: Bokeh: triangle glyph  ####\n",
        "\n",
        "p = figure(width = 400, height = 400)\n",
        "\n",
        "p.line(x_values,\n",
        "       y_values,\n",
        "       color = 'red')\n",
        "\n",
        "p.scatter(x_values,\n",
        "          y_values,\n",
        "          size = 20,\n",
        "          color = \"darkseagreen\",\n",
        "          alpha = 0.7,\n",
        "          marker=\"triangle\")\n",
        "show(p)\n",
        "\n",
        "\n",
        "#######################################################\n",
        "####  CONGRATULATIONS ON COMPLETING THIS MODULE!   ####\n",
        "#######################################################\n"
      ]
    },
    {
      "cell_type": "code",
      "execution_count": null,
      "id": "7b6d0020",
      "metadata": {
        "id": "7b6d0020"
      },
      "outputs": [],
      "source": [
        "#######################################################\n",
        "#######################################################\n",
        "############    COPYRIGHT - DATA SOCIETY   ############\n",
        "#######################################################\n",
        "#######################################################\n",
        "\n",
        "## INTERACTIVEVISUALIZATIONWITHBOKEH/INTERACTIVEPLOTS/INTERACTIVEVISUALIZATIONWITHBOKEH INTERACTIVEPLOTS 2 ##\n",
        "\n",
        "## NOTE: To run individual pieces of code, select the line of code and\n",
        "##       press ctrl + enter for PCs or command + enter for Macs\n",
        "\n",
        "\n"
      ]
    },
    {
      "cell_type": "code",
      "execution_count": null,
      "id": "1f437235",
      "metadata": {
        "id": "1f437235"
      },
      "outputs": [],
      "source": [
        "#=================================================-\n",
        "#### Slide 2: Directory settings  ####\n",
        "\n",
        "# Set 'main_dir' to location of the project folder\n",
        "from pathlib import Path\n",
        "home_dir = Path(\".\").resolve()\n",
        "main_dir = home_dir.parent.parent\n",
        "print(main_dir)\n",
        "data_dir = str(main_dir) + \"/data\"\n",
        "print(data_dir)\n",
        "\n",
        "plot_dir = str(main_dir) + \"/plots\"\n",
        "print(plot_dir)\n",
        "\n",
        "\n"
      ]
    },
    {
      "cell_type": "code",
      "execution_count": null,
      "id": "09f2c9d8",
      "metadata": {
        "id": "09f2c9d8"
      },
      "outputs": [],
      "source": [
        "#=================================================-\n",
        "#### Slide 5: Load data into Python  ####\n",
        "\n",
        "df = pd.read_csv(str(data_dir)+\"/\"+ 'healthcare-dataset-stroke-data.csv')\n",
        "print(df.head())\n",
        "\n",
        "\n"
      ]
    },
    {
      "cell_type": "code",
      "execution_count": null,
      "id": "f20c9c42",
      "metadata": {
        "id": "f20c9c42"
      },
      "outputs": [],
      "source": [
        "#=================================================-\n",
        "#### Slide 6: Subset data  ####\n",
        "\n",
        "df = df[['age', 'avg_glucose_level', 'heart_disease', 'ever_married', 'hypertension', 'Residence_type', 'gender', 'smoking_status', 'work_type', 'stroke']]\n",
        "print(df.head())\n",
        "\n",
        "\n"
      ]
    },
    {
      "cell_type": "code",
      "execution_count": null,
      "id": "595c0b66",
      "metadata": {
        "id": "595c0b66"
      },
      "outputs": [],
      "source": [
        "#=================================================-\n",
        "#### Slide 7: Convert target to binary  ####\n",
        "\n",
        "# Target not binary - calculate the mean and assign the above mean to 1 and below to 0\n",
        "print(df['stroke'].value_counts())\n",
        "\n",
        "\n"
      ]
    },
    {
      "cell_type": "code",
      "execution_count": null,
      "id": "35cd686f",
      "metadata": {
        "id": "35cd686f"
      },
      "outputs": [],
      "source": [
        "#=================================================-\n",
        "#### Slide 10: The data at first glance  ####\n",
        "\n",
        "# The first 3 rows.\n",
        "print(df.head(3))\n",
        "# The data types.\n",
        "print(df.dtypes)\n",
        "print(df['stroke'].value_counts())\n",
        "\n",
        "\n"
      ]
    },
    {
      "cell_type": "code",
      "execution_count": null,
      "id": "d8c5ea3c",
      "metadata": {
        "id": "d8c5ea3c"
      },
      "outputs": [],
      "source": [
        "#=================================================-\n",
        "#### Slide 11: Data prep: label target data  ####\n",
        "\n",
        "df['Target_class'] = np.where(df['stroke']==1, 'affected','not_affected')\n",
        "\n",
        "\n"
      ]
    },
    {
      "cell_type": "code",
      "execution_count": null,
      "id": "a152f093",
      "metadata": {
        "id": "a152f093"
      },
      "outputs": [],
      "source": [
        "#=================================================-\n",
        "#### Slide 12: Data prep: check for NAs  ####\n",
        "\n",
        " # Check for NAs.\n",
        "print(df.isnull().sum())\n",
        "percent_missing = df.isnull().sum() * 100 / len(df)\n",
        "print(percent_missing)\n",
        "\n",
        "\n"
      ]
    },
    {
      "cell_type": "code",
      "execution_count": null,
      "id": "7310970a",
      "metadata": {
        "id": "7310970a"
      },
      "outputs": [],
      "source": [
        "#=================================================-\n",
        "#### Slide 13: Data prep: check for NAs  ####\n",
        "\n",
        "# Delete columns containing either 50% or more than 50% NaN Values\n",
        "perc = 50.0\n",
        "min_count =  int(((100-perc)/100)*df.shape[0] + 1)\n",
        "df = df.dropna(axis=1,\n",
        "               thresh=min_count)\n",
        "print(df.shape)\n",
        "# Function to impute NA in both numeric and categorical columns\n",
        "def fillna(df):\n",
        "# Fill numerical columns with mean\n",
        "    numerical_columns = df.select_dtypes(include=['number'])\n",
        "    numerical_columns = numerical_columns.fillna(numerical_columns.mean())\n",
        "\n",
        "    # Fill categorical columns with median\n",
        "    categorical_columns = df.select_dtypes(exclude=['number'])\n",
        "    categorical_columns = categorical_columns.fillna(categorical_columns.mode().iloc[0])\n",
        "\n",
        "    # Combine the numerical and categorical columns back into the original DataFrame\n",
        "    filled_df = pd.concat([numerical_columns, categorical_columns], axis=1)\n",
        "    return filled_df\n",
        "\n",
        "df = fillna(df)\n",
        "\n",
        "\n"
      ]
    },
    {
      "cell_type": "code",
      "execution_count": null,
      "id": "830dfa18",
      "metadata": {
        "id": "830dfa18"
      },
      "outputs": [],
      "source": [
        "#=================================================-\n",
        "#### Slide 15: Use stroke data for plots  ####\n",
        "\n",
        "p = figure(title = \"age vs avg_glucose_level\",\n",
        "           x_axis_label = 'age',\n",
        "           y_axis_label = 'avg_glucose_level',\n",
        "           width = 600, height = 600)\n",
        "\n",
        "p.scatter(df['age'],\n",
        "          df['avg_glucose_level'],\n",
        "          size = 20,\n",
        "          color = \"plum\",\n",
        "          alpha = 0.2,\n",
        "          marker=\"diamond\")\n",
        "show(p)\n",
        "\n",
        "\n",
        "\n",
        "\n"
      ]
    },
    {
      "cell_type": "code",
      "execution_count": null,
      "id": "25e19dc4",
      "metadata": {
        "id": "25e19dc4"
      },
      "outputs": [],
      "source": [
        "#=================================================-\n",
        "#### Slide 16: vbar() and hbar()  ####\n",
        "\n",
        "df.stroke.value_counts()\n",
        "p = figure(width=400, height=400)\n",
        "\n",
        "p.vbar(x = [0, 1],\n",
        "       width = 0.2,\n",
        "       bottom = 0,\n",
        "       top = df.stroke.value_counts(),\n",
        "       color = \"firebrick\")\n",
        "\n",
        "show(p)\n",
        "\n",
        "\n"
      ]
    },
    {
      "cell_type": "code",
      "execution_count": null,
      "id": "6df1661a",
      "metadata": {
        "id": "6df1661a"
      },
      "outputs": [],
      "source": [
        "#=================================================-\n",
        "#### Slide 17: vbar() and hbar() (cont'd)  ####\n",
        "\n",
        "p = figure(width = 400, height = 400)\n",
        "\n",
        "p.hbar(y = [0, 1],\n",
        "       height = 0.2,\n",
        "       left = 0,\n",
        "       right = df.stroke.value_counts(),\n",
        "       color = \"navy\")\n",
        "\n",
        "show(p)\n",
        "\n",
        "\n"
      ]
    },
    {
      "cell_type": "code",
      "execution_count": null,
      "id": "d11f0cf5",
      "metadata": {
        "id": "d11f0cf5"
      },
      "outputs": [],
      "source": [
        "#=================================================-\n",
        "#### Slide 18: Markers for categorical data  ####\n",
        "\n",
        "LEVELS = ['not_affected', 'affected']\n",
        "MARKERS = ['hex', 'triangle']\n",
        "\n",
        "p = figure(title = \"Age vs average glucose level\",\n",
        "           x_axis_label = 'age',\n",
        "           y_axis_label = 'avg_glucose_level')\n",
        "\n",
        "\n",
        "\n"
      ]
    },
    {
      "cell_type": "code",
      "execution_count": null,
      "id": "66617815",
      "metadata": {
        "id": "66617815"
      },
      "outputs": [],
      "source": [
        "#=================================================-\n",
        "#### Slide 19: Markers for categorical data (cont'd)  ####\n",
        "\n",
        "p.scatter(\"age\", \"avg_glucose_level\",\n",
        "           source = df,\n",
        "           legend_label = \"Target_class\",\n",
        "           fill_alpha = 0.1,\n",
        "           size = 6,\n",
        "           marker = factor_mark('Target_class',\n",
        "                               MARKERS,\n",
        "                               LEVELS),\n",
        "           color = factor_cmap('Target_class',\n",
        "                             'Category10_7',\n",
        "                              LEVELS))\n",
        "show(p)\n",
        "\n",
        "\n",
        "#######################################################\n",
        "####  CONGRATULATIONS ON COMPLETING THIS MODULE!   ####\n",
        "#######################################################\n"
      ]
    },
    {
      "cell_type": "code",
      "execution_count": null,
      "id": "bce8b05a",
      "metadata": {
        "id": "bce8b05a"
      },
      "outputs": [],
      "source": [
        "#######################################################\n",
        "#######################################################\n",
        "############    COPYRIGHT - DATA SOCIETY   ############\n",
        "#######################################################\n",
        "#######################################################\n",
        "\n",
        "## INTERACTIVEVISUALIZATIONWITHBOKEH/INTERACTIVEPLOTS/INTERACTIVEVISUALIZATIONWITHBOKEH INTERACTIVEPLOTS 3 ##\n",
        "\n",
        "## NOTE: To run individual pieces of code, select the line of code and\n",
        "##       press ctrl + enter for PCs or command + enter for Macs\n",
        "\n",
        "\n"
      ]
    },
    {
      "cell_type": "code",
      "execution_count": null,
      "id": "9e6e4479",
      "metadata": {
        "id": "9e6e4479"
      },
      "outputs": [],
      "source": [
        "#=================================================-\n",
        "#### Slide 4: Laying out plots and plot tools  ####\n",
        "\n",
        "# Set the output method\n",
        "output_notebook()\n",
        "\n",
        "tools = [\"box_select\", \"hover\", \"reset\"]\n",
        "\n",
        "# create a new plot\n",
        "p1 = figure(title = \"age vs avg_glucose_level\",\n",
        "           width = 400, height = 400,\n",
        "           tools = tools)\n",
        "\n",
        "p1.xaxis.axis_label = 'age'\n",
        "p1.yaxis.axis_label = 'avg_glucose_level'\n",
        "\n",
        "p1.scatter(df['age'],\n",
        "           df['avg_glucose_level'],\n",
        "           size = 20,\n",
        "           color = \"plum\",\n",
        "           alpha = 0.2,\n",
        "           marker=\"diamond\")\n",
        "\n",
        "\n",
        "\n"
      ]
    },
    {
      "cell_type": "code",
      "execution_count": null,
      "id": "4539af44",
      "metadata": {
        "id": "4539af44"
      },
      "outputs": [],
      "source": [
        "#=================================================-\n",
        "#### Slide 5: Laying out plots and widgets  ####\n",
        "\n",
        "# Create another one.\n",
        "LEVELS = ['not_affected', 'affected']\n",
        "MARKERS = ['hex', 'triangle']\n",
        "p2 = figure(width = 400, height = 400, tools = tools)\n",
        "\n",
        "p2.hbar(y=[0, 1],\n",
        "        height = 0.2,\n",
        "        left = 0,\n",
        "       right = df.stroke.value_counts(),\n",
        "       color = \"navy\")\n",
        "\n",
        "# Create another graph.\n",
        "p3 = figure(title = \"Age vs average glucose level\",\n",
        "            width = 400,\n",
        "            height = 400,\n",
        "            tools = tools)\n",
        "p3.xaxis.axis_label = 'age'\n",
        "p3.yaxis.axis_label = 'avg_glucose_level'\n",
        "\n",
        "p3.scatter(\"age\", \"avg_glucose_level\",\n",
        "            source = df,\n",
        "            legend_group = \"Target_class\",\n",
        "            fill_alpha = 0.1, size = 12,\n",
        "            marker = factor_mark('Target_class',\n",
        "                                MARKERS, LEVELS),\n",
        "            color = factor_cmap('Target_class',\n",
        "                            'Category10_7',\n",
        "                             LEVELS))\n",
        "\n",
        "\n",
        "\n"
      ]
    },
    {
      "cell_type": "code",
      "execution_count": null,
      "id": "9ec00263",
      "metadata": {
        "id": "9ec00263"
      },
      "outputs": [],
      "source": [
        "#=================================================-\n",
        "#### Slide 6: Laying out plots and widgets (cont'd)  ####\n",
        "\n",
        "# Put the results in a column and show.\n",
        "show(column(p1, p2, p3))\n",
        "\n",
        "\n"
      ]
    },
    {
      "cell_type": "code",
      "execution_count": null,
      "id": "70a153d6",
      "metadata": {
        "id": "70a153d6"
      },
      "outputs": [],
      "source": [
        "#=================================================-\n",
        "#### Slide 7: Laying out plots and widgets (cont'd)  ####\n",
        "\n",
        "# Put the results in a row.\n",
        "show(row(p1, p2, p3))\n",
        "\n",
        "\n"
      ]
    },
    {
      "cell_type": "code",
      "execution_count": null,
      "id": "9673154a",
      "metadata": {
        "id": "9673154a"
      },
      "outputs": [],
      "source": [
        "#=================================================-\n",
        "#### Slide 8: Laying out plots and widgets (cont'd)  ####\n",
        "\n",
        "grid = gridplot([[p1, p2],\n",
        "                [None, p3]])\n",
        "\n",
        "show(grid)\n",
        "\n",
        "\n"
      ]
    },
    {
      "cell_type": "code",
      "execution_count": null,
      "id": "0199ef2f",
      "metadata": {
        "id": "0199ef2f"
      },
      "outputs": [],
      "source": [
        "#=================================================-\n",
        "#### Slide 9: ColumnDataSource  ####\n",
        "\n",
        "# Import the ColumnDataSource class.\n",
        "from bokeh.models import ColumnDataSource\n",
        "\n",
        "# Convert dataframe to column data source.\n",
        "src = ColumnDataSource(df)\n",
        "\n",
        "\n"
      ]
    },
    {
      "cell_type": "code",
      "execution_count": null,
      "id": "129010dd",
      "metadata": {
        "id": "129010dd"
      },
      "outputs": [],
      "source": [
        "#=================================================-\n",
        "#### Slide 10: Customizing HoverTool  ####\n",
        "\n",
        "# Hover tool refers to our own data field using @ and\n",
        "# a position on the graph using $.\n",
        "hover = HoverTool(tooltips = [('Age', '@age'),\n",
        "                              ('Average glucose level', '@avg_glucose_level'),\n",
        "                              ('(x,y)', '($x, $y)')])\n",
        "\n",
        "p = figure(title = \"age vs avg_glucose_level\",\n",
        "           width=400, height=400,\n",
        "           x_axis_label = 'age',\n",
        "           y_axis_label = 'avg_glucose_level')\n",
        "\n",
        "p.scatter('age','avg_glucose_level', source = src, size=20, color = \"plum\", alpha=0.2, marker=\"diamond\")\n",
        "# Add the hover tool to the graph.\n",
        "p.add_tools(hover)\n",
        "\n",
        "\n"
      ]
    },
    {
      "cell_type": "code",
      "execution_count": null,
      "id": "95b98b49",
      "metadata": {
        "id": "95b98b49"
      },
      "outputs": [],
      "source": [
        "#=================================================-\n",
        "#### Slide 11: Customizing HoverTool (cont'd)  ####\n",
        "\n",
        "show(p)\n",
        "\n",
        "\n"
      ]
    },
    {
      "cell_type": "code",
      "execution_count": null,
      "id": "9169288a",
      "metadata": {
        "id": "9169288a"
      },
      "outputs": [],
      "source": [
        "#=================================================-\n",
        "#### Slide 12: Customizing HoverTool (cont'd)  ####\n",
        "\n",
        "# Hover tool refers to our own data field using @ and\n",
        "# a position on the graph using $.\n",
        "hover = HoverTool(tooltips = [('Age', '@age'),\n",
        "                          ('Average glucose level', '@avg_glucose_level'),\n",
        "                          ('(x,y)', '($x, $y)')])\n",
        "\n",
        "p = figure(title = \"age vs avg_glucose_level\",\n",
        "           width = 400, height = 400,\n",
        "          x_axis_label = 'ppl_total',\n",
        "          y_axis_label = 'num_adults')\n",
        "\n",
        "\n",
        "p.scatter('age','avg_glucose_level', source = src, size=20, color=\"plum\", alpha=0.2,\n",
        "          marker=\"diamond\", hover_fill_alpha=1.0, hover_fill_color='navy')\n",
        "\n",
        "# Add the hover tool to the graph.\n",
        "p.add_tools(hover)\n",
        "\n",
        "\n"
      ]
    },
    {
      "cell_type": "code",
      "execution_count": null,
      "id": "6b02af79",
      "metadata": {
        "id": "6b02af79"
      },
      "outputs": [],
      "source": [
        "#=================================================-\n",
        "#### Slide 13: Customizing HoverTool (cont'd)  ####\n",
        "\n",
        "show(p)\n",
        "\n",
        "\n"
      ]
    },
    {
      "cell_type": "code",
      "execution_count": null,
      "id": "66261302",
      "metadata": {
        "id": "66261302"
      },
      "outputs": [],
      "source": [
        "#=================================================-\n",
        "#### Slide 15: Highlighting data using HoverTool  ####\n",
        "\n",
        "# Store the data in a ColumnDataSource.\n",
        "stroke_cds = ColumnDataSource(df)\n",
        "# Specify the selection tools to be made available.\n",
        "select_tools = ['box_select', 'lasso_select', 'poly_select', 'tap', 'reset']\n",
        "# Create the figure.\n",
        "fig = figure(height = 400,\n",
        "             width = 600,\n",
        "             x_axis_label = 'age',\n",
        "             y_axis_label = 'avg_glucose_level',\n",
        "             title = 'Interactive scatterplot',\n",
        "             toolbar_location = 'below',\n",
        "             tools = select_tools)\n",
        "# Add square representing each layer.\n",
        "fig.scatter(\n",
        "    x='age',\n",
        "    y='avg_glucose_level',\n",
        "    source=df,\n",
        "    color='royalblue',\n",
        "    marker='square',\n",
        "    selection_color='deepskyblue',\n",
        "    nonselection_color='lightgray',\n",
        "    nonselection_alpha=0.3\n",
        ")\n",
        "\n",
        "\n"
      ]
    },
    {
      "cell_type": "code",
      "execution_count": null,
      "id": "c513a588",
      "metadata": {
        "id": "c513a588"
      },
      "outputs": [],
      "source": [
        "#=================================================-\n",
        "#### Slide 16: Customizing HoverTool  ####\n",
        "\n",
        "# Format the tooltip.\n",
        "tooltips = [\n",
        "            ('Age','@age'),\n",
        "            ('Average glucose level', '@avg_glucose_level')\n",
        "           ]\n",
        "\n",
        "# Add the HoverTool to the figure.\n",
        "fig.add_tools(HoverTool(tooltips=tooltips))\n",
        "\n",
        "# Visualize the graph.\n",
        "show(fig)\n",
        "\n",
        "\n"
      ]
    },
    {
      "cell_type": "code",
      "execution_count": null,
      "id": "08c3566b",
      "metadata": {
        "id": "08c3566b"
      },
      "outputs": [],
      "source": [
        "#=================================================-\n",
        "#### Slide 18: Customizing HoverTool (cont'd)  ####\n",
        "\n",
        "# Store the data in a ColumnDataSource.\n",
        "costa_cds = ColumnDataSource(df)\n",
        "# Format the tooltip.\n",
        "tooltips = [\n",
        "            ('Age','@age'),\n",
        "            ('Average glucose level', '@avg_glucose_level')\n",
        "           ]\n",
        "\n",
        "hover_glyph = fig.scatter(\n",
        "    x='age',\n",
        "    y='avg_glucose_level',\n",
        "    source=costa_cds,\n",
        "    size=15,\n",
        "    marker='circle',\n",
        "    alpha=0,\n",
        "    hover_fill_color='yellow',\n",
        "    hover_alpha=0.2\n",
        ")\n",
        "\n",
        "# Add the HoverTool to the figure.\n",
        "fig.add_tools(HoverTool(tooltips = tooltips,  renderers = [hover_glyph]))\n",
        "\n",
        "# Visualize the graph.\n",
        "show(fig)\n",
        "\n",
        "\n"
      ]
    },
    {
      "cell_type": "code",
      "execution_count": null,
      "id": "0db4821e",
      "metadata": {
        "id": "0db4821e"
      },
      "outputs": [],
      "source": [
        "#=================================================-\n",
        "#### Slide 19: Highlighting data using labels  ####\n",
        "\n",
        "stroke_labels = ColumnDataSource(df)\n",
        "\n",
        "# Create a view for the 'affected' group\n",
        "vul_view = CDSView(filter=GroupFilter(column_name='Target_class', group='affected'))\n",
        "# Create a view for the 'not_affected' group\n",
        "nonvul_view = CDSView(filter=GroupFilter(column_name='Target_class', group='not_affected'))\n",
        "\n",
        "\n"
      ]
    },
    {
      "cell_type": "code",
      "execution_count": null,
      "id": "f7bb9203",
      "metadata": {
        "id": "f7bb9203"
      },
      "outputs": [],
      "source": [
        "#=================================================-\n",
        "#### Slide 20: Highlighting data using labels (cont'd)  ####\n",
        "\n",
        "# Consolidate the common keyword arguments in dictionaries.\n",
        "common_figure_kwargs = {\n",
        "    'width': 400,\n",
        "    'height':500,\n",
        "    'x_axis_label': 'age',\n",
        "    'y_axis_label' : 'avg_glucose_level',\n",
        "    'toolbar_location': None}\n",
        "common_circle_kwargs = {\n",
        "    'x': 'age',\n",
        "    'y': 'avg_glucose_level',\n",
        "    'source': stroke_labels,\n",
        "    'size': 12,\n",
        "    'alpha': 0.7,}\n",
        "common_vul_kwargs = {\n",
        "    'view': vul_view,\n",
        "    'color': '#002859',\n",
        "    'legend_label': 'affected'}\n",
        "common_non_kwargs = {\n",
        "    'view': nonvul_view,\n",
        "    'color': '#FFC324',\n",
        "    'legend_label': 'not_affected'}\n",
        "\n",
        "\n",
        "\n"
      ]
    },
    {
      "cell_type": "code",
      "execution_count": null,
      "id": "fbbeb97d",
      "metadata": {
        "id": "fbbeb97d"
      },
      "outputs": [],
      "source": [
        "#=================================================-\n",
        "#### Slide 21: Highlighting data using labels (cont'd)  ####\n",
        "\n",
        "hide_fig = figure(**common_figure_kwargs,\n",
        "                  title = 'Click Legend to HIDE Data')\n",
        "hide_fig.scatter(**common_circle_kwargs, **common_vul_kwargs)\n",
        "hide_fig.scatter(**common_circle_kwargs, **common_non_kwargs)\n",
        "\n",
        "mute_fig = figure(**common_figure_kwargs, title = 'Click Legend to MUTE Data')\n",
        "mute_fig.scatter(**common_circle_kwargs, **common_vul_kwargs, muted_alpha=0.1, marker='circle')\n",
        "mute_fig.scatter(**common_circle_kwargs, **common_non_kwargs, muted_alpha=0.1, marker='circle')\n",
        "\n",
        "\n",
        "\n"
      ]
    },
    {
      "cell_type": "code",
      "execution_count": null,
      "id": "d5d21933",
      "metadata": {
        "id": "d5d21933"
      },
      "outputs": [],
      "source": [
        "#=================================================-\n",
        "#### Slide 22: Highlighting data using labels (cont'd)  ####\n",
        "\n",
        "hide_fig.legend.click_policy = 'hide'\n",
        "mute_fig.legend.click_policy = 'mute'\n",
        "\n",
        "# Visualize the graph.\n",
        "show(row(hide_fig, mute_fig))\n",
        "\n",
        "\n",
        "#######################################################\n",
        "####  CONGRATULATIONS ON COMPLETING THIS MODULE!   ####\n",
        "#######################################################\n"
      ]
    },
    {
      "cell_type": "code",
      "execution_count": null,
      "id": "0fd4f307",
      "metadata": {
        "id": "0fd4f307"
      },
      "outputs": [],
      "source": [
        "#######################################################\n",
        "#######################################################\n",
        "############    COPYRIGHT - DATA SOCIETY   ############\n",
        "#######################################################\n",
        "#######################################################\n",
        "\n",
        "## INTERACTIVEVISUALIZATIONWITHBOKEH/INTERACTIVEPLOTS/INTERACTIVEVISUALIZATIONWITHBOKEH INTERACTIVEPLOTS 4 ##\n",
        "\n",
        "## NOTE: To run individual pieces of code, select the line of code and\n",
        "##       press ctrl + enter for PCs or command + enter for Macs\n",
        "\n",
        "\n"
      ]
    },
    {
      "cell_type": "code",
      "execution_count": null,
      "id": "d28a42bd",
      "metadata": {
        "id": "d28a42bd"
      },
      "outputs": [],
      "source": [
        "#=================================================-\n",
        "#### Slide 4: Adding widgets to graphs (cont'd)  ####\n",
        "\n",
        "@interact_manual\n",
        "def scatter_plot(x = list(df.columns), y = list(df.columns)):\n",
        "    p = figure(title = f'{x} vs {y}',\n",
        "               x_axis_label = x,\n",
        "               y_axis_label = y)\n",
        "\n",
        "    p.scatter(x = x,\n",
        "              y = y,\n",
        "              source = df,\n",
        "              size=20, color = \"thistle\", alpha = 0.2,\n",
        "              marker=\"circle\")\n",
        "\n",
        "    show(p)\n",
        "\n",
        "\n",
        "\n"
      ]
    },
    {
      "cell_type": "code",
      "execution_count": null,
      "id": "3abe5081",
      "metadata": {
        "id": "3abe5081"
      },
      "outputs": [],
      "source": [
        "#=================================================-\n",
        "#### Slide 7: Saving your graph  ####\n",
        "\n",
        "x_values = [1, 2, 3, 4, 5, 6]\n",
        "y_values = [6, 7, 2, 3, 6, 4]\n",
        "\n",
        "# Create figure.\n",
        "p = figure(width = 400, height = 400)\n",
        "\n",
        "# Add glyphs to it.\n",
        "p.scatter(x_values, y_values, size=20, color=\"darkseagreen\", alpha=0.7, marker=\"triangle\")\n",
        "\n",
        "# Save your plot.\n",
        "output_file(plot_dir + \"/bokeh-simple-plot.html\", mode = 'inline')\n",
        "save(p)\n",
        "\n",
        "\n"
      ]
    },
    {
      "cell_type": "code",
      "execution_count": null,
      "id": "14c63394",
      "metadata": {
        "id": "14c63394"
      },
      "outputs": [],
      "source": [
        "#=================================================-\n",
        "#### Slide 10: Exercise   ####\n",
        "\n",
        "\n",
        "\n",
        "\n",
        "#######################################################\n",
        "####  CONGRATULATIONS ON COMPLETING THIS MODULE!   ####\n",
        "#######################################################\n"
      ]
    }
  ],
  "metadata": {
    "language": "python",
    "colab": {
      "provenance": [],
      "include_colab_link": true
    }
  },
  "nbformat": 4,
  "nbformat_minor": 5
}