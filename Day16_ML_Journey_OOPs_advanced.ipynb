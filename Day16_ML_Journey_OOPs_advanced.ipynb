{
  "nbformat": 4,
  "nbformat_minor": 0,
  "metadata": {
    "colab": {
      "provenance": [],
      "name": "Day16_ML_Journey_OOPs_advanced.ipynb",
      "authorship_tag": "ABX9TyNWtogzUOUPlghM5IJgiVI2",
      "include_colab_link": true
    },
    "kernelspec": {
      "name": "python3",
      "display_name": "Python 3"
    },
    "language_info": {
      "name": "python"
    }
  },
  "cells": [
    {
      "cell_type": "markdown",
      "metadata": {
        "id": "view-in-github",
        "colab_type": "text"
      },
      "source": [
        "<a href=\"https://colab.research.google.com/github/dilip-ksa/dilip_ml_pythondemo/blob/main/Day16_ML_Journey_OOPs_advanced.ipynb\" target=\"_parent\"><img src=\"https://colab.research.google.com/assets/colab-badge.svg\" alt=\"Open In Colab\"/></a>"
      ]
    },
    {
      "cell_type": "code",
      "source": [
        "###################  OOPs  ##################\n",
        "class Person:\n",
        "  def __init__(self, name, age, address):\n",
        "    self.name = name\n",
        "    self.age = age\n",
        "    self.address = address\n",
        "  def display(self):\n",
        "    print('Name:',self.name, ', Age:',self.age, ', Address:',self.address)\n",
        "\n",
        "p1 = Person(\"Dinesh\", 25, \"Mumbai\")\n",
        "p1.display()"
      ],
      "metadata": {
        "colab": {
          "base_uri": "https://localhost:8080/"
        },
        "id": "EOfkDwUXe6GY",
        "outputId": "473a504f-0f6c-4099-8dfa-9d904d4da1ba"
      },
      "execution_count": 1,
      "outputs": [
        {
          "output_type": "stream",
          "name": "stdout",
          "text": [
            "Name: Dinesh , Age: 25 , Address: Mumbai\n"
          ]
        }
      ]
    },
    {
      "cell_type": "code",
      "source": [
        "class Calculator:\n",
        "  n1 = 0\n",
        "  n2 = 0\n",
        "  res = 0\n",
        "  def __init__(self, n1, n2):\n",
        "    self.n1 = n1\n",
        "    self.n2 = n2\n",
        "    self.res = 0\n",
        "\n",
        "  def add(self, n1, n2):\n",
        "    self.res = n1 + n2\n",
        "\n",
        "  def sub(self, n1, n2):\n",
        "    self.res = n1 - n2\n",
        "\n",
        "  def mul(self, n1, n2):\n",
        "    self.res = n1 * n2\n",
        "\n",
        "  def div(self, n1, n2):\n",
        "    self.res = n1 / n2\n",
        "\n",
        "c1 = Calculator(10,20)\n",
        "print(c1.n1, c1.n2, c1.res)\n",
        "c1.add(40,20)\n",
        "print(c1.res)\n",
        "c1.sub(40,20)\n",
        "print(c1.res)\n",
        "c1.mul(40,20)\n",
        "print(c1.res)\n",
        "c1.div(40,20)\n",
        "print(c1.res)\n"
      ],
      "metadata": {
        "id": "Kd5jp-YIe6Jp",
        "colab": {
          "base_uri": "https://localhost:8080/"
        },
        "outputId": "d7b37996-b600-4878-dd67-10fa5ef62ee3"
      },
      "execution_count": null,
      "outputs": [
        {
          "output_type": "stream",
          "name": "stdout",
          "text": [
            "10 20 0\n",
            "60\n",
            "20\n",
            "800\n",
            "2.0\n"
          ]
        }
      ]
    },
    {
      "cell_type": "code",
      "source": [
        "######################  Day 15  ##############################\n",
        "# Class example\n",
        "\n",
        "class Sample:\n",
        "  def __init__(self):\n",
        "    self.data = 10\n",
        "\n",
        "  def read_input(self):\n",
        "    self.data = input(\"Enter some text\")\n",
        "\n",
        "  def process_input(self):\n",
        "    self.data = self.data.upper()\n",
        "\n",
        "  def display_input(self):\n",
        "    print(self.data)\n",
        "\n",
        "s1 = Sample()\n",
        "s1.display_input()\n",
        "s1.read_input()\n",
        "s1.display_input()\n",
        "s1.process_input()\n",
        "s1.display_input()\n",
        "\n",
        "s2 = Sample()\n",
        "s2.display_input()\n",
        "s2.read_input()\n",
        "s2.process_input()\n",
        "s2.display_input()"
      ],
      "metadata": {
        "id": "q90gp2xje6NN",
        "colab": {
          "base_uri": "https://localhost:8080/"
        },
        "outputId": "fcb05028-237a-4539-af13-c597a07e61c6"
      },
      "execution_count": null,
      "outputs": [
        {
          "output_type": "stream",
          "name": "stdout",
          "text": [
            "10\n",
            "Enter some textTest\n",
            "Test\n",
            "TEST\n",
            "10\n",
            "Enter some textWelcome\n",
            "WELCOME\n"
          ]
        }
      ]
    },
    {
      "cell_type": "code",
      "source": [
        "class Calculator1:\n",
        "  def __init__(self):\n",
        "    self.n1 = 0\n",
        "    self.n2 = 0\n",
        "    self.res = 0\n",
        "\n",
        "  def read_input(self):\n",
        "    self.n1 = int(input(\"Enter first number :\"))\n",
        "    self.n2 = int(input(\"Enter second number :\"))\n",
        "\n",
        "  def add(self):\n",
        "    self.res = self.n1 + self.n2\n",
        "\n",
        "  def sub(self):\n",
        "    self.res = self.n1 - self.n2\n",
        "\n",
        "  def mul(self):\n",
        "    self.res = self.n1 * self.n2\n",
        "\n",
        "  def div(self):\n",
        "    self.res = self.n1 / self.n2\n",
        "\n",
        "  def display(self):\n",
        "    return self.res\n",
        "\n",
        "  def compare(self, obj):\n",
        "    if self.res == obj.res:\n",
        "      return True\n",
        "    else:\n",
        "      return False\n",
        "\n",
        "\n",
        "c1 = Calculator1()\n",
        "c1.read_input()\n",
        "c1.sub()\n",
        "print('Subtraction result:', c1.display())\n",
        "c1.mul()\n",
        "print('Multiplication result:', c1.display())\n",
        "c1.div()\n",
        "print('Division result:', c1.display())\n",
        "c1.add()\n",
        "print('Addition result:', c1.display())\n",
        "\n",
        "c2 = Calculator1()\n",
        "c2.read_input()\n",
        "c2.add()\n",
        "print('\\nAddition result:', c2.display())\n",
        "c1.compare(c2)"
      ],
      "metadata": {
        "id": "dgKpy3vUehRR",
        "colab": {
          "base_uri": "https://localhost:8080/"
        },
        "outputId": "b7dadbfe-7bf3-49fe-b19b-693e676ad2a2"
      },
      "execution_count": null,
      "outputs": [
        {
          "output_type": "stream",
          "name": "stdout",
          "text": [
            "Enter first number :50\n",
            "Enter second number :10\n",
            "Subtraction result: 40\n",
            "Multiplication result: 500\n",
            "Division result: 5.0\n",
            "Addition result: 60\n",
            "Enter first number :40\n",
            "Enter second number :20\n",
            "\n",
            "Addition result: 60\n"
          ]
        },
        {
          "output_type": "execute_result",
          "data": {
            "text/plain": [
              "True"
            ]
          },
          "metadata": {},
          "execution_count": 16
        }
      ]
    },
    {
      "cell_type": "code",
      "source": [
        "class Student:\n",
        "  teacher = 'Mr. Patil'\n",
        "  def __init__(self):\n",
        "    self.name = ''\n",
        "    self.rollno = 0\n",
        "    self.math = 0\n",
        "    self.lit = 0\n",
        "    self.science = 0\n",
        "    self.hist = 0\n",
        "    self.average = 0\n",
        "\n",
        "  def read_input(self):\n",
        "    self.name = input(\"Enter student name :\")\n",
        "    self.rollno = int(input(\"Enter roll number :\"))\n",
        "    self.math = int(input(\"Enter marks in Maths :\"))\n",
        "    self.lit = int(input(\"Enter marks in Literature :\"))\n",
        "    self.science = int(input(\"Enter marks in Science :\"))\n",
        "    self.hist = int(input(\"Enter marks in History :\"))\n",
        "  def calculate_average(self):\n",
        "    self.average = (self.math + self.lit + self.science + self.hist) / 4\n",
        "\n",
        "  def display_details(self):\n",
        "    print('Student Name:', self.name, ', Roll no:', self.rollno, ', Average mark:', self.average)\n",
        "\n",
        "s1 = Student()\n",
        "s1.read_input()\n",
        "s1.calculate_average()\n",
        "s1.display_details()\n",
        "\n",
        "print('Teacher name:', Student.teacher)\n",
        "\n",
        "s2 = Student()\n",
        "s2.teacher = 'John'\n",
        "print('S2 Teacher name:', s2.teacher)\n",
        "print('S1 Teacher name:', s2.teacher)"
      ],
      "metadata": {
        "colab": {
          "base_uri": "https://localhost:8080/"
        },
        "id": "SEREjf8Do-rd",
        "outputId": "a6fb0d4b-7d05-4492-9d0a-689933939bdd"
      },
      "execution_count": null,
      "outputs": [
        {
          "output_type": "stream",
          "name": "stdout",
          "text": [
            "Enter student name :dsf\n",
            "Enter roll number :34\n",
            "Enter marks in Maths :5\n",
            "Enter marks in Literature :65\n",
            "Enter marks in Science :34\n",
            "Enter marks in History :5\n",
            "Student Name: dsf , Roll no: 34  Average mark: 27.25\n",
            "Teacher name: Mr. Patil\n",
            "S2 Teacher name: John\n",
            "S1 Teacher name: John\n"
          ]
        }
      ]
    },
    {
      "cell_type": "code",
      "source": [
        "class Employee:\n",
        "  def __init__(self, n, id, dep, sal):\n",
        "    self.name = n\n",
        "    self.empid = id\n",
        "    self.dept = dep\n",
        "    self.salary = sal\n",
        "    self.bonus = 20\n",
        "    self.total_salary = 0\n",
        "\n",
        "  def calculate_salary(self):\n",
        "    self.total_salary = self.salary + self.bonus\n",
        "\n",
        "  def display_details(self):\n",
        "    print('Employee Name:', self.name, ', Employee ID:', self.empid, '\\nDepartment:', self.dept, ', Salary:', self.salary, ', Bonus:', self.bonus, ', Total Salary:', self.total_salary)\n",
        "\n",
        "  def compare(self, obj, any):\n",
        "    if self.total_salary == obj.total_salary:\n",
        "      return True\n",
        "    else:\n",
        "      return False\n",
        "\n",
        "e1 = Employee('Tom', 101, 'IT', 5000)\n",
        "e1.calculate_salary()\n",
        "e1.display_details()\n",
        "\n"
      ],
      "metadata": {
        "colab": {
          "base_uri": "https://localhost:8080/"
        },
        "id": "Lmo7IyFuo-u2",
        "outputId": "7e1fd3b3-d0f4-4568-de95-6e0f3bc5f9f8"
      },
      "execution_count": null,
      "outputs": [
        {
          "output_type": "stream",
          "name": "stdout",
          "text": [
            "Employee Name: Tom , Employee ID: 101 \n",
            "Department: IT , Salary: 5000 , Bonus: 20 , Total Salary: 5020\n"
          ]
        }
      ]
    },
    {
      "cell_type": "code",
      "source": [
        "#########################  Day 16  ###########################"
      ],
      "metadata": {
        "id": "7RwJDUmVo-yP"
      },
      "execution_count": null,
      "outputs": []
    },
    {
      "cell_type": "code",
      "source": [],
      "metadata": {
        "id": "RJsNvKvmo-15"
      },
      "execution_count": null,
      "outputs": []
    },
    {
      "cell_type": "code",
      "source": [],
      "metadata": {
        "id": "wSUUygiso-4z"
      },
      "execution_count": null,
      "outputs": []
    },
    {
      "cell_type": "code",
      "source": [],
      "metadata": {
        "id": "_BniweL6o-8V"
      },
      "execution_count": null,
      "outputs": []
    },
    {
      "cell_type": "code",
      "source": [],
      "metadata": {
        "id": "AL1NiCmAo-_X"
      },
      "execution_count": null,
      "outputs": []
    },
    {
      "cell_type": "code",
      "source": [],
      "metadata": {
        "id": "rA3S3d9to_CT"
      },
      "execution_count": null,
      "outputs": []
    },
    {
      "cell_type": "code",
      "source": [],
      "metadata": {
        "id": "3dY_MVLpehUq"
      },
      "execution_count": null,
      "outputs": []
    }
  ]
}