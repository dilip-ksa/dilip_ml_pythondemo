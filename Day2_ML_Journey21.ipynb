{
  "nbformat": 4,
  "nbformat_minor": 0,
  "metadata": {
    "colab": {
      "provenance": [],
      "authorship_tag": "ABX9TyNJvitk9euGUygxwzMXCJ2e"
    },
    "kernelspec": {
      "name": "python3",
      "display_name": "Python 3"
    },
    "language_info": {
      "name": "python"
    }
  },
  "cells": [
    {
      "cell_type": "code",
      "execution_count": 1,
      "metadata": {
        "id": "DUlgtUeSJXT5",
        "outputId": "8d6bcd63-5233-4757-dce7-e20aa5330e74",
        "colab": {
          "base_uri": "https://localhost:8080/"
        }
      },
      "outputs": [
        {
          "output_type": "stream",
          "name": "stdout",
          "text": [
            "asdasff\n"
          ]
        }
      ],
      "source": [
        "print(\"asdasff\")"
      ]
    },
    {
      "cell_type": "code",
      "source": [
        "import keyword as kw\n",
        "print(kw.kwlist)"
      ],
      "metadata": {
        "id": "F_gh1abgKSVJ",
        "outputId": "256825f7-3278-4b83-ecad-b67842e2cf2f",
        "colab": {
          "base_uri": "https://localhost:8080/"
        }
      },
      "execution_count": 2,
      "outputs": [
        {
          "output_type": "stream",
          "name": "stdout",
          "text": [
            "['False', 'None', 'True', 'and', 'as', 'assert', 'async', 'await', 'break', 'class', 'continue', 'def', 'del', 'elif', 'else', 'except', 'finally', 'for', 'from', 'global', 'if', 'import', 'in', 'is', 'lambda', 'nonlocal', 'not', 'or', 'pass', 'raise', 'return', 'try', 'while', 'with', 'yield']\n"
          ]
        }
      ]
    }
  ]
}