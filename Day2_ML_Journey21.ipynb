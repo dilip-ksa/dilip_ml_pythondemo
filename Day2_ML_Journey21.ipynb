{
  "nbformat": 4,
  "nbformat_minor": 0,
  "metadata": {
    "colab": {
      "provenance": [],
      "authorship_tag": "ABX9TyNcdLkeo2J2mvcqPe+YIp/i"
    },
    "kernelspec": {
      "name": "python3",
      "display_name": "Python 3"
    },
    "language_info": {
      "name": "python"
    }
  },
  "cells": [
    {
      "cell_type": "code",
      "execution_count": null,
      "metadata": {
        "id": "DUlgtUeSJXT5",
        "colab": {
          "base_uri": "https://localhost:8080/"
        },
        "outputId": "8d6bcd63-5233-4757-dce7-e20aa5330e74"
      },
      "outputs": [
        {
          "output_type": "stream",
          "name": "stdout",
          "text": [
            "asdasff\n"
          ]
        }
      ],
      "source": [
        "print(\"asdasff\")"
      ]
    },
    {
      "cell_type": "code",
      "source": [
        "import keyword as kw\n",
        "print(kw.kwlist)"
      ],
      "metadata": {
        "colab": {
          "base_uri": "https://localhost:8080/"
        },
        "id": "F_gh1abgKSVJ",
        "outputId": "256825f7-3278-4b83-ecad-b67842e2cf2f"
      },
      "execution_count": null,
      "outputs": [
        {
          "output_type": "stream",
          "name": "stdout",
          "text": [
            "['False', 'None', 'True', 'and', 'as', 'assert', 'async', 'await', 'break', 'class', 'continue', 'def', 'del', 'elif', 'else', 'except', 'finally', 'for', 'from', 'global', 'if', 'import', 'in', 'is', 'lambda', 'nonlocal', 'not', 'or', 'pass', 'raise', 'return', 'try', 'while', 'with', 'yield']\n"
          ]
        }
      ]
    },
    {
      "cell_type": "code",
      "source": [
        "num = 23423554425353464365475754754642854098610493760394764381976023\n",
        "num"
      ],
      "metadata": {
        "id": "w1_ImnuMMHgL",
        "outputId": "ebe5c599-07cc-4c6c-ced4-674b15731434",
        "colab": {
          "base_uri": "https://localhost:8080/"
        }
      },
      "execution_count": null,
      "outputs": [
        {
          "output_type": "execute_result",
          "data": {
            "text/plain": [
              "23423554425353464365475754754642854098610493760394764381976023"
            ]
          },
          "metadata": {},
          "execution_count": 3
        }
      ]
    },
    {
      "cell_type": "code",
      "source": [
        "# variable annotation\n",
        "\n",
        "aa: int = 10\n",
        "print(aa)\n",
        "\n",
        "print(__annotations__['aa'])\n",
        "print(type(aa))"
      ],
      "metadata": {
        "id": "wiK_-JdbX_Mu",
        "outputId": "cceb0ff0-8b1c-4c1b-ae83-d52f6d662cb4",
        "colab": {
          "base_uri": "https://localhost:8080/"
        }
      },
      "execution_count": 1,
      "outputs": [
        {
          "output_type": "stream",
          "name": "stdout",
          "text": [
            "10\n",
            "<class 'int'>\n",
            "<class 'int'>\n"
          ]
        }
      ]
    },
    {
      "cell_type": "code",
      "source": [
        "a= 3+4j\n",
        "a\n",
        "print(type(a))"
      ],
      "metadata": {
        "id": "-287bCQjYaGI",
        "outputId": "7bbeb9e0-8a05-439f-9423-e1e6bba15e15",
        "colab": {
          "base_uri": "https://localhost:8080/"
        }
      },
      "execution_count": 2,
      "outputs": [
        {
          "output_type": "stream",
          "name": "stdout",
          "text": [
            "<class 'complex'>\n"
          ]
        }
      ]
    },
    {
      "cell_type": "code",
      "source": [],
      "metadata": {
        "id": "4kT-MvUEYf2v"
      },
      "execution_count": null,
      "outputs": []
    }
  ]
}