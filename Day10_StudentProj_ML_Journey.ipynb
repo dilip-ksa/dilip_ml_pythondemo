{
  "nbformat": 4,
  "nbformat_minor": 0,
  "metadata": {
    "colab": {
      "provenance": [],
      "name": "Day10_StudentProj_ML_Journey.ipynb",
      "authorship_tag": "ABX9TyNTAtD4DWQJmRy4g0PyuS8P",
      "include_colab_link": true
    },
    "kernelspec": {
      "name": "python3",
      "display_name": "Python 3"
    },
    "language_info": {
      "name": "python"
    }
  },
  "cells": [
    {
      "cell_type": "markdown",
      "metadata": {
        "id": "view-in-github",
        "colab_type": "text"
      },
      "source": [
        "<a href=\"https://colab.research.google.com/github/dilip-ksa/dilip_pythondemo/blob/main/Day10_StudentProj_ML_Journey.ipynb\" target=\"_parent\"><img src=\"https://colab.research.google.com/assets/colab-badge.svg\" alt=\"Open In Colab\"/></a>"
      ]
    },
    {
      "cell_type": "code",
      "source": [
        "## Mini project - Student database\n",
        "\n",
        "def create_student_database():\n",
        "    student_database = {}\n",
        "    return student_database\n",
        "\n",
        "def add_student(student_database):\n",
        "    usn = input(\"Enter student usn no: \")\n",
        "    name = input(\"Enter student name: \")\n",
        "    major = input(\"Enter student major: \")\n",
        "    student_database[usn] = {\"name\": name, \"major\": major}\n",
        "    print(\"Student\", name, \"added successfully!\")\n",
        "\n",
        "def find_student_info(student_database):\n",
        "    usn = input(\"Enter student usn no to search: \")\n",
        "    if usn in student_database:\n",
        "        print(\"Student info found for\", usn, \"is\", student_database.get(usn))\n",
        "    else:\n",
        "        print(\"Enter correct student usn no\")\n",
        "\n",
        "def display_student_database(student_database):\n",
        "  if student_database:\n",
        "    print(\"Student database content is\", student_database)\n",
        "  else:\n",
        "    print(\"Student database is empty\")\n",
        "\n",
        "def remove_student(student_database):\n",
        "    usn = input(\"Enter student usn no to remove: \")\n",
        "    if usn in student_database:\n",
        "        del student_database[usn]\n",
        "        print(\"Student\", usn, \"removed successfully!\")\n",
        "    else:\n",
        "        print(\"Enter correct student usn no to remove.\")\n",
        "\n",
        "#Main program loop starts\n",
        "student_database = create_student_database()\n",
        "\n",
        "while True:\n",
        "    print(\"\\nStudent Database Menu:\")\n",
        "    print(\"1. Add Student\")\n",
        "    print(\"2. Find Student Info\")\n",
        "    print(\"3. Display Student Database\")\n",
        "    print(\"4. Delete a Student from Database\")\n",
        "    print(\"5. Exit\")\n",
        "\n",
        "    choice = input(\"Enter your choice (1/2/3/4/5): \")\n",
        "    if choice == '1':\n",
        "        add_student(student_database)\n",
        "    elif choice == '2':\n",
        "        find_student_info(student_database)\n",
        "    elif choice == '3':\n",
        "        display_student_database(student_database)\n",
        "    elif choice == '4':\n",
        "        remove_student(student_database)\n",
        "    elif choice == '5':\n",
        "        print(\"Exiting the program.\")\n",
        "        break\n",
        "    else:\n",
        "        print(\"Invalid choice. Please select a valid option.\")\n",
        "\n",
        "\n"
      ],
      "metadata": {
        "colab": {
          "base_uri": "https://localhost:8080/"
        },
        "id": "t9rL6KNOR0jG",
        "outputId": "08e6a911-4496-40ee-f2fc-141066ad607b"
      },
      "execution_count": 7,
      "outputs": [
        {
          "output_type": "stream",
          "name": "stdout",
          "text": [
            "\n",
            "Student Database Menu:\n",
            "1. Add Student\n",
            "2. Find Student Info\n",
            "3. Display Student Database\n",
            "4. Delete a Student from Database\n",
            "5. Exit\n",
            "Enter your choice (1/2/3/4/5): 100\n",
            "Invalid choice. Please select a valid option.\n",
            "\n",
            "Student Database Menu:\n",
            "1. Add Student\n",
            "2. Find Student Info\n",
            "3. Display Student Database\n",
            "4. Delete a Student from Database\n",
            "5. Exit\n",
            "Enter your choice (1/2/3/4/5): Ram\n",
            "Invalid choice. Please select a valid option.\n",
            "\n",
            "Student Database Menu:\n",
            "1. Add Student\n",
            "2. Find Student Info\n",
            "3. Display Student Database\n",
            "4. Delete a Student from Database\n",
            "5. Exit\n",
            "Enter your choice (1/2/3/4/5): 1\n",
            "Enter student usn no: 100\n",
            "Enter student name: Ram\n",
            "Enter student major: cse\n",
            "Student Ram added successfully!\n",
            "\n",
            "Student Database Menu:\n",
            "1. Add Student\n",
            "2. Find Student Info\n",
            "3. Display Student Database\n",
            "4. Delete a Student from Database\n",
            "5. Exit\n",
            "Enter your choice (1/2/3/4/5): 1\n",
            "Enter student usn no: 101\n",
            "Enter student name: Rani\n",
            "Enter student major: ece\n",
            "Student Rani added successfully!\n",
            "\n",
            "Student Database Menu:\n",
            "1. Add Student\n",
            "2. Find Student Info\n",
            "3. Display Student Database\n",
            "4. Delete a Student from Database\n",
            "5. Exit\n",
            "Enter your choice (1/2/3/4/5): 3\n",
            "Student database content is {'100': {'name': 'Ram', 'major': 'cse'}, '101': {'name': 'Rani', 'major': 'ece'}}\n",
            "\n",
            "Student Database Menu:\n",
            "1. Add Student\n",
            "2. Find Student Info\n",
            "3. Display Student Database\n",
            "4. Delete a Student from Database\n",
            "5. Exit\n",
            "Enter your choice (1/2/3/4/5): 4\n",
            "Enter student usn no to remove: 101\n",
            "Student 101 removed successfully!\n",
            "\n",
            "Student Database Menu:\n",
            "1. Add Student\n",
            "2. Find Student Info\n",
            "3. Display Student Database\n",
            "4. Delete a Student from Database\n",
            "5. Exit\n",
            "Enter your choice (1/2/3/4/5): 3\n",
            "Student database content is {'100': {'name': 'Ram', 'major': 'cse'}}\n",
            "\n",
            "Student Database Menu:\n",
            "1. Add Student\n",
            "2. Find Student Info\n",
            "3. Display Student Database\n",
            "4. Delete a Student from Database\n",
            "5. Exit\n",
            "Enter your choice (1/2/3/4/5): 5\n",
            "Exiting the program.\n"
          ]
        }
      ]
    },
    {
      "cell_type": "code",
      "source": [],
      "metadata": {
        "id": "dlg4ZAFQR0gR"
      },
      "execution_count": null,
      "outputs": []
    },
    {
      "cell_type": "code",
      "source": [],
      "metadata": {
        "id": "d4NqDNjyR0dO"
      },
      "execution_count": null,
      "outputs": []
    },
    {
      "cell_type": "code",
      "source": [],
      "metadata": {
        "id": "m6eHlwb9R0aL"
      },
      "execution_count": null,
      "outputs": []
    },
    {
      "cell_type": "code",
      "source": [],
      "metadata": {
        "id": "0hrSqjUwR0XJ"
      },
      "execution_count": null,
      "outputs": []
    },
    {
      "cell_type": "code",
      "source": [],
      "metadata": {
        "id": "HGts90TxR0UM"
      },
      "execution_count": null,
      "outputs": []
    },
    {
      "cell_type": "code",
      "source": [],
      "metadata": {
        "id": "b1h5TksZR0RJ"
      },
      "execution_count": null,
      "outputs": []
    },
    {
      "cell_type": "code",
      "source": [],
      "metadata": {
        "id": "l1c6DiDXR0OB"
      },
      "execution_count": null,
      "outputs": []
    },
    {
      "cell_type": "code",
      "source": [],
      "metadata": {
        "id": "kJCknJRJR0Km"
      },
      "execution_count": null,
      "outputs": []
    },
    {
      "cell_type": "code",
      "source": [],
      "metadata": {
        "id": "_pUePbOzR0HN"
      },
      "execution_count": null,
      "outputs": []
    }
  ]
}