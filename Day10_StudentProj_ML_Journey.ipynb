{
  "nbformat": 4,
  "nbformat_minor": 0,
  "metadata": {
    "colab": {
      "provenance": [],
      "name": "Day10_StudentProj_ML_Journey.ipynb",
      "authorship_tag": "ABX9TyNX7ddsMVJEoMNU356pmGbA",
      "include_colab_link": true
    },
    "kernelspec": {
      "name": "python3",
      "display_name": "Python 3"
    },
    "language_info": {
      "name": "python"
    }
  },
  "cells": [
    {
      "cell_type": "markdown",
      "metadata": {
        "id": "view-in-github",
        "colab_type": "text"
      },
      "source": [
        "<a href=\"https://colab.research.google.com/github/dilip-ksa/dilip_pythondemo/blob/main/Day10_StudentProj_ML_Journey.ipynb\" target=\"_parent\"><img src=\"https://colab.research.google.com/assets/colab-badge.svg\" alt=\"Open In Colab\"/></a>"
      ]
    },
    {
      "cell_type": "code",
      "source": [
        "## Mini project - Student database\n",
        "\n",
        "def create_student_database():\n",
        "    student_database = {}\n",
        "    return student_database\n",
        "\n",
        "def add_student(student_database):\n",
        "    usn = input(\"Enter student usn no: \")\n",
        "    name = input(\"Enter student name: \")\n",
        "    major = input(\"Enter student major: \")\n",
        "    student_database[usn] = {\"name\": name, \"major\": major}\n",
        "    print(\"Student\", name, \"added successfully!\")\n",
        "\n",
        "def find_student_info(student_database):\n",
        "    usn = input(\"Enter student usn no: \")\n",
        "    if usn in student_database:\n",
        "        print(\"Student info found for\", usn, \"is\", student_database.get(usn))\n",
        "    else:\n",
        "        print(\"Enter correct student usn no\")\n",
        "\n",
        "\n",
        "\n",
        "student_database = create_student_database()\n",
        "add_student(student_database)\n",
        "add_student(student_database)\n",
        "find_student_info(student_database)\n",
        "print(student_database)"
      ],
      "metadata": {
        "colab": {
          "base_uri": "https://localhost:8080/"
        },
        "id": "t9rL6KNOR0jG",
        "outputId": "00c153fe-1981-4752-fecd-3d7396593334"
      },
      "execution_count": 1,
      "outputs": [
        {
          "output_type": "stream",
          "name": "stdout",
          "text": [
            "Enter student usn no: 100\n",
            "Enter student name: Tom\n",
            "Enter student major: cse\n",
            "Student Tom added successfully!\n",
            "{'100': {'name': 'Tom', 'major': 'cse'}}\n"
          ]
        }
      ]
    },
    {
      "cell_type": "code",
      "source": [],
      "metadata": {
        "id": "dlg4ZAFQR0gR"
      },
      "execution_count": null,
      "outputs": []
    },
    {
      "cell_type": "code",
      "source": [],
      "metadata": {
        "id": "d4NqDNjyR0dO"
      },
      "execution_count": null,
      "outputs": []
    },
    {
      "cell_type": "code",
      "source": [],
      "metadata": {
        "id": "m6eHlwb9R0aL"
      },
      "execution_count": null,
      "outputs": []
    },
    {
      "cell_type": "code",
      "source": [],
      "metadata": {
        "id": "0hrSqjUwR0XJ"
      },
      "execution_count": null,
      "outputs": []
    },
    {
      "cell_type": "code",
      "source": [],
      "metadata": {
        "id": "HGts90TxR0UM"
      },
      "execution_count": null,
      "outputs": []
    },
    {
      "cell_type": "code",
      "source": [],
      "metadata": {
        "id": "b1h5TksZR0RJ"
      },
      "execution_count": null,
      "outputs": []
    },
    {
      "cell_type": "code",
      "source": [],
      "metadata": {
        "id": "l1c6DiDXR0OB"
      },
      "execution_count": null,
      "outputs": []
    },
    {
      "cell_type": "code",
      "source": [],
      "metadata": {
        "id": "kJCknJRJR0Km"
      },
      "execution_count": null,
      "outputs": []
    },
    {
      "cell_type": "code",
      "source": [],
      "metadata": {
        "id": "_pUePbOzR0HN"
      },
      "execution_count": null,
      "outputs": []
    }
  ]
}