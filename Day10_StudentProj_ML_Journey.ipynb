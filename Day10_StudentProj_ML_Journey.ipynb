{
  "nbformat": 4,
  "nbformat_minor": 0,
  "metadata": {
    "colab": {
      "provenance": [],
      "name": "Day10_StudentProj_ML_Journey.ipynb",
      "authorship_tag": "ABX9TyNCmqITj7bljUiwTGwsKM2e",
      "include_colab_link": true
    },
    "kernelspec": {
      "name": "python3",
      "display_name": "Python 3"
    },
    "language_info": {
      "name": "python"
    }
  },
  "cells": [
    {
      "cell_type": "markdown",
      "metadata": {
        "id": "view-in-github",
        "colab_type": "text"
      },
      "source": [
        "<a href=\"https://colab.research.google.com/github/dilip-ksa/dilip_pythondemo/blob/main/Day10_StudentProj_ML_Journey.ipynb\" target=\"_parent\"><img src=\"https://colab.research.google.com/assets/colab-badge.svg\" alt=\"Open In Colab\"/></a>"
      ]
    },
    {
      "cell_type": "code",
      "source": [
        "## Mini project - Student database\n",
        "\n",
        "def create_student_database():\n",
        "    student_database = {}\n",
        "    return student_database\n",
        "\n",
        "def add_student(student_database):\n",
        "    usn = input(\"Enter student usn no: \")\n",
        "    name = input(\"Enter student name: \")\n",
        "    major = input(\"Enter student major: \")\n",
        "    student_database[usn] = {\"name\": name, \"major\": major}\n",
        "    print(\"Student\", name, \"added successfully!\")\n",
        "\n",
        "\n",
        "student_database = create_student_database()\n",
        "add_student(student_database)\n",
        "print(student_database)"
      ],
      "metadata": {
        "id": "t9rL6KNOR0jG"
      },
      "execution_count": null,
      "outputs": []
    },
    {
      "cell_type": "code",
      "source": [],
      "metadata": {
        "id": "dlg4ZAFQR0gR"
      },
      "execution_count": null,
      "outputs": []
    },
    {
      "cell_type": "code",
      "source": [],
      "metadata": {
        "id": "d4NqDNjyR0dO"
      },
      "execution_count": null,
      "outputs": []
    },
    {
      "cell_type": "code",
      "source": [],
      "metadata": {
        "id": "m6eHlwb9R0aL"
      },
      "execution_count": null,
      "outputs": []
    },
    {
      "cell_type": "code",
      "source": [],
      "metadata": {
        "id": "0hrSqjUwR0XJ"
      },
      "execution_count": null,
      "outputs": []
    },
    {
      "cell_type": "code",
      "source": [],
      "metadata": {
        "id": "HGts90TxR0UM"
      },
      "execution_count": null,
      "outputs": []
    },
    {
      "cell_type": "code",
      "source": [],
      "metadata": {
        "id": "b1h5TksZR0RJ"
      },
      "execution_count": null,
      "outputs": []
    },
    {
      "cell_type": "code",
      "source": [],
      "metadata": {
        "id": "l1c6DiDXR0OB"
      },
      "execution_count": null,
      "outputs": []
    },
    {
      "cell_type": "code",
      "source": [],
      "metadata": {
        "id": "kJCknJRJR0Km"
      },
      "execution_count": null,
      "outputs": []
    },
    {
      "cell_type": "code",
      "source": [],
      "metadata": {
        "id": "_pUePbOzR0HN"
      },
      "execution_count": null,
      "outputs": []
    }
  ]
}