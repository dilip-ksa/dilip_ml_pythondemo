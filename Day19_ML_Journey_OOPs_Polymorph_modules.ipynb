{
  "nbformat": 4,
  "nbformat_minor": 0,
  "metadata": {
    "colab": {
      "provenance": [],
      "name": "Day19_ML_Journey_OOPs_Polymorph_modules.ipynb",
      "authorship_tag": "ABX9TyNc0VRwmT7gqHRCPectN8Sn",
      "include_colab_link": true
    },
    "kernelspec": {
      "name": "python3",
      "display_name": "Python 3"
    },
    "language_info": {
      "name": "python"
    }
  },
  "cells": [
    {
      "cell_type": "markdown",
      "metadata": {
        "id": "view-in-github",
        "colab_type": "text"
      },
      "source": [
        "<a href=\"https://colab.research.google.com/github/dilip-ksa/dilip_ml_pythondemo/blob/main/Day19_ML_Journey_OOPs_Polymorph_modules.ipynb\" target=\"_parent\"><img src=\"https://colab.research.google.com/assets/colab-badge.svg\" alt=\"Open In Colab\"/></a>"
      ]
    },
    {
      "cell_type": "code",
      "source": [
        "# Inheritance with call to parent class constructor with attributes\n",
        "class Mobile:\n",
        "  def __init__(self, rm, proc):\n",
        "    print('Mobile Constructor')\n",
        "    self.ram = rm\n",
        "    self.processor = proc\n",
        "\n",
        "class Model(Mobile):\n",
        "  def __init__(self, mname, prce, rm, proc='Snapdragon'):\n",
        "    super().__init__(rm, proc) # calls parent class constructor & attributes\n",
        "    print('Model Constructor')\n",
        "    self.name = mname\n",
        "    self.price = prce\n",
        "\n",
        "  def display(self):\n",
        "    print('Name:', self.name, ', Price:', self.price, ', Ram', self.ram, ', Processor:', self.processor)\n",
        "\n",
        "m = Model('8GB', 'iPhone16', 130000, 'iOS 16')\n",
        "m.display()\n",
        "\n",
        "m1 = Model('6GB', 'iPhone15', 99990)\n",
        "m1.display()\n"
      ],
      "metadata": {
        "id": "gB_YSfZING2j",
        "outputId": "1561dc63-9b28-4410-e34a-c2852960dc0e",
        "colab": {
          "base_uri": "https://localhost:8080/"
        }
      },
      "execution_count": null,
      "outputs": [
        {
          "output_type": "stream",
          "name": "stdout",
          "text": [
            "Mobile Constructor\n",
            "Model Constructor\n",
            "Name: 8GB , Price: iPhone16 , Ram 130000 , Processor: iOS 16\n",
            "Mobile Constructor\n",
            "Model Constructor\n",
            "Name: 6GB , Price: iPhone15 , Ram 99990 , Processor: Snapdragon\n"
          ]
        }
      ]
    },
    {
      "cell_type": "code",
      "source": [
        "###########################  Day 17  ################################\n",
        "#Inheritence : with class variable\n",
        "class Father:\n",
        "  bonus = 1000\n",
        "  def __init__(self):\n",
        "    self.vehicle = 'Scooter'\n",
        "  def display(self):\n",
        "    print('Vehicle', self.vehicle, ', Bonus:', Father.bonus)\n",
        "\n",
        "class Son(Father):\n",
        "  son_bonus = 2000\n",
        "  def __init__(self):\n",
        "    self.vehicle = 'Car'\n",
        "  def display(self):\n",
        "    print('Vehicle', self.vehicle, ', Father Bonus:', Father.bonus, ', Son Bonus:', Son.son_bonus)\n",
        "    print('Vehicle', self.vehicle, ', Father Bonus:', self.bonus, ', Son Bonus:', self.son_bonus)\n",
        "\n",
        "s1 = Son()\n",
        "s1.display()\n",
        "f1 = Father()\n",
        "f1.display()"
      ],
      "metadata": {
        "id": "Boz7xM6zNG5k",
        "colab": {
          "base_uri": "https://localhost:8080/"
        },
        "outputId": "25fcadc2-08ad-4ecb-815e-eb1c2b65f90a"
      },
      "execution_count": null,
      "outputs": [
        {
          "output_type": "stream",
          "name": "stdout",
          "text": [
            "Vehicle Car , Father Bonus: 1000 , Son Bonus: 2000\n",
            "Vehicle Car , Father Bonus: 1000 , Son Bonus: 2000\n",
            "Vehicle Scooter , Bonus: 1000\n"
          ]
        }
      ]
    },
    {
      "cell_type": "code",
      "source": [
        "# Multilevel inheritance\n",
        "class Father:\n",
        "  bonus = 1000\n",
        "  def __init__(self):\n",
        "    self.vehicle = 'Scooter'\n",
        "  def display(self):\n",
        "    print('Vehicle:', self.vehicle, ', Bonus:', Father.bonus)\n",
        "\n",
        "class Son(Father):\n",
        "  son_bonus = 2000\n",
        "  def __init__(self):\n",
        "    self.vehicle = 'Car'\n",
        "  def display(self):\n",
        "    print('Vehicle:', self.vehicle, ', Father Bonus:', Father.bonus, ', Son Bonus:', Son.son_bonus)\n",
        "    print('Vehicle:', self.vehicle, ', Father Bonus:', self.bonus, ', Son Bonus:', self.son_bonus)\n",
        "\n",
        "class Grandson(Son):\n",
        "  grandson_bonus = 3000\n",
        "  def __init__(self):\n",
        "    self.vehicle = 'Sport Bike'\n",
        "  def display(self):\n",
        "    print('Vehicle:', self.vehicle, ', Father Bonus:', Father.bonus, ', Son Bonus:', Son.son_bonus, ', Grandson Bonus:', Grandson.grandson_bonus)\n",
        "    print('Vehicle:', self.vehicle, ', Father Bonus:', self.bonus, ', Son Bonus:', self.son_bonus, ', Grandson Bonus:', self.grandson_bonus)\n",
        "    print('Vehicle:', self.vehicle, ', Father Bonus:', Grandson.bonus, ', Son Bonus:', Grandson.son_bonus, ', Grandson Bonus:', Grandson.grandson_bonus)\n",
        "\n",
        "f1 = Father()\n",
        "f1.display()\n",
        "s1 = Son()\n",
        "s1.display()\n",
        "g1 = Grandson()\n",
        "g1.display()"
      ],
      "metadata": {
        "id": "Qbzydr1RNG8Y",
        "colab": {
          "base_uri": "https://localhost:8080/"
        },
        "outputId": "754403f8-d9a8-4f42-f477-7435f2bf940a"
      },
      "execution_count": null,
      "outputs": [
        {
          "output_type": "stream",
          "name": "stdout",
          "text": [
            "Vehicle: Scooter , Bonus: 1000\n",
            "Vehicle: Car , Father Bonus: 1000 , Son Bonus: 2000\n",
            "Vehicle: Car , Father Bonus: 1000 , Son Bonus: 2000\n",
            "Vehicle: Sport Bike , Father Bonus: 1000 , Son Bonus: 2000 , Grandson Bonus: 3000\n",
            "Vehicle: Sport Bike , Father Bonus: 1000 , Son Bonus: 2000 , Grandson Bonus: 3000\n",
            "Vehicle: Sport Bike , Father Bonus: 1000 , Son Bonus: 2000 , Grandson Bonus: 3000\n"
          ]
        }
      ]
    },
    {
      "cell_type": "code",
      "source": [
        "class Human():\n",
        "\n",
        "  def __init__(self):\n",
        "    print(\"Human class constructor\")\n",
        "    self.name=\"Radha\"\n",
        "\n",
        "class Emp(Human):\n",
        "\n",
        "  def __init__(self):\n",
        "    super().__init__()\n",
        "    print(\"Emp class constructor\")\n",
        "    self.salary =12900\n",
        "\n",
        "\n",
        "class Manager(Emp):\n",
        "\n",
        "  def __init__(self):\n",
        "    super().__init__()\n",
        "    print(\"Mnager class constructor\")\n",
        "    self.role= \"Manager\"\n",
        "\n",
        "\n",
        "m1 = Manager()\n",
        "\n",
        "print(m1.__dict__)"
      ],
      "metadata": {
        "colab": {
          "base_uri": "https://localhost:8080/"
        },
        "id": "ZWCVEbJj1Fya",
        "outputId": "5dd590b6-8a04-4ea1-976c-d8c765f2d0a8"
      },
      "execution_count": null,
      "outputs": [
        {
          "output_type": "stream",
          "name": "stdout",
          "text": [
            "Human class constructor\n",
            "Emp class constructor\n",
            "Mnager class constructor\n",
            "{'name': 'Radha', 'salary': 12900, 'role': 'Manager'}\n"
          ]
        }
      ]
    },
    {
      "cell_type": "code",
      "source": [
        "class Human():\n",
        "\n",
        "  def __init__(self, nm):\n",
        "    print(\"Human class constructor\")\n",
        "    self.name=nm\n",
        "\n",
        "class Emp(Human):\n",
        "\n",
        "  def __init__(self, nm, sal):\n",
        "    super().__init__(nm)\n",
        "    print(\"Emp class constructor\")\n",
        "    self.salary =sal\n",
        "\n",
        "class Manager(Emp):\n",
        "\n",
        "  def __init__(self, nm, sal, rol):\n",
        "    super().__init__(nm, sal)\n",
        "    print(\"Mnager class constructor\")\n",
        "    self.role= rol\n",
        "\n",
        "m1 = Manager('John', 12000, 'Manager')\n",
        "print(m1.__dict__)"
      ],
      "metadata": {
        "id": "5J0Xyrs9NHCQ",
        "colab": {
          "base_uri": "https://localhost:8080/"
        },
        "outputId": "b7391566-fbf2-4bac-cfb7-f6e0a8830aae"
      },
      "execution_count": null,
      "outputs": [
        {
          "output_type": "stream",
          "name": "stdout",
          "text": [
            "Human class constructor\n",
            "Emp class constructor\n",
            "Mnager class constructor\n",
            "{'name': 'John', 'salary': 12000, 'role': 'Manager'}\n"
          ]
        }
      ]
    },
    {
      "cell_type": "code",
      "source": [
        "# Multilevel inheritance\n",
        "class Father:\n",
        "  bonus = 1000\n",
        "  def __init__(self):\n",
        "    self.vehicle = 'Scooter'\n",
        "    self.price = 10000\n",
        "  def display(self):\n",
        "    print('Vehicle:', self.vehicle,'Price:', self.price, ', Bonus:', Father.bonus)\n",
        "\n",
        "class Son(Father):\n",
        "  son_bonus = 2000\n",
        "  def __init__(self):\n",
        "    super().__init__()\n",
        "    self.vehicle = 'Car'\n",
        "    self.oem = 'Tata'\n",
        "  def display(self):\n",
        "    print('Vehicle:', self.vehicle, ', OEM:', self.oem, ', Price:', self.price)\n",
        "    print('Father Bonus:', self.bonus, ', Son Bonus:', self.son_bonus)\n",
        "\n",
        "class Grandson(Son):\n",
        "  grandson_bonus = 3000\n",
        "  def __init__(self):\n",
        "    super().__init__()\n",
        "    self.vehicle = 'Sport Bike'\n",
        "    self.oem = 'Honda'\n",
        "    self.displacement = '100cc'\n",
        "  def display(self):\n",
        "    print('Vehicle:', self.vehicle, ', OEM:', self.oem, ', Displacement:', self.displacement, ', Price:', self.price)\n",
        "    print('Father Bonus:', Grandson.bonus, ', Son Bonus:', Grandson.son_bonus, ', Grandson Bonus:', Grandson.grandson_bonus)\n",
        "\n",
        "f1 = Father()\n",
        "f1.display()\n",
        "s1 = Son()\n",
        "s1.display()\n",
        "g1 = Grandson()\n",
        "g1.display()\n",
        "print(g1.__dict__)"
      ],
      "metadata": {
        "colab": {
          "base_uri": "https://localhost:8080/"
        },
        "id": "ZAjNcvwb1z9p",
        "outputId": "378795fa-82f6-4f83-858f-94e4ccdfaced"
      },
      "execution_count": null,
      "outputs": [
        {
          "output_type": "stream",
          "name": "stdout",
          "text": [
            "Vehicle: Scooter Price: 10000 , Bonus: 1000\n",
            "Vehicle: Car , OEM: Tata , Price: 10000\n",
            "Father Bonus: 1000 , Son Bonus: 2000\n",
            "Vehicle: Sport Bike , OEM: Honda , Displacement: 100cc , Price: 10000\n",
            "Father Bonus: 1000 , Son Bonus: 2000 , Grandson Bonus: 3000\n",
            "{'vehicle': 'Sport Bike', 'price': 10000, 'oem': 'Honda', 'displacement': '100cc'}\n"
          ]
        }
      ]
    },
    {
      "cell_type": "code",
      "source": [
        "# Multilevel hierarchical inheritance\n",
        "class Person:\n",
        "  def __init__(self, nm, ag):\n",
        "    self.name = nm\n",
        "    self.age = ag\n",
        "\n",
        "class Employee(Person):\n",
        "  def __init__(self, nm, ag, empid):\n",
        "    super().__init__(nm, ag)\n",
        "    self.empid = empid\n",
        "  def display(self):\n",
        "    print('Name:', self.name, ', Age:', self.age, ', Employee ID:', self.empid)\n",
        "\n",
        "class Student(Person):\n",
        "  def __init__(self, nm, ag, roll):\n",
        "    super().__init__(nm, ag)\n",
        "    self.rollno = roll\n",
        "  def display(self):\n",
        "    print('Name:', self.name, ', Age:', self.age, ', Roll no:', self.rollno)\n",
        "\n",
        "class Teacher(Person):\n",
        "  def __init__(self, nm, ag, sub):\n",
        "    super().__init__(nm, ag)\n",
        "    self.subject = sub\n",
        "  def display(self):\n",
        "    print('Name:', self.name, ', Age:', self.age, ', Subject:', self.subject)\n",
        "\n",
        "e1 = Employee('Tom', 30, 101)\n",
        "e1.display()\n",
        "print(e1.__dict__)\n",
        "s1 = Student('Harry', 25, 102)\n",
        "s1.display()\n",
        "print(s1.__dict__)\n",
        "t1 = Teacher('Don', 40, 'Python')\n",
        "t1.display()\n",
        "print(t1.__dict__)"
      ],
      "metadata": {
        "colab": {
          "base_uri": "https://localhost:8080/"
        },
        "id": "FALv4vSr10H1",
        "outputId": "caa4cf65-772f-4e8e-a40a-1c28a285e3ee"
      },
      "execution_count": null,
      "outputs": [
        {
          "output_type": "stream",
          "name": "stdout",
          "text": [
            "Name: Tom , Age: 30 , Employee ID: 101\n",
            "{'name': 'Tom', 'age': 30, 'empid': 101}\n",
            "Name: Harry , Age: 25 , Roll no: 102\n",
            "{'name': 'Harry', 'age': 25, 'rollno': 102}\n",
            "Name: Don , Age: 40 , Subject: Python\n",
            "{'name': 'Don', 'age': 40, 'subject': 'Python'}\n"
          ]
        }
      ]
    },
    {
      "cell_type": "code",
      "source": [
        "# Multiple inheritance(many parents)\n",
        "class Country:\n",
        "  def __init__(self, nm):\n",
        "    self.cname = nm\n",
        "    self.continent = 'Asia'\n",
        "  def display(self):\n",
        "    print('Name:', self.cname, ', Continent:', self.continent)\n",
        "\n",
        "class State:\n",
        "  def __init__(self, nm, cap):\n",
        "    self.sname = nm\n",
        "    self.capital = cap\n",
        "  def display(self):\n",
        "    print('Name:', self.sname, ', Capital:', self.capital)\n",
        "\n",
        "class City1(Country, State):\n",
        "  def __init__(self, cnm, snm, cap, pop):\n",
        "    Country.__init__(self, cnm)\n",
        "    State.__init__(self, snm, cap)\n",
        "    self.population = pop\n",
        "  def display_city(self):\n",
        "    print('Name:', self.cname, ', Capital:', self.capital, ', Population:', self.population)\n",
        "\n",
        "class City2(State, Country):\n",
        "  def __init__(self, cnm, snm, cap, pop):\n",
        "    Country.__init__(self, cnm)\n",
        "    State.__init__(self, snm, cap)\n",
        "    self.population = pop\n",
        "  def display_city(self):\n",
        "    print('Name:', self.cname, ', Capital:', self.capital, ', Population:', self.population)\n",
        "\n",
        "c1 = City1('India', 'Odisha', 'Bhubaneswar', 1300000000)\n",
        "c1.display()\n",
        "c1.display_city()\n",
        "\n",
        "c2 = City2('India', 'Odisha', 'Bhubaneswar', 1300000000)\n",
        "c2.display()\n",
        "c2.display_city()\n",
        "\n",
        "print(c1.__dict__)\n",
        "print(c2.__dict__)"
      ],
      "metadata": {
        "colab": {
          "base_uri": "https://localhost:8080/"
        },
        "id": "Pcd-GeQv10LW",
        "outputId": "c8bbcc60-dec0-41b8-c993-89581e990f2d"
      },
      "execution_count": null,
      "outputs": [
        {
          "output_type": "stream",
          "name": "stdout",
          "text": [
            "Name: India , Continent: Asia\n",
            "Name: India , Capital: Bhubaneswar , Population: 1300000000\n",
            "Name: Odisha , Capital: Bhubaneswar\n",
            "Name: India , Capital: Bhubaneswar , Population: 1300000000\n",
            "{'cname': 'India', 'continent': 'Asia', 'sname': 'Odisha', 'capital': 'Bhubaneswar', 'population': 1300000000}\n",
            "{'cname': 'India', 'continent': 'Asia', 'sname': 'Odisha', 'capital': 'Bhubaneswar', 'population': 1300000000}\n"
          ]
        }
      ]
    },
    {
      "cell_type": "code",
      "source": [
        "#multiple inheritance with super, order based on the Inheritance sequence\n",
        "class Human:\n",
        "  def __init__(self):\n",
        "    super().__init__()\n",
        "    self.age = 43\n",
        "    print('Human class constructor')\n",
        "  def display(self):\n",
        "    print('Age:', self.age)\n",
        "  def display_human(self):\n",
        "    print('Human class method')\n",
        "class Student:\n",
        "  def __init__(self):\n",
        "    super().__init__()\n",
        "    self.rollno = 123\n",
        "    print('Student class constructor')\n",
        "  def display(self):\n",
        "    print('Roll no:', self.rollno)\n",
        "\n",
        "  def display_std(self):\n",
        "    print('Student class method')\n",
        "class Teacher:\n",
        "  def __init__(self):\n",
        "    super().__init__()\n",
        "    self.subject = 'Eng'\n",
        "    print('Teacher class constructor')\n",
        "  def display(self):\n",
        "    print('Subject:', self.subject)\n",
        "    super().display()\n",
        "  def display_teacher(self):\n",
        "    print('Teacher class method')\n",
        "class Employee(Teacher,Student, Human):\n",
        "  def __init__(self, empid):\n",
        "    super().__init__()\n",
        "    self.empid = empid\n",
        "    print('Employee class constructor')\n",
        "  def display(self):\n",
        "    print('Employee ID:', self.empid)\n",
        "    Human.display(self)\n",
        "    super().display()\n",
        "  def display_employee(self):\n",
        "    print('Employee class method')\n",
        "\n",
        "e1 = Employee(101)\n",
        "e1.display()\n",
        "print(e1.__dict__)\n",
        "e1.display_human()\n",
        "e1.display_std()\n",
        "e1.display_teacher()\n",
        "e1.display_employee()"
      ],
      "metadata": {
        "colab": {
          "base_uri": "https://localhost:8080/"
        },
        "id": "1Ad-t3LD10Qn",
        "outputId": "0f10562a-9a78-4bee-876b-1ca5dcbcd942"
      },
      "execution_count": null,
      "outputs": [
        {
          "output_type": "stream",
          "name": "stdout",
          "text": [
            "Human class constructor\n",
            "Student class constructor\n",
            "Teacher class constructor\n",
            "Employee class constructor\n",
            "Employee ID: 101\n",
            "Age: 43\n",
            "Subject: Eng\n",
            "Roll no: 123\n",
            "{'age': 43, 'rollno': 123, 'subject': 'Eng', 'empid': 101}\n",
            "Human class method\n",
            "Student class method\n",
            "Teacher class method\n",
            "Employee class method\n"
          ]
        }
      ]
    },
    {
      "cell_type": "code",
      "source": [
        "##################### Day 18(26May) #######################\n",
        "# Hybrid inheritance ( and MRO - Method Resolution Order)\n",
        "\n",
        "class A:\n",
        "  def __init__(self):\n",
        "    print('A class constructor')\n",
        "  def display(self):\n",
        "    print('A class method')\n",
        "\n",
        "class B:\n",
        "  def __init__(self):\n",
        "    print('B class constructor')\n",
        "  def display(self):\n",
        "    print('B class method')\n",
        "\n",
        "class C:\n",
        "  def __init__(self):\n",
        "    print('C class constructor')\n",
        "  def display(self):\n",
        "    print('C class method')\n",
        "\n",
        "class X(A,B,C):\n",
        "  def __init__(self):\n",
        "    print('X class constructor')\n",
        "  def display(self):\n",
        "    print('X class method')\n",
        "\n",
        "class Y(B,C):\n",
        "  def __init__(self):\n",
        "    print('Y class constructor')\n",
        "  def display(self):\n",
        "    print('Y class method')\n",
        "\n",
        "class P(X,Y):\n",
        "  def __init__(self):\n",
        "    print('P class constructor')\n",
        "  def display(self):\n",
        "    print('P class method')\n",
        "\n",
        "p1 = P()\n",
        "p1.display()\n",
        "print(P.__mro__)"
      ],
      "metadata": {
        "id": "NiEIiMvd10T8",
        "colab": {
          "base_uri": "https://localhost:8080/"
        },
        "outputId": "a9ea76a1-8c63-4b39-f7bc-1057aa714712"
      },
      "execution_count": null,
      "outputs": [
        {
          "output_type": "stream",
          "name": "stdout",
          "text": [
            "P class constructor\n",
            "P class method\n",
            "(<class '__main__.P'>, <class '__main__.X'>, <class '__main__.A'>, <class '__main__.Y'>, <class '__main__.B'>, <class '__main__.C'>, <class 'object'>)\n"
          ]
        }
      ]
    },
    {
      "cell_type": "code",
      "source": [
        "###############  Encapsulation  ###################\n",
        "class Finance:\n",
        "  def __init__(self):\n",
        "    self.profit = 1000\n",
        "    self.rev =100000\n",
        "    self.sales = 100\n",
        "\n",
        "f1 = Finance()\n",
        "print(f1.__dict__)\n",
        "\n",
        "class HR:\n",
        "  def __init__(self):\n",
        "    self.emp = 200\n",
        "    f1.sales = 500\n",
        "\n",
        "  def display(self):\n",
        "    print('Employees:', self.emp, ', Sales', f1.sales)\n",
        "\n",
        "hr1 = HR()\n",
        "hr1.display()\n",
        "print(hr1.__dict__)\n",
        "print(f1.__dict__)"
      ],
      "metadata": {
        "colab": {
          "base_uri": "https://localhost:8080/"
        },
        "id": "FdCYhBX5GdVE",
        "outputId": "6f8149cc-32ad-4886-b664-9f83e688d3ed"
      },
      "execution_count": null,
      "outputs": [
        {
          "output_type": "stream",
          "name": "stdout",
          "text": [
            "{'profit': 1000, 'rev': 100000, 'sales': 100}\n",
            "Employees: 200 , Sales 500\n",
            "{'emp': 200}\n",
            "{'profit': 1000, 'rev': 100000, 'sales': 500}\n"
          ]
        }
      ]
    },
    {
      "cell_type": "code",
      "source": [
        "############  Access specifier  #######################\n",
        "# public, protected, private\n",
        "class Finance:\n",
        "  def __init__(self):\n",
        "    self.profit = 1000\n",
        "    self.__rev =100000 #private\n",
        "    self._sales = 100 #protected\n",
        "\n",
        "  def display(self):\n",
        "    print('Public - Revenue:', self.__rev, ', Sales:', self._sales)\n",
        "    self.__privatedisplay(123)\n",
        "\n",
        "  def _protecteddisplay(self):\n",
        "    print('Protected - Revenue:', self.__rev, ', Sales:', self._sales)\n",
        "\n",
        "  def __privatedisplay(self, num):\n",
        "    print('Private - Revenue:', self.__rev, ', Sales:', self._sales)\n",
        "\n",
        "f1 = Finance()\n",
        "f1.display()\n",
        "f1._protecteddisplay()\n",
        "##f1.__privatedisplay() # not allowed\n",
        "f1._Finance__privatedisplay(123) # calling private method\n",
        "print(f1.__dict__)\n",
        "\n",
        "class HR:\n",
        "  def __init__(self):\n",
        "    self.emp = 200\n",
        "    f1._sales = 500\n",
        "\n",
        "  def display(self):\n",
        "    print('Employees:', self.emp, ', Sales', f1._sales)\n",
        "    #print('Employees:', self.emp, ', Sales', f1._sales, ', Revenue:', f1.__rev) # private method access not allowed\n",
        "    print('Employees:', self.emp, ', Sales', f1._sales, ', Revenue:', f1._Finance__rev) # access private variable outside\n",
        "    f1._Finance__rev = 200000\n",
        "    print('Employees:', self.emp, ', Sales', f1._sales, ', Revenue:', f1._Finance__rev)\n",
        "\n",
        "hr1 = HR()\n",
        "hr1.display()\n",
        "print(hr1.__dict__)\n",
        "f1._Finance__rev = 300000\n",
        "print(f1.__dict__)"
      ],
      "metadata": {
        "colab": {
          "base_uri": "https://localhost:8080/"
        },
        "id": "bmHcnUlUGdYe",
        "outputId": "7ef0a580-39cd-4dbc-96cd-ad38a7d86642"
      },
      "execution_count": null,
      "outputs": [
        {
          "output_type": "stream",
          "name": "stdout",
          "text": [
            "Public - Revenue: 100000 , Sales: 100\n",
            "Private - Revenue: 100000 , Sales: 100\n",
            "Protected - Revenue: 100000 , Sales: 100\n",
            "Private - Revenue: 100000 , Sales: 100\n",
            "{'profit': 1000, '_Finance__rev': 100000, '_sales': 100}\n",
            "Employees: 200 , Sales 500\n",
            "Employees: 200 , Sales 500 , Revenue: 100000\n",
            "Employees: 200 , Sales 500 , Revenue: 200000\n",
            "{'emp': 200}\n",
            "{'profit': 1000, '_Finance__rev': 300000, '_sales': 500}\n"
          ]
        }
      ]
    },
    {
      "cell_type": "code",
      "source": [
        "#####  Polimorphism in python  #############\n",
        "class Vehicle:\n",
        "  def __init__(self, name, price, color):\n",
        "    self.name = name\n",
        "    self.price = price\n",
        "    self.color = color\n",
        "  def get_details(self):\n",
        "    print('Name:', self.name, ', Price:', self.price, ', Color:', self.color)\n",
        "\n",
        "  def max_speed(self):\n",
        "    print('Max speed is 150')\n",
        "\n",
        "  def change_gear(self):\n",
        "    print('Vehicle change 5 gear')\n",
        "\n",
        "  def __type(self):\n",
        "    print('This is a vehicle')\n",
        "\n",
        "  def __isSport__1(self):\n",
        "    print('This is not a sport vehicle')\n",
        "\n",
        "class Car(Vehicle):\n",
        "  def max_speed(self):\n",
        "    print('Max speed is 200')\n",
        "\n",
        "  def change_gear(self):\n",
        "    print('Vehicle change 6 gear')\n",
        "\n",
        "v1 = Vehicle('Maruti', 100000, 'Red')\n",
        "v1.get_details()\n",
        "v1.max_speed()\n",
        "v1.change_gear()\n",
        "#v1.__type() # not allowed\n",
        "v1._Vehicle__type() # allowed\n",
        "#v1.__isSport__() # not allowed\n",
        "v1._Vehicle__isSport__1() # allowed\n",
        "print(v1.__dict__)\n",
        "print(v1.__dir__)\n",
        "c1 = Car('BMW', 900000, 'White')\n",
        "c1.get_details()\n",
        "c1.max_speed()\n",
        "c1.change_gear()\n"
      ],
      "metadata": {
        "colab": {
          "base_uri": "https://localhost:8080/"
        },
        "id": "5is47T32Gdb3",
        "outputId": "231731a5-edff-4505-eea9-c63df646ee92"
      },
      "execution_count": null,
      "outputs": [
        {
          "output_type": "stream",
          "name": "stdout",
          "text": [
            "Name: Maruti , Price: 100000 , Color: Red\n",
            "Max speed is 150\n",
            "Vehicle change 5 gear\n",
            "This is a vehicle\n",
            "This is not a sport vehicle\n",
            "{'name': 'Maruti', 'price': 100000, 'color': 'Red'}\n",
            "<built-in method __dir__ of Vehicle object at 0x7e7b4535e410>\n",
            "Name: BMW , Price: 900000 , Color: White\n",
            "Max speed is 200\n",
            "Vehicle change 6 gear\n"
          ]
        }
      ]
    },
    {
      "cell_type": "code",
      "source": [
        "########### Day 19(28 May)  #####################\n",
        "#polymorphism with function\n",
        "class Vehicle:\n",
        "  def __init__(self, name, price, color):\n",
        "    self.name = name\n",
        "    self.price = price\n",
        "    self.color = color\n",
        "  def get_details(self):\n",
        "    print('Name:', self.name, ', Price:', self.price, ', Color:', self.color)\n",
        "\n",
        "class Audi(Vehicle):\n",
        "  def __init__(self, name, price, color):\n",
        "    super().__init__(name, price, color)\n",
        "\n",
        "  def max_speed(self):\n",
        "    print('Max speed is 200')\n",
        "\n",
        "  def change_gear(self):\n",
        "    print('Vehicle change 6 gear')\n",
        "\n",
        "class BMW(Vehicle):\n",
        "  def __init__(self, name, price, color):\n",
        "    super().__init__(name, price, color)\n",
        "\n",
        "  def max_speed(self):\n",
        "    print('Max speed is 300')\n",
        "\n",
        "  def change_gear(self):\n",
        "    print('Vehicle change 7 gear')\n",
        "\n",
        "def vehicle_details(v):\n",
        "  v.get_details()\n",
        "  v.max_speed()\n",
        "  v.change_gear()\n",
        "\n",
        "b1 = BMW('BMW', 900000, 'White')\n",
        "a1 = Audi('Audi', 1000000, 'Black')\n",
        "vehicle_details(b1)\n",
        "vehicle_details(a1)"
      ],
      "metadata": {
        "id": "2zALK3lMGdfY",
        "colab": {
          "base_uri": "https://localhost:8080/"
        },
        "outputId": "576c0115-3099-489c-af46-42afbd9da375"
      },
      "execution_count": 1,
      "outputs": [
        {
          "output_type": "stream",
          "name": "stdout",
          "text": [
            "Name: BMW , Price: 900000 , Color: White\n",
            "Max speed is 300\n",
            "Vehicle change 7 gear\n",
            "Name: Audi , Price: 1000000 , Color: Black\n",
            "Max speed is 200\n",
            "Vehicle change 6 gear\n"
          ]
        }
      ]
    },
    {
      "cell_type": "code",
      "source": [
        "class Vehicle:\n",
        "  def __init__(self, name, price, color):\n",
        "    self.name = name\n",
        "    self.price = price\n",
        "    self.color = color\n",
        "  def get_details(self):\n",
        "    print('Name:', self.name, ', Price:', self.price, ', Color:', self.color, self.__class__)\n",
        "\n",
        "class Audi(Vehicle):\n",
        "  def __init__(self, name, price, color):\n",
        "    super().__init__(name, price, color)\n",
        "\n",
        "  def max_speed(self):\n",
        "    print('Audi - Max speed is 200')\n",
        "\n",
        "  def change_gear(self):\n",
        "    print('Audi - Vehicle change 6 gear')\n",
        "\n",
        "class BMW(Vehicle):\n",
        "  def __init__(self, name, price, color):\n",
        "    super().__init__(name, price, color)\n",
        "\n",
        "  def max_speed(self):\n",
        "    print('BMW - Max speed is 300')\n",
        "\n",
        "  def change_gear(self):\n",
        "    print('BMW - Vehicle change 7 gear')\n",
        "\n",
        "class Car:\n",
        "  def __init__(self, v):\n",
        "    self.v = v\n",
        "  def get_details(self):\n",
        "    self.v.get_details()\n",
        "    self.v.max_speed()\n",
        "    self.v.change_gear()\n",
        "\n",
        "b1 = BMW('BMW', 900000, 'White')\n",
        "a1 = Audi('Audi', 1000000, 'Black')\n",
        "c1 = Car(b1)\n",
        "c1.get_details()\n",
        "\n",
        "c2 = Car(a1)\n",
        "c2.get_details()"
      ],
      "metadata": {
        "id": "Iga-Ttm6Gdip",
        "colab": {
          "base_uri": "https://localhost:8080/"
        },
        "outputId": "64abb217-5210-4f8b-8d1f-4df405662214"
      },
      "execution_count": 5,
      "outputs": [
        {
          "output_type": "stream",
          "name": "stdout",
          "text": [
            "Name: BMW , Price: 900000 , Color: White <class '__main__.BMW'>\n",
            "BMW - Max speed is 300\n",
            "BMW - Vehicle change 7 gear\n",
            "Name: Audi , Price: 1000000 , Color: Black <class '__main__.Audi'>\n",
            "Audi - Max speed is 200\n",
            "Audi - Vehicle change 6 gear\n"
          ]
        }
      ]
    },
    {
      "cell_type": "code",
      "source": [
        "###  Operator overloading - with number\n",
        "n1 = 10\n",
        "n2 = 20\n",
        "n3 = 30\n",
        "print(n1+n2)\n",
        "print(n1.__add__(n2))\n",
        "print(int.__add__(n1,n2))\n",
        "print(dir(int))\n",
        "print(n1+n2+n3)\n",
        "print(int.__add__(n1,int.__add__(n2,n3)))\n"
      ],
      "metadata": {
        "id": "5515Www5GdmC",
        "colab": {
          "base_uri": "https://localhost:8080/"
        },
        "outputId": "f03d9daa-8a6f-420a-a067-c7d4e5860705"
      },
      "execution_count": 13,
      "outputs": [
        {
          "output_type": "stream",
          "name": "stdout",
          "text": [
            "30\n",
            "30\n",
            "30\n",
            "['__abs__', '__add__', '__and__', '__bool__', '__ceil__', '__class__', '__delattr__', '__dir__', '__divmod__', '__doc__', '__eq__', '__float__', '__floor__', '__floordiv__', '__format__', '__ge__', '__getattribute__', '__getnewargs__', '__getstate__', '__gt__', '__hash__', '__index__', '__init__', '__init_subclass__', '__int__', '__invert__', '__le__', '__lshift__', '__lt__', '__mod__', '__mul__', '__ne__', '__neg__', '__new__', '__or__', '__pos__', '__pow__', '__radd__', '__rand__', '__rdivmod__', '__reduce__', '__reduce_ex__', '__repr__', '__rfloordiv__', '__rlshift__', '__rmod__', '__rmul__', '__ror__', '__round__', '__rpow__', '__rrshift__', '__rshift__', '__rsub__', '__rtruediv__', '__rxor__', '__setattr__', '__sizeof__', '__str__', '__sub__', '__subclasshook__', '__truediv__', '__trunc__', '__xor__', 'as_integer_ratio', 'bit_count', 'bit_length', 'conjugate', 'denominator', 'from_bytes', 'imag', 'numerator', 'real', 'to_bytes']\n",
            "60\n"
          ]
        }
      ]
    },
    {
      "cell_type": "code",
      "source": [
        "###  Operator overloading - with string\n",
        "#s1 = 10 # not supported\n",
        "s1 = 'Hello'\n",
        "s2 = 'World'\n",
        "print(s1+s2)\n",
        "print(s1.__add__(s2))\n",
        "print(str.__add__(s1,s2))\n",
        "print(dir(str))"
      ],
      "metadata": {
        "id": "_VAAMPLIGdpk",
        "colab": {
          "base_uri": "https://localhost:8080/"
        },
        "outputId": "bafacd10-0a5c-4a74-b2e0-c0e808a200e4"
      },
      "execution_count": 17,
      "outputs": [
        {
          "output_type": "stream",
          "name": "stdout",
          "text": [
            "HelloWorld\n",
            "HelloWorld\n",
            "HelloWorld\n",
            "['__add__', '__class__', '__contains__', '__delattr__', '__dir__', '__doc__', '__eq__', '__format__', '__ge__', '__getattribute__', '__getitem__', '__getnewargs__', '__getstate__', '__gt__', '__hash__', '__init__', '__init_subclass__', '__iter__', '__le__', '__len__', '__lt__', '__mod__', '__mul__', '__ne__', '__new__', '__reduce__', '__reduce_ex__', '__repr__', '__rmod__', '__rmul__', '__setattr__', '__sizeof__', '__str__', '__subclasshook__', 'capitalize', 'casefold', 'center', 'count', 'encode', 'endswith', 'expandtabs', 'find', 'format', 'format_map', 'index', 'isalnum', 'isalpha', 'isascii', 'isdecimal', 'isdigit', 'isidentifier', 'islower', 'isnumeric', 'isprintable', 'isspace', 'istitle', 'isupper', 'join', 'ljust', 'lower', 'lstrip', 'maketrans', 'partition', 'removeprefix', 'removesuffix', 'replace', 'rfind', 'rindex', 'rjust', 'rpartition', 'rsplit', 'rstrip', 'split', 'splitlines', 'startswith', 'strip', 'swapcase', 'title', 'translate', 'upper', 'zfill']\n"
          ]
        }
      ]
    },
    {
      "cell_type": "code",
      "source": [
        "## add in 2 student object\n",
        "class Student:\n",
        "  def __init__(self, name, marks):\n",
        "    self.name = name\n",
        "    self.marks = marks\n",
        "  def __add__(self, other):\n",
        "    print(self.name, other.name)\n",
        "    return self.marks + other.marks\n",
        "\n",
        "\n",
        "s1 = Student('Tom', 100)\n",
        "s2 = Student('Harry', 200)\n",
        "print(s1+s2)"
      ],
      "metadata": {
        "id": "vTz4SmEtGdsw",
        "colab": {
          "base_uri": "https://localhost:8080/"
        },
        "outputId": "9658ffd3-a3d8-43fb-c485-dc06ff0d8a7c"
      },
      "execution_count": 21,
      "outputs": [
        {
          "output_type": "stream",
          "name": "stdout",
          "text": [
            "Tom Harry\n",
            "300\n"
          ]
        }
      ]
    },
    {
      "cell_type": "code",
      "source": [
        "class Hotel:\n",
        "  def __init__(self, name, price):\n",
        "    self.name = name\n",
        "    self.price = price\n",
        "  def __gt__(self, other):\n",
        "    return self.price > other.price\n",
        "\n",
        "h1 = Hotel('Mariot', 10000)\n",
        "h2 = Hotel('Taj', 20000)\n",
        "print(h1>h2)\n",
        "\n",
        "h1.price = 30000\n",
        "print(h1>h2)"
      ],
      "metadata": {
        "colab": {
          "base_uri": "https://localhost:8080/"
        },
        "id": "bgbRET6uhhnb",
        "outputId": "9c961ee3-5272-43a2-c8ec-fdcb80c15b11"
      },
      "execution_count": 23,
      "outputs": [
        {
          "output_type": "stream",
          "name": "stdout",
          "text": [
            "False\n",
            "True\n"
          ]
        }
      ]
    },
    {
      "cell_type": "code",
      "source": [
        "# Method overloading\n",
        "class Addition:\n",
        "  def add(self, a, b, c): # This is not executed\n",
        "    print(a+b+c)\n",
        "  def add(self, a, b): # always executes this method\n",
        "    print(a+b)\n",
        "\n",
        "a1 = Addition()\n",
        "a1.add(10,20)\n",
        "a1.add(10,20,30)"
      ],
      "metadata": {
        "colab": {
          "base_uri": "https://localhost:8080/",
          "height": 193
        },
        "id": "KHJE809Phhq6",
        "outputId": "bf0ff336-b98d-4f98-ff75-54d254b2b370"
      },
      "execution_count": 26,
      "outputs": [
        {
          "output_type": "stream",
          "name": "stdout",
          "text": [
            "30\n"
          ]
        },
        {
          "output_type": "error",
          "ename": "TypeError",
          "evalue": "Addition.add() takes 3 positional arguments but 4 were given",
          "traceback": [
            "\u001b[0;31m---------------------------------------------------------------------------\u001b[0m",
            "\u001b[0;31mTypeError\u001b[0m                                 Traceback (most recent call last)",
            "\u001b[0;32m<ipython-input-26-54e99288d49f>\u001b[0m in \u001b[0;36m<cell line: 0>\u001b[0;34m()\u001b[0m\n\u001b[1;32m      8\u001b[0m \u001b[0ma1\u001b[0m \u001b[0;34m=\u001b[0m \u001b[0mAddition\u001b[0m\u001b[0;34m(\u001b[0m\u001b[0;34m)\u001b[0m\u001b[0;34m\u001b[0m\u001b[0;34m\u001b[0m\u001b[0m\n\u001b[1;32m      9\u001b[0m \u001b[0ma1\u001b[0m\u001b[0;34m.\u001b[0m\u001b[0madd\u001b[0m\u001b[0;34m(\u001b[0m\u001b[0;36m10\u001b[0m\u001b[0;34m,\u001b[0m\u001b[0;36m20\u001b[0m\u001b[0;34m)\u001b[0m\u001b[0;34m\u001b[0m\u001b[0;34m\u001b[0m\u001b[0m\n\u001b[0;32m---> 10\u001b[0;31m \u001b[0ma1\u001b[0m\u001b[0;34m.\u001b[0m\u001b[0madd\u001b[0m\u001b[0;34m(\u001b[0m\u001b[0;36m10\u001b[0m\u001b[0;34m,\u001b[0m\u001b[0;36m20\u001b[0m\u001b[0;34m,\u001b[0m\u001b[0;36m30\u001b[0m\u001b[0;34m)\u001b[0m\u001b[0;34m\u001b[0m\u001b[0;34m\u001b[0m\u001b[0m\n\u001b[0m",
            "\u001b[0;31mTypeError\u001b[0m: Addition.add() takes 3 positional arguments but 4 were given"
          ]
        }
      ]
    },
    {
      "cell_type": "code",
      "source": [
        "# Method overloading with default\n",
        "class Addition:\n",
        "  def add(self, a=None, b=None, c=None): # This is not executed\n",
        "    if a!=None and b!=None and c!=None:\n",
        "      print(a+b+c)\n",
        "    elif a!=None and b!=None:\n",
        "      print(a+b)\n",
        "    elif a!=None:\n",
        "      print(a)\n",
        "    else:\n",
        "      print('Invalid arguments')\n",
        "\n",
        "\n",
        "a1 = Addition()\n",
        "a1.add(10,20,30)\n",
        "a1.add(10)\n",
        "a1.add(10,20)\n"
      ],
      "metadata": {
        "colab": {
          "base_uri": "https://localhost:8080/"
        },
        "id": "WKZkVgPhhhvB",
        "outputId": "47e745e6-0c99-47a0-9879-ce5dff721963"
      },
      "execution_count": 30,
      "outputs": [
        {
          "output_type": "stream",
          "name": "stdout",
          "text": [
            "60\n",
            "10\n",
            "30\n"
          ]
        }
      ]
    },
    {
      "cell_type": "code",
      "source": [
        "#### python destructor\n",
        "class Addition:\n",
        "  def add(self, a, b):\n",
        "    print(a+b)\n",
        "\n",
        "  def __del__(self): # Do not define destructor method\n",
        "    print('Destructor called')\n",
        "\n",
        "\n",
        "a1 = Addition()\n",
        "a1.add(10,20)\n",
        "del a1\n",
        "#a1.add(10,20) # a1 is already deleted in previous line, so a1 is not available at this point\n"
      ],
      "metadata": {
        "colab": {
          "base_uri": "https://localhost:8080/"
        },
        "collapsed": true,
        "id": "-wPWVKs0hhya",
        "outputId": "40e4a47b-e1a6-4c7c-feeb-ccafa368f3a8"
      },
      "execution_count": 56,
      "outputs": [
        {
          "output_type": "stream",
          "name": "stdout",
          "text": [
            "30\n",
            "Destructor called\n"
          ]
        }
      ]
    },
    {
      "cell_type": "code",
      "source": [],
      "metadata": {
        "id": "bpA3eCHDt5L1"
      },
      "execution_count": null,
      "outputs": []
    },
    {
      "cell_type": "code",
      "source": [],
      "metadata": {
        "id": "wIxOYIght5Py"
      },
      "execution_count": null,
      "outputs": []
    },
    {
      "cell_type": "code",
      "source": [],
      "metadata": {
        "id": "8qBTK8O2t5dC"
      },
      "execution_count": null,
      "outputs": []
    },
    {
      "cell_type": "code",
      "source": [],
      "metadata": {
        "id": "z2jgq6fgt5gb"
      },
      "execution_count": null,
      "outputs": []
    }
  ]
}