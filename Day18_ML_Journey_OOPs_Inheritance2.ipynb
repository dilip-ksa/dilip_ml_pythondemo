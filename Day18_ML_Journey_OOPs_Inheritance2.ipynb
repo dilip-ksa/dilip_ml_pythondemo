{
  "nbformat": 4,
  "nbformat_minor": 0,
  "metadata": {
    "colab": {
      "provenance": [],
      "name": "Day18_ML_Journey_OOPs_Inheritance2.ipynb",
      "authorship_tag": "ABX9TyOFminK3RGZj9iIq9yOvjPN",
      "include_colab_link": true
    },
    "kernelspec": {
      "name": "python3",
      "display_name": "Python 3"
    },
    "language_info": {
      "name": "python"
    }
  },
  "cells": [
    {
      "cell_type": "markdown",
      "metadata": {
        "id": "view-in-github",
        "colab_type": "text"
      },
      "source": [
        "<a href=\"https://colab.research.google.com/github/dilip-ksa/dilip_ml_pythondemo/blob/main/Day18_ML_Journey_OOPs_Inheritance2.ipynb\" target=\"_parent\"><img src=\"https://colab.research.google.com/assets/colab-badge.svg\" alt=\"Open In Colab\"/></a>"
      ]
    },
    {
      "cell_type": "code",
      "source": [
        "# Inheritance with call to parent class constructor with attributes\n",
        "class Mobile:\n",
        "  def __init__(self, rm, proc):\n",
        "    print('Mobile Constructor')\n",
        "    self.ram = rm\n",
        "    self.processor = proc\n",
        "\n",
        "class Model(Mobile):\n",
        "  def __init__(self, mname, prce, rm, proc='Snapdragon'):\n",
        "    super().__init__(rm, proc) # calls parent class constructor & attributes\n",
        "    print('Model Constructor')\n",
        "    self.name = mname\n",
        "    self.price = prce\n",
        "\n",
        "  def display(self):\n",
        "    print('Name:', self.name, ', Price:', self.price, ', Ram', self.ram, ', Processor:', self.processor)\n",
        "\n",
        "m = Model('8GB', 'iPhone16', 130000, 'iOS 16')\n",
        "m.display()\n",
        "\n",
        "m1 = Model('6GB', 'iPhone15', 99990)\n",
        "m1.display()\n"
      ],
      "metadata": {
        "id": "gB_YSfZING2j",
        "outputId": "5f088368-d1ab-49b5-8702-03b63b9b44b4",
        "colab": {
          "base_uri": "https://localhost:8080/"
        }
      },
      "execution_count": null,
      "outputs": [
        {
          "output_type": "stream",
          "name": "stdout",
          "text": [
            "Mobile Constructor\n",
            "Model Constructor\n",
            "Name: 8GB , Price: iPhone16 , Ram 130000 , Processor: iOS 16\n",
            "Mobile Constructor\n",
            "Model Constructor\n",
            "Name: 6GB , Price: iPhone15 , Ram 99990 , Processor: Snapdragon\n"
          ]
        }
      ]
    },
    {
      "cell_type": "code",
      "source": [
        "###########################  Day 17  ################################\n",
        "#Inheritence : with class variable\n",
        "class Father:\n",
        "  bonus = 1000\n",
        "  def __init__(self):\n",
        "    self.vehicle = 'Scooter'\n",
        "  def display(self):\n",
        "    print('Vehicle', self.vehicle, ', Bonus:', Father.bonus)\n",
        "\n",
        "class Son(Father):\n",
        "  son_bonus = 2000\n",
        "  def __init__(self):\n",
        "    self.vehicle = 'Car'\n",
        "  def display(self):\n",
        "    print('Vehicle', self.vehicle, ', Father Bonus:', Father.bonus, ', Son Bonus:', Son.son_bonus)\n",
        "    print('Vehicle', self.vehicle, ', Father Bonus:', self.bonus, ', Son Bonus:', self.son_bonus)\n",
        "\n",
        "s1 = Son()\n",
        "s1.display()\n",
        "f1 = Father()\n",
        "f1.display()"
      ],
      "metadata": {
        "id": "Boz7xM6zNG5k",
        "colab": {
          "base_uri": "https://localhost:8080/"
        },
        "outputId": "25fcadc2-08ad-4ecb-815e-eb1c2b65f90a"
      },
      "execution_count": null,
      "outputs": [
        {
          "output_type": "stream",
          "name": "stdout",
          "text": [
            "Vehicle Car , Father Bonus: 1000 , Son Bonus: 2000\n",
            "Vehicle Car , Father Bonus: 1000 , Son Bonus: 2000\n",
            "Vehicle Scooter , Bonus: 1000\n"
          ]
        }
      ]
    },
    {
      "cell_type": "code",
      "source": [
        "# Multilevel inheritance\n",
        "class Father:\n",
        "  bonus = 1000\n",
        "  def __init__(self):\n",
        "    self.vehicle = 'Scooter'\n",
        "  def display(self):\n",
        "    print('Vehicle:', self.vehicle, ', Bonus:', Father.bonus)\n",
        "\n",
        "class Son(Father):\n",
        "  son_bonus = 2000\n",
        "  def __init__(self):\n",
        "    self.vehicle = 'Car'\n",
        "  def display(self):\n",
        "    print('Vehicle:', self.vehicle, ', Father Bonus:', Father.bonus, ', Son Bonus:', Son.son_bonus)\n",
        "    print('Vehicle:', self.vehicle, ', Father Bonus:', self.bonus, ', Son Bonus:', self.son_bonus)\n",
        "\n",
        "class Grandson(Son):\n",
        "  grandson_bonus = 3000\n",
        "  def __init__(self):\n",
        "    self.vehicle = 'Sport Bike'\n",
        "  def display(self):\n",
        "    print('Vehicle:', self.vehicle, ', Father Bonus:', Father.bonus, ', Son Bonus:', Son.son_bonus, ', Grandson Bonus:', Grandson.grandson_bonus)\n",
        "    print('Vehicle:', self.vehicle, ', Father Bonus:', self.bonus, ', Son Bonus:', self.son_bonus, ', Grandson Bonus:', self.grandson_bonus)\n",
        "    print('Vehicle:', self.vehicle, ', Father Bonus:', Grandson.bonus, ', Son Bonus:', Grandson.son_bonus, ', Grandson Bonus:', Grandson.grandson_bonus)\n",
        "\n",
        "f1 = Father()\n",
        "f1.display()\n",
        "s1 = Son()\n",
        "s1.display()\n",
        "g1 = Grandson()\n",
        "g1.display()"
      ],
      "metadata": {
        "id": "Qbzydr1RNG8Y",
        "colab": {
          "base_uri": "https://localhost:8080/"
        },
        "outputId": "754403f8-d9a8-4f42-f477-7435f2bf940a"
      },
      "execution_count": null,
      "outputs": [
        {
          "output_type": "stream",
          "name": "stdout",
          "text": [
            "Vehicle: Scooter , Bonus: 1000\n",
            "Vehicle: Car , Father Bonus: 1000 , Son Bonus: 2000\n",
            "Vehicle: Car , Father Bonus: 1000 , Son Bonus: 2000\n",
            "Vehicle: Sport Bike , Father Bonus: 1000 , Son Bonus: 2000 , Grandson Bonus: 3000\n",
            "Vehicle: Sport Bike , Father Bonus: 1000 , Son Bonus: 2000 , Grandson Bonus: 3000\n",
            "Vehicle: Sport Bike , Father Bonus: 1000 , Son Bonus: 2000 , Grandson Bonus: 3000\n"
          ]
        }
      ]
    },
    {
      "cell_type": "code",
      "source": [
        "class Human():\n",
        "\n",
        "  def __init__(self):\n",
        "    print(\"Human class constructor\")\n",
        "    self.name=\"Radha\"\n",
        "\n",
        "class Emp(Human):\n",
        "\n",
        "  def __init__(self):\n",
        "    super().__init__()\n",
        "    print(\"Emp class constructor\")\n",
        "    self.salary =12900\n",
        "\n",
        "\n",
        "class Manager(Emp):\n",
        "\n",
        "  def __init__(self):\n",
        "    super().__init__()\n",
        "    print(\"Mnager class constructor\")\n",
        "    self.role= \"Manager\"\n",
        "\n",
        "\n",
        "m1 = Manager()\n",
        "\n",
        "print(m1.__dict__)"
      ],
      "metadata": {
        "colab": {
          "base_uri": "https://localhost:8080/"
        },
        "id": "ZWCVEbJj1Fya",
        "outputId": "5dd590b6-8a04-4ea1-976c-d8c765f2d0a8"
      },
      "execution_count": null,
      "outputs": [
        {
          "output_type": "stream",
          "name": "stdout",
          "text": [
            "Human class constructor\n",
            "Emp class constructor\n",
            "Mnager class constructor\n",
            "{'name': 'Radha', 'salary': 12900, 'role': 'Manager'}\n"
          ]
        }
      ]
    },
    {
      "cell_type": "code",
      "source": [
        "class Human():\n",
        "\n",
        "  def __init__(self, nm):\n",
        "    print(\"Human class constructor\")\n",
        "    self.name=nm\n",
        "\n",
        "class Emp(Human):\n",
        "\n",
        "  def __init__(self, nm, sal):\n",
        "    super().__init__(nm)\n",
        "    print(\"Emp class constructor\")\n",
        "    self.salary =sal\n",
        "\n",
        "class Manager(Emp):\n",
        "\n",
        "  def __init__(self, nm, sal, rol):\n",
        "    super().__init__(nm, sal)\n",
        "    print(\"Mnager class constructor\")\n",
        "    self.role= rol\n",
        "\n",
        "m1 = Manager('John', 12000, 'Manager')\n",
        "print(m1.__dict__)"
      ],
      "metadata": {
        "id": "5J0Xyrs9NHCQ",
        "colab": {
          "base_uri": "https://localhost:8080/"
        },
        "outputId": "b7391566-fbf2-4bac-cfb7-f6e0a8830aae"
      },
      "execution_count": null,
      "outputs": [
        {
          "output_type": "stream",
          "name": "stdout",
          "text": [
            "Human class constructor\n",
            "Emp class constructor\n",
            "Mnager class constructor\n",
            "{'name': 'John', 'salary': 12000, 'role': 'Manager'}\n"
          ]
        }
      ]
    },
    {
      "cell_type": "code",
      "source": [
        "# Multilevel inheritance\n",
        "class Father:\n",
        "  bonus = 1000\n",
        "  def __init__(self):\n",
        "    self.vehicle = 'Scooter'\n",
        "    self.price = 10000\n",
        "  def display(self):\n",
        "    print('Vehicle:', self.vehicle,'Price:', self.price, ', Bonus:', Father.bonus)\n",
        "\n",
        "class Son(Father):\n",
        "  son_bonus = 2000\n",
        "  def __init__(self):\n",
        "    super().__init__()\n",
        "    self.vehicle = 'Car'\n",
        "    self.oem = 'Tata'\n",
        "  def display(self):\n",
        "    print('Vehicle:', self.vehicle, ', OEM:', self.oem, ', Price:', self.price)\n",
        "    print('Father Bonus:', self.bonus, ', Son Bonus:', self.son_bonus)\n",
        "\n",
        "class Grandson(Son):\n",
        "  grandson_bonus = 3000\n",
        "  def __init__(self):\n",
        "    super().__init__()\n",
        "    self.vehicle = 'Sport Bike'\n",
        "    self.oem = 'Honda'\n",
        "    self.displacement = '100cc'\n",
        "  def display(self):\n",
        "    print('Vehicle:', self.vehicle, ', OEM:', self.oem, ', Displacement:', self.displacement, ', Price:', self.price)\n",
        "    print('Father Bonus:', Grandson.bonus, ', Son Bonus:', Grandson.son_bonus, ', Grandson Bonus:', Grandson.grandson_bonus)\n",
        "\n",
        "f1 = Father()\n",
        "f1.display()\n",
        "s1 = Son()\n",
        "s1.display()\n",
        "g1 = Grandson()\n",
        "g1.display()\n",
        "print(g1.__dict__)"
      ],
      "metadata": {
        "colab": {
          "base_uri": "https://localhost:8080/"
        },
        "id": "ZAjNcvwb1z9p",
        "outputId": "378795fa-82f6-4f83-858f-94e4ccdfaced"
      },
      "execution_count": null,
      "outputs": [
        {
          "output_type": "stream",
          "name": "stdout",
          "text": [
            "Vehicle: Scooter Price: 10000 , Bonus: 1000\n",
            "Vehicle: Car , OEM: Tata , Price: 10000\n",
            "Father Bonus: 1000 , Son Bonus: 2000\n",
            "Vehicle: Sport Bike , OEM: Honda , Displacement: 100cc , Price: 10000\n",
            "Father Bonus: 1000 , Son Bonus: 2000 , Grandson Bonus: 3000\n",
            "{'vehicle': 'Sport Bike', 'price': 10000, 'oem': 'Honda', 'displacement': '100cc'}\n"
          ]
        }
      ]
    },
    {
      "cell_type": "code",
      "source": [
        "# Multilevel hierarchical inheritance\n",
        "class Person:\n",
        "  def __init__(self, nm, ag):\n",
        "    self.name = nm\n",
        "    self.age = ag\n",
        "\n",
        "class Employee(Person):\n",
        "  def __init__(self, nm, ag, empid):\n",
        "    super().__init__(nm, ag)\n",
        "    self.empid = empid\n",
        "  def display(self):\n",
        "    print('Name:', self.name, ', Age:', self.age, ', Employee ID:', self.empid)\n",
        "\n",
        "class Student(Person):\n",
        "  def __init__(self, nm, ag, roll):\n",
        "    super().__init__(nm, ag)\n",
        "    self.rollno = roll\n",
        "  def display(self):\n",
        "    print('Name:', self.name, ', Age:', self.age, ', Roll no:', self.rollno)\n",
        "\n",
        "class Teacher(Person):\n",
        "  def __init__(self, nm, ag, sub):\n",
        "    super().__init__(nm, ag)\n",
        "    self.subject = sub\n",
        "  def display(self):\n",
        "    print('Name:', self.name, ', Age:', self.age, ', Subject:', self.subject)\n",
        "\n",
        "e1 = Employee('Tom', 30, 101)\n",
        "e1.display()\n",
        "print(e1.__dict__)\n",
        "s1 = Student('Harry', 25, 102)\n",
        "s1.display()\n",
        "print(s1.__dict__)\n",
        "t1 = Teacher('Don', 40, 'Python')\n",
        "t1.display()\n",
        "print(t1.__dict__)"
      ],
      "metadata": {
        "colab": {
          "base_uri": "https://localhost:8080/"
        },
        "id": "FALv4vSr10H1",
        "outputId": "caa4cf65-772f-4e8e-a40a-1c28a285e3ee"
      },
      "execution_count": null,
      "outputs": [
        {
          "output_type": "stream",
          "name": "stdout",
          "text": [
            "Name: Tom , Age: 30 , Employee ID: 101\n",
            "{'name': 'Tom', 'age': 30, 'empid': 101}\n",
            "Name: Harry , Age: 25 , Roll no: 102\n",
            "{'name': 'Harry', 'age': 25, 'rollno': 102}\n",
            "Name: Don , Age: 40 , Subject: Python\n",
            "{'name': 'Don', 'age': 40, 'subject': 'Python'}\n"
          ]
        }
      ]
    },
    {
      "cell_type": "code",
      "source": [
        "# Multiple inheritance(many parents)\n",
        "class Country:\n",
        "  def __init__(self, nm):\n",
        "    self.cname = nm\n",
        "    self.continent = 'Asia'\n",
        "  def display(self):\n",
        "    print('Name:', self.cname, ', Continent:', self.continent)\n",
        "\n",
        "class State:\n",
        "  def __init__(self, nm, cap):\n",
        "    self.sname = nm\n",
        "    self.capital = cap\n",
        "  def display(self):\n",
        "    print('Name:', self.sname, ', Capital:', self.capital)\n",
        "\n",
        "class City1(Country, State):\n",
        "  def __init__(self, cnm, snm, cap, pop):\n",
        "    Country.__init__(self, cnm)\n",
        "    State.__init__(self, snm, cap)\n",
        "    self.population = pop\n",
        "  def display_city(self):\n",
        "    print('Name:', self.cname, ', Capital:', self.capital, ', Population:', self.population)\n",
        "\n",
        "class City2(State, Country):\n",
        "  def __init__(self, cnm, snm, cap, pop):\n",
        "    Country.__init__(self, cnm)\n",
        "    State.__init__(self, snm, cap)\n",
        "    self.population = pop\n",
        "  def display_city(self):\n",
        "    print('Name:', self.cname, ', Capital:', self.capital, ', Population:', self.population)\n",
        "\n",
        "c1 = City1('India', 'Odisha', 'Bhubaneswar', 1300000000)\n",
        "c1.display()\n",
        "c1.display_city()\n",
        "\n",
        "c2 = City2('India', 'Odisha', 'Bhubaneswar', 1300000000)\n",
        "c2.display()\n",
        "c2.display_city()\n",
        "\n",
        "print(c1.__dict__)\n",
        "print(c2.__dict__)"
      ],
      "metadata": {
        "colab": {
          "base_uri": "https://localhost:8080/"
        },
        "id": "Pcd-GeQv10LW",
        "outputId": "c8bbcc60-dec0-41b8-c993-89581e990f2d"
      },
      "execution_count": null,
      "outputs": [
        {
          "output_type": "stream",
          "name": "stdout",
          "text": [
            "Name: India , Continent: Asia\n",
            "Name: India , Capital: Bhubaneswar , Population: 1300000000\n",
            "Name: Odisha , Capital: Bhubaneswar\n",
            "Name: India , Capital: Bhubaneswar , Population: 1300000000\n",
            "{'cname': 'India', 'continent': 'Asia', 'sname': 'Odisha', 'capital': 'Bhubaneswar', 'population': 1300000000}\n",
            "{'cname': 'India', 'continent': 'Asia', 'sname': 'Odisha', 'capital': 'Bhubaneswar', 'population': 1300000000}\n"
          ]
        }
      ]
    },
    {
      "cell_type": "code",
      "source": [
        "#multiple inheritance with super, order based on the Inheritance sequence\n",
        "class Human:\n",
        "  def __init__(self):\n",
        "    super().__init__()\n",
        "    self.age = 43\n",
        "    print('Human class constructor')\n",
        "  def display(self):\n",
        "    print('Age:', self.age)\n",
        "  def display_human(self):\n",
        "    print('Human class method')\n",
        "class Student:\n",
        "  def __init__(self):\n",
        "    super().__init__()\n",
        "    self.rollno = 123\n",
        "    print('Student class constructor')\n",
        "  def display(self):\n",
        "    print('Roll no:', self.rollno)\n",
        "\n",
        "  def display_std(self):\n",
        "    print('Student class method')\n",
        "class Teacher:\n",
        "  def __init__(self):\n",
        "    super().__init__()\n",
        "    self.subject = 'Eng'\n",
        "    print('Teacher class constructor')\n",
        "  def display(self):\n",
        "    print('Subject:', self.subject)\n",
        "    super().display()\n",
        "  def display_teacher(self):\n",
        "    print('Teacher class method')\n",
        "class Employee(Teacher,Student, Human):\n",
        "  def __init__(self, empid):\n",
        "    super().__init__()\n",
        "    self.empid = empid\n",
        "    print('Employee class constructor')\n",
        "  def display(self):\n",
        "    print('Employee ID:', self.empid)\n",
        "    Human.display(self)\n",
        "    super().display()\n",
        "  def display_employee(self):\n",
        "    print('Employee class method')\n",
        "\n",
        "e1 = Employee(101)\n",
        "e1.display()\n",
        "print(e1.__dict__)\n",
        "e1.display_human()\n",
        "e1.display_std()\n",
        "e1.display_teacher()\n",
        "e1.display_employee()"
      ],
      "metadata": {
        "colab": {
          "base_uri": "https://localhost:8080/"
        },
        "id": "1Ad-t3LD10Qn",
        "outputId": "0f10562a-9a78-4bee-876b-1ca5dcbcd942"
      },
      "execution_count": null,
      "outputs": [
        {
          "output_type": "stream",
          "name": "stdout",
          "text": [
            "Human class constructor\n",
            "Student class constructor\n",
            "Teacher class constructor\n",
            "Employee class constructor\n",
            "Employee ID: 101\n",
            "Age: 43\n",
            "Subject: Eng\n",
            "Roll no: 123\n",
            "{'age': 43, 'rollno': 123, 'subject': 'Eng', 'empid': 101}\n",
            "Human class method\n",
            "Student class method\n",
            "Teacher class method\n",
            "Employee class method\n"
          ]
        }
      ]
    },
    {
      "cell_type": "code",
      "source": [],
      "metadata": {
        "id": "NiEIiMvd10T8"
      },
      "execution_count": null,
      "outputs": []
    }
  ]
}