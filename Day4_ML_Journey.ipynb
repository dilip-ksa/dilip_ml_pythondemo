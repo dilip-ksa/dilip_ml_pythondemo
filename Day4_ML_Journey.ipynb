{
  "nbformat": 4,
  "nbformat_minor": 0,
  "metadata": {
    "colab": {
      "provenance": [],
      "authorship_tag": "ABX9TyOuy+fvIs3uPLxopf/1yqil",
      "include_colab_link": true
    },
    "kernelspec": {
      "name": "python3",
      "display_name": "Python 3"
    },
    "language_info": {
      "name": "python"
    }
  },
  "cells": [
    {
      "cell_type": "markdown",
      "metadata": {
        "id": "view-in-github",
        "colab_type": "text"
      },
      "source": [
        "<a href=\"https://colab.research.google.com/github/dilip-ksa/dilip_pythondemo/blob/main/Day4_ML_Journey.ipynb\" target=\"_parent\"><img src=\"https://colab.research.google.com/assets/colab-badge.svg\" alt=\"Open In Colab\"/></a>"
      ]
    },
    {
      "cell_type": "code",
      "execution_count": null,
      "metadata": {
        "id": "DUlgtUeSJXT5",
        "colab": {
          "base_uri": "https://localhost:8080/"
        },
        "outputId": "8d6bcd63-5233-4757-dce7-e20aa5330e74"
      },
      "outputs": [
        {
          "output_type": "stream",
          "name": "stdout",
          "text": [
            "asdasff\n"
          ]
        }
      ],
      "source": [
        "print(\"asdasff\")"
      ]
    },
    {
      "cell_type": "code",
      "source": [
        "import keyword as kw\n",
        "print(kw.kwlist)"
      ],
      "metadata": {
        "colab": {
          "base_uri": "https://localhost:8080/"
        },
        "id": "F_gh1abgKSVJ",
        "outputId": "256825f7-3278-4b83-ecad-b67842e2cf2f"
      },
      "execution_count": null,
      "outputs": [
        {
          "output_type": "stream",
          "name": "stdout",
          "text": [
            "['False', 'None', 'True', 'and', 'as', 'assert', 'async', 'await', 'break', 'class', 'continue', 'def', 'del', 'elif', 'else', 'except', 'finally', 'for', 'from', 'global', 'if', 'import', 'in', 'is', 'lambda', 'nonlocal', 'not', 'or', 'pass', 'raise', 'return', 'try', 'while', 'with', 'yield']\n"
          ]
        }
      ]
    },
    {
      "cell_type": "code",
      "source": [
        "num = 23423554425353464365475754754642854098610493760394764381976023\n",
        "num"
      ],
      "metadata": {
        "id": "w1_ImnuMMHgL",
        "outputId": "ebe5c599-07cc-4c6c-ced4-674b15731434",
        "colab": {
          "base_uri": "https://localhost:8080/"
        }
      },
      "execution_count": null,
      "outputs": [
        {
          "output_type": "execute_result",
          "data": {
            "text/plain": [
              "23423554425353464365475754754642854098610493760394764381976023"
            ]
          },
          "metadata": {},
          "execution_count": 3
        }
      ]
    },
    {
      "cell_type": "code",
      "source": [
        "# variable annotation\n",
        "\n",
        "aa: int = 10\n",
        "print(aa)\n",
        "\n",
        "print(__annotations__['aa'])\n",
        "print(type(aa))"
      ],
      "metadata": {
        "id": "wiK_-JdbX_Mu",
        "outputId": "cceb0ff0-8b1c-4c1b-ae83-d52f6d662cb4",
        "colab": {
          "base_uri": "https://localhost:8080/"
        }
      },
      "execution_count": null,
      "outputs": [
        {
          "output_type": "stream",
          "name": "stdout",
          "text": [
            "10\n",
            "<class 'int'>\n",
            "<class 'int'>\n"
          ]
        }
      ]
    },
    {
      "cell_type": "code",
      "source": [
        "a= 3+4j\n",
        "a\n",
        "print(type(a))"
      ],
      "metadata": {
        "id": "-287bCQjYaGI",
        "outputId": "713fdd79-603f-4ba4-90a0-7992a4128f13",
        "colab": {
          "base_uri": "https://localhost:8080/"
        }
      },
      "execution_count": null,
      "outputs": [
        {
          "output_type": "stream",
          "name": "stdout",
          "text": [
            "<class 'complex'>\n"
          ]
        }
      ]
    },
    {
      "cell_type": "code",
      "source": [
        "s = \"Bangalore\"\n",
        "s[::]"
      ],
      "metadata": {
        "id": "4kT-MvUEYf2v",
        "colab": {
          "base_uri": "https://localhost:8080/",
          "height": 35
        },
        "outputId": "25eae93a-d1f0-4716-9f2c-9a189c1da134"
      },
      "execution_count": null,
      "outputs": [
        {
          "output_type": "execute_result",
          "data": {
            "text/plain": [
              "'Bangalore'"
            ],
            "application/vnd.google.colaboratory.intrinsic+json": {
              "type": "string"
            }
          },
          "metadata": {},
          "execution_count": 3
        }
      ]
    },
    {
      "cell_type": "code",
      "source": [
        "s = \"Bangalore\"\n",
        "s[::-1]"
      ],
      "metadata": {
        "colab": {
          "base_uri": "https://localhost:8080/",
          "height": 35
        },
        "id": "ogK1A5HS2u6k",
        "outputId": "f61f3ce7-e1fa-4dc1-c593-c6b17fdaa000"
      },
      "execution_count": null,
      "outputs": [
        {
          "output_type": "execute_result",
          "data": {
            "text/plain": [
              "'erolagnaB'"
            ],
            "application/vnd.google.colaboratory.intrinsic+json": {
              "type": "string"
            }
          },
          "metadata": {},
          "execution_count": 4
        }
      ]
    },
    {
      "cell_type": "code",
      "source": [
        "s = \"Bangalore\"\n",
        "s[-1:-6:-1]"
      ],
      "metadata": {
        "colab": {
          "base_uri": "https://localhost:8080/",
          "height": 35
        },
        "id": "ytggfelP2yMv",
        "outputId": "234fb7ee-3386-49ee-bca7-7d3a06cb242c"
      },
      "execution_count": null,
      "outputs": [
        {
          "output_type": "execute_result",
          "data": {
            "text/plain": [
              "'erola'"
            ],
            "application/vnd.google.colaboratory.intrinsic+json": {
              "type": "string"
            }
          },
          "metadata": {},
          "execution_count": 5
        }
      ]
    },
    {
      "cell_type": "code",
      "source": [
        "s = \"Bangalore\"\n",
        "s[-2::-1]"
      ],
      "metadata": {
        "colab": {
          "base_uri": "https://localhost:8080/",
          "height": 35
        },
        "id": "VdeVYCL-3SKt",
        "outputId": "3689ce60-e76d-4449-c5ec-9ddc3d961f41"
      },
      "execution_count": null,
      "outputs": [
        {
          "output_type": "execute_result",
          "data": {
            "text/plain": [
              "'rolagnaB'"
            ],
            "application/vnd.google.colaboratory.intrinsic+json": {
              "type": "string"
            }
          },
          "metadata": {},
          "execution_count": 6
        }
      ]
    },
    {
      "cell_type": "code",
      "source": [
        "s = \"Bangalore\"\n",
        "s[3:0:-1]"
      ],
      "metadata": {
        "colab": {
          "base_uri": "https://localhost:8080/",
          "height": 35
        },
        "id": "PwckRErM38lO",
        "outputId": "2080bee8-8934-4648-9abe-19e49d2cfa1d"
      },
      "execution_count": null,
      "outputs": [
        {
          "output_type": "execute_result",
          "data": {
            "text/plain": [
              "'gna'"
            ],
            "application/vnd.google.colaboratory.intrinsic+json": {
              "type": "string"
            }
          },
          "metadata": {},
          "execution_count": 9
        }
      ]
    },
    {
      "cell_type": "code",
      "source": [
        "s = \"Bangalore\"\n",
        "s[:21],s[:4]"
      ],
      "metadata": {
        "colab": {
          "base_uri": "https://localhost:8080/"
        },
        "id": "fpjsV0g24PcD",
        "outputId": "cb8d85db-6251-4a93-dcb8-e3c9f7759cb0"
      },
      "execution_count": 3,
      "outputs": [
        {
          "output_type": "execute_result",
          "data": {
            "text/plain": [
              "('Bangalore', 'Bang')"
            ]
          },
          "metadata": {},
          "execution_count": 3
        }
      ]
    },
    {
      "cell_type": "code",
      "source": [
        "s = \"Bangalore\"\n",
        "s[-5:2:-2]"
      ],
      "metadata": {
        "colab": {
          "base_uri": "https://localhost:8080/",
          "height": 35
        },
        "id": "PntW4Ncm8MbT",
        "outputId": "36648ab8-8977-4e70-f1ba-fcb2567c3292"
      },
      "execution_count": 4,
      "outputs": [
        {
          "output_type": "execute_result",
          "data": {
            "text/plain": [
              "'a'"
            ],
            "application/vnd.google.colaboratory.intrinsic+json": {
              "type": "string"
            }
          },
          "metadata": {},
          "execution_count": 4
        }
      ]
    },
    {
      "cell_type": "code",
      "source": [
        "s = \"Hello, World!\"\n",
        "s[-5:2:-2]"
      ],
      "metadata": {
        "colab": {
          "base_uri": "https://localhost:8080/",
          "height": 35
        },
        "id": "nQsfG4kw8lhG",
        "outputId": "387be07b-c39a-4ab5-860a-1a9a9433a14e"
      },
      "execution_count": 7,
      "outputs": [
        {
          "output_type": "execute_result",
          "data": {
            "text/plain": [
              "'o o'"
            ],
            "application/vnd.google.colaboratory.intrinsic+json": {
              "type": "string"
            }
          },
          "metadata": {},
          "execution_count": 7
        }
      ]
    },
    {
      "cell_type": "code",
      "source": [
        "st = \"Python is great\"\n",
        "print(st)\n",
        "print(st[::2])\n",
        "st[::2][::-1]"
      ],
      "metadata": {
        "colab": {
          "base_uri": "https://localhost:8080/",
          "height": 70
        },
        "id": "CWaciSqc9oYy",
        "outputId": "08bec96b-b07e-43cc-e568-066f85cbe1d5"
      },
      "execution_count": 12,
      "outputs": [
        {
          "output_type": "stream",
          "name": "stdout",
          "text": [
            "Python is great\n",
            "Pto sget\n"
          ]
        },
        {
          "output_type": "execute_result",
          "data": {
            "text/plain": [
              "'tegs otP'"
            ],
            "application/vnd.google.colaboratory.intrinsic+json": {
              "type": "string"
            }
          },
          "metadata": {},
          "execution_count": 12
        }
      ]
    },
    {
      "cell_type": "code",
      "source": [
        "#if statement\n",
        "if 10 > 6:\n",
        "  print(\"inside of if\")\n",
        "  print(\"10 > 6\")\n",
        "print(\"outside of 1st if \\n \")\n",
        "\n",
        "if 4 > 6:\n",
        "  print(\"inside of if\")\n",
        "  print(\"10 > 6\")\n",
        "print(\"outside of 2nd if\")"
      ],
      "metadata": {
        "colab": {
          "base_uri": "https://localhost:8080/"
        },
        "id": "vM5B9-Gi_iw-",
        "outputId": "672f7700-d4be-44b1-a175-4e2b2e14a8cd"
      },
      "execution_count": 17,
      "outputs": [
        {
          "output_type": "stream",
          "name": "stdout",
          "text": [
            "inside of if\n",
            "10 > 6\n",
            "outside of 1st if \n",
            " \n",
            "outside of 2nd if\n"
          ]
        }
      ]
    },
    {
      "cell_type": "code",
      "source": [
        "a = int(input(\"Enter a number\"))\n",
        "b = int(input(\"ENter another number\"))\n",
        "print(\"a=\", a, \"b=\", b)\n",
        "if a > b :\n",
        "  print(\"a > b\")\n",
        "else:\n",
        "  print(\"a < b\")"
      ],
      "metadata": {
        "colab": {
          "base_uri": "https://localhost:8080/"
        },
        "id": "zE5W4iQ2Cqrs",
        "outputId": "937939d0-9c52-4374-8fc9-80f4f3e09ae5"
      },
      "execution_count": 19,
      "outputs": [
        {
          "output_type": "stream",
          "name": "stdout",
          "text": [
            "Enter a number10\n",
            "ENter another number5\n",
            "a= 10 b= 5\n",
            "a > b\n"
          ]
        }
      ]
    },
    {
      "cell_type": "code",
      "source": [
        "def is_palindrome(number):\n",
        "  number_str = str(number)\n",
        "  return number_str == number_str[::-1]\n",
        "\n",
        "# Get input from the user\n",
        "num = int(input(\"Enter a number: \"))\n",
        "\n",
        "# Check if the number is a palindrome and print the result\n",
        "if is_palindrome(num):\n",
        "  print(f\"{num} is a palindrome number.\")\n",
        "else:\n",
        "  print(f\"{num} is not a palindrome number.\")"
      ],
      "metadata": {
        "colab": {
          "base_uri": "https://localhost:8080/"
        },
        "id": "Ia1aYNpuEzaf",
        "outputId": "d8d575a7-bb79-44d1-b5bd-4e954c98f2dc"
      },
      "execution_count": 22,
      "outputs": [
        {
          "output_type": "stream",
          "name": "stdout",
          "text": [
            "Enter a number: 123\n",
            "123 is not a palindrome number.\n"
          ]
        }
      ]
    },
    {
      "cell_type": "code",
      "source": [
        "def is_palindrome(string):\n",
        "  return string == string[::-1]\n",
        "\n",
        "# Get input from the user\n",
        "string = input(\"Enter a string: \")\n",
        "\n",
        "# Check if the string is a palindrome and print the result\n",
        "if is_palindrome(string):\n",
        "  print(f\"{string} is a palindrome string.\")\n",
        "else:\n",
        "  print(f\"{string} is not a palindrome string.\")"
      ],
      "metadata": {
        "colab": {
          "base_uri": "https://localhost:8080/"
        },
        "id": "n3uprWYbE3wG",
        "outputId": "e82b04c0-592e-43c2-b0d6-df2d023cb0e5"
      },
      "execution_count": 26,
      "outputs": [
        {
          "output_type": "stream",
          "name": "stdout",
          "text": [
            "Enter a string: malayalam\n",
            "malayalam is a palindrome string.\n"
          ]
        }
      ]
    },
    {
      "cell_type": "code",
      "source": [
        "#while loop\n",
        "i = 10\n",
        "while i >= 0 :\n",
        "  print(\"i:\", i)\n",
        "  i -= 1\n",
        "print(\"outside of while loop\")\n"
      ],
      "metadata": {
        "id": "rn3zextAHRp4",
        "outputId": "9e9cad2f-7e98-4a57-9f05-ca1c442b0f6f",
        "colab": {
          "base_uri": "https://localhost:8080/"
        }
      },
      "execution_count": 27,
      "outputs": [
        {
          "output_type": "stream",
          "name": "stdout",
          "text": [
            "i: 10\n",
            "i: 9\n",
            "i: 8\n",
            "i: 7\n",
            "i: 6\n",
            "i: 5\n",
            "i: 4\n",
            "i: 3\n",
            "i: 2\n",
            "i: 1\n",
            "i: 0\n",
            "outside of while loop\n"
          ]
        }
      ]
    },
    {
      "cell_type": "code",
      "source": [
        "# for loop\n",
        "s = \"Dilip\"\n",
        "for i in s:\n",
        "  print(i)"
      ],
      "metadata": {
        "id": "C4SSmqt9HkZ6",
        "outputId": "e2da8f17-b188-4dd2-e18a-7eaa0a31cdbd",
        "colab": {
          "base_uri": "https://localhost:8080/"
        }
      },
      "execution_count": 28,
      "outputs": [
        {
          "output_type": "stream",
          "name": "stdout",
          "text": [
            "D\n",
            "i\n",
            "l\n",
            "i\n",
            "p\n"
          ]
        }
      ]
    },
    {
      "cell_type": "code",
      "source": [
        "# for loop\n",
        "l = [\"Dilip\", 12, 12.3, True]\n",
        "for i in l:\n",
        "  print(i)\n",
        "  print(type(i))"
      ],
      "metadata": {
        "id": "i5ZAVpmDHmsv",
        "outputId": "6fd5c8de-2b02-46bb-e2a0-977419937c3e",
        "colab": {
          "base_uri": "https://localhost:8080/"
        }
      },
      "execution_count": 29,
      "outputs": [
        {
          "output_type": "stream",
          "name": "stdout",
          "text": [
            "Dilip\n",
            "<class 'str'>\n",
            "12\n",
            "<class 'int'>\n",
            "12.3\n",
            "<class 'float'>\n",
            "True\n",
            "<class 'bool'>\n"
          ]
        }
      ]
    },
    {
      "cell_type": "code",
      "source": [
        "# for loop\n",
        "tpl = (\"Dilip\", 12, 12.3, True)\n",
        "for i in tpl:\n",
        "  print(i)\n",
        "  print(type(i))"
      ],
      "metadata": {
        "id": "O8AL0SR4Hmok",
        "outputId": "0f0b1c0b-1ba9-4011-f1ff-bacffa1548b2",
        "colab": {
          "base_uri": "https://localhost:8080/"
        }
      },
      "execution_count": 30,
      "outputs": [
        {
          "output_type": "stream",
          "name": "stdout",
          "text": [
            "Dilip\n",
            "<class 'str'>\n",
            "12\n",
            "<class 'int'>\n",
            "12.3\n",
            "<class 'float'>\n",
            "True\n",
            "<class 'bool'>\n"
          ]
        }
      ]
    },
    {
      "cell_type": "code",
      "source": [],
      "metadata": {
        "id": "7a26uF0aHmV4"
      },
      "execution_count": null,
      "outputs": []
    }
  ]
}