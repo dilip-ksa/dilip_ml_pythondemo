{
  "nbformat": 4,
  "nbformat_minor": 0,
  "metadata": {
    "colab": {
      "provenance": [],
      "name": "Day11_ML_Journey.ipynb",
      "authorship_tag": "ABX9TyODP3OSrnheb246L1nHnCom",
      "include_colab_link": true
    },
    "kernelspec": {
      "name": "python3",
      "display_name": "Python 3"
    },
    "language_info": {
      "name": "python"
    }
  },
  "cells": [
    {
      "cell_type": "markdown",
      "metadata": {
        "id": "view-in-github",
        "colab_type": "text"
      },
      "source": [
        "<a href=\"https://colab.research.google.com/github/dilip-ksa/dilip_ml_pythondemo/blob/main/Day11_ML_Journey.ipynb\" target=\"_parent\"><img src=\"https://colab.research.google.com/assets/colab-badge.svg\" alt=\"Open In Colab\"/></a>"
      ]
    },
    {
      "cell_type": "code",
      "source": [
        "# Day 11 - Functions\n",
        "print(\"Hello world\")"
      ],
      "metadata": {
        "id": "dlg4ZAFQR0gR",
        "outputId": "711211c3-8cda-40d3-c011-9a99085bda45",
        "colab": {
          "base_uri": "https://localhost:8080/"
        }
      },
      "execution_count": null,
      "outputs": [
        {
          "output_type": "stream",
          "name": "stdout",
          "text": [
            "Hello world\n"
          ]
        }
      ]
    },
    {
      "cell_type": "code",
      "source": [
        "# Without argument and without return\n",
        "def add():\n",
        "    a = 10\n",
        "    b = 20\n",
        "    c = a + b\n",
        "    print(c)\n",
        "add()"
      ],
      "metadata": {
        "id": "d4NqDNjyR0dO",
        "colab": {
          "base_uri": "https://localhost:8080/"
        },
        "outputId": "5e7f91f5-a4ba-43ab-c867-d62b156501ee"
      },
      "execution_count": 1,
      "outputs": [
        {
          "output_type": "stream",
          "name": "stdout",
          "text": [
            "30\n"
          ]
        }
      ]
    },
    {
      "cell_type": "code",
      "source": [
        "# Without argument and with return\n",
        "def add():\n",
        "    a = 10\n",
        "    b = 25\n",
        "    c = a + b\n",
        "    return c\n",
        "print(add())"
      ],
      "metadata": {
        "id": "m6eHlwb9R0aL",
        "colab": {
          "base_uri": "https://localhost:8080/"
        },
        "outputId": "9fa5b5ee-dd67-4414-a896-7a63bd594040"
      },
      "execution_count": 2,
      "outputs": [
        {
          "output_type": "stream",
          "name": "stdout",
          "text": [
            "30\n"
          ]
        }
      ]
    },
    {
      "cell_type": "code",
      "source": [
        "# With argument and without return\n",
        "def add(a,b):\n",
        "    c = a + b\n",
        "    print(c)\n",
        "add(40,50)"
      ],
      "metadata": {
        "id": "0hrSqjUwR0XJ",
        "colab": {
          "base_uri": "https://localhost:8080/"
        },
        "outputId": "d5feccf9-0482-4ef9-de36-057e26eb1bab"
      },
      "execution_count": 4,
      "outputs": [
        {
          "output_type": "stream",
          "name": "stdout",
          "text": [
            "90\n"
          ]
        }
      ]
    },
    {
      "cell_type": "code",
      "source": [
        "# With argument and with return\n",
        "def add(a,b):\n",
        "    c = a + b\n",
        "    return c\n",
        "\n",
        "num1 = int(input(\"Enter first number: \"))\n",
        "num2 = int(input(\"Enter second number: \"))\n",
        "print(add(num1, num2))"
      ],
      "metadata": {
        "id": "HGts90TxR0UM",
        "colab": {
          "base_uri": "https://localhost:8080/"
        },
        "outputId": "5abb9f24-29fc-4106-bcf0-4cc2d1c0c0e9"
      },
      "execution_count": 8,
      "outputs": [
        {
          "output_type": "stream",
          "name": "stdout",
          "text": [
            "Enter first number: 12\n",
            "Enter second number: 23\n",
            "35\n"
          ]
        }
      ]
    },
    {
      "cell_type": "code",
      "source": [],
      "metadata": {
        "id": "b1h5TksZR0RJ"
      },
      "execution_count": null,
      "outputs": []
    },
    {
      "cell_type": "code",
      "source": [],
      "metadata": {
        "id": "l1c6DiDXR0OB"
      },
      "execution_count": null,
      "outputs": []
    },
    {
      "cell_type": "code",
      "source": [],
      "metadata": {
        "id": "kJCknJRJR0Km"
      },
      "execution_count": null,
      "outputs": []
    },
    {
      "cell_type": "code",
      "source": [],
      "metadata": {
        "id": "_pUePbOzR0HN"
      },
      "execution_count": null,
      "outputs": []
    }
  ]
}