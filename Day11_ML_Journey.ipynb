{
  "nbformat": 4,
  "nbformat_minor": 0,
  "metadata": {
    "colab": {
      "provenance": [],
      "name": "Day11_ML_Journey.ipynb",
      "authorship_tag": "ABX9TyNl4OLNRSCN0utBkTEPLzcq",
      "include_colab_link": true
    },
    "kernelspec": {
      "name": "python3",
      "display_name": "Python 3"
    },
    "language_info": {
      "name": "python"
    }
  },
  "cells": [
    {
      "cell_type": "markdown",
      "metadata": {
        "id": "view-in-github",
        "colab_type": "text"
      },
      "source": [
        "<a href=\"https://colab.research.google.com/github/dilip-ksa/dilip_ml_pythondemo/blob/main/Day11_ML_Journey.ipynb\" target=\"_parent\"><img src=\"https://colab.research.google.com/assets/colab-badge.svg\" alt=\"Open In Colab\"/></a>"
      ]
    },
    {
      "cell_type": "code",
      "source": [
        "# Day 11 - Functions\n",
        "print(\"Hello world\")"
      ],
      "metadata": {
        "id": "dlg4ZAFQR0gR",
        "outputId": "711211c3-8cda-40d3-c011-9a99085bda45",
        "colab": {
          "base_uri": "https://localhost:8080/"
        }
      },
      "execution_count": null,
      "outputs": [
        {
          "output_type": "stream",
          "name": "stdout",
          "text": [
            "Hello world\n"
          ]
        }
      ]
    },
    {
      "cell_type": "code",
      "source": [
        "# Without argument and without return\n",
        "def add():\n",
        "    a = 10\n",
        "    b = 20\n",
        "    c = a + b\n",
        "    print(c)\n",
        "add()"
      ],
      "metadata": {
        "id": "d4NqDNjyR0dO",
        "colab": {
          "base_uri": "https://localhost:8080/"
        },
        "outputId": "5e7f91f5-a4ba-43ab-c867-d62b156501ee"
      },
      "execution_count": 1,
      "outputs": [
        {
          "output_type": "stream",
          "name": "stdout",
          "text": [
            "30\n"
          ]
        }
      ]
    },
    {
      "cell_type": "code",
      "source": [
        "# Without argument and with return\n",
        "def add():\n",
        "    a = 10\n",
        "    b = 25\n",
        "    c = a + b\n",
        "    return c\n",
        "print(add())"
      ],
      "metadata": {
        "id": "m6eHlwb9R0aL",
        "colab": {
          "base_uri": "https://localhost:8080/"
        },
        "outputId": "9fa5b5ee-dd67-4414-a896-7a63bd594040"
      },
      "execution_count": 2,
      "outputs": [
        {
          "output_type": "stream",
          "name": "stdout",
          "text": [
            "30\n"
          ]
        }
      ]
    },
    {
      "cell_type": "code",
      "source": [
        "# With argument and without return\n",
        "def add(a,b):\n",
        "    c = a + b\n",
        "    print(c)\n",
        "add(40,50)"
      ],
      "metadata": {
        "id": "0hrSqjUwR0XJ",
        "colab": {
          "base_uri": "https://localhost:8080/"
        },
        "outputId": "d5feccf9-0482-4ef9-de36-057e26eb1bab"
      },
      "execution_count": 4,
      "outputs": [
        {
          "output_type": "stream",
          "name": "stdout",
          "text": [
            "90\n"
          ]
        }
      ]
    },
    {
      "cell_type": "code",
      "source": [
        "# With argument and with return\n",
        "def add(a,b):\n",
        "    c = a + b\n",
        "    return c\n",
        "\n",
        "num1 = int(input(\"Enter first number: \"))\n",
        "num2 = int(input(\"Enter second number: \"))\n",
        "print(add(num1, num2))"
      ],
      "metadata": {
        "id": "HGts90TxR0UM",
        "colab": {
          "base_uri": "https://localhost:8080/"
        },
        "outputId": "5abb9f24-29fc-4106-bcf0-4cc2d1c0c0e9"
      },
      "execution_count": 8,
      "outputs": [
        {
          "output_type": "stream",
          "name": "stdout",
          "text": [
            "Enter first number: 12\n",
            "Enter second number: 23\n",
            "35\n"
          ]
        }
      ]
    },
    {
      "cell_type": "code",
      "source": [
        "# return multiple values from a function\n",
        "def add_sub(a,b):\n",
        "    c = a + b\n",
        "    d = a - b\n",
        "    return c,d\n",
        "result1, result2 = add_sub(10,5)\n",
        "print(\"Addition {%d}, Subtracted value {%d}\", result1, result2)\n",
        "print()\n"
      ],
      "metadata": {
        "id": "b1h5TksZR0RJ",
        "colab": {
          "base_uri": "https://localhost:8080/"
        },
        "outputId": "c9b30a13-212a-4e8f-80c4-3a1402957887"
      },
      "execution_count": 12,
      "outputs": [
        {
          "output_type": "stream",
          "name": "stdout",
          "text": [
            "Addition {%d}, Subtracted value {%d} 15 5\n"
          ]
        }
      ]
    },
    {
      "cell_type": "code",
      "source": [
        "def test():\n",
        "    l1 = [1,2,3,4,5]\n",
        "    t1 = (1,2,3,4,5)\n",
        "    s1 = {1,2,3,4,5}\n",
        "    return l1,t1,s1\n",
        "l2, t2, s2 = test()\n",
        "print(l2)\n",
        "print(t2)\n",
        "print(s2)\n",
        "print(type(test()))\n",
        "print(test())"
      ],
      "metadata": {
        "id": "l1c6DiDXR0OB",
        "colab": {
          "base_uri": "https://localhost:8080/"
        },
        "outputId": "e1adba7b-dc11-45a2-f8e4-c41d54bec24d"
      },
      "execution_count": 15,
      "outputs": [
        {
          "output_type": "stream",
          "name": "stdout",
          "text": [
            "[1, 2, 3, 4, 5]\n",
            "(1, 2, 3, 4, 5)\n",
            "{1, 2, 3, 4, 5}\n",
            "<class 'tuple'>\n",
            "([1, 2, 3, 4, 5], (1, 2, 3, 4, 5), {1, 2, 3, 4, 5})\n"
          ]
        }
      ]
    },
    {
      "cell_type": "code",
      "source": [
        "def func1(a,b,c,d):\n",
        "  return a,b,c,d\n",
        "\n",
        "_,val2,_,val4 = func1(10,20,30,40)\n",
        "print(val2, val4)"
      ],
      "metadata": {
        "id": "kJCknJRJR0Km",
        "colab": {
          "base_uri": "https://localhost:8080/"
        },
        "outputId": "6a4a407e-cb1f-405e-8540-38ece5d0b8f5"
      },
      "execution_count": 22,
      "outputs": [
        {
          "output_type": "stream",
          "name": "stdout",
          "text": [
            "1 2 3 4\n",
            "20 40\n"
          ]
        }
      ]
    },
    {
      "cell_type": "code",
      "source": [],
      "metadata": {
        "id": "_pUePbOzR0HN"
      },
      "execution_count": null,
      "outputs": []
    }
  ]
}