{
  "nbformat": 4,
  "nbformat_minor": 0,
  "metadata": {
    "colab": {
      "provenance": [],
      "name": "Day11_ML_Journey.ipynb",
      "authorship_tag": "ABX9TyOoFIx96A7Z+WTUrBuAFPbp",
      "include_colab_link": true
    },
    "kernelspec": {
      "name": "python3",
      "display_name": "Python 3"
    },
    "language_info": {
      "name": "python"
    }
  },
  "cells": [
    {
      "cell_type": "markdown",
      "metadata": {
        "id": "view-in-github",
        "colab_type": "text"
      },
      "source": [
        "<a href=\"https://colab.research.google.com/github/dilip-ksa/dilip_ml_pythondemo/blob/main/Day11_ML_Journey.ipynb\" target=\"_parent\"><img src=\"https://colab.research.google.com/assets/colab-badge.svg\" alt=\"Open In Colab\"/></a>"
      ]
    },
    {
      "cell_type": "code",
      "source": [
        "# Day 11 - Functions\n",
        "print(\"Hello world\")"
      ],
      "metadata": {
        "id": "dlg4ZAFQR0gR",
        "outputId": "711211c3-8cda-40d3-c011-9a99085bda45",
        "colab": {
          "base_uri": "https://localhost:8080/"
        }
      },
      "execution_count": null,
      "outputs": [
        {
          "output_type": "stream",
          "name": "stdout",
          "text": [
            "Hello world\n"
          ]
        }
      ]
    },
    {
      "cell_type": "code",
      "source": [
        "# Without argument and without return\n",
        "def add():\n",
        "    a = 10\n",
        "    b = 20\n",
        "    c = a + b\n",
        "    print(c)\n",
        "add()"
      ],
      "metadata": {
        "id": "d4NqDNjyR0dO",
        "outputId": "5e7f91f5-a4ba-43ab-c867-d62b156501ee",
        "colab": {
          "base_uri": "https://localhost:8080/"
        }
      },
      "execution_count": 1,
      "outputs": [
        {
          "output_type": "stream",
          "name": "stdout",
          "text": [
            "30\n"
          ]
        }
      ]
    },
    {
      "cell_type": "code",
      "source": [
        "# Without argument and with return\n",
        "def add():\n",
        "    a = 10\n",
        "    b = 25\n",
        "    c = a + b\n",
        "    return c\n",
        "print(add())"
      ],
      "metadata": {
        "id": "m6eHlwb9R0aL",
        "outputId": "9fa5b5ee-dd67-4414-a896-7a63bd594040",
        "colab": {
          "base_uri": "https://localhost:8080/"
        }
      },
      "execution_count": 2,
      "outputs": [
        {
          "output_type": "stream",
          "name": "stdout",
          "text": [
            "30\n"
          ]
        }
      ]
    },
    {
      "cell_type": "code",
      "source": [
        "# With argument and without return\n",
        "def add(a,b):\n",
        "    c = a + b\n",
        "    print(c)\n",
        "add(40,50)"
      ],
      "metadata": {
        "id": "0hrSqjUwR0XJ",
        "outputId": "d5feccf9-0482-4ef9-de36-057e26eb1bab",
        "colab": {
          "base_uri": "https://localhost:8080/"
        }
      },
      "execution_count": 4,
      "outputs": [
        {
          "output_type": "stream",
          "name": "stdout",
          "text": [
            "90\n"
          ]
        }
      ]
    },
    {
      "cell_type": "code",
      "source": [
        "# With argument and with return\n",
        "def add(a,b):\n",
        "    c = a + b\n",
        "    return c\n",
        "print(add(12,23))"
      ],
      "metadata": {
        "id": "HGts90TxR0UM",
        "outputId": "5e3dcda7-9121-44d3-de28-e20534f7cc80",
        "colab": {
          "base_uri": "https://localhost:8080/"
        }
      },
      "execution_count": 7,
      "outputs": [
        {
          "output_type": "stream",
          "name": "stdout",
          "text": [
            "35\n"
          ]
        }
      ]
    },
    {
      "cell_type": "code",
      "source": [],
      "metadata": {
        "id": "b1h5TksZR0RJ"
      },
      "execution_count": null,
      "outputs": []
    },
    {
      "cell_type": "code",
      "source": [],
      "metadata": {
        "id": "l1c6DiDXR0OB"
      },
      "execution_count": null,
      "outputs": []
    },
    {
      "cell_type": "code",
      "source": [],
      "metadata": {
        "id": "kJCknJRJR0Km"
      },
      "execution_count": null,
      "outputs": []
    },
    {
      "cell_type": "code",
      "source": [],
      "metadata": {
        "id": "_pUePbOzR0HN"
      },
      "execution_count": null,
      "outputs": []
    }
  ]
}