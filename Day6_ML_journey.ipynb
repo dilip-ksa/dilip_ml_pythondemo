{
  "nbformat": 4,
  "nbformat_minor": 0,
  "metadata": {
    "colab": {
      "provenance": [],
      "name": "Day6_ML_journey.ipynb",
      "authorship_tag": "ABX9TyPAQTpZi4lDQfSFfkBSrVb9",
      "include_colab_link": true
    },
    "kernelspec": {
      "name": "python3",
      "display_name": "Python 3"
    },
    "language_info": {
      "name": "python"
    }
  },
  "cells": [
    {
      "cell_type": "markdown",
      "metadata": {
        "id": "view-in-github",
        "colab_type": "text"
      },
      "source": [
        "<a href=\"https://colab.research.google.com/github/dilip-ksa/dilip_pythondemo/blob/main/Day6_ML_journey.ipynb\" target=\"_parent\"><img src=\"https://colab.research.google.com/assets/colab-badge.svg\" alt=\"Open In Colab\"/></a>"
      ]
    },
    {
      "cell_type": "code",
      "source": [
        "# range function\n",
        "\n",
        "for i in range(0,11,3):\n",
        "  print(i)"
      ],
      "metadata": {
        "id": "MV5fabx2Wvqn",
        "outputId": "fb926431-1d82-468b-abd6-36901bf8d5f5",
        "colab": {
          "base_uri": "https://localhost:8080/"
        }
      },
      "execution_count": null,
      "outputs": [
        {
          "output_type": "stream",
          "name": "stdout",
          "text": [
            "0\n",
            "3\n",
            "6\n",
            "9\n"
          ]
        }
      ]
    },
    {
      "cell_type": "code",
      "source": [
        "s1 = \"NTT\"\n",
        "s2 = \"DATA\"\n",
        "s3 = s1+s2\n",
        "print(s3)\n",
        "s4 = s2*4\n",
        "print(s4)\n",
        "\n",
        "s2[0]=\"d\""
      ],
      "metadata": {
        "id": "8nhFULSxWwMd",
        "outputId": "dd7bb1b1-db5f-49af-996f-e42690be6a76",
        "colab": {
          "base_uri": "https://localhost:8080/",
          "height": 211
        }
      },
      "execution_count": null,
      "outputs": [
        {
          "output_type": "stream",
          "name": "stdout",
          "text": [
            "NTTDATA\n",
            "DATADATADATADATA\n"
          ]
        },
        {
          "output_type": "error",
          "ename": "TypeError",
          "evalue": "'str' object does not support item assignment",
          "traceback": [
            "\u001b[0;31m---------------------------------------------------------------------------\u001b[0m",
            "\u001b[0;31mTypeError\u001b[0m                                 Traceback (most recent call last)",
            "\u001b[0;32m<ipython-input-30-c5d6ee255318>\u001b[0m in \u001b[0;36m<cell line: 0>\u001b[0;34m()\u001b[0m\n\u001b[1;32m      6\u001b[0m \u001b[0mprint\u001b[0m\u001b[0;34m(\u001b[0m\u001b[0ms4\u001b[0m\u001b[0;34m)\u001b[0m\u001b[0;34m\u001b[0m\u001b[0;34m\u001b[0m\u001b[0m\n\u001b[1;32m      7\u001b[0m \u001b[0;34m\u001b[0m\u001b[0m\n\u001b[0;32m----> 8\u001b[0;31m \u001b[0ms2\u001b[0m\u001b[0;34m[\u001b[0m\u001b[0;36m0\u001b[0m\u001b[0;34m]\u001b[0m\u001b[0;34m=\u001b[0m\u001b[0;34m\"d\"\u001b[0m\u001b[0;34m\u001b[0m\u001b[0;34m\u001b[0m\u001b[0m\n\u001b[0m",
            "\u001b[0;31mTypeError\u001b[0m: 'str' object does not support item assignment"
          ]
        }
      ]
    },
    {
      "cell_type": "code",
      "source": [
        "# String deletion\n",
        "s1 = \"Ntt\"\n",
        "print(s1)\n",
        "del s1\n",
        "print(s1)"
      ],
      "metadata": {
        "id": "osYSv9MMWwSv",
        "outputId": "2b86d26b-b6c0-40f0-fbce-7d68727e7ae2",
        "colab": {
          "base_uri": "https://localhost:8080/",
          "height": 193
        }
      },
      "execution_count": null,
      "outputs": [
        {
          "output_type": "stream",
          "name": "stdout",
          "text": [
            "Ntt\n"
          ]
        },
        {
          "output_type": "error",
          "ename": "NameError",
          "evalue": "name 's1' is not defined",
          "traceback": [
            "\u001b[0;31m---------------------------------------------------------------------------\u001b[0m",
            "\u001b[0;31mNameError\u001b[0m                                 Traceback (most recent call last)",
            "\u001b[0;32m<ipython-input-31-e0ed5197b68f>\u001b[0m in \u001b[0;36m<cell line: 0>\u001b[0;34m()\u001b[0m\n\u001b[1;32m      3\u001b[0m \u001b[0mprint\u001b[0m\u001b[0;34m(\u001b[0m\u001b[0ms1\u001b[0m\u001b[0;34m)\u001b[0m\u001b[0;34m\u001b[0m\u001b[0;34m\u001b[0m\u001b[0m\n\u001b[1;32m      4\u001b[0m \u001b[0;32mdel\u001b[0m \u001b[0ms1\u001b[0m\u001b[0;34m\u001b[0m\u001b[0;34m\u001b[0m\u001b[0m\n\u001b[0;32m----> 5\u001b[0;31m \u001b[0mprint\u001b[0m\u001b[0;34m(\u001b[0m\u001b[0ms1\u001b[0m\u001b[0;34m)\u001b[0m\u001b[0;34m\u001b[0m\u001b[0;34m\u001b[0m\u001b[0m\n\u001b[0m",
            "\u001b[0;31mNameError\u001b[0m: name 's1' is not defined"
          ]
        }
      ]
    },
    {
      "cell_type": "code",
      "source": [
        "#  length of the string\n",
        "\n",
        "s = input(\"enter a string\")\n",
        "c=0\n",
        "for i in s:\n",
        "  c= c+1\n",
        "print(\"length =\", c)\n",
        "\n",
        "#use len function\n",
        "\n",
        "print(len(s))"
      ],
      "metadata": {
        "id": "WzjcJzYUWwXG",
        "outputId": "4ea35bb6-b0d3-44c4-9a2f-bf4638baefd9",
        "colab": {
          "base_uri": "https://localhost:8080/"
        }
      },
      "execution_count": null,
      "outputs": [
        {
          "output_type": "stream",
          "name": "stdout",
          "text": [
            "enter a stringasdf\n",
            "length = 4\n",
            "4\n"
          ]
        }
      ]
    },
    {
      "cell_type": "code",
      "source": [
        "# memebership operator\n",
        "\n",
        "if \"b\" not in \"apple\":\n",
        "  print(\"yes\")\n",
        "else:\n",
        "  print(\"no\")"
      ],
      "metadata": {
        "id": "hIu0SoGxWway",
        "outputId": "052fc1e0-61a5-447f-b67d-854a3d3a61cd",
        "colab": {
          "base_uri": "https://localhost:8080/"
        }
      },
      "execution_count": null,
      "outputs": [
        {
          "output_type": "stream",
          "name": "stdout",
          "text": [
            "yes\n"
          ]
        }
      ]
    },
    {
      "cell_type": "code",
      "source": [
        "# count method\n",
        "\n",
        "main_string = input(\"enter a string\")\n",
        "sub_string = input(\"enetr a sub string\")\n",
        "\n",
        "c = main_string.count(sub_string,0,3)\n",
        "\n",
        "print(c)"
      ],
      "metadata": {
        "id": "hYRpm7F1WweM",
        "outputId": "4605fff9-15c0-4e5a-d4fe-9a30082802f3",
        "colab": {
          "base_uri": "https://localhost:8080/"
        }
      },
      "execution_count": null,
      "outputs": [
        {
          "output_type": "stream",
          "name": "stdout",
          "text": [
            "enter a stringasdf\n",
            "enetr a sub stringyxcv\n",
            "0\n"
          ]
        }
      ]
    },
    {
      "cell_type": "code",
      "source": [
        "mobno = input(\" enter you mob no with country code\")\n",
        "\n",
        "if mobno.startswith(\"+91\"):\n",
        "  print(\"india\")\n",
        "elif mobno.startswith(\"+1\"):\n",
        "  print(\"USA\")"
      ],
      "metadata": {
        "id": "Vb3B0pW8Wwpx",
        "outputId": "1dc05de0-67a6-42af-8a37-c29fe23ee8a4",
        "colab": {
          "base_uri": "https://localhost:8080/"
        }
      },
      "execution_count": null,
      "outputs": [
        {
          "output_type": "stream",
          "name": "stdout",
          "text": [
            " enter you mob no with country code+91646454\n",
            "india\n"
          ]
        }
      ]
    },
    {
      "cell_type": "code",
      "source": [
        "# endswith\n",
        "url = input(\"enter a URL\")\n",
        "if url.endswith('.edu'):\n",
        "  print(\"educational website\")\n",
        "elif url.endswith('.com'):\n",
        "  print(\"commercial website\")\n"
      ],
      "metadata": {
        "id": "2qJ4cBfcXT-I",
        "outputId": "90b396c2-596d-41d6-ba01-8860a8fc8393",
        "colab": {
          "base_uri": "https://localhost:8080/"
        }
      },
      "execution_count": null,
      "outputs": [
        {
          "output_type": "stream",
          "name": "stdout",
          "text": [
            "enter a URL.edu\n",
            "educational website\n"
          ]
        }
      ]
    },
    {
      "cell_type": "code",
      "source": [
        "#lstrip method\n",
        "name = input(\"enter your name\")\n",
        "print(name)\n",
        "name = name.lstrip()\n",
        "print(name)\n"
      ],
      "metadata": {
        "id": "g8YAderHXT7j",
        "outputId": "9c6cd920-58db-4186-b0af-1209dbc00aaf",
        "colab": {
          "base_uri": "https://localhost:8080/"
        }
      },
      "execution_count": null,
      "outputs": [
        {
          "output_type": "stream",
          "name": "stdout",
          "text": [
            "enter your namedfsd\n",
            "dfsd\n",
            "dfsd\n"
          ]
        }
      ]
    },
    {
      "cell_type": "code",
      "source": [
        "url = [\"httphttphttphhpp\",\"http://www.ajio.com\",\"http://www.cricbuzz.com\"]\n",
        "\n",
        "for i in url:\n",
        "  #i = i.lstrip(\"http://www.\")\n",
        "  i = i.lstrip(\"tph\")\n",
        "  print(i)"
      ],
      "metadata": {
        "id": "r1Aktu-iXT4h",
        "outputId": "d4f7c0c6-4a5e-4c81-df95-e46229cb8dcf",
        "colab": {
          "base_uri": "https://localhost:8080/"
        }
      },
      "execution_count": null,
      "outputs": [
        {
          "output_type": "stream",
          "name": "stdout",
          "text": [
            "\n",
            "://www.ajio.com\n",
            "://www.cricbuzz.com\n"
          ]
        }
      ]
    },
    {
      "cell_type": "code",
      "source": [],
      "metadata": {
        "id": "Jt9XnBOYXTyP"
      },
      "execution_count": null,
      "outputs": []
    },
    {
      "cell_type": "code",
      "source": [
        "url=[\"https://www.google.com\",\"https://www.microsoft.com\",\"https://www.amazon.com\", \"http://www.swiss.com\"]\n",
        "for s in url:\n",
        "  newstr = s.lstrip(\"htps:/w.\")\n",
        "  print(newstr)"
      ],
      "metadata": {
        "id": "7a26uF0aHmV4",
        "colab": {
          "base_uri": "https://localhost:8080/"
        },
        "outputId": "234f6ef5-b231-4a07-e86f-e93ccf063199"
      },
      "execution_count": null,
      "outputs": [
        {
          "output_type": "stream",
          "name": "stdout",
          "text": [
            "google.com\n",
            "microsoft.com\n",
            "amazon.com\n",
            "iss.com\n"
          ]
        }
      ]
    },
    {
      "cell_type": "code",
      "source": [
        "url=[\"https://www.google.com\",\"https://www.microsoft.com\",\"https://www.amazon.com\", \"http://www.swiss.com\"]\n",
        "for s in url:\n",
        "  newstr = s.rstrip(\".moce\")\n",
        "  print(newstr)"
      ],
      "metadata": {
        "colab": {
          "base_uri": "https://localhost:8080/"
        },
        "id": "YpVnV_zLMFMq",
        "outputId": "672aed9c-bc2c-4dfd-9a78-3c8945411aff"
      },
      "execution_count": null,
      "outputs": [
        {
          "output_type": "stream",
          "name": "stdout",
          "text": [
            "https://www.googl\n",
            "https://www.microsoft\n",
            "https://www.amazon\n",
            "http://www.swiss\n"
          ]
        }
      ]
    },
    {
      "cell_type": "code",
      "source": [
        "url=[\"http://www.myntra.com\",\"http://www.ajio.com\",\"http://www.cricbuzz.com\", \"http://www.amazon.com\"]\n",
        "for s in url:\n",
        "  newstr = s.rstrip(\"htp.com\")\n",
        "  print(newstr)"
      ],
      "metadata": {
        "colab": {
          "base_uri": "https://localhost:8080/"
        },
        "id": "cH_6MtWkMgUi",
        "outputId": "44a4d96d-00b3-4983-f5db-a7a981d535ac"
      },
      "execution_count": null,
      "outputs": [
        {
          "output_type": "stream",
          "name": "stdout",
          "text": [
            "http://www.myntra\n",
            "http://www.aji\n",
            "http://www.cricbuzz\n",
            "http://www.amazon\n"
          ]
        }
      ]
    },
    {
      "cell_type": "code",
      "source": [
        "url=[\"http://www.myntra.com\",\"http://www.ajio.com\",\"http://www.cricbuzz.com\"]\n",
        "for s in url:\n",
        "  newstr = s.strip(\"htp:/.com\")\n",
        "  print(newstr)"
      ],
      "metadata": {
        "colab": {
          "base_uri": "https://localhost:8080/"
        },
        "id": "NU-5pMYgNBo8",
        "outputId": "0cb726e2-a5cf-454d-a157-5640a5a3a520"
      },
      "execution_count": null,
      "outputs": [
        {
          "output_type": "stream",
          "name": "stdout",
          "text": [
            "www.myntra\n",
            "www.aji\n",
            "www.cricbuzz\n"
          ]
        }
      ]
    },
    {
      "cell_type": "code",
      "source": [
        "#ascii value\n",
        "st = \"ABCDEFGHIJK\"\n",
        "for s in st:\n",
        "  print(ord(s), end=' ')"
      ],
      "metadata": {
        "colab": {
          "base_uri": "https://localhost:8080/"
        },
        "id": "yCdNiZcdQvuQ",
        "outputId": "e25b8536-874a-4adc-a24b-c917c248aead"
      },
      "execution_count": null,
      "outputs": [
        {
          "output_type": "stream",
          "name": "stdout",
          "text": [
            "65 66 67 68 69 70 71 72 73 74 75 "
          ]
        }
      ]
    },
    {
      "cell_type": "code",
      "source": [
        "#replace\n",
        "str1 = \"Bangalore\"\n",
        "newstr = str1.replace(\"Bangalore\", \"Bengaluru\")\n",
        "print(newstr)"
      ],
      "metadata": {
        "colab": {
          "base_uri": "https://localhost:8080/"
        },
        "id": "WlPPVM2MRHja",
        "outputId": "c7b32a99-2ebd-43c9-ffed-5e6f4a77fb66"
      },
      "execution_count": null,
      "outputs": [
        {
          "output_type": "stream",
          "name": "stdout",
          "text": [
            "Bengaluru\n"
          ]
        }
      ]
    },
    {
      "cell_type": "code",
      "source": [
        "#replace\n",
        "str1 = \"Bangalore\"\n",
        "newstr = str1.replace(\"a\", \"o\")\n",
        "print(newstr)"
      ],
      "metadata": {
        "colab": {
          "base_uri": "https://localhost:8080/"
        },
        "id": "CxNbO5X5Rjh2",
        "outputId": "97a5bd7f-b692-4cfb-a42b-78158e298a72"
      },
      "execution_count": null,
      "outputs": [
        {
          "output_type": "stream",
          "name": "stdout",
          "text": [
            "Bongolore\n"
          ]
        }
      ]
    },
    {
      "cell_type": "code",
      "source": [
        "#replace\n",
        "str1 = \"Bangalore\"\n",
        "newstr = str1.replace(\"a\", \"o\", 1)\n",
        "print(newstr)"
      ],
      "metadata": {
        "colab": {
          "base_uri": "https://localhost:8080/"
        },
        "id": "cy4msp4gRs2g",
        "outputId": "37522155-e7dd-4fea-d2da-fda5b83957cd"
      },
      "execution_count": null,
      "outputs": [
        {
          "output_type": "stream",
          "name": "stdout",
          "text": [
            "Bongalore\n"
          ]
        }
      ]
    },
    {
      "cell_type": "code",
      "source": [
        "str1 = \"I live in Mumbai, Mumbai is a beautiful place\"\n",
        "newstr = str1.replace(\"Mumbai\", \"Bangalore\")\n",
        "print(newstr)"
      ],
      "metadata": {
        "colab": {
          "base_uri": "https://localhost:8080/"
        },
        "id": "ORUKHaT2TE47",
        "outputId": "9a495a00-7dd0-4785-966e-93c8663081bd"
      },
      "execution_count": null,
      "outputs": [
        {
          "output_type": "stream",
          "name": "stdout",
          "text": [
            "I live in Bangalore, Bangalore is a beautiful place\n"
          ]
        }
      ]
    },
    {
      "cell_type": "code",
      "source": [
        "str1 = \"I live in Mumbai, Mumbai is a beautiful place\"\n",
        "newstr = str1.replace(\"Mumbai\", \"Bangalore\", 1)\n",
        "print(newstr)"
      ],
      "metadata": {
        "colab": {
          "base_uri": "https://localhost:8080/"
        },
        "id": "1avnqVVxTUKm",
        "outputId": "0c08c97a-7f66-48da-e9fb-62b3362d8216"
      },
      "execution_count": null,
      "outputs": [
        {
          "output_type": "stream",
          "name": "stdout",
          "text": [
            "I live in Bangalore, Mumbai is a beautiful place\n"
          ]
        }
      ]
    },
    {
      "cell_type": "code",
      "source": [
        "str1 = \"I live in Mumbai, Mumbai is a beautiful place\"\n",
        "newstr = str1.find(\"Mumbai\", 1)\n",
        "print(newstr)"
      ],
      "metadata": {
        "colab": {
          "base_uri": "https://localhost:8080/"
        },
        "id": "tYZOTxNvTbo4",
        "outputId": "cc7f4890-3e28-4194-f160-b4d85b26ea5c"
      },
      "execution_count": null,
      "outputs": [
        {
          "output_type": "stream",
          "name": "stdout",
          "text": [
            "10\n"
          ]
        }
      ]
    },
    {
      "cell_type": "code",
      "source": [
        "str1 = \"I live in Mumbai, Mumbai is a beautiful place\"\n",
        "newstr = str1.rfind(\"Mumbai\", 1)\n",
        "print(newstr)"
      ],
      "metadata": {
        "colab": {
          "base_uri": "https://localhost:8080/"
        },
        "id": "wyqMy8wRTo7Y",
        "outputId": "9d015f94-ab99-4e05-8a36-59b2eed8caad"
      },
      "execution_count": null,
      "outputs": [
        {
          "output_type": "stream",
          "name": "stdout",
          "text": [
            "18\n"
          ]
        }
      ]
    },
    {
      "cell_type": "code",
      "source": [
        "str1 = \"I live in Mumbai, Mumbai is a beautiful place\"\n",
        "newstr = str1.split(\" \")\n",
        "print(newstr)"
      ],
      "metadata": {
        "colab": {
          "base_uri": "https://localhost:8080/"
        },
        "id": "5NLXQLUcTsPy",
        "outputId": "9ab409fa-c4e1-4a86-b9de-b2a09267b681"
      },
      "execution_count": null,
      "outputs": [
        {
          "output_type": "stream",
          "name": "stdout",
          "text": [
            "['I', 'live', 'in', 'Mumbai,', 'Mumbai', 'is', 'a', 'beautiful', 'place']\n"
          ]
        }
      ]
    },
    {
      "cell_type": "code",
      "source": [
        "str1 = \"I live in Mumbai, Mumbai is a beautiful place\"\n",
        "newstr = str1.split(\" \", 3)\n",
        "print(newstr)"
      ],
      "metadata": {
        "colab": {
          "base_uri": "https://localhost:8080/"
        },
        "id": "Jc8qFiUNTsaI",
        "outputId": "7726d259-81f8-47d1-8dac-5565d3036d78"
      },
      "execution_count": null,
      "outputs": [
        {
          "output_type": "stream",
          "name": "stdout",
          "text": [
            "['I', 'live', 'in', 'Mumbai, Mumbai is a beautiful place']\n"
          ]
        }
      ]
    },
    {
      "cell_type": "code",
      "source": [
        "str1 = \"I live in Mumbai, Mumbai is a beautiful place\"\n",
        "newstr = str1.split()\n",
        "print(newstr)"
      ],
      "metadata": {
        "colab": {
          "base_uri": "https://localhost:8080/"
        },
        "id": "k2By0wojTsdq",
        "outputId": "338b96c3-7679-4c07-df8a-ec85a6f8b6d6"
      },
      "execution_count": null,
      "outputs": [
        {
          "output_type": "stream",
          "name": "stdout",
          "text": [
            "['I', 'live', 'in', 'Mumbai,', 'Mumbai', 'is', 'a', 'beautiful', 'place']\n"
          ]
        }
      ]
    },
    {
      "cell_type": "code",
      "source": [
        "str1 = \"I live in Mumbai, Mumbai is a beautiful place\"\n",
        "newstr = str1.split(\"i\")\n",
        "print(newstr)"
      ],
      "metadata": {
        "colab": {
          "base_uri": "https://localhost:8080/"
        },
        "id": "we6VvPAaTshK",
        "outputId": "fe1470e7-2e98-430d-d288-d0bf31c299d7"
      },
      "execution_count": null,
      "outputs": [
        {
          "output_type": "stream",
          "name": "stdout",
          "text": [
            "['I l', 've ', 'n Mumba', ', Mumba', ' ', 's a beaut', 'ful place']\n"
          ]
        }
      ]
    },
    {
      "cell_type": "code",
      "source": [
        "###################### Day 6  #################################\n",
        "list1 = [12,23.4,\"Test\", True, 2+3j, (1, 2, 3), [23, 24, 25]]\n",
        "print(list1)\n",
        "print(type(list1))\n",
        "print(list1[0], list1[-1])\n"
      ],
      "metadata": {
        "id": "7KxuMd7JTskY",
        "colab": {
          "base_uri": "https://localhost:8080/"
        },
        "outputId": "a02cb49e-2d6b-4a59-e617-061ad53b0c6e"
      },
      "execution_count": 2,
      "outputs": [
        {
          "output_type": "stream",
          "name": "stdout",
          "text": [
            "[12, 23.4, 'Test', True, (2+3j), (1, 2, 3), [23, 24, 25]]\n",
            "<class 'list'>\n",
            "12 [23, 24, 25]\n"
          ]
        }
      ]
    },
    {
      "cell_type": "code",
      "source": [
        "list1 = [12,23.4,\"Test\", True, 2+3j, (1, 2, 3), [23, 24, 25]]\n",
        "print(list1[6][1])\n",
        "print(list1[2::2])\n",
        "print(list1[::-1])"
      ],
      "metadata": {
        "id": "1p2B0KVjTs6h",
        "colab": {
          "base_uri": "https://localhost:8080/"
        },
        "outputId": "06a7bbfc-1056-4391-febe-28dc4a955715"
      },
      "execution_count": 6,
      "outputs": [
        {
          "output_type": "stream",
          "name": "stdout",
          "text": [
            "24\n",
            "['Test', (2+3j), [23, 24, 25]]\n",
            "[[23, 24, 25], (1, 2, 3), (2+3j), True, 'Test', 23.4, 12]\n"
          ]
        }
      ]
    },
    {
      "cell_type": "code",
      "source": [
        "#List concatenation\n",
        "l1 = [1,2,3]\n",
        "l2 = [4,5,6]\n",
        "l3 = l1+l2\n",
        "print(l1)\n",
        "print(l2)\n",
        "print(l3)\n",
        "\n",
        "print(id(l1))\n",
        "print(id(l2))\n",
        "print(id(l3))\n"
      ],
      "metadata": {
        "id": "_PxMCLhczvwC",
        "outputId": "3fbfb72e-6a81-4a4d-a040-c5c17b68a4e2",
        "colab": {
          "base_uri": "https://localhost:8080/"
        }
      },
      "execution_count": 9,
      "outputs": [
        {
          "output_type": "stream",
          "name": "stdout",
          "text": [
            "[1, 2, 3]\n",
            "[4, 5, 6]\n",
            "[1, 2, 3, 4, 5, 6]\n",
            "138041345447296\n",
            "138041343771008\n",
            "138041345448576\n"
          ]
        }
      ]
    },
    {
      "cell_type": "code",
      "source": [
        "#List multiplication\n",
        "l1 = [1,2,3]\n",
        "l2 = [4,5,6]\n",
        "l3 = l1*3\n",
        "print(l1)\n",
        "print(l2)\n",
        "print(l3)"
      ],
      "metadata": {
        "id": "WzDPOvbozv_n",
        "outputId": "5d2fee42-d8b2-48d9-8a27-29a866da1910",
        "colab": {
          "base_uri": "https://localhost:8080/"
        }
      },
      "execution_count": 11,
      "outputs": [
        {
          "output_type": "stream",
          "name": "stdout",
          "text": [
            "[1, 2, 3]\n",
            "[4, 5, 6]\n",
            "[1, 2, 3, 1, 2, 3, 1, 2, 3]\n"
          ]
        }
      ]
    },
    {
      "cell_type": "code",
      "source": [
        "#\n",
        "l1 = (1,2,3)\n",
        "l2 = [4,5,6]\n",
        "l3 = l1 * 3\n",
        "print(l1)\n",
        "print(l2)\n",
        "print(l3)"
      ],
      "metadata": {
        "id": "YKIx9V09zwDY",
        "outputId": "7d975baf-a58a-48ff-bb39-b7c45898dc98",
        "colab": {
          "base_uri": "https://localhost:8080/"
        }
      },
      "execution_count": 12,
      "outputs": [
        {
          "output_type": "stream",
          "name": "stdout",
          "text": [
            "(1, 2, 3)\n",
            "[4, 5, 6]\n",
            "(1, 2, 3, 1, 2, 3, 1, 2, 3)\n"
          ]
        }
      ]
    },
    {
      "cell_type": "code",
      "source": [
        "#Membership operator\n",
        "l1 = [1,2,3]\n",
        "print(1 in l1)\n",
        "print(4 in l1)\n",
        "print()\n",
        "print(1 not in l1)\n",
        "print(4 not in l1)"
      ],
      "metadata": {
        "id": "Vux5IGHIzwKw",
        "outputId": "dccbcce9-3d5a-40e2-eedd-b6445f263252",
        "colab": {
          "base_uri": "https://localhost:8080/"
        }
      },
      "execution_count": 14,
      "outputs": [
        {
          "output_type": "stream",
          "name": "stdout",
          "text": [
            "True\n",
            "False\n",
            "\n",
            "False\n",
            "True\n"
          ]
        }
      ]
    },
    {
      "cell_type": "code",
      "source": [
        "print ('NTT' in \"NTT DATA\")"
      ],
      "metadata": {
        "id": "ZpNFU59yzwOC",
        "outputId": "01b3609e-4e5d-4982-a902-841c15cacf2e",
        "colab": {
          "base_uri": "https://localhost:8080/"
        }
      },
      "execution_count": 15,
      "outputs": [
        {
          "output_type": "stream",
          "name": "stdout",
          "text": [
            "True\n"
          ]
        }
      ]
    },
    {
      "cell_type": "code",
      "source": [
        "#Functions max()\n",
        "l1 = [1,2,3]\n",
        "print(max(l1))\n",
        "\n",
        "l2 = ['a', 'b', 'c']\n",
        "print(max(l2))\n",
        "\n",
        "l3 = [12, 13, \"NTT\"]\n",
        "print(max(l3))"
      ],
      "metadata": {
        "id": "vZVMloRgzwRc",
        "outputId": "a778e5fc-1bdf-4153-9d0d-11e1ae3dbf0e",
        "colab": {
          "base_uri": "https://localhost:8080/",
          "height": 211
        }
      },
      "execution_count": 17,
      "outputs": [
        {
          "output_type": "stream",
          "name": "stdout",
          "text": [
            "3\n",
            "c\n"
          ]
        },
        {
          "output_type": "error",
          "ename": "TypeError",
          "evalue": "'>' not supported between instances of 'str' and 'int'",
          "traceback": [
            "\u001b[0;31m---------------------------------------------------------------------------\u001b[0m",
            "\u001b[0;31mTypeError\u001b[0m                                 Traceback (most recent call last)",
            "\u001b[0;32m<ipython-input-17-3287651002d1>\u001b[0m in \u001b[0;36m<cell line: 0>\u001b[0;34m()\u001b[0m\n\u001b[1;32m      7\u001b[0m \u001b[0;34m\u001b[0m\u001b[0m\n\u001b[1;32m      8\u001b[0m \u001b[0ml3\u001b[0m \u001b[0;34m=\u001b[0m \u001b[0;34m[\u001b[0m\u001b[0;36m12\u001b[0m\u001b[0;34m,\u001b[0m \u001b[0;36m13\u001b[0m\u001b[0;34m,\u001b[0m \u001b[0;34m\"NTT\"\u001b[0m\u001b[0;34m]\u001b[0m\u001b[0;34m\u001b[0m\u001b[0;34m\u001b[0m\u001b[0m\n\u001b[0;32m----> 9\u001b[0;31m \u001b[0mprint\u001b[0m\u001b[0;34m(\u001b[0m\u001b[0mmax\u001b[0m\u001b[0;34m(\u001b[0m\u001b[0ml3\u001b[0m\u001b[0;34m)\u001b[0m\u001b[0;34m)\u001b[0m\u001b[0;34m\u001b[0m\u001b[0;34m\u001b[0m\u001b[0m\n\u001b[0m",
            "\u001b[0;31mTypeError\u001b[0m: '>' not supported between instances of 'str' and 'int'"
          ]
        }
      ]
    },
    {
      "cell_type": "code",
      "source": [
        "l2 = ['aaa', 'bbbb', 'ccc', 'dd']\n",
        "print(max(l2), min(l2))\n",
        "print(max(l2, key=len), min(l2, key=len))"
      ],
      "metadata": {
        "id": "PYjFHCwIzwXp",
        "outputId": "3431fc2f-2b60-419b-f6da-e425713d3ddc",
        "colab": {
          "base_uri": "https://localhost:8080/"
        }
      },
      "execution_count": 19,
      "outputs": [
        {
          "output_type": "stream",
          "name": "stdout",
          "text": [
            "dd aaa\n",
            "bbbb dd\n"
          ]
        }
      ]
    },
    {
      "cell_type": "code",
      "source": [
        "l1 = []\n",
        "print(max(l1, default=\"list is empty\"))\n",
        "print(len(l1))"
      ],
      "metadata": {
        "id": "RS7_lccNzwba",
        "outputId": "06278e05-ef7f-464f-c23e-6add4013ff74",
        "colab": {
          "base_uri": "https://localhost:8080/"
        }
      },
      "execution_count": 21,
      "outputs": [
        {
          "output_type": "stream",
          "name": "stdout",
          "text": [
            "list is empty\n",
            "0\n"
          ]
        }
      ]
    },
    {
      "cell_type": "code",
      "source": [
        "#List append\n",
        "l1 = [1,2,3]\n",
        "print(l1)\n",
        "l1.append(4)\n",
        "print(l1)\n",
        "l1.append([5, 6, 7])\n",
        "print(l1)\n",
        "l1.append((8, 9, 10))\n",
        "print(l1)\n",
        "\n",
        "l1.append(\"test\")\n",
        "print(l1)\n",
        "\n",
        "l1.append(21, 22, 23)\n",
        "print(l1)"
      ],
      "metadata": {
        "id": "MwW4zMRezwe2",
        "outputId": "64591e35-b622-463d-eedf-a8b788c4fd03",
        "colab": {
          "base_uri": "https://localhost:8080/",
          "height": 280
        }
      },
      "execution_count": 25,
      "outputs": [
        {
          "output_type": "stream",
          "name": "stdout",
          "text": [
            "[1, 2, 3]\n",
            "[1, 2, 3, 4]\n",
            "[1, 2, 3, 4, [5, 6, 7]]\n",
            "[1, 2, 3, 4, [5, 6, 7], (8, 9, 10)]\n",
            "[1, 2, 3, 4, [5, 6, 7], (8, 9, 10), 'test']\n"
          ]
        },
        {
          "output_type": "error",
          "ename": "TypeError",
          "evalue": "list.append() takes exactly one argument (3 given)",
          "traceback": [
            "\u001b[0;31m---------------------------------------------------------------------------\u001b[0m",
            "\u001b[0;31mTypeError\u001b[0m                                 Traceback (most recent call last)",
            "\u001b[0;32m<ipython-input-25-ae1df7b53f66>\u001b[0m in \u001b[0;36m<cell line: 0>\u001b[0;34m()\u001b[0m\n\u001b[1;32m     12\u001b[0m \u001b[0mprint\u001b[0m\u001b[0;34m(\u001b[0m\u001b[0ml1\u001b[0m\u001b[0;34m)\u001b[0m\u001b[0;34m\u001b[0m\u001b[0;34m\u001b[0m\u001b[0m\n\u001b[1;32m     13\u001b[0m \u001b[0;34m\u001b[0m\u001b[0m\n\u001b[0;32m---> 14\u001b[0;31m \u001b[0ml1\u001b[0m\u001b[0;34m.\u001b[0m\u001b[0mappend\u001b[0m\u001b[0;34m(\u001b[0m\u001b[0;36m21\u001b[0m\u001b[0;34m,\u001b[0m \u001b[0;36m22\u001b[0m\u001b[0;34m,\u001b[0m \u001b[0;36m23\u001b[0m\u001b[0;34m)\u001b[0m\u001b[0;34m\u001b[0m\u001b[0;34m\u001b[0m\u001b[0m\n\u001b[0m\u001b[1;32m     15\u001b[0m \u001b[0mprint\u001b[0m\u001b[0;34m(\u001b[0m\u001b[0ml1\u001b[0m\u001b[0;34m)\u001b[0m\u001b[0;34m\u001b[0m\u001b[0;34m\u001b[0m\u001b[0m\n",
            "\u001b[0;31mTypeError\u001b[0m: list.append() takes exactly one argument (3 given)"
          ]
        }
      ]
    },
    {
      "cell_type": "code",
      "source": [
        "#Create list at runtime\n",
        "list = [10, 20]\n",
        "for i in range(6):\n",
        "  num = int(input(\"enter a number\"))\n",
        "  list.append(num)\n",
        "print(list)"
      ],
      "metadata": {
        "id": "12ZJgjWTzwic",
        "outputId": "7d94e416-512a-4bfd-ea36-1800bbd25622",
        "colab": {
          "base_uri": "https://localhost:8080/"
        }
      },
      "execution_count": 29,
      "outputs": [
        {
          "output_type": "stream",
          "name": "stdout",
          "text": [
            "enter a number12\n",
            "enter a number13\n",
            "enter a number14\n",
            "enter a number15\n",
            "enter a number16\n",
            "enter a number17\n",
            "[10, 20, 12, 13, 14, 15, 16, 17]\n"
          ]
        }
      ]
    },
    {
      "cell_type": "code",
      "source": [
        "#List extend\n",
        "list1 = [1,2,3]\n",
        "list2 = [4,5,6]\n",
        "list1.extend(list2)\n",
        "print(list1)"
      ],
      "metadata": {
        "id": "Jt3VwgJ27pmt",
        "outputId": "775bf5d2-37ba-4698-82c1-05e262eef8f9",
        "colab": {
          "base_uri": "https://localhost:8080/"
        }
      },
      "execution_count": 28,
      "outputs": [
        {
          "output_type": "stream",
          "name": "stdout",
          "text": [
            "[1, 2, 3, 4, 5, 6]\n"
          ]
        }
      ]
    },
    {
      "cell_type": "code",
      "source": [
        "list1 = [1,2,3]\n",
        "list1.extend([4,5,6])\n",
        "print(list1)"
      ],
      "metadata": {
        "id": "R1GlLyNd7pqk",
        "outputId": "cc5776fb-1a82-4510-e6ea-ce875c9bd6ea",
        "colab": {
          "base_uri": "https://localhost:8080/"
        }
      },
      "execution_count": 30,
      "outputs": [
        {
          "output_type": "stream",
          "name": "stdout",
          "text": [
            "[1, 2, 3, 4, 5, 6]\n"
          ]
        }
      ]
    },
    {
      "cell_type": "code",
      "source": [],
      "metadata": {
        "id": "MteXd-nu7pt9"
      },
      "execution_count": null,
      "outputs": []
    },
    {
      "cell_type": "code",
      "source": [],
      "metadata": {
        "id": "aaNYpv977pxJ"
      },
      "execution_count": null,
      "outputs": []
    }
  ]
}