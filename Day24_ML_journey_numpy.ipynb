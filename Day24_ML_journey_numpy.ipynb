{
  "nbformat": 4,
  "nbformat_minor": 0,
  "metadata": {
    "colab": {
      "provenance": [],
      "name": "Day24_ML_journey_numpy.ipynb",
      "include_colab_link": true
    },
    "kernelspec": {
      "name": "python3",
      "display_name": "Python 3"
    },
    "language_info": {
      "name": "python"
    }
  },
  "cells": [
    {
      "cell_type": "markdown",
      "metadata": {
        "id": "view-in-github",
        "colab_type": "text"
      },
      "source": [
        "<a href=\"https://colab.research.google.com/github/dilip-ksa/dilip_ml_pythondemo/blob/main/Day24_ML_journey_numpy.ipynb\" target=\"_parent\"><img src=\"https://colab.research.google.com/assets/colab-badge.svg\" alt=\"Open In Colab\"/></a>"
      ]
    },
    {
      "cell_type": "code",
      "execution_count": 2,
      "metadata": {
        "colab": {
          "base_uri": "https://localhost:8080/"
        },
        "id": "HpmbKqI7jltH",
        "outputId": "cc3b4a43-6a85-4691-c5ad-276e7d1eec81"
      },
      "outputs": [
        {
          "output_type": "stream",
          "name": "stdout",
          "text": [
            "<class 'numpy.ndarray'>\n",
            "[10 20 30 40]\n"
          ]
        }
      ],
      "source": [
        "import numpy as np\n",
        "\n",
        "arr = np.array([10,20,30,40]) # array element separated by space\n",
        "print(type(arr))\n",
        "print(arr)"
      ]
    },
    {
      "cell_type": "code",
      "source": [
        "lst = [10,20,30,40]\n",
        "print(type(lst))\n",
        "print(lst)"
      ],
      "metadata": {
        "colab": {
          "base_uri": "https://localhost:8080/"
        },
        "id": "MqNJY0KN3IPP",
        "outputId": "34b78d55-a129-44cb-f402-e698d5353adf"
      },
      "execution_count": 4,
      "outputs": [
        {
          "output_type": "stream",
          "name": "stdout",
          "text": [
            "<class 'list'>\n",
            "[10, 20, 30, 40]\n"
          ]
        }
      ]
    },
    {
      "cell_type": "code",
      "source": [
        "arr = np.array([10,20,30,40, 'DEL']) # array element separated by space\n",
        "print(type(arr))\n",
        "print(arr)"
      ],
      "metadata": {
        "colab": {
          "base_uri": "https://localhost:8080/"
        },
        "id": "8TPAzUpq3ITb",
        "outputId": "4ef3232c-4a5e-4f4a-c134-032bab5e82fb"
      },
      "execution_count": 5,
      "outputs": [
        {
          "output_type": "stream",
          "name": "stdout",
          "text": [
            "<class 'numpy.ndarray'>\n",
            "['10' '20' '30' '40' 'DEL']\n"
          ]
        }
      ]
    },
    {
      "cell_type": "code",
      "source": [
        "#Arithmatic operation on array\n",
        "a1 = np.array([10,20,30,40]) # array element separated by space\n",
        "\n",
        "print(a1)\n",
        "a2 = a1 * 2\n",
        "print(a2)\n",
        "\n",
        "a3 = a2 / 4\n",
        "print(a3)\n",
        "\n",
        "a4 = a3 + 10.5\n",
        "print(a4)"
      ],
      "metadata": {
        "colab": {
          "base_uri": "https://localhost:8080/"
        },
        "id": "T0Wk0arZ3IWZ",
        "outputId": "5c8ac821-b1ed-4b20-9314-027dddc40cec"
      },
      "execution_count": 9,
      "outputs": [
        {
          "output_type": "stream",
          "name": "stdout",
          "text": [
            "[10 20 30 40]\n",
            "[20 40 60 80]\n",
            "[ 5. 10. 15. 20.]\n",
            "[15.5 20.5 25.5 30.5]\n"
          ]
        }
      ]
    },
    {
      "cell_type": "code",
      "source": [
        "#Arithmatic operation on list\n",
        "lst = [10,20,30,40]\n",
        "print(lst)\n",
        "lst2 = lst * 2\n",
        "print(lst2)\n",
        "lst3 = lst / 2\n",
        "print(lst3)"
      ],
      "metadata": {
        "colab": {
          "base_uri": "https://localhost:8080/",
          "height": 228
        },
        "id": "anb237Kr3IZL",
        "outputId": "a50a1403-4090-44c6-bd01-045ddffd5f69"
      },
      "execution_count": 12,
      "outputs": [
        {
          "output_type": "stream",
          "name": "stdout",
          "text": [
            "[10, 20, 30, 40]\n",
            "[10, 20, 30, 40, 10, 20, 30, 40]\n"
          ]
        },
        {
          "output_type": "error",
          "ename": "TypeError",
          "evalue": "unsupported operand type(s) for -: 'list' and 'int'",
          "traceback": [
            "\u001b[0;31m---------------------------------------------------------------------------\u001b[0m",
            "\u001b[0;31mTypeError\u001b[0m                                 Traceback (most recent call last)",
            "\u001b[0;32m/tmp/ipython-input-12-1140210740.py\u001b[0m in \u001b[0;36m<cell line: 0>\u001b[0;34m()\u001b[0m\n\u001b[1;32m      3\u001b[0m \u001b[0mlst2\u001b[0m \u001b[0;34m=\u001b[0m \u001b[0mlst\u001b[0m \u001b[0;34m*\u001b[0m \u001b[0;36m2\u001b[0m\u001b[0;34m\u001b[0m\u001b[0;34m\u001b[0m\u001b[0m\n\u001b[1;32m      4\u001b[0m \u001b[0mprint\u001b[0m\u001b[0;34m(\u001b[0m\u001b[0mlst2\u001b[0m\u001b[0;34m)\u001b[0m\u001b[0;34m\u001b[0m\u001b[0;34m\u001b[0m\u001b[0m\n\u001b[0;32m----> 5\u001b[0;31m \u001b[0mlst3\u001b[0m \u001b[0;34m=\u001b[0m \u001b[0mlst\u001b[0m \u001b[0;34m-\u001b[0m \u001b[0;36m2\u001b[0m\u001b[0;34m\u001b[0m\u001b[0;34m\u001b[0m\u001b[0m\n\u001b[0m\u001b[1;32m      6\u001b[0m \u001b[0mprint\u001b[0m\u001b[0;34m(\u001b[0m\u001b[0mlst3\u001b[0m\u001b[0;34m)\u001b[0m\u001b[0;34m\u001b[0m\u001b[0;34m\u001b[0m\u001b[0m\n",
            "\u001b[0;31mTypeError\u001b[0m: unsupported operand type(s) for -: 'list' and 'int'"
          ]
        }
      ]
    },
    {
      "cell_type": "code",
      "source": [
        "#Memory usage numpy array and list\n",
        "import sys\n",
        "lst = [10,20,30,40,50,60]\n",
        "print(sys.getsizeof(lst))\n",
        "\n",
        "ar = np.array([10,20,30,40,50,60])\n",
        "print(sys.getsizeof(ar))\n",
        "print(ar.itemsize)\n",
        "print(ar.nbytes)"
      ],
      "metadata": {
        "colab": {
          "base_uri": "https://localhost:8080/"
        },
        "id": "U9QjYJFx3IcZ",
        "outputId": "d8fef62f-a20e-4083-c455-d7fec93c7bac"
      },
      "execution_count": 16,
      "outputs": [
        {
          "output_type": "stream",
          "name": "stdout",
          "text": [
            "104\n",
            "160\n",
            "8\n",
            "48\n"
          ]
        }
      ]
    },
    {
      "cell_type": "code",
      "source": [
        "# creating n dimentional array in numpy\n",
        "ar1 = np.array([10,20,30,40])\n",
        "print(ar1)\n",
        "print(ar1.ndim)\n",
        "print(ar1.shape)\n",
        "print()\n",
        "ar2 = np.array([[10,20,30,40],[50,60,70,80]])\n",
        "print(ar2)\n",
        "print(ar2.ndim)\n",
        "print(ar2.shape)\n",
        "\n",
        "print()\n",
        "# zero dim array\n",
        "ar3 = np.array(10)\n",
        "print(ar3)\n",
        "print(ar3.ndim)\n",
        "print(ar3.shape)\n",
        "\n",
        "print()\n",
        "ar2 = np.array([[10,20,30,40]])\n",
        "print(ar2)\n",
        "print(ar2.ndim)\n",
        "print(ar2.shape)\n",
        "\n",
        "print()\n",
        "ar2 = np.array([[[10,20,30,40]]])\n",
        "print(ar2)\n",
        "print(ar2.ndim)\n",
        "print(ar2.shape)"
      ],
      "metadata": {
        "id": "DxnOgtwM5oEH",
        "outputId": "b0643b20-850e-41e9-fee1-09f9d5206860",
        "colab": {
          "base_uri": "https://localhost:8080/"
        }
      },
      "execution_count": 20,
      "outputs": [
        {
          "output_type": "stream",
          "name": "stdout",
          "text": [
            "[10 20 30 40]\n",
            "1\n",
            "(4,)\n",
            "\n",
            "[[10 20 30 40]\n",
            " [50 60 70 80]]\n",
            "2\n",
            "(2, 4)\n",
            "\n",
            "10\n",
            "0\n",
            "()\n",
            "\n",
            "[[10 20 30 40]]\n",
            "2\n",
            "(1, 4)\n",
            "\n",
            "[[[10 20 30 40]]]\n",
            "3\n",
            "(1, 1, 4)\n"
          ]
        }
      ]
    },
    {
      "cell_type": "code",
      "source": [
        "# N dimentional\n",
        "n = int(input(\"Enter dimention: \"))\n",
        "ar = np.array([10,20,30,40], ndmin=n)\n",
        "print(ar)\n",
        "print(ar.ndim)\n",
        "print(ar.shape)"
      ],
      "metadata": {
        "id": "A4UIUDRh5oHf",
        "outputId": "d4bb1e32-43dc-4b67-dd1b-85aa2ff02cec",
        "colab": {
          "base_uri": "https://localhost:8080/"
        }
      },
      "execution_count": 21,
      "outputs": [
        {
          "output_type": "stream",
          "name": "stdout",
          "text": [
            "Enter dimention: 11\n",
            "[[[[[[[[[[[10 20 30 40]]]]]]]]]]]\n",
            "11\n",
            "(1, 1, 1, 1, 1, 1, 1, 1, 1, 1, 4)\n"
          ]
        }
      ]
    },
    {
      "cell_type": "code",
      "source": [],
      "metadata": {
        "id": "lJnuKZd15oKg"
      },
      "execution_count": null,
      "outputs": []
    },
    {
      "cell_type": "code",
      "source": [],
      "metadata": {
        "id": "NgnNzq9p5oNm"
      },
      "execution_count": null,
      "outputs": []
    }
  ]
}