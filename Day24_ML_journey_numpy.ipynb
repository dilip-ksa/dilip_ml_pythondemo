{
  "nbformat": 4,
  "nbformat_minor": 0,
  "metadata": {
    "colab": {
      "provenance": [],
      "name": "Day24_ML_journey_numpy.ipynb",
      "include_colab_link": true
    },
    "kernelspec": {
      "name": "python3",
      "display_name": "Python 3"
    },
    "language_info": {
      "name": "python"
    }
  },
  "cells": [
    {
      "cell_type": "markdown",
      "metadata": {
        "id": "view-in-github",
        "colab_type": "text"
      },
      "source": [
        "<a href=\"https://colab.research.google.com/github/dilip-ksa/dilip_ml_pythondemo/blob/main/Day24_ML_journey_numpy.ipynb\" target=\"_parent\"><img src=\"https://colab.research.google.com/assets/colab-badge.svg\" alt=\"Open In Colab\"/></a>"
      ]
    },
    {
      "cell_type": "code",
      "execution_count": 2,
      "metadata": {
        "colab": {
          "base_uri": "https://localhost:8080/"
        },
        "id": "HpmbKqI7jltH",
        "outputId": "cc3b4a43-6a85-4691-c5ad-276e7d1eec81"
      },
      "outputs": [
        {
          "output_type": "stream",
          "name": "stdout",
          "text": [
            "<class 'numpy.ndarray'>\n",
            "[10 20 30 40]\n"
          ]
        }
      ],
      "source": [
        "import numpy as np\n",
        "\n",
        "arr = np.array([10,20,30,40]) # array element separated by space\n",
        "print(type(arr))\n",
        "print(arr)"
      ]
    },
    {
      "cell_type": "code",
      "source": [
        "lst = [10,20,30,40]\n",
        "print(type(lst))\n",
        "print(lst)"
      ],
      "metadata": {
        "colab": {
          "base_uri": "https://localhost:8080/"
        },
        "id": "MqNJY0KN3IPP",
        "outputId": "34b78d55-a129-44cb-f402-e698d5353adf"
      },
      "execution_count": 4,
      "outputs": [
        {
          "output_type": "stream",
          "name": "stdout",
          "text": [
            "<class 'list'>\n",
            "[10, 20, 30, 40]\n"
          ]
        }
      ]
    },
    {
      "cell_type": "code",
      "source": [
        "arr = np.array([10,20,30,40, 'DEL']) # array element separated by space\n",
        "print(type(arr))\n",
        "print(arr)"
      ],
      "metadata": {
        "colab": {
          "base_uri": "https://localhost:8080/"
        },
        "id": "8TPAzUpq3ITb",
        "outputId": "4ef3232c-4a5e-4f4a-c134-032bab5e82fb"
      },
      "execution_count": 5,
      "outputs": [
        {
          "output_type": "stream",
          "name": "stdout",
          "text": [
            "<class 'numpy.ndarray'>\n",
            "['10' '20' '30' '40' 'DEL']\n"
          ]
        }
      ]
    },
    {
      "cell_type": "code",
      "source": [
        "#Arithmatic operation on array\n",
        "a1 = np.array([10,20,30,40]) # array element separated by space\n",
        "\n",
        "print(a1)\n",
        "a2 = a1 * 2\n",
        "print(a2)\n",
        "\n",
        "a3 = a2 / 4\n",
        "print(a3)\n",
        "\n",
        "a4 = a3 + 10.5\n",
        "print(a4)"
      ],
      "metadata": {
        "colab": {
          "base_uri": "https://localhost:8080/"
        },
        "id": "T0Wk0arZ3IWZ",
        "outputId": "5c8ac821-b1ed-4b20-9314-027dddc40cec"
      },
      "execution_count": 9,
      "outputs": [
        {
          "output_type": "stream",
          "name": "stdout",
          "text": [
            "[10 20 30 40]\n",
            "[20 40 60 80]\n",
            "[ 5. 10. 15. 20.]\n",
            "[15.5 20.5 25.5 30.5]\n"
          ]
        }
      ]
    },
    {
      "cell_type": "code",
      "source": [
        "#Arithmatic operation on list\n",
        "lst = [10,20,30,40]\n",
        "print(lst)\n",
        "lst2 = lst * 2\n",
        "print(lst2)\n",
        "lst3 = lst / 2\n",
        "print(lst3)"
      ],
      "metadata": {
        "colab": {
          "base_uri": "https://localhost:8080/",
          "height": 228
        },
        "id": "anb237Kr3IZL",
        "outputId": "a50a1403-4090-44c6-bd01-045ddffd5f69"
      },
      "execution_count": 12,
      "outputs": [
        {
          "output_type": "stream",
          "name": "stdout",
          "text": [
            "[10, 20, 30, 40]\n",
            "[10, 20, 30, 40, 10, 20, 30, 40]\n"
          ]
        },
        {
          "output_type": "error",
          "ename": "TypeError",
          "evalue": "unsupported operand type(s) for -: 'list' and 'int'",
          "traceback": [
            "\u001b[0;31m---------------------------------------------------------------------------\u001b[0m",
            "\u001b[0;31mTypeError\u001b[0m                                 Traceback (most recent call last)",
            "\u001b[0;32m/tmp/ipython-input-12-1140210740.py\u001b[0m in \u001b[0;36m<cell line: 0>\u001b[0;34m()\u001b[0m\n\u001b[1;32m      3\u001b[0m \u001b[0mlst2\u001b[0m \u001b[0;34m=\u001b[0m \u001b[0mlst\u001b[0m \u001b[0;34m*\u001b[0m \u001b[0;36m2\u001b[0m\u001b[0;34m\u001b[0m\u001b[0;34m\u001b[0m\u001b[0m\n\u001b[1;32m      4\u001b[0m \u001b[0mprint\u001b[0m\u001b[0;34m(\u001b[0m\u001b[0mlst2\u001b[0m\u001b[0;34m)\u001b[0m\u001b[0;34m\u001b[0m\u001b[0;34m\u001b[0m\u001b[0m\n\u001b[0;32m----> 5\u001b[0;31m \u001b[0mlst3\u001b[0m \u001b[0;34m=\u001b[0m \u001b[0mlst\u001b[0m \u001b[0;34m-\u001b[0m \u001b[0;36m2\u001b[0m\u001b[0;34m\u001b[0m\u001b[0;34m\u001b[0m\u001b[0m\n\u001b[0m\u001b[1;32m      6\u001b[0m \u001b[0mprint\u001b[0m\u001b[0;34m(\u001b[0m\u001b[0mlst3\u001b[0m\u001b[0;34m)\u001b[0m\u001b[0;34m\u001b[0m\u001b[0;34m\u001b[0m\u001b[0m\n",
            "\u001b[0;31mTypeError\u001b[0m: unsupported operand type(s) for -: 'list' and 'int'"
          ]
        }
      ]
    },
    {
      "cell_type": "code",
      "source": [
        "#Memory usage numpy array and list\n",
        "import sys\n",
        "lst = [10,20,30,40,50,60]\n",
        "print(sys.getsizeof(lst))\n",
        "\n",
        "ar = np.array([10,20,30,40,50,60])\n",
        "print(sys.getsizeof(ar))\n",
        "print(ar.itemsize)\n",
        "print(ar.nbytes)"
      ],
      "metadata": {
        "colab": {
          "base_uri": "https://localhost:8080/"
        },
        "id": "U9QjYJFx3IcZ",
        "outputId": "d8fef62f-a20e-4083-c455-d7fec93c7bac"
      },
      "execution_count": 16,
      "outputs": [
        {
          "output_type": "stream",
          "name": "stdout",
          "text": [
            "104\n",
            "160\n",
            "8\n",
            "48\n"
          ]
        }
      ]
    },
    {
      "cell_type": "code",
      "source": [
        "# creating n dimentional array in numpy\n",
        "ar1 = np.array([10,20,30,40])\n",
        "print(ar1)\n",
        "print(ar1.ndim)\n",
        "print(ar1.shape)\n",
        "print()\n",
        "ar2 = np.array([[10,20,30,40],[50,60,70,80]])\n",
        "print(ar2)\n",
        "print(ar2.ndim)\n",
        "print(ar2.shape)\n",
        "\n",
        "print()\n",
        "# zero dim array\n",
        "ar3 = np.array(10)\n",
        "print(ar3)\n",
        "print(ar3.ndim)\n",
        "print(ar3.shape)\n",
        "\n",
        "print()\n",
        "ar2 = np.array([[10,20,30,40]])\n",
        "print(ar2)\n",
        "print(ar2.ndim)\n",
        "print(ar2.shape)\n",
        "\n",
        "print()\n",
        "ar2 = np.array([[[10,20,30,40]]])\n",
        "print(ar2)\n",
        "print(ar2.ndim)\n",
        "print(ar2.shape)"
      ],
      "metadata": {
        "colab": {
          "base_uri": "https://localhost:8080/"
        },
        "id": "DxnOgtwM5oEH",
        "outputId": "b0643b20-850e-41e9-fee1-09f9d5206860"
      },
      "execution_count": 20,
      "outputs": [
        {
          "output_type": "stream",
          "name": "stdout",
          "text": [
            "[10 20 30 40]\n",
            "1\n",
            "(4,)\n",
            "\n",
            "[[10 20 30 40]\n",
            " [50 60 70 80]]\n",
            "2\n",
            "(2, 4)\n",
            "\n",
            "10\n",
            "0\n",
            "()\n",
            "\n",
            "[[10 20 30 40]]\n",
            "2\n",
            "(1, 4)\n",
            "\n",
            "[[[10 20 30 40]]]\n",
            "3\n",
            "(1, 1, 4)\n"
          ]
        }
      ]
    },
    {
      "cell_type": "code",
      "source": [
        "# N dimentional\n",
        "n = int(input(\"Enter dimention: \"))\n",
        "ar = np.array([10,20,30,40], ndmin=n)\n",
        "print(ar)\n",
        "print(ar.ndim)\n",
        "print(ar.shape)"
      ],
      "metadata": {
        "colab": {
          "base_uri": "https://localhost:8080/"
        },
        "id": "A4UIUDRh5oHf",
        "outputId": "d4bb1e32-43dc-4b67-dd1b-85aa2ff02cec"
      },
      "execution_count": 21,
      "outputs": [
        {
          "output_type": "stream",
          "name": "stdout",
          "text": [
            "Enter dimention: 11\n",
            "[[[[[[[[[[[10 20 30 40]]]]]]]]]]]\n",
            "11\n",
            "(1, 1, 1, 1, 1, 1, 1, 1, 1, 1, 4)\n"
          ]
        }
      ]
    },
    {
      "cell_type": "code",
      "source": [
        "# properties of numpy array\n",
        "ar = np.array([[10,20,30,40],[50,60,70,80]])\n",
        "print(\"Array:\",ar)\n",
        "print(\"Dimention:\",ar.ndim)\n",
        "print(\"Shape:\",ar.shape)\n",
        "print(\"Size:\",ar.size)\n",
        "print(\"itemsize:\",ar.itemsize)\n",
        "print(\"MIN:\",ar.min())\n",
        "print(\"MAX:\",ar.max())\n",
        "print(\"SUM:\",ar.sum())\n",
        "print(\"NBYTES:\",ar.nbytes)\n",
        "print(\"ar.sum(axis=0):\",ar.sum(axis=0))\n",
        "print(\"ar.sum(axis=1):\",ar.sum(axis=1))\n",
        "print(\"SUM:\",ar.mean())\n",
        "print(\"SUM:\",ar.std())\n",
        "print(\"VAR:\",ar.var())\n",
        "print(\"argmin:\",ar.argmin())\n",
        "print(\"argmax:\",ar.argmax())\n"
      ],
      "metadata": {
        "colab": {
          "base_uri": "https://localhost:8080/"
        },
        "id": "lJnuKZd15oKg",
        "outputId": "7bf7cd7d-a856-4fac-bf0c-c42e8f38b349"
      },
      "execution_count": 30,
      "outputs": [
        {
          "output_type": "stream",
          "name": "stdout",
          "text": [
            "Array: [[10 20 30 40]\n",
            " [50 60 70 80]]\n",
            "Dimention: 2\n",
            "Shape: (2, 4)\n",
            "Size: 8\n",
            "itemsize: 8\n",
            "MIN: 10\n",
            "MAX: 80\n",
            "SUM: 360\n",
            "NBYTES: 64\n",
            "ar.sum(axis=0): [ 60  80 100 120]\n",
            "ar.sum(axis=1): [100 260]\n",
            "SUM: 45.0\n",
            "SUM: 22.9128784747792\n",
            "VAR: 525.0\n",
            "argmin: 0\n",
            "argmax: 7\n"
          ]
        }
      ]
    },
    {
      "cell_type": "code",
      "source": [
        "# create a nd array\n",
        "ar = np.zeros(4)\n",
        "print(ar)\n",
        "print(ar.ndim)\n",
        "print(ar.shape)\n",
        "print(ar.dtype)"
      ],
      "metadata": {
        "colab": {
          "base_uri": "https://localhost:8080/"
        },
        "id": "NgnNzq9p5oNm",
        "outputId": "753e4664-e66e-4c36-824a-1728fb04691e"
      },
      "execution_count": 31,
      "outputs": [
        {
          "output_type": "stream",
          "name": "stdout",
          "text": [
            "[0. 0. 0. 0.]\n",
            "1\n",
            "(4,)\n",
            "float64\n"
          ]
        }
      ]
    },
    {
      "cell_type": "code",
      "source": [
        "# create a nd array\n",
        "ar = np.zeros((4,3), dtype=\"int\")\n",
        "print(ar)\n",
        "print(ar.ndim)\n",
        "print(ar.shape)\n",
        "print(ar.dtype)"
      ],
      "metadata": {
        "colab": {
          "base_uri": "https://localhost:8080/"
        },
        "id": "cSMVw7kO_lcb",
        "outputId": "76fab678-90be-4189-8016-dff886ab598b"
      },
      "execution_count": 33,
      "outputs": [
        {
          "output_type": "stream",
          "name": "stdout",
          "text": [
            "[[0 0 0]\n",
            " [0 0 0]\n",
            " [0 0 0]\n",
            " [0 0 0]]\n",
            "2\n",
            "(4, 3)\n",
            "int64\n"
          ]
        }
      ]
    },
    {
      "cell_type": "code",
      "source": [
        "# create a nd array\n",
        "ar = np.ones((4,3), dtype=\"int\") * 2\n",
        "print(ar)\n",
        "print(ar.ndim)\n",
        "print(ar.shape)\n",
        "print(ar.dtype)\n",
        "print(ar * 7)"
      ],
      "metadata": {
        "colab": {
          "base_uri": "https://localhost:8080/"
        },
        "id": "Zn3KMNsc_lfu",
        "outputId": "bfe3ce25-751c-42e3-f495-7604939d8148"
      },
      "execution_count": 36,
      "outputs": [
        {
          "output_type": "stream",
          "name": "stdout",
          "text": [
            "[[2 2 2]\n",
            " [2 2 2]\n",
            " [2 2 2]\n",
            " [2 2 2]]\n",
            "2\n",
            "(4, 3)\n",
            "int64\n",
            "[[14 14 14]\n",
            " [14 14 14]\n",
            " [14 14 14]\n",
            " [14 14 14]]\n"
          ]
        }
      ]
    },
    {
      "cell_type": "code",
      "source": [
        "#array with range\n",
        "arr = np.arange(0,20,2, dtype='float')\n",
        "print(arr)\n",
        "print(arr.ndim)\n",
        "print(arr.shape)\n",
        "print(arr.dtype)"
      ],
      "metadata": {
        "colab": {
          "base_uri": "https://localhost:8080/"
        },
        "id": "u4k4P-yD_ljE",
        "outputId": "3c2842af-8851-4e12-9d4d-214f66c4ab55"
      },
      "execution_count": 40,
      "outputs": [
        {
          "output_type": "stream",
          "name": "stdout",
          "text": [
            "[ 0.  2.  4.  6.  8. 10. 12. 14. 16. 18.]\n",
            "1\n",
            "(10,)\n",
            "float64\n"
          ]
        }
      ]
    },
    {
      "cell_type": "code",
      "source": [
        "#linspace in numpy\n",
        "arr = np.linspace(1,10,5, dtype='float')\n",
        "print(arr)\n",
        "print(arr.ndim)\n",
        "print(arr.shape)\n",
        "print(arr.dtype)\n",
        "nd_array = arr.reshape(5, 1)\n",
        "print(nd_array)\n",
        "print(nd_array.ndim)\n",
        "print(nd_array.shape)\n",
        "print(nd_array.dtype)"
      ],
      "metadata": {
        "colab": {
          "base_uri": "https://localhost:8080/"
        },
        "id": "ou-WLi1t_ll9",
        "outputId": "62ff329c-3a9d-46cd-81ff-adf8943628eb"
      },
      "execution_count": 52,
      "outputs": [
        {
          "output_type": "stream",
          "name": "stdout",
          "text": [
            "[ 1.    3.25  5.5   7.75 10.  ]\n",
            "1\n",
            "(5,)\n",
            "float64\n",
            "[[ 1.  ]\n",
            " [ 3.25]\n",
            " [ 5.5 ]\n",
            " [ 7.75]\n",
            " [10.  ]]\n",
            "2\n",
            "(5, 1)\n",
            "float64\n"
          ]
        }
      ]
    },
    {
      "cell_type": "code",
      "source": [
        "# numpy matrix\n",
        "ar = np.matrix([[10,20,30,40],[50,60,70,80]])\n",
        "print(ar)\n",
        "print(type(ar))\n",
        "\n",
        "print(ar.ndim)\n",
        "print(ar.shape)\n",
        "print(ar.dtype)"
      ],
      "metadata": {
        "id": "Rve6z-6-B9xe",
        "outputId": "eb3e34eb-c80b-484f-b0d9-6b8b92835f31",
        "colab": {
          "base_uri": "https://localhost:8080/"
        }
      },
      "execution_count": 54,
      "outputs": [
        {
          "output_type": "stream",
          "name": "stdout",
          "text": [
            "[[10 20 30 40]\n",
            " [50 60 70 80]]\n",
            "<class 'numpy.matrix'>\n",
            "2\n",
            "(2, 4)\n",
            "int64\n"
          ]
        }
      ]
    },
    {
      "cell_type": "code",
      "source": [
        "# numpy matrix\n",
        "mat = np.matrix([[10,20,30,40],[50,60,70,80]])\n",
        "print(mat)\n",
        "print(type(mat))\n",
        "print(mat.ndim)\n",
        "print(mat.shape)\n",
        "print(mat.dtype)\n",
        "print()\n",
        "trns = mat.transpose()\n",
        "print(trns)\n",
        "print(trns.ndim)\n",
        "print(trns.shape)\n",
        "print(trns.dtype)\n",
        "print()\n",
        "trn = mat.T\n",
        "print(trn)\n",
        "print(trn.ndim)\n",
        "print(trn.shape)\n",
        "print(trn.dtype)"
      ],
      "metadata": {
        "id": "QscemhzTB90m",
        "outputId": "59c9b57b-39be-4172-bb7b-e3d34d061f10",
        "colab": {
          "base_uri": "https://localhost:8080/"
        }
      },
      "execution_count": 55,
      "outputs": [
        {
          "output_type": "stream",
          "name": "stdout",
          "text": [
            "[[10 20 30 40]\n",
            " [50 60 70 80]]\n",
            "<class 'numpy.matrix'>\n",
            "2\n",
            "(2, 4)\n",
            "int64\n",
            "\n",
            "[[10 50]\n",
            " [20 60]\n",
            " [30 70]\n",
            " [40 80]]\n",
            "2\n",
            "(4, 2)\n",
            "int64\n",
            "\n",
            "[[10 50]\n",
            " [20 60]\n",
            " [30 70]\n",
            " [40 80]]\n",
            "2\n",
            "(4, 2)\n",
            "int64\n"
          ]
        }
      ]
    },
    {
      "cell_type": "code",
      "source": [
        "# Identity\n",
        "ar = np.identity(3, dtype='int')\n",
        "print(ar)\n",
        "print(ar.ndim)\n",
        "print(ar.shape)\n",
        "print(ar.dtype)"
      ],
      "metadata": {
        "id": "4nTlTUa_B932",
        "outputId": "f51864fc-7a0d-4ba8-dfc6-efdcdebe1f8e",
        "colab": {
          "base_uri": "https://localhost:8080/"
        }
      },
      "execution_count": 56,
      "outputs": [
        {
          "output_type": "stream",
          "name": "stdout",
          "text": [
            "[[1 0 0]\n",
            " [0 1 0]\n",
            " [0 0 1]]\n",
            "2\n",
            "(3, 3)\n",
            "int64\n"
          ]
        }
      ]
    },
    {
      "cell_type": "code",
      "source": [
        "#diagonal\n",
        "ar = np.diag([10,20,30,40])\n",
        "print(ar)\n",
        "print(ar.ndim)\n",
        "print(ar.shape)\n",
        "print(ar.dtype)"
      ],
      "metadata": {
        "id": "4cuJxbmfB97O",
        "outputId": "a5db3f41-973e-40e2-cb4f-2b8c323c64ff",
        "colab": {
          "base_uri": "https://localhost:8080/"
        }
      },
      "execution_count": 57,
      "outputs": [
        {
          "output_type": "stream",
          "name": "stdout",
          "text": [
            "[[10  0  0  0]\n",
            " [ 0 20  0  0]\n",
            " [ 0  0 30  0]\n",
            " [ 0  0  0 40]]\n",
            "2\n",
            "(4, 4)\n",
            "int64\n"
          ]
        }
      ]
    },
    {
      "cell_type": "code",
      "source": [],
      "metadata": {
        "id": "iAKrwAXJB9-E"
      },
      "execution_count": null,
      "outputs": []
    },
    {
      "cell_type": "code",
      "source": [],
      "metadata": {
        "id": "I1lSvjXqB-BS"
      },
      "execution_count": null,
      "outputs": []
    }
  ]
}