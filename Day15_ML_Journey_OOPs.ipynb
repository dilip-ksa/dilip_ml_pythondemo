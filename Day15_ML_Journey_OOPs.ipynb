{
  "nbformat": 4,
  "nbformat_minor": 0,
  "metadata": {
    "colab": {
      "provenance": [],
      "name": "Day15_ML_Journey_OOPs.ipynb",
      "authorship_tag": "ABX9TyMpkRhYPITsQafWsAjDg8Mf",
      "include_colab_link": true
    },
    "kernelspec": {
      "name": "python3",
      "display_name": "Python 3"
    },
    "language_info": {
      "name": "python"
    }
  },
  "cells": [
    {
      "cell_type": "markdown",
      "metadata": {
        "id": "view-in-github",
        "colab_type": "text"
      },
      "source": [
        "<a href=\"https://colab.research.google.com/github/dilip-ksa/dilip_ml_pythondemo/blob/main/Day15_ML_Journey_OOPs.ipynb\" target=\"_parent\"><img src=\"https://colab.research.google.com/assets/colab-badge.svg\" alt=\"Open In Colab\"/></a>"
      ]
    },
    {
      "cell_type": "code",
      "source": [
        "###################  OOPs  ##################\n",
        "class Person:\n",
        "  def __init__(self, name, age, address):\n",
        "    self.name = name\n",
        "    self.age = age\n",
        "    self.address = address\n",
        "  def display(self):\n",
        "    print('Name:',self.name, ', Age:',self.age, ', Address:',self.address)\n",
        "\n",
        "p1 = Person(\"Dinesh\", 25, \"Mumbai\")\n",
        "p1.display()"
      ],
      "metadata": {
        "colab": {
          "base_uri": "https://localhost:8080/"
        },
        "id": "EOfkDwUXe6GY",
        "outputId": "fd24c368-d3bb-42eb-dd36-999dc49214ff"
      },
      "execution_count": null,
      "outputs": [
        {
          "output_type": "stream",
          "name": "stdout",
          "text": [
            "Name: Dinesh , Age: 25 , Address: Mumbai\n"
          ]
        }
      ]
    },
    {
      "cell_type": "code",
      "source": [
        "class Calculator:\n",
        "  n1 = 0\n",
        "  n2 = 0\n",
        "  res = 0\n",
        "  def __init__(self, n1, n2):\n",
        "    self.n1 = n1\n",
        "    self.n2 = n2\n",
        "    self.res = 0\n",
        "\n",
        "  def add(self, n1, n2):\n",
        "    self.res = n1 + n2\n",
        "\n",
        "  def sub(self, n1, n2):\n",
        "    self.res = n1 - n2\n",
        "\n",
        "  def mul(self, n1, n2):\n",
        "    self.res = n1 * n2\n",
        "\n",
        "  def div(self, n1, n2):\n",
        "    self.res = n1 / n2\n",
        "\n",
        "c1 = Calculator(10,20)\n",
        "print(c1.n1, c1.n2, c1.res)\n",
        "c1.add(40,20)\n",
        "print(c1.res)\n",
        "c1.sub(40,20)\n",
        "print(c1.res)\n",
        "c1.mul(40,20)\n",
        "print(c1.res)\n",
        "c1.div(40,20)\n",
        "print(c1.res)\n"
      ],
      "metadata": {
        "id": "Kd5jp-YIe6Jp",
        "colab": {
          "base_uri": "https://localhost:8080/"
        },
        "outputId": "d7b37996-b600-4878-dd67-10fa5ef62ee3"
      },
      "execution_count": 3,
      "outputs": [
        {
          "output_type": "stream",
          "name": "stdout",
          "text": [
            "10 20 0\n",
            "60\n",
            "20\n",
            "800\n",
            "2.0\n"
          ]
        }
      ]
    },
    {
      "cell_type": "code",
      "source": [
        "######################  Day 15  ##############################\n",
        "# Class example\n",
        "\n",
        "class Sample:\n",
        "  def __init__(self):\n",
        "    self.data = 10\n",
        "\n",
        "  def read_input(self):\n",
        "    self.data = input(\"Enter some text\")\n",
        "\n",
        "  def process_input(self):\n",
        "    self.data = self.data.upper()\n",
        "\n",
        "  def display_input(self):\n",
        "    print(self.data)\n",
        "\n",
        "s1 = Sample()\n",
        "s1.display_input()\n",
        "s1.read_input()\n",
        "s1.display_input()\n",
        "s1.process_input()\n",
        "s1.display_input()\n",
        "\n",
        "s2 = Sample()\n",
        "s2.display_input()\n",
        "s2.read_input()\n",
        "s2.process_input()\n",
        "s2.display_input()"
      ],
      "metadata": {
        "id": "q90gp2xje6NN",
        "colab": {
          "base_uri": "https://localhost:8080/"
        },
        "outputId": "fcb05028-237a-4539-af13-c597a07e61c6"
      },
      "execution_count": 9,
      "outputs": [
        {
          "output_type": "stream",
          "name": "stdout",
          "text": [
            "10\n",
            "Enter some textTest\n",
            "Test\n",
            "TEST\n",
            "10\n",
            "Enter some textWelcome\n",
            "WELCOME\n"
          ]
        }
      ]
    },
    {
      "cell_type": "code",
      "source": [],
      "metadata": {
        "id": "dgKpy3vUehRR"
      },
      "execution_count": null,
      "outputs": []
    },
    {
      "cell_type": "code",
      "source": [],
      "metadata": {
        "id": "3dY_MVLpehUq"
      },
      "execution_count": null,
      "outputs": []
    }
  ]
}