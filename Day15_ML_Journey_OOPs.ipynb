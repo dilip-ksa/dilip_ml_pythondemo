{
  "nbformat": 4,
  "nbformat_minor": 0,
  "metadata": {
    "colab": {
      "provenance": [],
      "name": "Day15_ML_Journey_OOPs.ipynb",
      "authorship_tag": "ABX9TyOm66kASPbX0JelEv8O3qD7",
      "include_colab_link": true
    },
    "kernelspec": {
      "name": "python3",
      "display_name": "Python 3"
    },
    "language_info": {
      "name": "python"
    }
  },
  "cells": [
    {
      "cell_type": "markdown",
      "metadata": {
        "id": "view-in-github",
        "colab_type": "text"
      },
      "source": [
        "<a href=\"https://colab.research.google.com/github/dilip-ksa/dilip_ml_pythondemo/blob/main/Day15_ML_Journey_OOPs.ipynb\" target=\"_parent\"><img src=\"https://colab.research.google.com/assets/colab-badge.svg\" alt=\"Open In Colab\"/></a>"
      ]
    },
    {
      "cell_type": "code",
      "source": [
        "###################  OOPs  ##################\n",
        "class Person:\n",
        "  def __init__(self, name, age, address):\n",
        "    self.name = name\n",
        "    self.age = age\n",
        "    self.address = address\n",
        "  def display(self):\n",
        "    print('Name:',self.name, ', Age:',self.age, ', Address:',self.address)\n",
        "\n",
        "p1 = Person(\"Dinesh\", 25, \"Mumbai\")\n",
        "p1.display()"
      ],
      "metadata": {
        "colab": {
          "base_uri": "https://localhost:8080/"
        },
        "id": "EOfkDwUXe6GY",
        "outputId": "fd24c368-d3bb-42eb-dd36-999dc49214ff"
      },
      "execution_count": null,
      "outputs": [
        {
          "output_type": "stream",
          "name": "stdout",
          "text": [
            "Name: Dinesh , Age: 25 , Address: Mumbai\n"
          ]
        }
      ]
    },
    {
      "cell_type": "code",
      "source": [
        "class Calculator:\n",
        "  n1 = 0\n",
        "  n2 = 0\n",
        "  res = 0\n",
        "  def __init__(self, n1, n2):\n",
        "    self.n1 = 0\n",
        "    self.n2 = 0\n",
        "    self.res = 0\n",
        "\n",
        "  def add(self, n1, n2):\n",
        "    self.res = n1 + n2\n",
        "    print(self.res)\n",
        "\n",
        "  def sub(self, n1, n2):\n",
        "    pass\n",
        "\n",
        "  def mul(self, n1, n2):\n",
        "    pass\n",
        "\n",
        "  def div(self, n1, n2):\n",
        "    pass\n",
        "\n",
        "c1 = Calculator(10,20)\n",
        "c1.add(10,20)\n",
        "c1.sub(10,20)\n",
        "c1.mul(10,20)\n",
        "c1.div(10,20)\n",
        "print(c1.res)\n"
      ],
      "metadata": {
        "id": "Kd5jp-YIe6Jp",
        "colab": {
          "base_uri": "https://localhost:8080/"
        },
        "outputId": "1dbc77d9-19d7-415e-a20c-5861ecb0f35c"
      },
      "execution_count": null,
      "outputs": [
        {
          "output_type": "stream",
          "name": "stdout",
          "text": [
            "30\n",
            "30\n"
          ]
        }
      ]
    },
    {
      "cell_type": "code",
      "source": [
        "######################  Day 15  ##############################\n"
      ],
      "metadata": {
        "id": "q90gp2xje6NN"
      },
      "execution_count": null,
      "outputs": []
    },
    {
      "cell_type": "code",
      "source": [],
      "metadata": {
        "id": "dgKpy3vUehRR"
      },
      "execution_count": null,
      "outputs": []
    },
    {
      "cell_type": "code",
      "source": [],
      "metadata": {
        "id": "3dY_MVLpehUq"
      },
      "execution_count": null,
      "outputs": []
    }
  ]
}