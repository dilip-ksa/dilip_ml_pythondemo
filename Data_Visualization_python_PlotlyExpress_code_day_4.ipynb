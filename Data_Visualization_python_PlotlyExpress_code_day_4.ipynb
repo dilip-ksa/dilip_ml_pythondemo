{
  "cells": [
    {
      "cell_type": "markdown",
      "metadata": {
        "id": "view-in-github",
        "colab_type": "text"
      },
      "source": [
        "<a href=\"https://colab.research.google.com/github/dilip-ksa/dilip_ml_pythondemo/blob/main/Data_Visualization_python_PlotlyExpress_code_day_4.ipynb\" target=\"_parent\"><img src=\"https://colab.research.google.com/assets/colab-badge.svg\" alt=\"Open In Colab\"/></a>"
      ]
    },
    {
      "cell_type": "code",
      "execution_count": null,
      "id": "7fbd2242",
      "metadata": {
        "id": "7fbd2242"
      },
      "outputs": [],
      "source": [
        "#######################################################\n",
        "#######################################################\n",
        "############    COPYRIGHT - DATA SOCIETY   ############\n",
        "#######################################################\n",
        "#######################################################\n",
        "\n",
        "## INTERACTIVEVISUALIZATIONWITHPLOTLY/2 PLOTLYEXPRESS/INTERACTIVEVISUALIZATIONWITHPLOTLY PLOTLYEXPRESS 1 ##\n",
        "\n",
        "## NOTE: To run individual pieces of code, select the line of code and\n",
        "##       press ctrl + enter for PCs or command + enter for Macs\n",
        "\n",
        "\n"
      ]
    },
    {
      "cell_type": "code",
      "execution_count": null,
      "id": "31e1e469",
      "metadata": {
        "id": "31e1e469"
      },
      "outputs": [],
      "source": [
        "#=================================================-\n",
        "#### Slide 6: Load the dataset and libraries  ####\n",
        "\n",
        "# Load the libraries and the dataset\n",
        "import plotly.express as px\n",
        "\n",
        "# Load the dataset\n",
        "tips_dataset = px.data.tips()\n",
        "# Top 5 entires of the dataset\n",
        "tips_dataset.head()\n",
        "\n",
        "\n"
      ]
    },
    {
      "cell_type": "code",
      "execution_count": null,
      "id": "2bb70a2f",
      "metadata": {
        "id": "2bb70a2f"
      },
      "outputs": [],
      "source": [
        "#=================================================-\n",
        "#### Slide 8: Histograms  ####\n",
        "\n",
        "# Create a histogram using plotly function `histogram`\n",
        "fig = px.histogram(tips_dataset,                  #<- set dataset\n",
        "          x=\"total_bill\",                         #<- set x variable\n",
        "          color=\"day\",                            #<- set grouping variable\n",
        "          hover_data = tips_dataset.columns)      #<- add column names\n",
        "fig.show()\n",
        "\n",
        "\n"
      ]
    },
    {
      "cell_type": "code",
      "execution_count": null,
      "id": "912e317f",
      "metadata": {
        "id": "912e317f"
      },
      "outputs": [],
      "source": [
        "#=================================================-\n",
        "#### Slide 9: Histograms (cont'd)  ####\n",
        "\n",
        "fig = px.histogram(tips_dataset,\n",
        "          x=\"total_bill\",\n",
        "          color=\"day\",\n",
        "          hover_data = tips_dataset.columns,\n",
        "          title='Bill by Day',\n",
        "          labels={'total_bill': 'Total Bill'},\n",
        "          nbins=50,\n",
        "          color_discrete_sequence = px.colors.sequential.Rainbow_r)\n",
        "fig.show()\n",
        "\n",
        "\n"
      ]
    },
    {
      "cell_type": "code",
      "execution_count": null,
      "id": "18e71479",
      "metadata": {
        "id": "18e71479"
      },
      "outputs": [],
      "source": [
        "#=================================================-\n",
        "#### Slide 10: Histograms (cont'd)  ####\n",
        "\n",
        "fig = px.histogram(tips_dataset,\n",
        "          x=\"total_bill\",\n",
        "          color=\"day\",\n",
        "          hover_data = tips_dataset.columns,\n",
        "          title='Bill by Day',\n",
        "          labels={'total_bill': 'Total Bill'},\n",
        "          nbins=50,\n",
        "          color_discrete_sequence = px.colors.sequential.Rainbow_r)\n",
        "fig.show()\n",
        "\n",
        "\n"
      ]
    },
    {
      "cell_type": "code",
      "execution_count": null,
      "id": "5ff468fc",
      "metadata": {
        "id": "5ff468fc"
      },
      "outputs": [],
      "source": [
        "#=================================================-\n",
        "#### Slide 11: Histograms (cont'd)  ####\n",
        "\n",
        "fig = px.histogram(tips_dataset,\n",
        "          x=\"total_bill\",\n",
        "          color=\"sex\",\n",
        "          hover_data = tips_dataset.columns,\n",
        "          title='Bill by Gender',\n",
        "          labels={'total_bill': 'Total Bill'},\n",
        "          nbins=50,\n",
        "          color_discrete_sequence = px.colors.sequential.Purp)\n",
        "fig.show()\n",
        "\n",
        "\n"
      ]
    },
    {
      "cell_type": "code",
      "execution_count": null,
      "id": "b08c5173",
      "metadata": {
        "id": "b08c5173"
      },
      "outputs": [],
      "source": [
        "#=================================================-\n",
        "#### Slide 12: Box plots   ####\n",
        "\n",
        "# Construct a box plot using plotly function `box`\n",
        "fig = px.box(tips_dataset,\n",
        "          y=\"total_bill\",\n",
        "          color=\"day\")\n",
        "fig.show()\n",
        "\n",
        "\n"
      ]
    },
    {
      "cell_type": "code",
      "execution_count": null,
      "id": "84731a5b",
      "metadata": {
        "id": "84731a5b"
      },
      "outputs": [],
      "source": [
        "#=================================================-\n",
        "#### Slide 13: Box plots (cont'd)   ####\n",
        "\n",
        "fig = px.box(tips_dataset,\n",
        "          x='sex',\n",
        "          y='total_bill',\n",
        "          color='day',\n",
        "          labels={'total_bill':'Total Bill', 'sex':'Sex'},\n",
        "          title='Total Bill grouped by Day and Sex',\n",
        "          color_discrete_sequence = px.colors.sequential.Electric)\n",
        "fig.show()\n",
        "\n",
        "\n"
      ]
    },
    {
      "cell_type": "code",
      "execution_count": null,
      "id": "3dbdeb7b",
      "metadata": {
        "id": "3dbdeb7b"
      },
      "outputs": [],
      "source": [
        "#=================================================-\n",
        "#### Slide 14: Marginal plots  ####\n",
        "\n",
        "# Construct marginal plot by providing marginal argument\n",
        "fig = px.histogram(tips_dataset, x=\"total_bill\",\n",
        "              color=\"sex\",\n",
        "              marginal=\"box\",\n",
        "              hover_data = tips_dataset.columns,\n",
        "              title='Bill by Gender',\n",
        "              labels={'total_bill': 'Total Bill'},\n",
        "              nbins=50)\n",
        "fig.show()\n",
        "\n",
        "\n",
        "#######################################################\n",
        "####  CONGRATULATIONS ON COMPLETING THIS MODULE!   ####\n",
        "#######################################################\n"
      ]
    },
    {
      "cell_type": "code",
      "execution_count": null,
      "id": "3b2bc97c",
      "metadata": {
        "id": "3b2bc97c"
      },
      "outputs": [],
      "source": [
        "#######################################################\n",
        "#######################################################\n",
        "############    COPYRIGHT - DATA SOCIETY   ############\n",
        "#######################################################\n",
        "#######################################################\n",
        "\n",
        "## INTERACTIVEVISUALIZATIONWITHPLOTLY/2 PLOTLYEXPRESS/INTERACTIVEVISUALIZATIONWITHPLOTLY PLOTLYEXPRESS 2 ##\n",
        "\n",
        "## NOTE: To run individual pieces of code, select the line of code and\n",
        "##       press ctrl + enter for PCs or command + enter for Macs\n",
        "\n",
        "\n"
      ]
    },
    {
      "cell_type": "code",
      "execution_count": null,
      "id": "d9d13cf5",
      "metadata": {
        "id": "d9d13cf5"
      },
      "outputs": [],
      "source": [
        "#=================================================-\n",
        "#### Slide 4: Load the data  ####\n",
        "\n",
        "# Load the iris dataset from `plotly express`\n",
        "iris_dataset = px.data.iris()\n",
        "\n",
        "# Top 5 entries of the dataset\n",
        "iris_dataset.head()\n",
        "\n",
        "\n"
      ]
    },
    {
      "cell_type": "code",
      "execution_count": null,
      "id": "cc4bb6f1",
      "metadata": {
        "id": "cc4bb6f1"
      },
      "outputs": [],
      "source": [
        "#=================================================-\n",
        "#### Slide 7: Scatter plot (cont'd)  ####\n",
        "\n",
        "# Construct a scatter plot by simply giving the plotting function scatter\n",
        "fig = px.scatter(iris_dataset,\n",
        "          x='sepal_length',\n",
        "          y='petal_length',\n",
        "          color='species',\n",
        "          size='sepal_width')\n",
        "fig.show()\n",
        "\n",
        "\n"
      ]
    },
    {
      "cell_type": "code",
      "execution_count": null,
      "id": "6f901f49",
      "metadata": {
        "id": "6f901f49"
      },
      "outputs": [],
      "source": [
        "#=================================================-\n",
        "#### Slide 8: Scatter plot (cont'd)  ####\n",
        "\n",
        "fig = px.scatter(iris_dataset,\n",
        "          x='sepal_length',\n",
        "          y='petal_length',\n",
        "          color='species',\n",
        "          size='sepal_width',\n",
        "          symbol='species')\n",
        "fig.show()\n",
        "\n",
        "\n"
      ]
    },
    {
      "cell_type": "code",
      "execution_count": null,
      "id": "ddf3665d",
      "metadata": {
        "id": "ddf3665d"
      },
      "outputs": [],
      "source": [
        "#=================================================-\n",
        "#### Slide 9: Scatter plot with a linear model  ####\n",
        "\n",
        "fig = px.scatter(iris_dataset,\n",
        "          x='sepal_length',\n",
        "          y='petal_length',\n",
        "          color='species',\n",
        "          trendline=\"ols\")\n",
        "fig.show()\n",
        "\n",
        "\n"
      ]
    },
    {
      "cell_type": "code",
      "execution_count": null,
      "id": "4eed53f2",
      "metadata": {
        "id": "4eed53f2"
      },
      "outputs": [],
      "source": [
        "#=================================================-\n",
        "#### Slide 10: Scatter plot with a linear model (cont'd)  ####\n",
        "\n",
        "# Create and save model summary\n",
        "results = px.get_trendline_results(fig)\n",
        "\n",
        "# Access the model parameters\n",
        "results.query(\"species=='setosa'\").px_fit_results.iloc[0].summary()\n",
        "\n",
        "\n"
      ]
    },
    {
      "cell_type": "code",
      "execution_count": null,
      "id": "37b3471c",
      "metadata": {
        "id": "37b3471c"
      },
      "outputs": [],
      "source": [
        "#=================================================-\n",
        "#### Slide 12: Line plot  ####\n",
        "\n",
        "# Create a line graph by using the plotly function `line`\n",
        "fig = px.line(iris_dataset,\n",
        "          y='sepal_width',\n",
        "          color='species')\n",
        "fig.show()\n",
        "\n",
        "\n"
      ]
    },
    {
      "cell_type": "code",
      "execution_count": null,
      "id": "eda8059e",
      "metadata": {
        "id": "eda8059e"
      },
      "outputs": [],
      "source": [
        "#=================================================-\n",
        "#### Slide 14: Scatter matrix plot  ####\n",
        "\n",
        "# Construct a scatter plot by using plotly function `scatter_matrix`\n",
        "fig = px.scatter_matrix(iris_dataset,\n",
        "          dimensions=[\"sepal_width\", \"sepal_length\",\n",
        "                \"petal_width\", \"petal_length\"],\n",
        "          color=\"species\")\n",
        "fig.show()\n",
        "\n",
        "\n"
      ]
    },
    {
      "cell_type": "code",
      "execution_count": null,
      "id": "f426d99f",
      "metadata": {
        "id": "f426d99f"
      },
      "outputs": [],
      "source": [
        "#=================================================-\n",
        "#### Slide 16: Saving plots in plotly to disk   ####\n",
        "\n",
        "# Save the plot as HTML\n",
        "fig.write_html('scattermatrix.html')\n",
        "\n",
        "\n",
        "#######################################################\n",
        "####  CONGRATULATIONS ON COMPLETING THIS MODULE!   ####\n",
        "#######################################################\n"
      ]
    },
    {
      "cell_type": "code",
      "execution_count": null,
      "id": "0e484558",
      "metadata": {
        "id": "0e484558"
      },
      "outputs": [],
      "source": [
        "#######################################################\n",
        "#######################################################\n",
        "############    COPYRIGHT - DATA SOCIETY   ############\n",
        "#######################################################\n",
        "#######################################################\n",
        "\n",
        "## INTERACTIVEVISUALIZATIONWITHPLOTLY/2 PLOTLYEXPRESS/INTERACTIVEVISUALIZATIONWITHPLOTLY PLOTLYEXPRESS 3 ##\n",
        "\n",
        "## NOTE: To run individual pieces of code, select the line of code and\n",
        "##       press ctrl + enter for PCs or command + enter for Macs\n",
        "\n",
        "\n"
      ]
    },
    {
      "cell_type": "code",
      "execution_count": null,
      "id": "d4c8c607",
      "metadata": {
        "id": "d4c8c607"
      },
      "outputs": [],
      "source": [
        "#=================================================-\n",
        "#### Slide 4: Creating heatmaps  ####\n",
        "\n",
        "# Select only numeric columns from iris_dataset\n",
        "numeric_iris = iris_dataset.select_dtypes(include='number')\n",
        "\n",
        "# Compute the correlation matrix on numeric columns\n",
        "cormat = numeric_iris.corr()\n",
        "\n",
        "# Create a heatmap of iris_dataset correlation\n",
        "fig = px.imshow(cormat,\n",
        "          zmin = -1,\n",
        "          zmax = 1)\n",
        "fig.show()\n",
        "\n",
        "\n"
      ]
    },
    {
      "cell_type": "code",
      "execution_count": null,
      "id": "62beab76",
      "metadata": {
        "id": "62beab76"
      },
      "outputs": [],
      "source": [
        "#=================================================-\n",
        "#### Slide 6: Density heatmaps (cont'd)  ####\n",
        "\n",
        "# Create a density heatmap of tips dataset using plotly function density_heatmap\n",
        "fig = px.density_heatmap(tips_dataset,\n",
        "          x = \"total_bill\",\n",
        "          y = \"tip\")\n",
        "fig.show()\n",
        "\n",
        "\n"
      ]
    },
    {
      "cell_type": "code",
      "execution_count": null,
      "id": "9116bb2d",
      "metadata": {
        "id": "9116bb2d"
      },
      "outputs": [],
      "source": [
        "#=================================================-\n",
        "#### Slide 7: World map   ####\n",
        "\n",
        "# Take a subset from gapminder dataset\n",
        "gapminder_subset = px.data.gapminder().query(\"year==2007\")\n",
        "# Create a map using plotly function chopleth\n",
        "fig = px.choropleth(gapminder_subset,\n",
        "              locations=\"iso_alpha\",\n",
        "              color = \"lifeExp\",  #a variable of gapminder\n",
        "              hover_name = \"country\",  # add hover information\n",
        "              color_continuous_scale = px.colors.sequential.Plasma)\n",
        "fig.show()\n",
        "\n",
        "\n"
      ]
    },
    {
      "cell_type": "code",
      "execution_count": null,
      "id": "8fdc8a8c",
      "metadata": {
        "id": "8fdc8a8c"
      },
      "outputs": [],
      "source": [
        "#=================================================-\n",
        "#### Slide 8: World map (cont'd)  ####\n",
        "\n",
        "# Take a subset from gapminder dataset\n",
        "gapminder_subset = px.data.gapminder().query(\"year==2007\")\n",
        "# Create a map using plotly function chopleth\n",
        "fig = px.choropleth(gapminder_subset,\n",
        "              locations=\"iso_alpha\",\n",
        "              color = \"lifeExp\",  #a variable of gapminder\n",
        "              hover_name = \"country\",  # add hover information\n",
        "              color_continuous_scale = px.colors.sequential.Plasma)\n",
        "fig.show()\n",
        "\n",
        "\n"
      ]
    },
    {
      "cell_type": "code",
      "execution_count": null,
      "id": "69af4bb6",
      "metadata": {
        "id": "69af4bb6"
      },
      "outputs": [],
      "source": [
        "#=================================================-\n",
        "#### Slide 9: The US map  ####\n",
        "\n",
        "fig = px.choropleth(locations=[\"CA\", \"TX\", \"NY\"],\n",
        "          locationmode=\"USA-states\",\n",
        "          color=[1,2,3],\n",
        "          scope=\"usa\")\n",
        "fig.show()\n",
        "\n",
        "\n"
      ]
    },
    {
      "cell_type": "code",
      "execution_count": null,
      "id": "9ec4cb9e",
      "metadata": {
        "id": "9ec4cb9e"
      },
      "outputs": [],
      "source": [
        "#=================================================-\n",
        "#### Slide 12: Downloading a custom GeoJSON to make a map (cont'd)  ####\n",
        "\n",
        "election_dataset = px.data.election()\n",
        "\n",
        "geojson = px.data.election_geojson()\n",
        "\n",
        "fig = px.choropleth(election_dataset,\n",
        "          geojson=geojson,color=\"Bergeron\",\n",
        "          locations=\"district\",\n",
        "          featureidkey=\"properties.district\",\n",
        "          projection=\"mercator\")\n",
        "\n",
        "fig.update_geos(fitbounds=\"locations\",\n",
        "          visible=False)\n",
        "\n",
        "fig.update_layout(margin={\"r\":0,\"t\":0,\"l\":0,\"b\":0})\n",
        "\n",
        "fig.show()\n",
        "\n",
        "\n"
      ]
    },
    {
      "cell_type": "code",
      "execution_count": null,
      "id": "984e0f0a",
      "metadata": {
        "id": "984e0f0a"
      },
      "outputs": [],
      "source": [
        "#=================================================-\n",
        "#### Slide 14: Animation of a scatter map   ####\n",
        "\n",
        "gapminder_dataset = px.data.gapminder()\n",
        "fig = px.scatter_geo(gapminder_dataset, locations=\"iso_alpha\",\n",
        "          color=\"continent\",\n",
        "          hover_name=\"country\",\n",
        "          size=\"pop\",\n",
        "          animation_frame=\"year\",\n",
        "          projection=\"natural earth\")\n",
        "fig.show()\n",
        "\n",
        "\n"
      ]
    },
    {
      "cell_type": "code",
      "execution_count": null,
      "id": "9787d09f",
      "metadata": {
        "id": "9787d09f"
      },
      "outputs": [],
      "source": [
        "#=================================================-\n",
        "#### Slide 15: Animation of a heat map   ####\n",
        "\n",
        "fig = px.choropleth(gapminder_dataset,\n",
        "          locations=\"iso_alpha\",\n",
        "          color=\"lifeExp\",\n",
        "          hover_name=\"country\",\n",
        "          animation_frame=\"year\",\n",
        "          range_color=[20,80])\n",
        "fig.show()\n",
        "\n",
        "\n"
      ]
    },
    {
      "cell_type": "code",
      "execution_count": null,
      "id": "bd9ea4a1",
      "metadata": {
        "id": "bd9ea4a1"
      },
      "outputs": [],
      "source": [
        "#=================================================-\n",
        "#### Slide 17: Exercise   ####\n",
        "\n",
        "\n",
        "\n",
        "\n",
        "#######################################################\n",
        "####  CONGRATULATIONS ON COMPLETING THIS MODULE!   ####\n",
        "#######################################################\n"
      ]
    }
  ],
  "metadata": {
    "language": "python",
    "colab": {
      "provenance": [],
      "include_colab_link": true
    }
  },
  "nbformat": 4,
  "nbformat_minor": 5
}