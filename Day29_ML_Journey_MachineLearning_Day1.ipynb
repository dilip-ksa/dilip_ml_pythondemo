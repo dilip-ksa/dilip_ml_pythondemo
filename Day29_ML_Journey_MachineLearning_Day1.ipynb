{
  "nbformat": 4,
  "nbformat_minor": 0,
  "metadata": {
    "colab": {
      "provenance": [],
      "name": "Day29_ML_Journey_MachineLearning_Day1.ipynb",
      "include_colab_link": true
    },
    "kernelspec": {
      "name": "python3",
      "display_name": "Python 3"
    },
    "language_info": {
      "name": "python"
    }
  },
  "cells": [
    {
      "cell_type": "markdown",
      "metadata": {
        "id": "view-in-github",
        "colab_type": "text"
      },
      "source": [
        "<a href=\"https://colab.research.google.com/github/dilip-ksa/dilip_ml_pythondemo/blob/main/Day29_ML_Journey_MachineLearning_Day1.ipynb\" target=\"_parent\"><img src=\"https://colab.research.google.com/assets/colab-badge.svg\" alt=\"Open In Colab\"/></a>"
      ]
    },
    {
      "cell_type": "code",
      "execution_count": null,
      "metadata": {
        "colab": {
          "base_uri": "https://localhost:8080/"
        },
        "id": "HpmbKqI7jltH",
        "outputId": "0ec1bf68-5f68-4ec7-f746-ea081ec8cab5"
      },
      "outputs": [
        {
          "output_type": "stream",
          "name": "stdout",
          "text": [
            "hello world\n"
          ]
        }
      ],
      "source": [
        "print(\"hello world\")"
      ]
    },
    {
      "cell_type": "code",
      "source": [
        "a = 200\n",
        "print(id(a))"
      ],
      "metadata": {
        "id": "uUgyICC2GdwF",
        "outputId": "6209727a-8a14-4064-b4a7-14f2749977bb",
        "colab": {
          "base_uri": "https://localhost:8080/"
        }
      },
      "execution_count": null,
      "outputs": [
        {
          "output_type": "stream",
          "name": "stdout",
          "text": [
            "10757224\n"
          ]
        }
      ]
    },
    {
      "cell_type": "code",
      "source": [
        "print(\"hello python world\")"
      ],
      "metadata": {
        "colab": {
          "base_uri": "https://localhost:8080/"
        },
        "id": "2c_Jc5S33uF5",
        "outputId": "5c893662-05f2-477d-e58c-bec51ac48c7c"
      },
      "execution_count": null,
      "outputs": [
        {
          "output_type": "stream",
          "name": "stdout",
          "text": [
            "hello python world\n"
          ]
        }
      ]
    },
    {
      "cell_type": "code",
      "source": [
        "print(12 + 34)"
      ],
      "metadata": {
        "id": "34ZbDQBAxLWX",
        "colab": {
          "base_uri": "https://localhost:8080/"
        },
        "outputId": "0c9cc165-3567-4a17-e825-317ed8091cfc"
      },
      "execution_count": null,
      "outputs": [
        {
          "output_type": "stream",
          "name": "stdout",
          "text": [
            "46\n"
          ]
        }
      ]
    },
    {
      "cell_type": "code",
      "source": [
        "for i in range(10):\n",
        "  print(i)"
      ],
      "metadata": {
        "id": "qj-qSsTZ57B0",
        "outputId": "cd943a8f-74ce-4054-f0cd-35b9dab925b4",
        "colab": {
          "base_uri": "https://localhost:8080/"
        }
      },
      "execution_count": null,
      "outputs": [
        {
          "output_type": "stream",
          "name": "stdout",
          "text": [
            "0\n",
            "1\n",
            "2\n",
            "3\n",
            "4\n",
            "5\n",
            "6\n",
            "7\n",
            "8\n",
            "9\n"
          ]
        }
      ]
    },
    {
      "cell_type": "code",
      "source": [
        "import sys\n",
        "sys.getrecursionlimit()"
      ],
      "metadata": {
        "colab": {
          "base_uri": "https://localhost:8080/"
        },
        "id": "Yt78FHXTIiUO",
        "outputId": "f5d84ea9-56a3-40e5-f7f4-7aa97fea6787"
      },
      "execution_count": null,
      "outputs": [
        {
          "output_type": "execute_result",
          "data": {
            "text/plain": [
              "1000"
            ]
          },
          "metadata": {},
          "execution_count": 1
        }
      ]
    },
    {
      "cell_type": "code",
      "source": [
        "names =  [\"Jennifer\", \"Watson\", \"Billy\", \"Josh\"]\n",
        "new_names = names\n",
        "new_names[1] = 'James'\n",
        "print(names)\n",
        "print(new_names)"
      ],
      "metadata": {
        "id": "_1ZI5Srkf6KP",
        "outputId": "b80076a7-7b96-4f41-ba8d-795a02fd5afc",
        "colab": {
          "base_uri": "https://localhost:8080/"
        }
      },
      "execution_count": null,
      "outputs": [
        {
          "output_type": "stream",
          "name": "stdout",
          "text": [
            "['Jennifer', 'James', 'Billy', 'Josh']\n",
            "['Jennifer', 'James', 'Billy', 'Josh']\n"
          ]
        }
      ]
    },
    {
      "cell_type": "code",
      "source": [
        "names =  [\"Jennifer\", \"Watson\", \"Billy\", \"Josh\"]\n",
        "new_names = names.copy()\n",
        "new_names[1] = 'James'\n",
        "print(names)\n",
        "print(new_names)"
      ],
      "metadata": {
        "id": "jzRp6wKahfxA",
        "outputId": "cb9543d7-3a39-421f-f1cc-9bc9112c7b46",
        "colab": {
          "base_uri": "https://localhost:8080/"
        }
      },
      "execution_count": null,
      "outputs": [
        {
          "output_type": "stream",
          "name": "stdout",
          "text": [
            "['Jennifer', 'Watson', 'Billy', 'Josh']\n",
            "['Jennifer', 'James', 'Billy', 'Josh']\n"
          ]
        }
      ]
    },
    {
      "cell_type": "code",
      "source": [
        "list = [\"1\", \"2\", \"3\", \"4\", \"5\", \"6\", \"7\"]\n",
        "print(list[1:5])"
      ],
      "metadata": {
        "id": "oTtz8diiiOuo",
        "outputId": "1239f216-5486-42f8-9e20-73464df37f25",
        "colab": {
          "base_uri": "https://localhost:8080/"
        }
      },
      "execution_count": null,
      "outputs": [
        {
          "output_type": "stream",
          "name": "stdout",
          "text": [
            "['2', '3', '4', '5']\n"
          ]
        }
      ]
    },
    {
      "cell_type": "code",
      "source": [
        "num = 0\n",
        "while num < 10:\n",
        "    num = num + 1\n",
        "    if num % 2 == 0:\n",
        "        continue\n",
        "    print (num)"
      ],
      "metadata": {
        "id": "Gul38GoKivEx",
        "outputId": "2dde623d-f4e2-4d77-dd29-4dfbd1e3ef21",
        "colab": {
          "base_uri": "https://localhost:8080/"
        }
      },
      "execution_count": null,
      "outputs": [
        {
          "output_type": "stream",
          "name": "stdout",
          "text": [
            "1\n",
            "3\n",
            "5\n",
            "7\n",
            "9\n"
          ]
        }
      ]
    },
    {
      "cell_type": "code",
      "source": [
        "for x in range(10):\n",
        "    print(x)\n",
        "else:\n",
        "    print(\"Done\")"
      ],
      "metadata": {
        "id": "qxtH5L54jJpa",
        "outputId": "c1bcaacf-82b8-4721-9d9b-cb7fc0da9d81",
        "colab": {
          "base_uri": "https://localhost:8080/"
        }
      },
      "execution_count": null,
      "outputs": [
        {
          "output_type": "stream",
          "name": "stdout",
          "text": [
            "0\n",
            "1\n",
            "2\n",
            "3\n",
            "4\n",
            "5\n",
            "6\n",
            "7\n",
            "8\n",
            "9\n",
            "Done\n"
          ]
        }
      ]
    },
    {
      "cell_type": "code",
      "source": [
        "car = {'color': 'red', 'speed': 250}\n",
        "print(car)\n",
        "car['height'] = 5\n",
        "car['width'] = 5\n",
        "print(car)"
      ],
      "metadata": {
        "id": "UGOFRLphjchO",
        "outputId": "7cbe1a01-2282-45d5-b9c4-eb46abecf959",
        "colab": {
          "base_uri": "https://localhost:8080/"
        }
      },
      "execution_count": null,
      "outputs": [
        {
          "output_type": "stream",
          "name": "stdout",
          "text": [
            "{'color': 'red', 'speed': 250}\n",
            "{'color': 'red', 'speed': 250, 'height': 5, 'width': 5}\n"
          ]
        }
      ]
    },
    {
      "cell_type": "code",
      "source": [
        "test = [\"1\", \"2\", \"3\"]\n",
        "for x in test:\n",
        "    if x == \"2\":\n",
        "        continue\n",
        "    print(x)"
      ],
      "metadata": {
        "id": "u1jBtjCtkKGg",
        "outputId": "986194b8-f49d-4ae2-ba74-47e8ed3ba914",
        "colab": {
          "base_uri": "https://localhost:8080/"
        }
      },
      "execution_count": null,
      "outputs": [
        {
          "output_type": "stream",
          "name": "stdout",
          "text": [
            "1\n",
            "3\n"
          ]
        }
      ]
    },
    {
      "cell_type": "code",
      "source": [
        "for letter in \"python\":\n",
        "    if letter == \"o\":\n",
        "        break\n",
        "    print(letter)"
      ],
      "metadata": {
        "id": "QBrk_mEvlfDy",
        "outputId": "9521cd39-dbf6-46c9-82f7-d045338fd83c",
        "colab": {
          "base_uri": "https://localhost:8080/"
        }
      },
      "execution_count": null,
      "outputs": [
        {
          "output_type": "stream",
          "name": "stdout",
          "text": [
            "p\n",
            "y\n",
            "t\n",
            "h\n"
          ]
        }
      ]
    },
    {
      "cell_type": "code",
      "source": [
        "my_range = range(5)\n",
        "print(my_range)"
      ],
      "metadata": {
        "id": "P8iTYsHVlt3B",
        "outputId": "f4cb5f5a-7163-4166-b2e1-8ee80585a4c3",
        "colab": {
          "base_uri": "https://localhost:8080/"
        }
      },
      "execution_count": null,
      "outputs": [
        {
          "output_type": "stream",
          "name": "stdout",
          "text": [
            "range(0, 5)\n"
          ]
        }
      ]
    },
    {
      "cell_type": "code",
      "source": [
        "for country in \"Germany\",\"India\",\"Israel\":\n",
        "    print(country)"
      ],
      "metadata": {
        "id": "rkyaMTzOnxgX",
        "outputId": "a64a3c67-fcc0-419a-e1aa-b00f8727b0b2",
        "colab": {
          "base_uri": "https://localhost:8080/"
        }
      },
      "execution_count": null,
      "outputs": [
        {
          "output_type": "stream",
          "name": "stdout",
          "text": [
            "Germany\n",
            "India\n",
            "Israel\n"
          ]
        }
      ]
    },
    {
      "cell_type": "code",
      "source": [
        "x = True\n",
        "y = False\n",
        "print('not x is:', not x)"
      ],
      "metadata": {
        "id": "qNwPuuVjoD3j",
        "outputId": "b13944ea-8ecc-4a35-9375-d59f2417a326",
        "colab": {
          "base_uri": "https://localhost:8080/"
        }
      },
      "execution_count": null,
      "outputs": [
        {
          "output_type": "stream",
          "name": "stdout",
          "text": [
            "not x is: False\n"
          ]
        }
      ]
    },
    {
      "cell_type": "code",
      "source": [
        "set_1 = {'c++', 'php', 'java', 'python'}\n",
        "set_2 = set_1\n",
        "set_2.add('sql')\n",
        "print(set_1)\n",
        "print(set_2)"
      ],
      "metadata": {
        "id": "-8GSschnokiO",
        "outputId": "b370e956-dced-408d-ca98-7e2418b3926b",
        "colab": {
          "base_uri": "https://localhost:8080/"
        }
      },
      "execution_count": null,
      "outputs": [
        {
          "output_type": "stream",
          "name": "stdout",
          "text": [
            "{'php', 'python', 'c++', 'sql', 'java'}\n",
            "{'php', 'python', 'c++', 'sql', 'java'}\n"
          ]
        }
      ]
    },
    {
      "cell_type": "code",
      "source": [
        "fruits = ['Apple', 'Orange', 'Banana']\n",
        "fruits.sort(reverse=False)\n",
        "print(fruits)"
      ],
      "metadata": {
        "id": "xo-RB686pivc",
        "outputId": "05a503b2-4596-43f8-af73-22bbfc2b123c",
        "colab": {
          "base_uri": "https://localhost:8080/"
        }
      },
      "execution_count": null,
      "outputs": [
        {
          "output_type": "stream",
          "name": "stdout",
          "text": [
            "['Apple', 'Banana', 'Orange']\n"
          ]
        }
      ]
    },
    {
      "cell_type": "code",
      "source": [
        "a = 200\n",
        "print(id(a))\n",
        "b=a\n",
        "print(id(b))"
      ],
      "metadata": {
        "id": "_twrG5IIGuel",
        "outputId": "5679dd38-9306-4e17-b3a2-805255d71155",
        "colab": {
          "base_uri": "https://localhost:8080/"
        }
      },
      "execution_count": null,
      "outputs": [
        {
          "output_type": "stream",
          "name": "stdout",
          "text": [
            "10757224\n",
            "10757224\n"
          ]
        }
      ]
    },
    {
      "cell_type": "code",
      "source": [
        "a=b=c=200\n",
        "a,b,c\n",
        "print(id(a), id(b), id(c))"
      ],
      "metadata": {
        "id": "-W17eVQDHNhV",
        "outputId": "083dc6e1-d00e-4962-ec2f-b786a2568929",
        "colab": {
          "base_uri": "https://localhost:8080/"
        }
      },
      "execution_count": null,
      "outputs": [
        {
          "output_type": "stream",
          "name": "stdout",
          "text": [
            "10757224 10757224 10757224\n"
          ]
        }
      ]
    },
    {
      "cell_type": "code",
      "source": [
        "import keyword as kw\n",
        "print(kw.kwlist)"
      ],
      "metadata": {
        "id": "pfdIDKRyINeH",
        "outputId": "43d146f8-c388-4da1-f0dd-e0c3be3aa18f",
        "colab": {
          "base_uri": "https://localhost:8080/"
        }
      },
      "execution_count": null,
      "outputs": [
        {
          "output_type": "stream",
          "name": "stdout",
          "text": [
            "['False', 'None', 'True', 'and', 'as', 'assert', 'async', 'await', 'break', 'class', 'continue', 'def', 'del', 'elif', 'else', 'except', 'finally', 'for', 'from', 'global', 'if', 'import', 'in', 'is', 'lambda', 'nonlocal', 'not', 'or', 'pass', 'raise', 'return', 'try', 'while', 'with', 'yield']\n"
          ]
        }
      ]
    }
  ]
}