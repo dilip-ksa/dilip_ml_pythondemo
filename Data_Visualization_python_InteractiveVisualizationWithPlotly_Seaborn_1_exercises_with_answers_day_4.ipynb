{
  "cells": [
    {
      "cell_type": "markdown",
      "metadata": {
        "id": "view-in-github",
        "colab_type": "text"
      },
      "source": [
        "<a href=\"https://colab.research.google.com/github/dilip-ksa/dilip_ml_pythondemo/blob/main/Data_Visualization_python_InteractiveVisualizationWithPlotly_Seaborn_1_exercises_with_answers_day_4.ipynb\" target=\"_parent\"><img src=\"https://colab.research.google.com/assets/colab-badge.svg\" alt=\"Open In Colab\"/></a>"
      ]
    },
    {
      "cell_type": "markdown",
      "id": "171d2f3c",
      "metadata": {
        "id": "171d2f3c"
      },
      "source": [
        "## INTERACTIVEVISUALIZATIONWITHPLOTLY/1 SEABORN/INTERACTIVEVISUALIZATIONWITHPLOTLY SEABORN 1 EXERCISE ANSWERS ##\n",
        "#### Please refer to module 1 of InteractiveVisualizationWithPlotly - Seaborn for Tasks 1-10\n",
        "#### Task 1\n",
        "##### Load seaborn as sns and matplotlib.pyplot as plt for plotting data.\n",
        "##### Load in the dataset `tips` from the sns repository and save it to the variable tips.\n",
        "#### Result:\n"
      ]
    },
    {
      "cell_type": "code",
      "execution_count": null,
      "id": "29b6a173",
      "metadata": {
        "id": "29b6a173"
      },
      "outputs": [],
      "source": [
        "import seaborn as sns\n",
        "import matplotlib.pyplot as plt\n",
        "tips = sns.load_dataset(\"tips\")\n"
      ]
    },
    {
      "cell_type": "markdown",
      "id": "fd7827df",
      "metadata": {
        "id": "fd7827df"
      },
      "source": [
        "#### Task 2\n",
        "##### View the top 10 rows of `tips`.  \n",
        "#### Result:\n"
      ]
    },
    {
      "cell_type": "code",
      "execution_count": null,
      "id": "d94ad564",
      "metadata": {
        "id": "d94ad564"
      },
      "outputs": [],
      "source": [
        "tips.head(10)\n"
      ]
    },
    {
      "cell_type": "markdown",
      "id": "3edb476a",
      "metadata": {
        "id": "3edb476a"
      },
      "source": [
        "#### Task 3\n",
        "##### Create a histogram of the column `tip`.\n",
        "##### Create a layered histogram of `tip` by `smoker`\n",
        "#### Result:\n"
      ]
    },
    {
      "cell_type": "code",
      "execution_count": null,
      "id": "06776707",
      "metadata": {
        "id": "06776707"
      },
      "outputs": [],
      "source": [
        "sns.histplot(tips, x = \"tip\")\n",
        "sns.histplot(tips, x = \"tip\", hue = \"smoker\")\n"
      ]
    },
    {
      "cell_type": "markdown",
      "id": "977a0c20",
      "metadata": {
        "id": "977a0c20"
      },
      "source": [
        "#### Task 4\n",
        "##### Create a boxplot of `total_bill`.\n",
        "##### Create a second boxplot of `total_bill` grouped by `day`.\n",
        "#### Result:\n"
      ]
    },
    {
      "cell_type": "code",
      "execution_count": null,
      "id": "215bc538",
      "metadata": {
        "id": "215bc538"
      },
      "outputs": [],
      "source": [
        "sns.boxplot(data=tips, y = 'total_bill')\n",
        "sns.boxplot(data=tips, x = 'day', y = 'total_bill')\n"
      ]
    },
    {
      "cell_type": "markdown",
      "id": "2b07a5b1",
      "metadata": {
        "id": "2b07a5b1"
      },
      "source": [
        "#### Task 5\n",
        "##### Create a bar plot of `tips` grouped by `day`.\n",
        "##### Create a second bar plot of `tips` grouped by `day` and `time`.\n",
        "##### Both plots should display the confidence interval based on the standard deviation.\n",
        "#### Result:\n"
      ]
    },
    {
      "cell_type": "code",
      "execution_count": null,
      "id": "7a632b0d",
      "metadata": {
        "id": "7a632b0d"
      },
      "outputs": [],
      "source": [
        "sns.barplot(data=tips,\n",
        "     x = 'day',\n",
        "     y = 'tip',\n",
        "     ci = \"sd\")\n",
        "sns.barplot(data=tips,x='day', y='tip', hue='time', ci='sd')\n"
      ]
    },
    {
      "cell_type": "markdown",
      "id": "76f7de97",
      "metadata": {
        "id": "76f7de97"
      },
      "source": [
        "#### Task 6\n",
        "##### Create a scatterplot of `tips` versus `total_bill`.\n",
        "#### Result:\n"
      ]
    },
    {
      "cell_type": "code",
      "execution_count": null,
      "id": "018296e1",
      "metadata": {
        "id": "018296e1"
      },
      "outputs": [],
      "source": [
        "sns.scatterplot(data = tips,\n",
        "          x = \"tip\",\n",
        "          y = \"total_bill\")\n"
      ]
    },
    {
      "cell_type": "markdown",
      "id": "0bf676e3",
      "metadata": {
        "id": "0bf676e3"
      },
      "source": [
        "#### Task 7\n",
        "##### Create a linear model plot of `tips` versus `total_bill`.\n",
        "#### Result:\n"
      ]
    },
    {
      "cell_type": "code",
      "execution_count": null,
      "id": "99541f7c",
      "metadata": {
        "id": "99541f7c"
      },
      "outputs": [],
      "source": [
        "sns.lmplot(data=tips,\n",
        "          x = \"tip\",\n",
        "          y = \"total_bill\",\n",
        "          fit_reg = True)\n"
      ]
    },
    {
      "cell_type": "markdown",
      "id": "049756b0",
      "metadata": {
        "id": "049756b0"
      },
      "source": [
        "#### Task 8\n",
        "##### Create a residual plot of `tips` versus `total_bill`.\n",
        "##### Does the linear model seem like a good model for this data?\n",
        "#### Result:\n"
      ]
    },
    {
      "cell_type": "code",
      "execution_count": null,
      "id": "b580bb4c",
      "metadata": {
        "id": "b580bb4c"
      },
      "outputs": [],
      "source": [
        "sns.residplot(data = tips,\n",
        "          x = \"tip\",\n",
        "          y = \"total_bill\",\n",
        "          lowess = True,\n",
        "          color = \"b\")\n",
        "\n",
        "# Yes, the dots are pretty scattered around the line at zero. There may be a few outliers.\n"
      ]
    },
    {
      "cell_type": "markdown",
      "id": "50989a4d",
      "metadata": {
        "id": "50989a4d"
      },
      "source": [
        "#### Task 9\n",
        "##### Create a heatmap of `total_bill` by day and time using the below code to make a pivot table.\n"
      ]
    },
    {
      "cell_type": "code",
      "execution_count": null,
      "id": "179c28d7",
      "metadata": {
        "id": "179c28d7"
      },
      "outputs": [],
      "source": [
        "# Compute the mean of 'total_bill' for each 'day' and 'time' group\n",
        "tips2 = tips.groupby(['day', 'time'])['total_bill'].mean().reset_index()\n",
        "# Pivot the DataFrame to get 'day' as rows and 'time' as columns\n",
        "tips2 = tips2.pivot(index='day', columns='time', values='total_bill')\n"
      ]
    },
    {
      "cell_type": "markdown",
      "id": "8b9c275a",
      "metadata": {
        "id": "8b9c275a"
      },
      "source": [
        "##### Use tips2 to create a heatmap.\n",
        "#### Result:\n"
      ]
    },
    {
      "cell_type": "code",
      "execution_count": null,
      "id": "782c97f8",
      "metadata": {
        "id": "782c97f8"
      },
      "outputs": [],
      "source": [
        "sns.heatmap(tips2)\n"
      ]
    },
    {
      "cell_type": "markdown",
      "id": "3d8aa7bf",
      "metadata": {
        "id": "3d8aa7bf"
      },
      "source": [
        "#### Task 10\n",
        "##### Use the code from Task 4 for the second boxplot and change the xlabel to `Days of the Week` and the ylabel to `Total Bill ($)` and the title to `Distributions of restaurant bills over the week`\n",
        "#### Result:\n"
      ]
    },
    {
      "cell_type": "code",
      "execution_count": null,
      "id": "26583d15",
      "metadata": {
        "id": "26583d15"
      },
      "outputs": [],
      "source": [
        "g = sns.boxplot(data=tips,\n",
        "      x = 'day',\n",
        "      y = 'total_bill')\n",
        "\n",
        "g.set(xlabel = 'Days of the Week',\n",
        "          ylabel = 'Total Bill ($)',\n",
        "          title = 'Distributions of restaurant bills over the week')\n"
      ]
    }
  ],
  "metadata": {
    "language": "python",
    "colab": {
      "provenance": [],
      "include_colab_link": true
    }
  },
  "nbformat": 4,
  "nbformat_minor": 5
}