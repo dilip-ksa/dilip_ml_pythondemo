{
  "nbformat": 4,
  "nbformat_minor": 0,
  "metadata": {
    "colab": {
      "provenance": [],
      "name": "Day25_ML_journey_Panda1.ipynb",
      "include_colab_link": true
    },
    "kernelspec": {
      "name": "python3",
      "display_name": "Python 3"
    },
    "language_info": {
      "name": "python"
    }
  },
  "cells": [
    {
      "cell_type": "markdown",
      "metadata": {
        "id": "view-in-github",
        "colab_type": "text"
      },
      "source": [
        "<a href=\"https://colab.research.google.com/github/dilip-ksa/dilip_ml_pythondemo/blob/main/Day25_ML_journey_Panda1.ipynb\" target=\"_parent\"><img src=\"https://colab.research.google.com/assets/colab-badge.svg\" alt=\"Open In Colab\"/></a>"
      ]
    },
    {
      "cell_type": "code",
      "execution_count": null,
      "metadata": {
        "colab": {
          "base_uri": "https://localhost:8080/"
        },
        "id": "HpmbKqI7jltH",
        "outputId": "065c652b-c9b6-4181-f779-8ffc76d7021e"
      },
      "outputs": [
        {
          "output_type": "stream",
          "name": "stdout",
          "text": [
            "<class 'numpy.ndarray'>\n",
            "[10 20 30 40]\n"
          ]
        }
      ],
      "source": [
        "import numpy as np\n",
        "\n",
        "arr = np.array([10,20,30,40]) # array element separated by space\n",
        "print(type(arr))\n",
        "print(arr)"
      ]
    },
    {
      "cell_type": "code",
      "source": [
        "lst = [10,20,30,40]\n",
        "print(type(lst))\n",
        "print(lst)"
      ],
      "metadata": {
        "colab": {
          "base_uri": "https://localhost:8080/"
        },
        "id": "MqNJY0KN3IPP",
        "outputId": "917e2869-f6fd-42bd-fe75-f51bc0f4e52a"
      },
      "execution_count": null,
      "outputs": [
        {
          "output_type": "stream",
          "name": "stdout",
          "text": [
            "<class 'list'>\n",
            "[10, 20, 30, 40]\n"
          ]
        }
      ]
    },
    {
      "cell_type": "code",
      "source": [
        "arr = np.array([10,20,30,40, 'DEL']) # array element separated by space\n",
        "print(type(arr))\n",
        "print(arr)"
      ],
      "metadata": {
        "colab": {
          "base_uri": "https://localhost:8080/"
        },
        "id": "8TPAzUpq3ITb",
        "outputId": "4ef3232c-4a5e-4f4a-c134-032bab5e82fb"
      },
      "execution_count": null,
      "outputs": [
        {
          "output_type": "stream",
          "name": "stdout",
          "text": [
            "<class 'numpy.ndarray'>\n",
            "['10' '20' '30' '40' 'DEL']\n"
          ]
        }
      ]
    },
    {
      "cell_type": "code",
      "source": [
        "#Arithmatic operation on array\n",
        "a1 = np.array([10,20,30,40]) # array element separated by space\n",
        "\n",
        "print(a1)\n",
        "a2 = a1 * 2\n",
        "print(a2)\n",
        "\n",
        "a3 = a2 / 4\n",
        "print(a3)\n",
        "\n",
        "a4 = a3 + 10.5\n",
        "print(a4)"
      ],
      "metadata": {
        "colab": {
          "base_uri": "https://localhost:8080/"
        },
        "id": "T0Wk0arZ3IWZ",
        "outputId": "5c8ac821-b1ed-4b20-9314-027dddc40cec"
      },
      "execution_count": null,
      "outputs": [
        {
          "output_type": "stream",
          "name": "stdout",
          "text": [
            "[10 20 30 40]\n",
            "[20 40 60 80]\n",
            "[ 5. 10. 15. 20.]\n",
            "[15.5 20.5 25.5 30.5]\n"
          ]
        }
      ]
    },
    {
      "cell_type": "code",
      "source": [
        "#Arithmatic operation on list\n",
        "lst = [10,20,30,40]\n",
        "print(lst)\n",
        "lst2 = lst * 2\n",
        "print(lst2)\n",
        "lst3 = lst / 2\n",
        "print(lst3)"
      ],
      "metadata": {
        "colab": {
          "base_uri": "https://localhost:8080/",
          "height": 228
        },
        "id": "anb237Kr3IZL",
        "outputId": "a50a1403-4090-44c6-bd01-045ddffd5f69"
      },
      "execution_count": null,
      "outputs": [
        {
          "output_type": "stream",
          "name": "stdout",
          "text": [
            "[10, 20, 30, 40]\n",
            "[10, 20, 30, 40, 10, 20, 30, 40]\n"
          ]
        },
        {
          "output_type": "error",
          "ename": "TypeError",
          "evalue": "unsupported operand type(s) for -: 'list' and 'int'",
          "traceback": [
            "\u001b[0;31m---------------------------------------------------------------------------\u001b[0m",
            "\u001b[0;31mTypeError\u001b[0m                                 Traceback (most recent call last)",
            "\u001b[0;32m/tmp/ipython-input-12-1140210740.py\u001b[0m in \u001b[0;36m<cell line: 0>\u001b[0;34m()\u001b[0m\n\u001b[1;32m      3\u001b[0m \u001b[0mlst2\u001b[0m \u001b[0;34m=\u001b[0m \u001b[0mlst\u001b[0m \u001b[0;34m*\u001b[0m \u001b[0;36m2\u001b[0m\u001b[0;34m\u001b[0m\u001b[0;34m\u001b[0m\u001b[0m\n\u001b[1;32m      4\u001b[0m \u001b[0mprint\u001b[0m\u001b[0;34m(\u001b[0m\u001b[0mlst2\u001b[0m\u001b[0;34m)\u001b[0m\u001b[0;34m\u001b[0m\u001b[0;34m\u001b[0m\u001b[0m\n\u001b[0;32m----> 5\u001b[0;31m \u001b[0mlst3\u001b[0m \u001b[0;34m=\u001b[0m \u001b[0mlst\u001b[0m \u001b[0;34m-\u001b[0m \u001b[0;36m2\u001b[0m\u001b[0;34m\u001b[0m\u001b[0;34m\u001b[0m\u001b[0m\n\u001b[0m\u001b[1;32m      6\u001b[0m \u001b[0mprint\u001b[0m\u001b[0;34m(\u001b[0m\u001b[0mlst3\u001b[0m\u001b[0;34m)\u001b[0m\u001b[0;34m\u001b[0m\u001b[0;34m\u001b[0m\u001b[0m\n",
            "\u001b[0;31mTypeError\u001b[0m: unsupported operand type(s) for -: 'list' and 'int'"
          ]
        }
      ]
    },
    {
      "cell_type": "code",
      "source": [
        "#Memory usage numpy array and list\n",
        "import sys\n",
        "lst = [10,20,30,40,50,60]\n",
        "print(sys.getsizeof(lst))\n",
        "\n",
        "ar = np.array([10,20,30,40,50,60])\n",
        "print(sys.getsizeof(ar))\n",
        "print(ar.itemsize)\n",
        "print(ar.nbytes)"
      ],
      "metadata": {
        "colab": {
          "base_uri": "https://localhost:8080/"
        },
        "id": "U9QjYJFx3IcZ",
        "outputId": "d8fef62f-a20e-4083-c455-d7fec93c7bac"
      },
      "execution_count": null,
      "outputs": [
        {
          "output_type": "stream",
          "name": "stdout",
          "text": [
            "104\n",
            "160\n",
            "8\n",
            "48\n"
          ]
        }
      ]
    },
    {
      "cell_type": "code",
      "source": [
        "# creating n dimentional array in numpy\n",
        "ar1 = np.array([10,20,30,40])\n",
        "print(ar1)\n",
        "print(ar1.ndim)\n",
        "print(ar1.shape)\n",
        "print()\n",
        "ar2 = np.array([[10,20,30,40],[50,60,70,80]])\n",
        "print(ar2)\n",
        "print(ar2.ndim)\n",
        "print(ar2.shape)\n",
        "\n",
        "print()\n",
        "# zero dim array\n",
        "ar3 = np.array(10)\n",
        "print(ar3)\n",
        "print(ar3.ndim)\n",
        "print(ar3.shape)\n",
        "\n",
        "print()\n",
        "ar2 = np.array([[10,20,30,40]])\n",
        "print(ar2)\n",
        "print(ar2.ndim)\n",
        "print(ar2.shape)\n",
        "\n",
        "print()\n",
        "ar2 = np.array([[[10,20,30,40]]])\n",
        "print(ar2)\n",
        "print(ar2.ndim)\n",
        "print(ar2.shape)"
      ],
      "metadata": {
        "colab": {
          "base_uri": "https://localhost:8080/"
        },
        "id": "DxnOgtwM5oEH",
        "outputId": "b0643b20-850e-41e9-fee1-09f9d5206860"
      },
      "execution_count": null,
      "outputs": [
        {
          "output_type": "stream",
          "name": "stdout",
          "text": [
            "[10 20 30 40]\n",
            "1\n",
            "(4,)\n",
            "\n",
            "[[10 20 30 40]\n",
            " [50 60 70 80]]\n",
            "2\n",
            "(2, 4)\n",
            "\n",
            "10\n",
            "0\n",
            "()\n",
            "\n",
            "[[10 20 30 40]]\n",
            "2\n",
            "(1, 4)\n",
            "\n",
            "[[[10 20 30 40]]]\n",
            "3\n",
            "(1, 1, 4)\n"
          ]
        }
      ]
    },
    {
      "cell_type": "code",
      "source": [
        "# N dimentional\n",
        "n = int(input(\"Enter dimention: \"))\n",
        "ar = np.array([10,20,30,40], ndmin=n)\n",
        "print(ar)\n",
        "print(ar.ndim)\n",
        "print(ar.shape)"
      ],
      "metadata": {
        "colab": {
          "base_uri": "https://localhost:8080/"
        },
        "id": "A4UIUDRh5oHf",
        "outputId": "d4bb1e32-43dc-4b67-dd1b-85aa2ff02cec"
      },
      "execution_count": null,
      "outputs": [
        {
          "output_type": "stream",
          "name": "stdout",
          "text": [
            "Enter dimention: 11\n",
            "[[[[[[[[[[[10 20 30 40]]]]]]]]]]]\n",
            "11\n",
            "(1, 1, 1, 1, 1, 1, 1, 1, 1, 1, 4)\n"
          ]
        }
      ]
    },
    {
      "cell_type": "code",
      "source": [
        "# properties of numpy array\n",
        "ar = np.array([[10,20,30,40],[50,60,70,80]])\n",
        "print(\"Array:\",ar)\n",
        "print(\"Dimention:\",ar.ndim)\n",
        "print(\"Shape:\",ar.shape)\n",
        "print(\"Size:\",ar.size)\n",
        "print(\"itemsize:\",ar.itemsize)\n",
        "print(\"MIN:\",ar.min())\n",
        "print(\"MAX:\",ar.max())\n",
        "print(\"SUM:\",ar.sum())\n",
        "print(\"NBYTES:\",ar.nbytes)\n",
        "print(\"ar.sum(axis=0):\",ar.sum(axis=0))\n",
        "print(\"ar.sum(axis=1):\",ar.sum(axis=1))\n",
        "print(\"SUM:\",ar.mean())\n",
        "print(\"SUM:\",ar.std())\n",
        "print(\"VAR:\",ar.var())\n",
        "print(\"argmin:\",ar.argmin())\n",
        "print(\"argmax:\",ar.argmax())\n"
      ],
      "metadata": {
        "colab": {
          "base_uri": "https://localhost:8080/"
        },
        "id": "lJnuKZd15oKg",
        "outputId": "7bf7cd7d-a856-4fac-bf0c-c42e8f38b349"
      },
      "execution_count": null,
      "outputs": [
        {
          "output_type": "stream",
          "name": "stdout",
          "text": [
            "Array: [[10 20 30 40]\n",
            " [50 60 70 80]]\n",
            "Dimention: 2\n",
            "Shape: (2, 4)\n",
            "Size: 8\n",
            "itemsize: 8\n",
            "MIN: 10\n",
            "MAX: 80\n",
            "SUM: 360\n",
            "NBYTES: 64\n",
            "ar.sum(axis=0): [ 60  80 100 120]\n",
            "ar.sum(axis=1): [100 260]\n",
            "SUM: 45.0\n",
            "SUM: 22.9128784747792\n",
            "VAR: 525.0\n",
            "argmin: 0\n",
            "argmax: 7\n"
          ]
        }
      ]
    },
    {
      "cell_type": "code",
      "source": [
        "# create a nd array\n",
        "ar = np.zeros(4)\n",
        "print(ar)\n",
        "print(ar.ndim)\n",
        "print(ar.shape)\n",
        "print(ar.dtype)"
      ],
      "metadata": {
        "colab": {
          "base_uri": "https://localhost:8080/"
        },
        "id": "NgnNzq9p5oNm",
        "outputId": "753e4664-e66e-4c36-824a-1728fb04691e"
      },
      "execution_count": null,
      "outputs": [
        {
          "output_type": "stream",
          "name": "stdout",
          "text": [
            "[0. 0. 0. 0.]\n",
            "1\n",
            "(4,)\n",
            "float64\n"
          ]
        }
      ]
    },
    {
      "cell_type": "code",
      "source": [
        "# create a nd array\n",
        "ar = np.zeros((4,3), dtype=\"int\")\n",
        "print(ar)\n",
        "print(ar.ndim)\n",
        "print(ar.shape)\n",
        "print(ar.dtype)"
      ],
      "metadata": {
        "colab": {
          "base_uri": "https://localhost:8080/"
        },
        "id": "cSMVw7kO_lcb",
        "outputId": "76fab678-90be-4189-8016-dff886ab598b"
      },
      "execution_count": null,
      "outputs": [
        {
          "output_type": "stream",
          "name": "stdout",
          "text": [
            "[[0 0 0]\n",
            " [0 0 0]\n",
            " [0 0 0]\n",
            " [0 0 0]]\n",
            "2\n",
            "(4, 3)\n",
            "int64\n"
          ]
        }
      ]
    },
    {
      "cell_type": "code",
      "source": [
        "# create a nd array\n",
        "ar = np.ones((4,3), dtype=\"int\") * 2\n",
        "print(ar)\n",
        "print(ar.ndim)\n",
        "print(ar.shape)\n",
        "print(ar.dtype)\n",
        "print(ar * 7)"
      ],
      "metadata": {
        "colab": {
          "base_uri": "https://localhost:8080/"
        },
        "id": "Zn3KMNsc_lfu",
        "outputId": "bfe3ce25-751c-42e3-f495-7604939d8148"
      },
      "execution_count": null,
      "outputs": [
        {
          "output_type": "stream",
          "name": "stdout",
          "text": [
            "[[2 2 2]\n",
            " [2 2 2]\n",
            " [2 2 2]\n",
            " [2 2 2]]\n",
            "2\n",
            "(4, 3)\n",
            "int64\n",
            "[[14 14 14]\n",
            " [14 14 14]\n",
            " [14 14 14]\n",
            " [14 14 14]]\n"
          ]
        }
      ]
    },
    {
      "cell_type": "code",
      "source": [
        "#array with range\n",
        "arr = np.arange(0,20,2, dtype='float')\n",
        "print(arr)\n",
        "print(arr.ndim)\n",
        "print(arr.shape)\n",
        "print(arr.dtype)"
      ],
      "metadata": {
        "colab": {
          "base_uri": "https://localhost:8080/"
        },
        "id": "u4k4P-yD_ljE",
        "outputId": "3c2842af-8851-4e12-9d4d-214f66c4ab55"
      },
      "execution_count": null,
      "outputs": [
        {
          "output_type": "stream",
          "name": "stdout",
          "text": [
            "[ 0.  2.  4.  6.  8. 10. 12. 14. 16. 18.]\n",
            "1\n",
            "(10,)\n",
            "float64\n"
          ]
        }
      ]
    },
    {
      "cell_type": "code",
      "source": [
        "#linspace in numpy\n",
        "arr = np.linspace(1,10,5, dtype='float')\n",
        "print(arr)\n",
        "print(arr.ndim)\n",
        "print(arr.shape)\n",
        "print(arr.dtype)\n",
        "nd_array = arr.reshape(5, 1)\n",
        "print(nd_array)\n",
        "print(nd_array.ndim)\n",
        "print(nd_array.shape)\n",
        "print(nd_array.dtype)"
      ],
      "metadata": {
        "colab": {
          "base_uri": "https://localhost:8080/"
        },
        "id": "ou-WLi1t_ll9",
        "outputId": "62ff329c-3a9d-46cd-81ff-adf8943628eb"
      },
      "execution_count": null,
      "outputs": [
        {
          "output_type": "stream",
          "name": "stdout",
          "text": [
            "[ 1.    3.25  5.5   7.75 10.  ]\n",
            "1\n",
            "(5,)\n",
            "float64\n",
            "[[ 1.  ]\n",
            " [ 3.25]\n",
            " [ 5.5 ]\n",
            " [ 7.75]\n",
            " [10.  ]]\n",
            "2\n",
            "(5, 1)\n",
            "float64\n"
          ]
        }
      ]
    },
    {
      "cell_type": "code",
      "source": [
        "# numpy matrix\n",
        "ar = np.matrix([[10,20,30,40],[50,60,70,80]])\n",
        "print(ar)\n",
        "print(type(ar))\n",
        "\n",
        "print(ar.ndim)\n",
        "print(ar.shape)\n",
        "print(ar.dtype)"
      ],
      "metadata": {
        "colab": {
          "base_uri": "https://localhost:8080/"
        },
        "id": "Rve6z-6-B9xe",
        "outputId": "eb3e34eb-c80b-484f-b0d9-6b8b92835f31"
      },
      "execution_count": null,
      "outputs": [
        {
          "output_type": "stream",
          "name": "stdout",
          "text": [
            "[[10 20 30 40]\n",
            " [50 60 70 80]]\n",
            "<class 'numpy.matrix'>\n",
            "2\n",
            "(2, 4)\n",
            "int64\n"
          ]
        }
      ]
    },
    {
      "cell_type": "code",
      "source": [
        "# numpy matrix\n",
        "mat = np.matrix([[10,20,30,40],[50,60,70,80]])\n",
        "print(mat)\n",
        "print(type(mat))\n",
        "print(mat.ndim)\n",
        "print(mat.shape)\n",
        "print(mat.dtype)\n",
        "print()\n",
        "trns = mat.transpose()\n",
        "print(trns)\n",
        "print(trns.ndim)\n",
        "print(trns.shape)\n",
        "print(trns.dtype)\n",
        "print()\n",
        "trn = mat.T\n",
        "print(trn)\n",
        "print(trn.ndim)\n",
        "print(trn.shape)\n",
        "print(trn.dtype)"
      ],
      "metadata": {
        "colab": {
          "base_uri": "https://localhost:8080/"
        },
        "id": "QscemhzTB90m",
        "outputId": "59c9b57b-39be-4172-bb7b-e3d34d061f10"
      },
      "execution_count": null,
      "outputs": [
        {
          "output_type": "stream",
          "name": "stdout",
          "text": [
            "[[10 20 30 40]\n",
            " [50 60 70 80]]\n",
            "<class 'numpy.matrix'>\n",
            "2\n",
            "(2, 4)\n",
            "int64\n",
            "\n",
            "[[10 50]\n",
            " [20 60]\n",
            " [30 70]\n",
            " [40 80]]\n",
            "2\n",
            "(4, 2)\n",
            "int64\n",
            "\n",
            "[[10 50]\n",
            " [20 60]\n",
            " [30 70]\n",
            " [40 80]]\n",
            "2\n",
            "(4, 2)\n",
            "int64\n"
          ]
        }
      ]
    },
    {
      "cell_type": "code",
      "source": [
        "# Identity\n",
        "ar = np.identity(3, dtype='int')\n",
        "print(ar)\n",
        "print(ar.ndim)\n",
        "print(ar.shape)\n",
        "print(ar.dtype)"
      ],
      "metadata": {
        "colab": {
          "base_uri": "https://localhost:8080/"
        },
        "id": "4nTlTUa_B932",
        "outputId": "f51864fc-7a0d-4ba8-dfc6-efdcdebe1f8e"
      },
      "execution_count": null,
      "outputs": [
        {
          "output_type": "stream",
          "name": "stdout",
          "text": [
            "[[1 0 0]\n",
            " [0 1 0]\n",
            " [0 0 1]]\n",
            "2\n",
            "(3, 3)\n",
            "int64\n"
          ]
        }
      ]
    },
    {
      "cell_type": "code",
      "source": [
        "#diagonal\n",
        "ar = np.diag([10,20,30,40])\n",
        "print(ar)\n",
        "print(ar.ndim)\n",
        "print(ar.shape)\n",
        "print(ar.dtype)"
      ],
      "metadata": {
        "colab": {
          "base_uri": "https://localhost:8080/"
        },
        "id": "4cuJxbmfB97O",
        "outputId": "a5db3f41-973e-40e2-cb4f-2b8c323c64ff"
      },
      "execution_count": null,
      "outputs": [
        {
          "output_type": "stream",
          "name": "stdout",
          "text": [
            "[[10  0  0  0]\n",
            " [ 0 20  0  0]\n",
            " [ 0  0 30  0]\n",
            " [ 0  0  0 40]]\n",
            "2\n",
            "(4, 4)\n",
            "int64\n"
          ]
        }
      ]
    },
    {
      "cell_type": "code",
      "source": [
        "ar3 = np.random.random(3)\n",
        "print(ar3)\n",
        "\n",
        "ar4 = np.random.randint(1,10, size=5)\n",
        "print(ar4)"
      ],
      "metadata": {
        "id": "m7SNl5jkFoU8",
        "outputId": "84f73dba-99f3-435b-d2ce-efdf451fd636",
        "colab": {
          "base_uri": "https://localhost:8080/"
        }
      },
      "execution_count": null,
      "outputs": [
        {
          "output_type": "stream",
          "name": "stdout",
          "text": [
            "[0.28703332 0.2067439  0.27966773]\n",
            "[7 5 3 7 3]\n"
          ]
        }
      ]
    },
    {
      "cell_type": "code",
      "source": [
        "#random\n",
        "ar = np.random.rand(3,3)\n",
        "print(ar)\n",
        "print(ar.ndim)\n",
        "print(ar.shape)\n",
        "print(ar.dtype)\n",
        "print()\n",
        "\n",
        "ar1 = np.random.randint(1,10, size=(3,3))\n",
        "print(ar1)\n",
        "print(ar1.ndim)\n",
        "print(ar1.shape)\n",
        "print(ar1.dtype)\n",
        "print()\n",
        "\n",
        "ar2 = np.random.randn(3,3)\n",
        "print(ar2)\n",
        "print(ar2.ndim)\n",
        "print(ar2.shape)\n",
        "print(ar2.dtype)\n",
        "print()\n",
        "\n",
        "ar3 = np.random.random((3,3))\n",
        "print(ar3)\n",
        "print(ar3.ndim)\n",
        "print(ar3.shape)\n",
        "print(ar3.dtype)"
      ],
      "metadata": {
        "colab": {
          "base_uri": "https://localhost:8080/"
        },
        "id": "iAKrwAXJB9-E",
        "outputId": "7aabbee4-ddbe-41d2-dc0f-caf505d5d19c"
      },
      "execution_count": null,
      "outputs": [
        {
          "output_type": "stream",
          "name": "stdout",
          "text": [
            "[[0.88107814 0.71124151 0.5053972 ]\n",
            " [0.45762915 0.22746483 0.85976479]\n",
            " [0.20540214 0.22251426 0.95437969]]\n",
            "2\n",
            "(3, 3)\n",
            "float64\n",
            "\n",
            "[[2 7 9]\n",
            " [2 9 1]\n",
            " [7 9 8]]\n",
            "2\n",
            "(3, 3)\n",
            "int64\n",
            "\n",
            "[[-0.84009296 -0.51332179  0.3219589 ]\n",
            " [ 0.79290867  0.7997451   0.40339445]\n",
            " [ 1.04368496  1.55114897 -0.01106741]]\n",
            "2\n",
            "(3, 3)\n",
            "float64\n",
            "\n",
            "[[0.82697306 0.27241839 0.4371694 ]\n",
            " [0.37519819 0.38876221 0.12040544]\n",
            " [0.77643224 0.7458416  0.1984059 ]]\n",
            "2\n",
            "(3, 3)\n",
            "float64\n"
          ]
        }
      ]
    },
    {
      "cell_type": "code",
      "source": [
        "r = np.random.uniform(1, 100, size=5)\n",
        "print(r)\n",
        "print()\n",
        "r = np.random.uniform(1, 100, size=(5,5))\n",
        "print(r)\n",
        "print()\n",
        "r = np.random.uniform(1, 100, size=(5,3))\n",
        "print(r)"
      ],
      "metadata": {
        "colab": {
          "base_uri": "https://localhost:8080/"
        },
        "id": "I1lSvjXqB-BS",
        "outputId": "7c0dbfc3-ad73-45d4-878d-ad7693f18ff2"
      },
      "execution_count": null,
      "outputs": [
        {
          "output_type": "stream",
          "name": "stdout",
          "text": [
            "[58.07319986 85.66714996 14.39814729 81.03328706 42.69135243]\n",
            "\n",
            "[[66.45352377 35.50723923 12.72485265 60.69904432 58.72543854]\n",
            " [45.11983361 93.2461593  40.24704731 39.55130551 18.5619229 ]\n",
            " [78.93975252  4.45536892  3.79533559 14.50305277 12.70833244]\n",
            " [21.56997676 15.78773437 89.30246014 71.44528824 63.2562767 ]\n",
            " [28.01373063 99.13694162 20.77207566  9.22551974 41.78752217]]\n",
            "\n",
            "[[75.11564722 70.21238921 21.38417299]\n",
            " [76.9920677  34.30582018 92.03897586]\n",
            " [86.09128783 16.71131028 98.57396188]\n",
            " [56.15517881 13.34418992 72.58451303]\n",
            " [11.27788728 83.77309013 13.94606844]]\n"
          ]
        }
      ]
    },
    {
      "cell_type": "code",
      "source": [
        "# Random choice\n",
        "k = np.random.choice([10,20,30,40,50,60])\n",
        "print(k)\n",
        "\n",
        "k = np.random.choice([10,20,30,40,50,60], size=3)\n",
        "print(k)\n",
        "\n",
        "k = np.random.choice([10,20,30,40,50,60], size=(3,3))\n",
        "print(k)"
      ],
      "metadata": {
        "id": "RjQbg0hNp_Io",
        "outputId": "99d48e1c-2aa3-4640-dfba-1dd9f1213c8e",
        "colab": {
          "base_uri": "https://localhost:8080/"
        }
      },
      "execution_count": null,
      "outputs": [
        {
          "output_type": "stream",
          "name": "stdout",
          "text": [
            "10\n",
            "[60 40 20]\n",
            "[[50 60 20]\n",
            " [60 50 30]\n",
            " [60 30 50]]\n"
          ]
        }
      ]
    },
    {
      "cell_type": "code",
      "source": [
        "# Random choice - without duplicate, default value True\n",
        "k = np.random.choice([10,20,30,40,50,60, 20, 30,10, 50], size=3, replace=False)\n",
        "print(k)\n",
        "\n",
        "k = np.random.choice([10,20,30,40,50,60, 20, 30,10, 50], size=(3, 3), replace=False)\n",
        "print(k)"
      ],
      "metadata": {
        "id": "Mcw5-M-Cp_MJ",
        "outputId": "b3d30367-6a7e-4ecf-f6a0-bd136bacabf4",
        "colab": {
          "base_uri": "https://localhost:8080/"
        }
      },
      "execution_count": null,
      "outputs": [
        {
          "output_type": "stream",
          "name": "stdout",
          "text": [
            "[50 20 60]\n",
            "[[20 30 30]\n",
            " [50 50 60]\n",
            " [40 10 20]]\n"
          ]
        }
      ]
    },
    {
      "cell_type": "code",
      "source": [
        "# Probability array\n",
        "a = np.array([22,33,55])\n",
        "prob = np.array([.5, .2, .3])\n",
        "k = np.random.choice(a, p=prob, size=10)\n",
        "print(k)\n",
        "\n",
        "k = np.random.choice(a, p=prob, size=(3,3))\n",
        "print(k)"
      ],
      "metadata": {
        "id": "tXwrowfyp_Pn",
        "outputId": "9b51a2d1-0107-41e0-ff52-2014ef7cc52e",
        "colab": {
          "base_uri": "https://localhost:8080/"
        }
      },
      "execution_count": null,
      "outputs": [
        {
          "output_type": "stream",
          "name": "stdout",
          "text": [
            "[22 55 22 22 55 55 22 55 33 33]\n",
            "[[22 55 22]\n",
            " [22 22 22]\n",
            " [33 55 33]]\n"
          ]
        }
      ]
    },
    {
      "cell_type": "code",
      "source": [
        "# choosing random rows\n",
        "arr_2d = np.arange(0,20).reshape(4,5)\n",
        "print(arr_2d)\n",
        "print()\n",
        "rw = arr_2d.shape[0]\n",
        "col = arr_2d.shape[1]\n",
        "print(rw, col)\n",
        "print()\n",
        "row_index = np.random.choice(rw, size=2, replace=False)\n",
        "print(row_index)\n",
        "print()\n",
        "\n",
        "final_res = arr_2d[row_index]\n",
        "print(final_res)\n",
        "\n",
        "print()\n",
        "col_index = np.random.choice(col, size=3, replace=False)\n",
        "print(col_index)\n",
        "print()\n",
        "\n",
        "final_res = arr_2d[:, col_index]\n",
        "print(final_res)\n",
        "\n",
        "print()\n",
        "final_res = arr_2d[-2:, col_index]\n",
        "print(final_res)"
      ],
      "metadata": {
        "id": "stW1srfhp_Sn",
        "outputId": "faa359ee-0cc2-4f96-9e6f-f0ec0e0faae6",
        "colab": {
          "base_uri": "https://localhost:8080/"
        }
      },
      "execution_count": null,
      "outputs": [
        {
          "output_type": "stream",
          "name": "stdout",
          "text": [
            "[[ 0  1  2  3  4]\n",
            " [ 5  6  7  8  9]\n",
            " [10 11 12 13 14]\n",
            " [15 16 17 18 19]]\n",
            "\n",
            "4 5\n",
            "\n",
            "[3 2]\n",
            "\n",
            "[[15 16 17 18 19]\n",
            " [10 11 12 13 14]]\n",
            "\n",
            "[3 1 0]\n",
            "\n",
            "[[ 3  1  0]\n",
            " [ 8  6  5]\n",
            " [13 11 10]\n",
            " [18 16 15]]\n",
            "\n",
            "[[13 11 10]\n",
            " [18 16 15]]\n"
          ]
        }
      ]
    },
    {
      "cell_type": "code",
      "source": [
        "#shuffle the array\n",
        "a = np.arange(10)\n",
        "print(a)\n",
        "b = a.copy()\n",
        "np.random.shuffle(b)\n",
        "print(a)\n",
        "print(b)"
      ],
      "metadata": {
        "id": "v9w54bZJp_Vv",
        "outputId": "1e06dec8-96f8-495d-fe04-a19581d33b52",
        "colab": {
          "base_uri": "https://localhost:8080/"
        }
      },
      "execution_count": null,
      "outputs": [
        {
          "output_type": "stream",
          "name": "stdout",
          "text": [
            "[0 1 2 3 4 5 6 7 8 9]\n",
            "[0 1 2 3 4 5 6 7 8 9]\n",
            "[1 6 5 3 9 2 8 7 4 0]\n"
          ]
        }
      ]
    },
    {
      "cell_type": "code",
      "source": [
        "# shuffle with permutation\n",
        "a = np.arange(10)\n",
        "print(a)\n",
        "b = np.random.permutation(a)\n",
        "print(b)\n",
        "\n",
        "\n",
        "c = np.random.permutation(10)\n",
        "print(c)"
      ],
      "metadata": {
        "id": "xrv1MLYQp_Y4",
        "outputId": "74cc65f9-78cd-42b0-989f-69e668d3b422",
        "colab": {
          "base_uri": "https://localhost:8080/"
        }
      },
      "execution_count": null,
      "outputs": [
        {
          "output_type": "stream",
          "name": "stdout",
          "text": [
            "[0 1 2 3 4 5 6 7 8 9]\n",
            "[9 7 0 2 4 5 1 6 3 8]\n",
            "[2 3 6 4 7 9 5 1 8 0]\n"
          ]
        }
      ]
    },
    {
      "cell_type": "code",
      "source": [
        "# permutation with 2d array, only row are shuffle\n",
        "ar = np.arange(0, 20).reshape(4,5)\n",
        "print(ar)\n",
        "print()\n",
        "b = np.random.permutation(ar)\n",
        "print(b)"
      ],
      "metadata": {
        "id": "3sVcaxnkp_cA",
        "outputId": "f095f06e-3cfd-4c48-d436-7368870a1b31",
        "colab": {
          "base_uri": "https://localhost:8080/"
        }
      },
      "execution_count": null,
      "outputs": [
        {
          "output_type": "stream",
          "name": "stdout",
          "text": [
            "[[ 0  1  2  3  4]\n",
            " [ 5  6  7  8  9]\n",
            " [10 11 12 13 14]\n",
            " [15 16 17 18 19]]\n",
            "\n",
            "[[ 0  1  2  3  4]\n",
            " [15 16 17 18 19]\n",
            " [ 5  6  7  8  9]\n",
            " [10 11 12 13 14]]\n"
          ]
        }
      ]
    },
    {
      "cell_type": "code",
      "source": [
        "# permutation with 2d array, all element are shuffle\n",
        "ar = np.random.permutation(20).reshape(4,5)\n",
        "print(ar)\n",
        "print()"
      ],
      "metadata": {
        "id": "Y7fsd0fEp_fK",
        "outputId": "4fcdb140-a963-4a3d-aad4-2cb5b502da63",
        "colab": {
          "base_uri": "https://localhost:8080/"
        }
      },
      "execution_count": null,
      "outputs": [
        {
          "output_type": "stream",
          "name": "stdout",
          "text": [
            "[[18  3 10 14  9]\n",
            " [12  6  5  1  2]\n",
            " [15 11 13 17 16]\n",
            " [ 0  8  4  7 19]]\n",
            "\n"
          ]
        }
      ]
    },
    {
      "cell_type": "code",
      "source": [
        "ar = np.arange(0, 20).reshape(4,5)\n",
        "print(ar)\n",
        "print()\n",
        "rw_no = ar.shape[0]\n",
        "col_no = ar.shape[1]\n",
        "print(rw_no, col_no)\n",
        "print()\n",
        "shuffled_index = np.random.permutation(rw_no)\n",
        "print(shuffled_index)\n",
        "print()\n",
        "final_res = ar[shuffled_index]\n",
        "print(final_res)"
      ],
      "metadata": {
        "id": "CcG30XLXp_jE",
        "outputId": "cc585afb-aefd-4f6b-81be-9fce436beea8",
        "colab": {
          "base_uri": "https://localhost:8080/"
        }
      },
      "execution_count": null,
      "outputs": [
        {
          "output_type": "stream",
          "name": "stdout",
          "text": [
            "[[ 0  1  2  3  4]\n",
            " [ 5  6  7  8  9]\n",
            " [10 11 12 13 14]\n",
            " [15 16 17 18 19]]\n",
            "\n",
            "4 5\n",
            "\n",
            "[0 3 1 2]\n",
            "\n",
            "[[ 0  1  2  3  4]\n",
            " [15 16 17 18 19]\n",
            " [ 5  6  7  8  9]\n",
            " [10 11 12 13 14]]\n"
          ]
        }
      ]
    },
    {
      "cell_type": "code",
      "source": [
        "# grouping and spliting\n",
        "arr_1d = np.arange(5)\n",
        "print(arr_1d)\n",
        "print()\n",
        "arr_1d_1 = np.arange(5, 10)\n",
        "print(arr_1d_1)\n",
        "print()\n",
        "arr_2d_0 = np.arange(0,18).reshape(3,6)\n",
        "print(arr_2d_0)\n",
        "print()\n",
        "arr_2d_1 = np.arange(18,36).reshape(3,6)\n",
        "print(arr_2d_1)\n",
        "print()"
      ],
      "metadata": {
        "id": "JGKqwteFzFzL",
        "outputId": "65a5a091-2ccd-43fd-bb0a-c28604f62bb8",
        "colab": {
          "base_uri": "https://localhost:8080/"
        }
      },
      "execution_count": null,
      "outputs": [
        {
          "output_type": "stream",
          "name": "stdout",
          "text": [
            "[0 1 2 3 4]\n",
            "\n",
            "[5 6 7 8 9]\n",
            "\n",
            "[[ 0  1  2  3  4  5]\n",
            " [ 6  7  8  9 10 11]\n",
            " [12 13 14 15 16 17]]\n",
            "\n",
            "[[18 19 20 21 22 23]\n",
            " [24 25 26 27 28 29]\n",
            " [30 31 32 33 34 35]]\n",
            "\n"
          ]
        }
      ]
    },
    {
      "cell_type": "code",
      "source": [
        "# cocatenate array - row wise(axis=0)\n",
        "ar = np.concatenate([arr_1d, arr_1d_1])\n",
        "print(ar)\n",
        "print()\n",
        "ar = np.concatenate([arr_2d_0, arr_2d_1])\n",
        "print(ar)\n",
        "print()"
      ],
      "metadata": {
        "id": "dmXq7A9YzF2p",
        "outputId": "be9d35eb-c951-4c7d-80a0-3c5822c28226",
        "colab": {
          "base_uri": "https://localhost:8080/"
        }
      },
      "execution_count": null,
      "outputs": [
        {
          "output_type": "stream",
          "name": "stdout",
          "text": [
            "[0 1 2 3 4 5 6 7 8 9]\n",
            "\n",
            "[[ 0  1  2  3  4  5]\n",
            " [ 6  7  8  9 10 11]\n",
            " [12 13 14 15 16 17]\n",
            " [18 19 20 21 22 23]\n",
            " [24 25 26 27 28 29]\n",
            " [30 31 32 33 34 35]]\n",
            "\n"
          ]
        }
      ]
    },
    {
      "cell_type": "code",
      "source": [
        "# cocatenate array - col wise\n",
        "\n",
        "#ar = np.concatenate([arr_1d, arr_1d_1], axis=1) # error for 1d array\n",
        "#print(ar)\n",
        "print()\n",
        "\n",
        "ar = np.concatenate([arr_2d_0, arr_2d_1], axis=1)\n",
        "print(ar)\n",
        "print()\n"
      ],
      "metadata": {
        "id": "SbRz1chjzF6G",
        "outputId": "3e4cd9b0-9e15-461a-813b-315c680ead46",
        "colab": {
          "base_uri": "https://localhost:8080/"
        }
      },
      "execution_count": null,
      "outputs": [
        {
          "output_type": "stream",
          "name": "stdout",
          "text": [
            "\n",
            "[[ 0  1  2  3  4  5 18 19 20 21 22 23]\n",
            " [ 6  7  8  9 10 11 24 25 26 27 28 29]\n",
            " [12 13 14 15 16 17 30 31 32 33 34 35]]\n",
            "\n"
          ]
        }
      ]
    },
    {
      "cell_type": "code",
      "source": [
        "# numpy stack\n",
        "ar = np.stack([arr_1d, arr_1d_1])\n",
        "print(ar)\n",
        "print()\n",
        "\n",
        "ar = np.stack([arr_1d, arr_1d_1], axis=1)\n",
        "print(ar)\n",
        "print()\n",
        "\n",
        "ar = np.stack([arr_1d_1, arr_1d])\n",
        "print(ar)\n",
        "print()\n"
      ],
      "metadata": {
        "id": "qHvSCvd5p_mb",
        "outputId": "78696fba-044a-4a81-9f28-8bbe585f1df1",
        "colab": {
          "base_uri": "https://localhost:8080/"
        }
      },
      "execution_count": null,
      "outputs": [
        {
          "output_type": "stream",
          "name": "stdout",
          "text": [
            "[[0 1 2 3 4]\n",
            " [5 6 7 8 9]]\n",
            "\n",
            "[[0 5]\n",
            " [1 6]\n",
            " [2 7]\n",
            " [3 8]\n",
            " [4 9]]\n",
            "\n",
            "[[5 6 7 8 9]\n",
            " [0 1 2 3 4]]\n",
            "\n"
          ]
        }
      ]
    },
    {
      "cell_type": "code",
      "source": [
        "#2d array stacking\n",
        "ar = np.stack([arr_2d_0, arr_2d_1])\n",
        "print(ar)\n",
        "print(ar.ndim)\n",
        "print(ar.shape)\n",
        "print()\n",
        "\n",
        "# column stacking\n",
        "ar = np.stack([arr_2d_0, arr_2d_1], axis=1)\n",
        "print(ar)\n",
        "print(ar.ndim)\n",
        "print(ar.shape)\n",
        "print()\n",
        "\n",
        "# column stacking\n",
        "ar = np.stack([arr_2d_0, arr_2d_1], axis=-1)\n",
        "print(ar)\n",
        "print(ar.ndim)\n",
        "print(ar.shape)\n",
        "print()\n",
        "\n",
        "# column stacking\n",
        "ar = np.stack([arr_2d_0, arr_2d_1], axis=-3)\n",
        "print(ar)\n",
        "print(ar.ndim)\n",
        "print(ar.shape)\n",
        "print()"
      ],
      "metadata": {
        "id": "kEuA_91I12xV",
        "outputId": "9f9151ab-3441-4365-e583-0616d798a2bb",
        "colab": {
          "base_uri": "https://localhost:8080/"
        }
      },
      "execution_count": null,
      "outputs": [
        {
          "output_type": "stream",
          "name": "stdout",
          "text": [
            "[[[ 0  1  2  3  4  5]\n",
            "  [ 6  7  8  9 10 11]\n",
            "  [12 13 14 15 16 17]]\n",
            "\n",
            " [[18 19 20 21 22 23]\n",
            "  [24 25 26 27 28 29]\n",
            "  [30 31 32 33 34 35]]]\n",
            "3\n",
            "(2, 3, 6)\n",
            "\n",
            "[[[ 0  1  2  3  4  5]\n",
            "  [18 19 20 21 22 23]]\n",
            "\n",
            " [[ 6  7  8  9 10 11]\n",
            "  [24 25 26 27 28 29]]\n",
            "\n",
            " [[12 13 14 15 16 17]\n",
            "  [30 31 32 33 34 35]]]\n",
            "3\n",
            "(3, 2, 6)\n",
            "\n",
            "[[[ 0 18]\n",
            "  [ 1 19]\n",
            "  [ 2 20]\n",
            "  [ 3 21]\n",
            "  [ 4 22]\n",
            "  [ 5 23]]\n",
            "\n",
            " [[ 6 24]\n",
            "  [ 7 25]\n",
            "  [ 8 26]\n",
            "  [ 9 27]\n",
            "  [10 28]\n",
            "  [11 29]]\n",
            "\n",
            " [[12 30]\n",
            "  [13 31]\n",
            "  [14 32]\n",
            "  [15 33]\n",
            "  [16 34]\n",
            "  [17 35]]]\n",
            "3\n",
            "(3, 6, 2)\n",
            "\n",
            "[[[ 0  1  2  3  4  5]\n",
            "  [ 6  7  8  9 10 11]\n",
            "  [12 13 14 15 16 17]]\n",
            "\n",
            " [[18 19 20 21 22 23]\n",
            "  [24 25 26 27 28 29]\n",
            "  [30 31 32 33 34 35]]]\n",
            "3\n",
            "(2, 3, 6)\n",
            "\n"
          ]
        }
      ]
    },
    {
      "cell_type": "code",
      "source": [
        "# vertical stack\n",
        "ar = np.vstack([arr_2d_0, arr_2d_1])\n",
        "print(ar)\n",
        "print(ar.ndim)\n",
        "print(ar.shape)\n",
        "print()"
      ],
      "metadata": {
        "id": "ne9Jmjms120d",
        "outputId": "a1bc0d51-a40d-403b-cf3a-6deca355abe8",
        "colab": {
          "base_uri": "https://localhost:8080/"
        }
      },
      "execution_count": null,
      "outputs": [
        {
          "output_type": "stream",
          "name": "stdout",
          "text": [
            "[[ 0  1  2  3  4  5]\n",
            " [ 6  7  8  9 10 11]\n",
            " [12 13 14 15 16 17]\n",
            " [18 19 20 21 22 23]\n",
            " [24 25 26 27 28 29]\n",
            " [30 31 32 33 34 35]]\n",
            "2\n",
            "(6, 6)\n",
            "\n"
          ]
        }
      ]
    },
    {
      "cell_type": "code",
      "source": [
        "# horizontal stack\n",
        "ar = np.hstack([arr_2d_0, arr_2d_1])\n",
        "print(ar)\n",
        "print(ar.ndim)\n",
        "print(ar.shape)\n",
        "print()"
      ],
      "metadata": {
        "id": "xO-H63bs1237",
        "outputId": "8f57c191-46ec-4afb-d8b2-18264283ab81",
        "colab": {
          "base_uri": "https://localhost:8080/"
        }
      },
      "execution_count": null,
      "outputs": [
        {
          "output_type": "stream",
          "name": "stdout",
          "text": [
            "[[ 0  1  2  3  4  5 18 19 20 21 22 23]\n",
            " [ 6  7  8  9 10 11 24 25 26 27 28 29]\n",
            " [12 13 14 15 16 17 30 31 32 33 34 35]]\n",
            "2\n",
            "(3, 12)\n",
            "\n"
          ]
        }
      ]
    },
    {
      "cell_type": "code",
      "source": [
        "# spliting array - 1d\n",
        "arr_1d = np.arange(10)\n",
        "print(arr_1d)\n",
        "print()\n",
        "\n",
        "k = np.split(arr_1d, indices_or_sections=2)\n",
        "print(k)\n",
        "print()\n",
        "\n",
        "k = np.split(arr_1d, indices_or_sections=[2, 5, 7])\n",
        "print(k)\n",
        "print()\n"
      ],
      "metadata": {
        "id": "2YlN2ZQE127N",
        "outputId": "d24677fa-1f2d-4d15-d136-ef5e7d49c2b0",
        "colab": {
          "base_uri": "https://localhost:8080/"
        }
      },
      "execution_count": null,
      "outputs": [
        {
          "output_type": "stream",
          "name": "stdout",
          "text": [
            "[0 1 2 3 4 5 6 7 8 9]\n",
            "\n",
            "[array([0, 1, 2, 3, 4]), array([5, 6, 7, 8, 9])]\n",
            "\n",
            "[array([0, 1]), array([2, 3, 4]), array([5, 6]), array([7, 8, 9])]\n",
            "\n"
          ]
        }
      ]
    },
    {
      "cell_type": "code",
      "source": [
        "#split 2d array\n",
        "arr_2d = np.arange(0,18).reshape(3,6)\n",
        "print(arr_2d)\n",
        "print()\n",
        "\n",
        "k = np.split(arr_2d, indices_or_sections=3, axis=0)\n",
        "print(k)\n",
        "print()\n",
        "\n",
        "k = np.split(arr_2d, indices_or_sections=3, axis=1)\n",
        "print(k)\n",
        "print()"
      ],
      "metadata": {
        "id": "SVrdep6t12-N",
        "outputId": "344e116e-0f4b-47b7-ee8a-c9f7998aa63f",
        "colab": {
          "base_uri": "https://localhost:8080/"
        }
      },
      "execution_count": null,
      "outputs": [
        {
          "output_type": "stream",
          "name": "stdout",
          "text": [
            "[[ 0  1  2  3  4  5]\n",
            " [ 6  7  8  9 10 11]\n",
            " [12 13 14 15 16 17]]\n",
            "\n",
            "[array([[0, 1, 2, 3, 4, 5]]), array([[ 6,  7,  8,  9, 10, 11]]), array([[12, 13, 14, 15, 16, 17]])]\n",
            "\n",
            "[array([[ 0,  1],\n",
            "       [ 6,  7],\n",
            "       [12, 13]]), array([[ 2,  3],\n",
            "       [ 8,  9],\n",
            "       [14, 15]]), array([[ 4,  5],\n",
            "       [10, 11],\n",
            "       [16, 17]])]\n",
            "\n"
          ]
        }
      ]
    },
    {
      "cell_type": "code",
      "source": [
        "# expanding"
      ],
      "metadata": {
        "id": "s9bk8Wn013BU"
      },
      "execution_count": null,
      "outputs": []
    },
    {
      "cell_type": "code",
      "source": [
        "# squeeze"
      ],
      "metadata": {
        "id": "S2W5_QMT7QSG"
      },
      "execution_count": null,
      "outputs": []
    },
    {
      "cell_type": "code",
      "source": [
        "# reordering"
      ],
      "metadata": {
        "id": "yWMj0IRH7QVR"
      },
      "execution_count": null,
      "outputs": []
    },
    {
      "cell_type": "code",
      "source": [
        "# flip in 2d array\n",
        "print(arr_2d)\n",
        "print()\n",
        "k = np.flip(arr_2d)\n",
        "print(k)\n",
        "print()\n",
        "k = np.flip(arr_2d, axis=1)\n",
        "print(k)"
      ],
      "metadata": {
        "id": "gWqazEw77QYU",
        "outputId": "b1cc0357-175e-4767-b34c-8dafaf4a98e6",
        "colab": {
          "base_uri": "https://localhost:8080/"
        }
      },
      "execution_count": null,
      "outputs": [
        {
          "output_type": "stream",
          "name": "stdout",
          "text": [
            "[[ 0  1  2  3  4  5]\n",
            " [ 6  7  8  9 10 11]\n",
            " [12 13 14 15 16 17]]\n",
            "\n",
            "[[17 16 15 14 13 12]\n",
            " [11 10  9  8  7  6]\n",
            " [ 5  4  3  2  1  0]]\n",
            "\n",
            "[[ 5  4  3  2  1  0]\n",
            " [11 10  9  8  7  6]\n",
            " [17 16 15 14 13 12]]\n"
          ]
        }
      ]
    },
    {
      "cell_type": "code",
      "source": [
        "# resize\n",
        "print(arr_2d)\n",
        "print()\n",
        "k = np.resize(arr_2d, new_shape=13)\n",
        "print(k)\n",
        "print()\n",
        "k = np.resize(arr_2d, new_shape=(6,3))\n",
        "print(k)\n",
        "print()\n",
        "k = np.resize(arr_2d, (3, 5))\n",
        "print(k)\n",
        "print()\n",
        "k = np.resize(arr_2d, new_shape=(3,5,3))\n",
        "print(k)\n",
        "print()"
      ],
      "metadata": {
        "id": "Y0o4ME9T13EZ",
        "outputId": "1dcfbf08-b0e8-4fb1-86f2-2baa41da6559",
        "colab": {
          "base_uri": "https://localhost:8080/"
        }
      },
      "execution_count": null,
      "outputs": [
        {
          "output_type": "stream",
          "name": "stdout",
          "text": [
            "[[ 0  1  2  3  4  5]\n",
            " [ 6  7  8  9 10 11]\n",
            " [12 13 14 15 16 17]]\n",
            "\n",
            "[ 0  1  2  3  4  5  6  7  8  9 10 11 12]\n",
            "\n",
            "[[ 0  1  2]\n",
            " [ 3  4  5]\n",
            " [ 6  7  8]\n",
            " [ 9 10 11]\n",
            " [12 13 14]\n",
            " [15 16 17]]\n",
            "\n",
            "[[ 0  1  2  3  4]\n",
            " [ 5  6  7  8  9]\n",
            " [10 11 12 13 14]]\n",
            "\n",
            "[[[ 0  1  2]\n",
            "  [ 3  4  5]\n",
            "  [ 6  7  8]\n",
            "  [ 9 10 11]\n",
            "  [12 13 14]]\n",
            "\n",
            " [[15 16 17]\n",
            "  [ 0  1  2]\n",
            "  [ 3  4  5]\n",
            "  [ 6  7  8]\n",
            "  [ 9 10 11]]\n",
            "\n",
            " [[12 13 14]\n",
            "  [15 16 17]\n",
            "  [ 0  1  2]\n",
            "  [ 3  4  5]\n",
            "  [ 6  7  8]]]\n",
            "\n"
          ]
        }
      ]
    },
    {
      "cell_type": "code",
      "source": [],
      "metadata": {
        "id": "kNrqNVjE8Y7i"
      },
      "execution_count": null,
      "outputs": []
    },
    {
      "cell_type": "code",
      "source": [],
      "metadata": {
        "id": "77jv7w1w8Y-s"
      },
      "execution_count": null,
      "outputs": []
    },
    {
      "cell_type": "code",
      "source": [],
      "metadata": {
        "id": "pjR0Vyz-8ZBj"
      },
      "execution_count": null,
      "outputs": []
    },
    {
      "cell_type": "code",
      "source": [],
      "metadata": {
        "id": "TMlzRO6g8ZE_"
      },
      "execution_count": null,
      "outputs": []
    },
    {
      "cell_type": "code",
      "source": [],
      "metadata": {
        "id": "J8MjZsru8ZIE"
      },
      "execution_count": null,
      "outputs": []
    }
  ]
}
