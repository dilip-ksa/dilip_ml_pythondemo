{
  "nbformat": 4,
  "nbformat_minor": 0,
  "metadata": {
    "colab": {
      "provenance": [],
      "name": "Day23_ML_Journey_PCEP_Prep.ipynb",
      "authorship_tag": "ABX9TyPXh14O8e9FZ2cCtNBad9Jn",
      "include_colab_link": true
    },
    "kernelspec": {
      "name": "python3",
      "display_name": "Python 3"
    },
    "language_info": {
      "name": "python"
    }
  },
  "cells": [
    {
      "cell_type": "markdown",
      "metadata": {
        "id": "view-in-github",
        "colab_type": "text"
      },
      "source": [
        "<a href=\"https://colab.research.google.com/github/dilip-ksa/dilip_ml_pythondemo/blob/main/Day23_ML_Journey_PCEP_Prep.ipynb\" target=\"_parent\"><img src=\"https://colab.research.google.com/assets/colab-badge.svg\" alt=\"Open In Colab\"/></a>"
      ]
    },
    {
      "cell_type": "code",
      "source": [
        "###  Operator overloading - with string\n",
        "#s1 = 10 # not supported\n",
        "s1 = 'Hello'\n",
        "s2 = 'World'\n",
        "print(s1+s2)\n",
        "print(s1.__add__(s2))\n",
        "print(str.__add__(s1,s2))\n",
        "print(dir(str))"
      ],
      "metadata": {
        "id": "_VAAMPLIGdpk",
        "colab": {
          "base_uri": "https://localhost:8080/"
        },
        "outputId": "bafacd10-0a5c-4a74-b2e0-c0e808a200e4"
      },
      "execution_count": null,
      "outputs": [
        {
          "output_type": "stream",
          "name": "stdout",
          "text": [
            "HelloWorld\n",
            "HelloWorld\n",
            "HelloWorld\n",
            "['__add__', '__class__', '__contains__', '__delattr__', '__dir__', '__doc__', '__eq__', '__format__', '__ge__', '__getattribute__', '__getitem__', '__getnewargs__', '__getstate__', '__gt__', '__hash__', '__init__', '__init_subclass__', '__iter__', '__le__', '__len__', '__lt__', '__mod__', '__mul__', '__ne__', '__new__', '__reduce__', '__reduce_ex__', '__repr__', '__rmod__', '__rmul__', '__setattr__', '__sizeof__', '__str__', '__subclasshook__', 'capitalize', 'casefold', 'center', 'count', 'encode', 'endswith', 'expandtabs', 'find', 'format', 'format_map', 'index', 'isalnum', 'isalpha', 'isascii', 'isdecimal', 'isdigit', 'isidentifier', 'islower', 'isnumeric', 'isprintable', 'isspace', 'istitle', 'isupper', 'join', 'ljust', 'lower', 'lstrip', 'maketrans', 'partition', 'removeprefix', 'removesuffix', 'replace', 'rfind', 'rindex', 'rjust', 'rpartition', 'rsplit', 'rstrip', 'split', 'splitlines', 'startswith', 'strip', 'swapcase', 'title', 'translate', 'upper', 'zfill']\n"
          ]
        }
      ]
    },
    {
      "cell_type": "code",
      "source": [
        "## add in 2 student object\n",
        "class Student:\n",
        "  def __init__(self, name, marks):\n",
        "    self.name = name\n",
        "    self.marks = marks\n",
        "  def __add__(self, other):\n",
        "    print(self.name, other.name)\n",
        "    return self.marks + other.marks\n",
        "\n",
        "\n",
        "s1 = Student('Tom', 100)\n",
        "s2 = Student('Harry', 200)\n",
        "print(s1+s2)"
      ],
      "metadata": {
        "id": "vTz4SmEtGdsw",
        "colab": {
          "base_uri": "https://localhost:8080/"
        },
        "outputId": "9658ffd3-a3d8-43fb-c485-dc06ff0d8a7c"
      },
      "execution_count": null,
      "outputs": [
        {
          "output_type": "stream",
          "name": "stdout",
          "text": [
            "Tom Harry\n",
            "300\n"
          ]
        }
      ]
    },
    {
      "cell_type": "code",
      "source": [
        "class Hotel:\n",
        "  def __init__(self, name, price):\n",
        "    self.name = name\n",
        "    self.price = price\n",
        "  def __gt__(self, other):\n",
        "    return self.price > other.price\n",
        "\n",
        "h1 = Hotel('Mariot', 10000)\n",
        "h2 = Hotel('Taj', 20000)\n",
        "print(h1>h2)\n",
        "\n",
        "h1.price = 30000\n",
        "print(h1>h2)"
      ],
      "metadata": {
        "colab": {
          "base_uri": "https://localhost:8080/"
        },
        "id": "bgbRET6uhhnb",
        "outputId": "9c961ee3-5272-43a2-c8ec-fdcb80c15b11"
      },
      "execution_count": null,
      "outputs": [
        {
          "output_type": "stream",
          "name": "stdout",
          "text": [
            "False\n",
            "True\n"
          ]
        }
      ]
    },
    {
      "cell_type": "code",
      "source": [
        "# Method overloading\n",
        "class Addition:\n",
        "  def add(self, a, b, c): # This is not executed\n",
        "    print(a+b+c)\n",
        "  def add(self, a, b): # always executes this method\n",
        "    print(a+b)\n",
        "\n",
        "a1 = Addition()\n",
        "a1.add(10,20)\n",
        "a1.add(10,20,30)"
      ],
      "metadata": {
        "colab": {
          "base_uri": "https://localhost:8080/",
          "height": 193
        },
        "id": "KHJE809Phhq6",
        "outputId": "bf0ff336-b98d-4f98-ff75-54d254b2b370"
      },
      "execution_count": null,
      "outputs": [
        {
          "output_type": "stream",
          "name": "stdout",
          "text": [
            "30\n"
          ]
        },
        {
          "output_type": "error",
          "ename": "TypeError",
          "evalue": "Addition.add() takes 3 positional arguments but 4 were given",
          "traceback": [
            "\u001b[0;31m---------------------------------------------------------------------------\u001b[0m",
            "\u001b[0;31mTypeError\u001b[0m                                 Traceback (most recent call last)",
            "\u001b[0;32m<ipython-input-26-54e99288d49f>\u001b[0m in \u001b[0;36m<cell line: 0>\u001b[0;34m()\u001b[0m\n\u001b[1;32m      8\u001b[0m \u001b[0ma1\u001b[0m \u001b[0;34m=\u001b[0m \u001b[0mAddition\u001b[0m\u001b[0;34m(\u001b[0m\u001b[0;34m)\u001b[0m\u001b[0;34m\u001b[0m\u001b[0;34m\u001b[0m\u001b[0m\n\u001b[1;32m      9\u001b[0m \u001b[0ma1\u001b[0m\u001b[0;34m.\u001b[0m\u001b[0madd\u001b[0m\u001b[0;34m(\u001b[0m\u001b[0;36m10\u001b[0m\u001b[0;34m,\u001b[0m\u001b[0;36m20\u001b[0m\u001b[0;34m)\u001b[0m\u001b[0;34m\u001b[0m\u001b[0;34m\u001b[0m\u001b[0m\n\u001b[0;32m---> 10\u001b[0;31m \u001b[0ma1\u001b[0m\u001b[0;34m.\u001b[0m\u001b[0madd\u001b[0m\u001b[0;34m(\u001b[0m\u001b[0;36m10\u001b[0m\u001b[0;34m,\u001b[0m\u001b[0;36m20\u001b[0m\u001b[0;34m,\u001b[0m\u001b[0;36m30\u001b[0m\u001b[0;34m)\u001b[0m\u001b[0;34m\u001b[0m\u001b[0;34m\u001b[0m\u001b[0m\n\u001b[0m",
            "\u001b[0;31mTypeError\u001b[0m: Addition.add() takes 3 positional arguments but 4 were given"
          ]
        }
      ]
    },
    {
      "cell_type": "code",
      "source": [
        "# Method overloading with default\n",
        "class Addition:\n",
        "  def add(self, a=None, b=None, c=None): # This is not executed\n",
        "    if a!=None and b!=None and c!=None:\n",
        "      print(a+b+c)\n",
        "    elif a!=None and b!=None:\n",
        "      print(a+b)\n",
        "    elif a!=None:\n",
        "      print(a)\n",
        "    else:\n",
        "      print('Invalid arguments')\n",
        "\n",
        "\n",
        "a1 = Addition()\n",
        "a1.add(10,20,30)\n",
        "a1.add(10)\n",
        "a1.add(10,20)\n"
      ],
      "metadata": {
        "colab": {
          "base_uri": "https://localhost:8080/"
        },
        "id": "WKZkVgPhhhvB",
        "outputId": "47e745e6-0c99-47a0-9879-ce5dff721963"
      },
      "execution_count": null,
      "outputs": [
        {
          "output_type": "stream",
          "name": "stdout",
          "text": [
            "60\n",
            "10\n",
            "30\n"
          ]
        }
      ]
    },
    {
      "cell_type": "code",
      "source": [
        "#### python destructor\n",
        "class Addition:\n",
        "  def add(self, a, b):\n",
        "    print(a+b)\n",
        "\n",
        "  def __del__(self): # Do not define destructor method\n",
        "    print('Destructor called')\n",
        "\n",
        "\n",
        "a1 = Addition()\n",
        "a1.add(10,20)\n",
        "del a1\n",
        "#a1.add(10,20) # a1 is already deleted in previous line, so a1 is not available at this point\n"
      ],
      "metadata": {
        "colab": {
          "base_uri": "https://localhost:8080/"
        },
        "collapsed": true,
        "id": "-wPWVKs0hhya",
        "outputId": "6c6ec402-bb91-4833-a601-d473ef917f71"
      },
      "execution_count": null,
      "outputs": [
        {
          "output_type": "stream",
          "name": "stdout",
          "text": [
            "30\n",
            "Destructor called\n"
          ]
        }
      ]
    },
    {
      "cell_type": "code",
      "source": [
        "######################  Day 20(29May2025) Exception handling  #######################\n",
        "n1 = 10\n",
        "n2 = 0\n",
        "result = n1/n2\n",
        "print(result)"
      ],
      "metadata": {
        "id": "bpA3eCHDt5L1",
        "colab": {
          "base_uri": "https://localhost:8080/",
          "height": 193
        },
        "outputId": "812d1945-46e3-47f5-a97d-bee9ad899eb8"
      },
      "execution_count": null,
      "outputs": [
        {
          "output_type": "error",
          "ename": "ZeroDivisionError",
          "evalue": "division by zero",
          "traceback": [
            "\u001b[0;31m---------------------------------------------------------------------------\u001b[0m",
            "\u001b[0;31mZeroDivisionError\u001b[0m                         Traceback (most recent call last)",
            "\u001b[0;32m<ipython-input-2-cca5d6069b73>\u001b[0m in \u001b[0;36m<cell line: 0>\u001b[0;34m()\u001b[0m\n\u001b[1;32m      2\u001b[0m \u001b[0mn1\u001b[0m \u001b[0;34m=\u001b[0m \u001b[0;36m10\u001b[0m\u001b[0;34m\u001b[0m\u001b[0;34m\u001b[0m\u001b[0m\n\u001b[1;32m      3\u001b[0m \u001b[0mn2\u001b[0m \u001b[0;34m=\u001b[0m \u001b[0;36m0\u001b[0m\u001b[0;34m\u001b[0m\u001b[0;34m\u001b[0m\u001b[0m\n\u001b[0;32m----> 4\u001b[0;31m \u001b[0mresult\u001b[0m \u001b[0;34m=\u001b[0m \u001b[0mn1\u001b[0m\u001b[0;34m/\u001b[0m\u001b[0mn2\u001b[0m\u001b[0;34m\u001b[0m\u001b[0;34m\u001b[0m\u001b[0m\n\u001b[0m\u001b[1;32m      5\u001b[0m \u001b[0mprint\u001b[0m\u001b[0;34m(\u001b[0m\u001b[0mresult\u001b[0m\u001b[0;34m)\u001b[0m\u001b[0;34m\u001b[0m\u001b[0;34m\u001b[0m\u001b[0m\n",
            "\u001b[0;31mZeroDivisionError\u001b[0m: division by zero"
          ]
        }
      ]
    },
    {
      "cell_type": "code",
      "source": [
        "try:\n",
        "  n1 = int(input('Enter first number: '))\n",
        "  n2 = int(input('Enter second number: '))\n",
        "  result = n1/n2\n",
        "  print('No exception occurred, Result is:', result)\n",
        "except (ZeroDivisionError,ValueError) as e:\n",
        "  print('Provide valid input :', e)\n",
        "  print(e.__dict__)\n",
        "  print(e.__dir__)\n",
        "else:\n",
        "  print('No exception occurred, else block executed')\n",
        "finally:\n",
        "  print('Finally block')\n",
        "\n",
        "print('End of program')\n"
      ],
      "metadata": {
        "id": "wIxOYIght5Py",
        "colab": {
          "base_uri": "https://localhost:8080/"
        },
        "outputId": "9774a9fd-89e4-4ac3-9eb9-69150415909d"
      },
      "execution_count": null,
      "outputs": [
        {
          "output_type": "stream",
          "name": "stdout",
          "text": [
            "Enter first number: 10\n",
            "Enter second number: 0\n",
            "Provide valid input : division by zero\n",
            "{}\n",
            "<built-in method __dir__ of ZeroDivisionError object at 0x7b5490981120>\n",
            "Finally block\n",
            "End of program\n"
          ]
        }
      ]
    },
    {
      "cell_type": "code",
      "source": [
        "try:\n",
        "  n1 = int(input('Enter first number: '))\n",
        "  n2 = int(input('Enter second number: '))\n",
        "  result = n1/n2\n",
        "  print('No exception occurred, Result is:', reslt)\n",
        "except (ZeroDivisionError,ValueError):\n",
        "  print('Provide valid input')\n",
        "except Exception as e:\n",
        "  print('Exception occurred:', e)\n",
        "else:\n",
        "  print('No exception occurred, else block executed')\n",
        "finally:\n",
        "  print('Finally block')\n",
        "\n",
        "print('End of program')"
      ],
      "metadata": {
        "id": "8qBTK8O2t5dC",
        "colab": {
          "base_uri": "https://localhost:8080/"
        },
        "outputId": "243354d3-60c9-4f23-ebb2-2351b55fc2a7"
      },
      "execution_count": null,
      "outputs": [
        {
          "output_type": "stream",
          "name": "stdout",
          "text": [
            "Enter first number: 10\n",
            "Enter second number: 2\n",
            "Exception occurred: name 'reslt' is not defined\n",
            "Finally block\n",
            "End of program\n"
          ]
        }
      ]
    },
    {
      "cell_type": "code",
      "source": [
        "try:\n",
        "  n1 = int(input('Enter first number: '))\n",
        "  n2 = int(input('Enter second number: '))\n",
        "  result = n1/n2\n",
        "  print('No exception occurred, Result is:', result)\n",
        "except Exception as e:\n",
        "  print('Exception occurred, provide valid input:', e)\n",
        "  print(e.__getattribute__)\n",
        "  print(e.__dir__)\n",
        "else:\n",
        "  print('No exception occurred, else block executed')\n",
        "finally:\n",
        "  print('Finally block')\n",
        "\n",
        "print('End of program')"
      ],
      "metadata": {
        "id": "z2jgq6fgt5gb",
        "colab": {
          "base_uri": "https://localhost:8080/"
        },
        "outputId": "5bbff23e-07bd-4904-a512-7182a468bbb5"
      },
      "execution_count": null,
      "outputs": [
        {
          "output_type": "stream",
          "name": "stdout",
          "text": [
            "Enter first number: 12\n",
            "Enter second number: we\n",
            "Exception occurred, provide valid input: invalid literal for int() with base 10: 'we'\n",
            "<method-wrapper '__getattribute__' of ValueError object at 0x7b5490981ba0>\n",
            "<built-in method __dir__ of ValueError object at 0x7b5490981ba0>\n",
            "Finally block\n",
            "End of program\n"
          ]
        }
      ]
    },
    {
      "cell_type": "code",
      "source": [
        "# using sys module\n",
        "import sys\n",
        "try:\n",
        "  n1 = int(input('Enter first number: '))\n",
        "  n2 = int(input('Enter second number: '))\n",
        "  result = n1/n2\n",
        "  print('No exception occurred, Result is:', result)\n",
        "except Exception as e:\n",
        "  print('Exception occurred, provide valid input:', e)\n",
        "  print(sys.exc_info() )\n",
        "  print(sys.exc_info()[0] )\n",
        "  print(sys.exc_info()[1] )\n",
        "  print(sys.exc_info()[2] )\n",
        "  print(e.args)\n",
        "  print(e.with_traceback)\n",
        "  print(sys.get_int_max_str_digits)\n",
        "else:\n",
        "  print('No exception occurred, else block executed')\n",
        "finally:\n",
        "  print('Finally block')\n",
        "\n",
        "print('End of program')"
      ],
      "metadata": {
        "colab": {
          "base_uri": "https://localhost:8080/"
        },
        "id": "bUpEWQpnqSPi",
        "outputId": "639568cb-25f9-4eaa-8313-ee89a47f7682"
      },
      "execution_count": null,
      "outputs": [
        {
          "output_type": "stream",
          "name": "stdout",
          "text": [
            "Enter first number: 12\n",
            "Enter second number: 0\n",
            "Exception occurred, provide valid input: division by zero\n",
            "(<class 'ZeroDivisionError'>, ZeroDivisionError('division by zero'), <traceback object at 0x7b5475956d80>)\n",
            "<class 'ZeroDivisionError'>\n",
            "division by zero\n",
            "<traceback object at 0x7b5475956d80>\n",
            "('division by zero',)\n",
            "<built-in method with_traceback of ZeroDivisionError object at 0x7b54909821a0>\n",
            "<built-in function get_int_max_str_digits>\n",
            "Finally block\n",
            "End of program\n"
          ]
        }
      ]
    },
    {
      "cell_type": "code",
      "source": [
        "# raise error/exception manually\n",
        "try:\n",
        "  n1 = int(input('Enter first number: '))\n",
        "  n2 = int(input('Enter second number: '))\n",
        "  if n2 <= 0:\n",
        "    raise ValueError('Second number cannot be zero or -ve')\n",
        "  result = n1/n2\n",
        "  print('No exception occurred, Result is:', result)\n",
        "except ValueError as e:\n",
        "  print('ValueError occurred, provide valid input:', e)\n",
        "  print(e.args)\n",
        "  print(e.with_traceback)\n",
        "except Exception as e:\n",
        "  print('Exception occurred, provide valid input:', e)\n",
        "  print(e.args)\n",
        "else:\n",
        "  print('No exception occurred, else block executed')\n",
        "finally:\n",
        "  print('Finally block')\n",
        "\n",
        "print('End of program')"
      ],
      "metadata": {
        "colab": {
          "base_uri": "https://localhost:8080/"
        },
        "id": "B51OuMduqSTa",
        "outputId": "49669425-61d9-4479-91e8-772aa2e4323a"
      },
      "execution_count": null,
      "outputs": [
        {
          "output_type": "stream",
          "name": "stdout",
          "text": [
            "Enter first number: 10\n",
            "Enter second number: -10\n",
            "ValueError occurred, provide valid input: Second number cannot be zero or -ve\n",
            "('Second number cannot be zero or -ve',)\n",
            "<built-in method with_traceback of ValueError object at 0x7b547579b280>\n",
            "Finally block\n",
            "End of program\n"
          ]
        }
      ]
    },
    {
      "cell_type": "code",
      "source": [
        "#### User defined function\n",
        "class UserDefException(Exception):\n",
        "  def __init__(self, msg):\n",
        "    self.msg = msg\n",
        "\n",
        "try:\n",
        "  n1 = int(input('Enter first number: '))\n",
        "  n2 = int(input('Enter second number: '))\n",
        "  if n2 <= 0:\n",
        "    raise UserDefException('Second number cannot be zero or -ve')\n",
        "  result = n1/n2\n",
        "  print('No exception occurred, Result is:', result)\n",
        "except UserDefException as e:\n",
        "  print('UserDefException occurred, provide valid input:', e)\n",
        "  print(e.args)\n",
        "  print(e.msg)\n",
        "except Exception as e:\n",
        "  print('Exception occurred, provide valid input:', e)\n",
        "  print(e.args)\n",
        "else:\n",
        "  print('No exception occurred, else block executed')\n",
        "finally:\n",
        "  print('Finally block')\n",
        "\n",
        "print('End of program')"
      ],
      "metadata": {
        "colab": {
          "base_uri": "https://localhost:8080/"
        },
        "id": "ZyJutWwKqSWc",
        "outputId": "3a887882-51e2-41a1-a035-9d1365b3967b"
      },
      "execution_count": null,
      "outputs": [
        {
          "output_type": "stream",
          "name": "stdout",
          "text": [
            "Enter first number: 10\n",
            "Enter second number: -1\n",
            "UserDefException occurred, provide valid input: Second number cannot be zero or -ve\n",
            "('Second number cannot be zero or -ve',)\n",
            "Second number cannot be zero or -ve\n",
            "Finally block\n",
            "End of program\n"
          ]
        }
      ]
    },
    {
      "cell_type": "code",
      "source": [
        "class AgeError(Exception):\n",
        "  pass\n",
        "\n",
        "try:\n",
        "  age = int(input('Enter your age: '))\n",
        "  if age < 0:\n",
        "    raise AgeError('Age cannot be less than 0')\n",
        "  print('Age is valid')\n",
        "except AgeError as e:\n",
        "  print('AgeError occurred, provide valid input:', e)\n",
        "\n",
        "print('End of program')"
      ],
      "metadata": {
        "colab": {
          "base_uri": "https://localhost:8080/"
        },
        "id": "-MUldLROqSZf",
        "outputId": "ecb1487e-ca99-4339-aa2a-8a17b986dc6f"
      },
      "execution_count": null,
      "outputs": [
        {
          "output_type": "stream",
          "name": "stdout",
          "text": [
            "Enter your age: 12\n",
            "Age is valid\n",
            "End of program\n"
          ]
        }
      ]
    },
    {
      "cell_type": "code",
      "source": [
        "# ATM project\n",
        "\n",
        "class PinError(Exception):\n",
        "  def __init__(self, msg):\n",
        "    self.msg = msg\n",
        "\n",
        "class WithdrawError(Exception):\n",
        "  def __init__(self, msg):\n",
        "    self.msg = msg\n",
        "\n",
        "class Account:\n",
        "  saved_pin = 1234\n",
        "  invalid_pin_retry = 0\n",
        "  existing_balance = 10000\n",
        "  def check_pin(self, pin):\n",
        "    if pin == self.saved_pin:\n",
        "      return True\n",
        "    else:\n",
        "      self.invalid_pin_retry += 1\n",
        "      if self.invalid_pin_retry == 3:\n",
        "        raise PinError('User entered invalid pin 3 times, account locked')\n",
        "      else:\n",
        "        return False\n",
        "\n",
        "  def withdraw_amount(self, amount):\n",
        "    if amount > self.existing_balance:\n",
        "      raise WithdrawError('Insufficient balance to withdraw')\n",
        "    else:\n",
        "      self.existing_balance -= amount\n",
        "      print('Amount withdrawn successfully')\n",
        "      return self.existing_balance\n",
        "\n",
        "try:\n",
        "  a1 = Account()\n",
        "  while True:\n",
        "    entered_pin = int(input('Enter your pin: '))\n",
        "    is_login_valid = a1.check_pin(entered_pin)\n",
        "    if is_login_valid:\n",
        "      print('Login successful')\n",
        "      a1.withdraw_amount(int(input('Enter amount to withdraw: ')))\n",
        "      print('Remaining balance:', a1.existing_balance)\n",
        "\n",
        "    else:\n",
        "      print('Retry login...')\n",
        "\n",
        "except (PinError, WithdrawError) as e:\n",
        "  print('Exception occurred, provide valid input:', e.msg)\n",
        "except Exception as e:\n",
        "  print('General Exception occurred, check your input:', e)\n",
        "else:\n",
        "  print('No exception occurred, else block executed')\n",
        "finally:\n",
        "  print('Finally block')\n",
        "\n",
        "print('End of program')"
      ],
      "metadata": {
        "colab": {
          "base_uri": "https://localhost:8080/"
        },
        "id": "XcoHLXvkqScq",
        "outputId": "d86e2911-9600-4ddc-eceb-7aa2dde6ebf0"
      },
      "execution_count": null,
      "outputs": [
        {
          "output_type": "stream",
          "name": "stdout",
          "text": [
            "Enter your pin: 1234\n",
            "Login successful\n",
            "Enter amount to withdraw: 2345\n",
            "Amount withdrawn successfully\n",
            "Remaining balance: 7655\n",
            "Enter your pin: 3456\n",
            "Retry login...\n",
            "Enter your pin: 1234\n",
            "Login successful\n",
            "Enter amount to withdraw: 2345\n",
            "Amount withdrawn successfully\n",
            "Remaining balance: 5310\n",
            "Enter your pin: 1234\n",
            "Login successful\n",
            "Enter amount to withdraw: 3456\n",
            "Amount withdrawn successfully\n",
            "Remaining balance: 1854\n",
            "Enter your pin: 1234\n",
            "Login successful\n",
            "Enter amount to withdraw: 3456\n",
            "Exception occurred, provide valid input: Insufficient balance\n",
            "Finally block\n",
            "End of program\n"
          ]
        }
      ]
    },
    {
      "cell_type": "code",
      "source": [
        "############# Modules and packages\n",
        "\n",
        "%cd my_project\n"
      ],
      "metadata": {
        "colab": {
          "base_uri": "https://localhost:8080/"
        },
        "id": "vKyYwMHSxMHW",
        "outputId": "bfd3c369-c668-4afe-bf8b-fe10e0ca2f43"
      },
      "execution_count": null,
      "outputs": [
        {
          "output_type": "stream",
          "name": "stdout",
          "text": [
            "[Errno 2] No such file or directory: 'my_project'\n",
            "/content/my_project\n"
          ]
        }
      ]
    },
    {
      "cell_type": "code",
      "source": [
        "%run main.py"
      ],
      "metadata": {
        "colab": {
          "base_uri": "https://localhost:8080/"
        },
        "id": "CgAWglW3xwqT",
        "outputId": "3c8cf9e0-7077-4e5f-e6b6-9957e7065d9e"
      },
      "execution_count": null,
      "outputs": [
        {
          "output_type": "stream",
          "name": "stdout",
          "text": [
            "Main module\n",
            "246\n",
            "collection opr\n",
            "from coll_func\n",
            "This is test1\n"
          ]
        }
      ]
    },
    {
      "cell_type": "code",
      "source": [
        "# Bank operation\n",
        "class Bank:\n",
        "  bank_name = 'SBI'\n",
        "  branch_name = 'RKL'\n",
        "  def __init__(self, username, pan, address):\n",
        "    self.username = username\n",
        "    self.pan = pan\n",
        "    self.address = address\n",
        "    self.balance = 0\n",
        "    print('>>>Bank account created')\n",
        "\n",
        "  def deposit(self, amount):\n",
        "    self.balance += amount\n",
        "    print('>>>Amount deposited successfully')\n",
        "\n",
        "  def withdraw(self, amount):\n",
        "    if amount > self.balance:\n",
        "      print('>>>Insufficient balance')\n",
        "    else:\n",
        "      self.balance -= amount\n",
        "      print('>>>Amount withdrawn successfully, remaining balance :', self.balance)\n",
        "\n",
        "  def balance_check(self):\n",
        "    print('>>>Balance :', self.balance)\n",
        "\n",
        "username = input('Enter username: ')\n",
        "pan = input('Enter pan number: ')\n",
        "address = input('Enter address: ')\n",
        "b1 = Bank(username, pan, address)\n",
        "\n",
        "while True:\n",
        "  print('1. Deposit')\n",
        "  print('2. Withdraw')\n",
        "  print('3. Balance check')\n",
        "  print('4. Exit')\n",
        "  choice = int(input('Enter your choice: '))\n",
        "  if choice == 1:\n",
        "    amount = int(input('Enter amount to deposit: '))\n",
        "    b1.deposit(amount)\n",
        "  elif choice == 2:\n",
        "    amount = int(input('Enter amount to withdraw: '))\n",
        "    b1.withdraw(amount)\n",
        "  elif choice == 3:\n",
        "    b1.balance_check()\n",
        "  elif choice == 4:\n",
        "    break\n",
        "  else:\n",
        "    print('>>>Invalid choice')\n",
        "\n",
        "print('End of program')"
      ],
      "metadata": {
        "colab": {
          "base_uri": "https://localhost:8080/",
          "height": 367
        },
        "id": "Kz2yngQRxwn2",
        "outputId": "c05f9322-c6cd-4e46-ce62-88892651f1ce"
      },
      "execution_count": null,
      "outputs": [
        {
          "name": "stdout",
          "output_type": "stream",
          "text": [
            "Enter username: sdf\n",
            "Enter pan number: dsf\n",
            "Enter address: sd\n",
            ">>>Bank account created\n",
            "1. Deposit\n",
            "2. Withdraw\n",
            "3. Balance check\n",
            "4. Exit\n",
            "Enter your choice: d\n"
          ]
        },
        {
          "output_type": "error",
          "ename": "ValueError",
          "evalue": "invalid literal for int() with base 10: 'd'",
          "traceback": [
            "\u001b[0;31m---------------------------------------------------------------------------\u001b[0m",
            "\u001b[0;31mValueError\u001b[0m                                Traceback (most recent call last)",
            "\u001b[0;32m/tmp/ipython-input-1-2205844532.py\u001b[0m in \u001b[0;36m<cell line: 0>\u001b[0;34m()\u001b[0m\n\u001b[1;32m     34\u001b[0m   \u001b[0mprint\u001b[0m\u001b[0;34m(\u001b[0m\u001b[0;34m'3. Balance check'\u001b[0m\u001b[0;34m)\u001b[0m\u001b[0;34m\u001b[0m\u001b[0;34m\u001b[0m\u001b[0m\n\u001b[1;32m     35\u001b[0m   \u001b[0mprint\u001b[0m\u001b[0;34m(\u001b[0m\u001b[0;34m'4. Exit'\u001b[0m\u001b[0;34m)\u001b[0m\u001b[0;34m\u001b[0m\u001b[0;34m\u001b[0m\u001b[0m\n\u001b[0;32m---> 36\u001b[0;31m   \u001b[0mchoice\u001b[0m \u001b[0;34m=\u001b[0m \u001b[0mint\u001b[0m\u001b[0;34m(\u001b[0m\u001b[0minput\u001b[0m\u001b[0;34m(\u001b[0m\u001b[0;34m'Enter your choice: '\u001b[0m\u001b[0;34m)\u001b[0m\u001b[0;34m)\u001b[0m\u001b[0;34m\u001b[0m\u001b[0;34m\u001b[0m\u001b[0m\n\u001b[0m\u001b[1;32m     37\u001b[0m   \u001b[0;32mif\u001b[0m \u001b[0mchoice\u001b[0m \u001b[0;34m==\u001b[0m \u001b[0;36m1\u001b[0m\u001b[0;34m:\u001b[0m\u001b[0;34m\u001b[0m\u001b[0;34m\u001b[0m\u001b[0m\n\u001b[1;32m     38\u001b[0m     \u001b[0mamount\u001b[0m \u001b[0;34m=\u001b[0m \u001b[0mint\u001b[0m\u001b[0;34m(\u001b[0m\u001b[0minput\u001b[0m\u001b[0;34m(\u001b[0m\u001b[0;34m'Enter amount to deposit: '\u001b[0m\u001b[0;34m)\u001b[0m\u001b[0;34m)\u001b[0m\u001b[0;34m\u001b[0m\u001b[0;34m\u001b[0m\u001b[0m\n",
            "\u001b[0;31mValueError\u001b[0m: invalid literal for int() with base 10: 'd'"
          ]
        }
      ]
    },
    {
      "cell_type": "code",
      "source": [
        "l1 = [True, False, '0', 12, 23.5]\n",
        "for i in l1:\n",
        "  print(i, end=' ')\n",
        "  if 0 in l1:\n",
        "    print('True...')"
      ],
      "metadata": {
        "id": "yNlkESaFxwkV",
        "outputId": "12e7579b-4f00-4637-d7f4-b0da2c21b74c",
        "colab": {
          "base_uri": "https://localhost:8080/"
        }
      },
      "execution_count": null,
      "outputs": [
        {
          "output_type": "stream",
          "name": "stdout",
          "text": [
            "True True...\n",
            "False True...\n",
            "0 True...\n",
            "12 True...\n",
            "23.5 True...\n"
          ]
        }
      ]
    },
    {
      "cell_type": "code",
      "source": [
        "#################### PACP Prep #########\n",
        "print('Peter\\'s sister\\'s name\\'s \\\"Anna\\\"')\n",
        "print(\"Peter\\'s sister\\'s name\\'s \\\"Anna\\\"\")\n",
        "print('Peter\\'s sister\\'s name\\'s \"Anna\"')"
      ],
      "metadata": {
        "id": "zQNHvvoVxwhS",
        "colab": {
          "base_uri": "https://localhost:8080/"
        },
        "outputId": "a3380c73-944d-461f-a4b2-3f9b2aaf4885"
      },
      "execution_count": null,
      "outputs": [
        {
          "output_type": "stream",
          "name": "stdout",
          "text": [
            "Peter's sister's name's \"Anna\"\n",
            "Peter's sister's name's \"Anna\"\n",
            "Peter's sister's name's \"Anna\"\n"
          ]
        }
      ]
    },
    {
      "cell_type": "code",
      "source": [
        "i = 250\n",
        "while len(str(i)) > 72 :\n",
        "  i *= 2\n",
        "  break;\n",
        "else:\n",
        "  i//= 2\n",
        "print(i)"
      ],
      "metadata": {
        "id": "gYAHhZF0xweP",
        "colab": {
          "base_uri": "https://localhost:8080/"
        },
        "outputId": "2e8dfa3e-d809-4ea9-b967-7cb3cef05cfb"
      },
      "execution_count": null,
      "outputs": [
        {
          "output_type": "stream",
          "name": "stdout",
          "text": [
            "125\n"
          ]
        }
      ]
    },
    {
      "cell_type": "code",
      "source": [
        "n = 0\n",
        "while n < 4:\n",
        "  n += 1\n",
        "  print(n,n, end='* ', sep='-')"
      ],
      "metadata": {
        "id": "rZnvgW8QxwaI",
        "colab": {
          "base_uri": "https://localhost:8080/"
        },
        "outputId": "5e9b5d4c-c36f-4338-cbc8-7267508b8440"
      },
      "execution_count": null,
      "outputs": [
        {
          "output_type": "stream",
          "name": "stdout",
          "text": [
            "1-1* 2-2* 3-3* 4-4* "
          ]
        }
      ]
    },
    {
      "cell_type": "code",
      "source": [
        "v1 = 0\n",
        "v2 = 1\n",
        "v1 = v1 ^ v2\n",
        "v2 = v1 ^ v2\n",
        "v1 = v1 ^ v2\n",
        "print(v1, v2)"
      ],
      "metadata": {
        "id": "ExToxVvixwQZ",
        "colab": {
          "base_uri": "https://localhost:8080/"
        },
        "outputId": "cb40f6b5-7666-4489-c1e7-b09d34b55927"
      },
      "execution_count": null,
      "outputs": [
        {
          "output_type": "stream",
          "name": "stdout",
          "text": [
            "1 0\n"
          ]
        }
      ]
    },
    {
      "cell_type": "code",
      "source": [
        "for i in range(1,4,2):\n",
        "  print(i)"
      ],
      "metadata": {
        "id": "1qvIFt6wysuH",
        "outputId": "1c17be90-6c6a-4653-a583-7e330b825a05",
        "colab": {
          "base_uri": "https://localhost:8080/"
        }
      },
      "execution_count": null,
      "outputs": [
        {
          "output_type": "stream",
          "name": "stdout",
          "text": [
            "1\n",
            "3\n"
          ]
        }
      ]
    },
    {
      "cell_type": "code",
      "source": [
        "x = '23'\n",
        "y= '34'\n",
        "print(x<y)\n",
        "print(x+y)"
      ],
      "metadata": {
        "id": "ADM_V1rLysw6",
        "outputId": "4855aa98-ecd0-435d-9e5a-dfecae359114",
        "colab": {
          "base_uri": "https://localhost:8080/"
        }
      },
      "execution_count": null,
      "outputs": [
        {
          "output_type": "stream",
          "name": "stdout",
          "text": [
            "True\n",
            "2334\n"
          ]
        }
      ]
    },
    {
      "cell_type": "code",
      "source": [
        "s = \"Hello, Python!\"\n",
        "print(s[-14:15])"
      ],
      "metadata": {
        "id": "84GuVpf3ysz9",
        "outputId": "b17d6065-cd5f-4d33-d72c-9fda90a436de",
        "colab": {
          "base_uri": "https://localhost:8080/"
        }
      },
      "execution_count": null,
      "outputs": [
        {
          "output_type": "stream",
          "name": "stdout",
          "text": [
            "Hello, Python!\n"
          ]
        }
      ]
    },
    {
      "cell_type": "code",
      "source": [
        "lst = ['A', 'B', 'C', '2', '4']\n",
        "del lst[0:-2]\n",
        "print(lst)"
      ],
      "metadata": {
        "id": "ubird74Dys3X",
        "outputId": "9819bc39-4e1d-46d2-fc4d-0bdb913e3cec",
        "colab": {
          "base_uri": "https://localhost:8080/"
        }
      },
      "execution_count": null,
      "outputs": [
        {
          "output_type": "stream",
          "name": "stdout",
          "text": [
            "['2', '4']\n"
          ]
        }
      ]
    },
    {
      "cell_type": "code",
      "source": [
        "dict = {'a':1, 'b':2, 'c':3}\n",
        "for i in dict:\n",
        "  print(i, end=' ')\n",
        "print()\n",
        "\n",
        "for k, v in dict.items():\n",
        "  print(k, v)"
      ],
      "metadata": {
        "id": "dR-vCGi0ys58",
        "outputId": "ba3958c0-6218-45e5-b7ae-e5f1e958bc23",
        "colab": {
          "base_uri": "https://localhost:8080/"
        }
      },
      "execution_count": null,
      "outputs": [
        {
          "output_type": "stream",
          "name": "stdout",
          "text": [
            "a b c \n",
            "a 1\n",
            "b 2\n",
            "c 3\n"
          ]
        }
      ]
    },
    {
      "cell_type": "code",
      "source": [
        "lst = [i // i for i in range(1, 4)]\n",
        "print(lst)"
      ],
      "metadata": {
        "id": "w0F0ARtj30sL",
        "outputId": "81606283-f432-4808-b89d-2967c1b55ac5",
        "colab": {
          "base_uri": "https://localhost:8080/"
        }
      },
      "execution_count": null,
      "outputs": [
        {
          "output_type": "stream",
          "name": "stdout",
          "text": [
            "[1, 1, 1]\n"
          ]
        }
      ]
    },
    {
      "cell_type": "code",
      "source": [
        "lst =[[c for c in range(r)] for r in range(3)]\n",
        "print(lst)\n",
        "for i in lst:\n",
        "  for j in i:\n",
        "    print('*', end=' ')\n",
        "  print()"
      ],
      "metadata": {
        "id": "iIBf_rpt30vI",
        "outputId": "b3de8be7-db53-469c-fe85-60d3106634e9",
        "colab": {
          "base_uri": "https://localhost:8080/"
        }
      },
      "execution_count": null,
      "outputs": [
        {
          "output_type": "stream",
          "name": "stdout",
          "text": [
            "[[], [0], [0, 1]]\n",
            "\n",
            "* \n",
            "* * \n"
          ]
        }
      ]
    },
    {
      "cell_type": "code",
      "source": [
        "lst = [2 ** i for i in range(0, 11)]\n",
        "print(lst)"
      ],
      "metadata": {
        "id": "hfKIo-VE30yW",
        "outputId": "1e3177e9-79c4-4a0d-c34c-c4852c58c5de",
        "colab": {
          "base_uri": "https://localhost:8080/"
        }
      },
      "execution_count": null,
      "outputs": [
        {
          "output_type": "stream",
          "name": "stdout",
          "text": [
            "[1, 2, 4, 8, 16, 32, 64, 128, 256, 512, 1024]\n"
          ]
        }
      ]
    },
    {
      "cell_type": "code",
      "source": [
        "lst1 = '12,34'\n",
        "lst2 = lst1.split(',')\n",
        "print(len(lst1) < len(lst2))"
      ],
      "metadata": {
        "id": "szvb6cmR301G",
        "outputId": "22dfe624-7587-4478-c211-29c712250653",
        "colab": {
          "base_uri": "https://localhost:8080/"
        }
      },
      "execution_count": null,
      "outputs": [
        {
          "output_type": "stream",
          "name": "stdout",
          "text": [
            "False\n"
          ]
        }
      ]
    },
    {
      "cell_type": "code",
      "source": [
        "data = ((1, 2),) * 7\n",
        "print((data[3:10]))"
      ],
      "metadata": {
        "id": "p-uYfA96b1Sm",
        "outputId": "338937dd-6da9-48a4-ad40-aa2ff6880ae9",
        "colab": {
          "base_uri": "https://localhost:8080/"
        }
      },
      "execution_count": null,
      "outputs": [
        {
          "output_type": "stream",
          "name": "stdout",
          "text": [
            "((1, 2), (1, 2), (1, 2), (1, 2))\n"
          ]
        }
      ]
    },
    {
      "cell_type": "code",
      "source": [
        "list1 = [0,1,2]\n",
        "list1.insert(0, 1)\n",
        "print(list1)"
      ],
      "metadata": {
        "id": "xKdpTDZbfSM2",
        "outputId": "765de380-034e-4504-83f2-f90a92e0dc2c",
        "colab": {
          "base_uri": "https://localhost:8080/"
        }
      },
      "execution_count": null,
      "outputs": [
        {
          "output_type": "stream",
          "name": "stdout",
          "text": [
            "[1, 0, 1, 2]\n"
          ]
        }
      ]
    },
    {
      "cell_type": "code",
      "source": [
        "data = {'a':1, 'b':2, 'c':3}\n",
        "print(data['a', 'b'])"
      ],
      "metadata": {
        "id": "RHtx6rPdfg-p",
        "outputId": "3e6fd4bf-e1d2-43c7-82db-47141174a7ee",
        "colab": {
          "base_uri": "https://localhost:8080/",
          "height": 159
        }
      },
      "execution_count": null,
      "outputs": [
        {
          "output_type": "error",
          "ename": "KeyError",
          "evalue": "('a', 'b')",
          "traceback": [
            "\u001b[0;31m---------------------------------------------------------------------------\u001b[0m",
            "\u001b[0;31mKeyError\u001b[0m                                  Traceback (most recent call last)",
            "\u001b[0;32m/tmp/ipython-input-8-3459219612.py\u001b[0m in \u001b[0;36m<cell line: 0>\u001b[0;34m()\u001b[0m\n\u001b[1;32m      1\u001b[0m \u001b[0mdata\u001b[0m \u001b[0;34m=\u001b[0m \u001b[0;34m{\u001b[0m\u001b[0;34m'a'\u001b[0m\u001b[0;34m:\u001b[0m\u001b[0;36m1\u001b[0m\u001b[0;34m,\u001b[0m \u001b[0;34m'b'\u001b[0m\u001b[0;34m:\u001b[0m\u001b[0;36m2\u001b[0m\u001b[0;34m,\u001b[0m \u001b[0;34m'c'\u001b[0m\u001b[0;34m:\u001b[0m\u001b[0;36m3\u001b[0m\u001b[0;34m}\u001b[0m\u001b[0;34m\u001b[0m\u001b[0;34m\u001b[0m\u001b[0m\n\u001b[0;32m----> 2\u001b[0;31m \u001b[0mprint\u001b[0m\u001b[0;34m(\u001b[0m\u001b[0mdata\u001b[0m\u001b[0;34m[\u001b[0m\u001b[0;34m'a'\u001b[0m\u001b[0;34m,\u001b[0m \u001b[0;34m'b'\u001b[0m\u001b[0;34m]\u001b[0m\u001b[0;34m)\u001b[0m\u001b[0;34m\u001b[0m\u001b[0;34m\u001b[0m\u001b[0m\n\u001b[0m",
            "\u001b[0;31mKeyError\u001b[0m: ('a', 'b')"
          ]
        }
      ]
    },
    {
      "cell_type": "code",
      "source": [
        "da = (1,) *3\n",
        "print(da)\n",
        "#da[0] = 2 # compile error\n",
        "print(da)"
      ],
      "metadata": {
        "id": "PPr_gUy3jwvH",
        "colab": {
          "base_uri": "https://localhost:8080/"
        },
        "outputId": "662da383-491c-4d98-e082-57c0ee65ae4f"
      },
      "execution_count": null,
      "outputs": [
        {
          "output_type": "stream",
          "name": "stdout",
          "text": [
            "(1, 1, 1)\n",
            "(1, 1, 1)\n"
          ]
        }
      ]
    },
    {
      "cell_type": "code",
      "source": [
        "lst = [7,4,12,15]\n",
        "sl = sorted(lst)\n",
        "print(lst)\n",
        "print(sl)\n",
        "list1 = [7,4,12,15]\n",
        "list1.sort()\n",
        "print(list1)"
      ],
      "metadata": {
        "colab": {
          "base_uri": "https://localhost:8080/"
        },
        "id": "lt4jiLYH5MRv",
        "outputId": "8261ba7c-0dff-4d08-fcf9-673f70d374ee"
      },
      "execution_count": null,
      "outputs": [
        {
          "output_type": "stream",
          "name": "stdout",
          "text": [
            "[7, 4, 12, 15]\n",
            "[4, 7, 12, 15]\n",
            "[4, 7, 12, 15]\n"
          ]
        }
      ]
    },
    {
      "cell_type": "code",
      "source": [
        "print(0.1 + 0.2)"
      ],
      "metadata": {
        "colab": {
          "base_uri": "https://localhost:8080/"
        },
        "id": "sS1fu7R4-VLn",
        "outputId": "8ed671be-5ff2-47ce-8620-a6c6f4026f9c"
      },
      "execution_count": null,
      "outputs": [
        {
          "output_type": "stream",
          "name": "stdout",
          "text": [
            "0.30000000000000004\n"
          ]
        }
      ]
    },
    {
      "cell_type": "code",
      "source": [
        "a = {5,6,7}\n",
        "print(id(a))\n",
        "print(a.add(5))\n",
        "print(id(a))"
      ],
      "metadata": {
        "colab": {
          "base_uri": "https://localhost:8080/"
        },
        "id": "y3pT-ePK-pdB",
        "outputId": "200d7507-a084-4aed-e033-1fe5d7d4af6b"
      },
      "execution_count": null,
      "outputs": [
        {
          "output_type": "stream",
          "name": "stdout",
          "text": [
            "133968630450880\n",
            "None\n",
            "133968630450880\n"
          ]
        }
      ]
    },
    {
      "cell_type": "code",
      "source": [
        "print(round(0.49))\n",
        "print(round(-0.45))"
      ],
      "metadata": {
        "id": "-m318r9L_HiF",
        "outputId": "970c5993-116b-4399-e69b-1c44ccde94d0",
        "colab": {
          "base_uri": "https://localhost:8080/"
        }
      },
      "execution_count": null,
      "outputs": [
        {
          "output_type": "stream",
          "name": "stdout",
          "text": [
            "0\n",
            "0\n"
          ]
        }
      ]
    },
    {
      "cell_type": "code",
      "source": [
        "print(float('inf'))"
      ],
      "metadata": {
        "id": "7yxtxQnsCNVC",
        "outputId": "cb429e5f-560a-4a29-aabc-cff9d11db0b8",
        "colab": {
          "base_uri": "https://localhost:8080/"
        }
      },
      "execution_count": null,
      "outputs": [
        {
          "output_type": "stream",
          "name": "stdout",
          "text": [
            "inf\n"
          ]
        }
      ]
    },
    {
      "cell_type": "code",
      "source": [
        "num1 = 0o1234\n",
        "print(num1)"
      ],
      "metadata": {
        "id": "mRdnoOHJCqqV",
        "outputId": "0140458f-ffa5-4262-b219-c29602487588",
        "colab": {
          "base_uri": "https://localhost:8080/"
        }
      },
      "execution_count": null,
      "outputs": [
        {
          "output_type": "stream",
          "name": "stdout",
          "text": [
            "668\n"
          ]
        }
      ]
    },
    {
      "cell_type": "code",
      "source": [
        "i =0\n",
        "while i<= 3:\n",
        "  print(i, end=' ')\n",
        "  i += 1\n",
        "else:\n",
        "  print(0)"
      ],
      "metadata": {
        "id": "_9eqeeKADbhd",
        "outputId": "1f873a59-b3c5-40cc-ff06-58eeaf6cea4c",
        "colab": {
          "base_uri": "https://localhost:8080/"
        }
      },
      "execution_count": null,
      "outputs": [
        {
          "output_type": "stream",
          "name": "stdout",
          "text": [
            "0 1 2 3 0\n"
          ]
        }
      ]
    },
    {
      "cell_type": "code",
      "source": [
        "my_lottery_tickets = 7\n",
        "winning_tickets = 0\n",
        "my_luck = winning_tickets / my_lottery_tkts"
      ],
      "metadata": {
        "colab": {
          "base_uri": "https://localhost:8080/",
          "height": 176
        },
        "id": "RavRtIlZr66s",
        "outputId": "bcff69e3-9f2d-4616-edfe-cbe91e8306b2"
      },
      "execution_count": null,
      "outputs": [
        {
          "output_type": "error",
          "ename": "NameError",
          "evalue": "name 'my_lottery_tkts' is not defined",
          "traceback": [
            "\u001b[0;31m---------------------------------------------------------------------------\u001b[0m",
            "\u001b[0;31mNameError\u001b[0m                                 Traceback (most recent call last)",
            "\u001b[0;32m/tmp/ipython-input-1-758006905.py\u001b[0m in \u001b[0;36m<cell line: 0>\u001b[0;34m()\u001b[0m\n\u001b[1;32m      1\u001b[0m \u001b[0mmy_lottery_tickets\u001b[0m \u001b[0;34m=\u001b[0m \u001b[0;36m7\u001b[0m\u001b[0;34m\u001b[0m\u001b[0;34m\u001b[0m\u001b[0m\n\u001b[1;32m      2\u001b[0m \u001b[0mwinning_tickets\u001b[0m \u001b[0;34m=\u001b[0m \u001b[0;36m0\u001b[0m\u001b[0;34m\u001b[0m\u001b[0;34m\u001b[0m\u001b[0m\n\u001b[0;32m----> 3\u001b[0;31m \u001b[0mmy_luck\u001b[0m \u001b[0;34m=\u001b[0m \u001b[0mwinning_tickets\u001b[0m \u001b[0;34m/\u001b[0m \u001b[0mmy_lottery_tkts\u001b[0m\u001b[0;34m\u001b[0m\u001b[0;34m\u001b[0m\u001b[0m\n\u001b[0m",
            "\u001b[0;31mNameError\u001b[0m: name 'my_lottery_tkts' is not defined"
          ]
        }
      ]
    },
    {
      "cell_type": "code",
      "source": [
        "user = 'John'\n",
        "lines = 50\n",
        "print('1-Congratulations, ' + user + '! You just wrote ' + str(lines) + ' lines of code')\n",
        "print(f'2-Congratulations, {user}! You just wrote {lines} lines of code')\n",
        "print('3-Congratulations, {}! You just wrote {} lines of code'.format(user, lines))\n",
        "print('3-Congratulations, {}! You just wrote {} lines of code'.format(user, lines, user))\n",
        "print('3-Congratulations, {}! You just wrote {} lines of code {} ..'.format(user, lines,1))\n",
        "print('3-Congratulations, {1}! You just wrote {0} lines of code'.format(user, lines, user))\n",
        "ls = ['John', 50]\n",
        "print('4-Congratulations, {}! You just wrote {} lines of code'.format(*ls))\n",
        "ls1 = {'user':'John', 'lines':50}\n",
        "print('5-Congratulations, {user}! You just wrote {lines} lines of code'.format(**ls1))\n",
        "ls2 = ['John', 50]\n",
        "print('6-Congratulations, {0[0]}! You just wrote {0[1]} lines of code'.format(ls2))\n",
        "ls3 = [user, lines]\n",
        "print('7-Congratulations, {0}! You just wrote {1} lines of code'.format(*ls3))\n",
        "tp1 = ('John', 50)\n",
        "print('8-Congratulations, {}! You just wrote {} lines of code'.format(*tp1))\n",
        "print('9-Congratulations, {0}! You just wrote {1} lines of code'.format(user, lines))\n",
        "print('10-Congratulations, {0}! You just wrote {1} lines of code'.format(*tp1))\n",
        "print()"
      ],
      "metadata": {
        "colab": {
          "base_uri": "https://localhost:8080/"
        },
        "id": "BAXzA5Z0Ma9j",
        "outputId": "b4b81c41-16a1-471c-c31e-f77880c9bfea"
      },
      "execution_count": null,
      "outputs": [
        {
          "output_type": "stream",
          "name": "stdout",
          "text": [
            "1-Congratulations, John! You just wrote 50 lines of code\n",
            "2-Congratulations, John! You just wrote 50 lines of code\n",
            "3-Congratulations, John! You just wrote 50 lines of code\n",
            "3-Congratulations, John! You just wrote 50 lines of code\n",
            "3-Congratulations, John! You just wrote 50 lines of code 1 ..\n",
            "3-Congratulations, 50! You just wrote John lines of code\n",
            "4-Congratulations, John! You just wrote 50 lines of code\n",
            "5-Congratulations, John! You just wrote 50 lines of code\n",
            "6-Congratulations, John! You just wrote 50 lines of code\n",
            "7-Congratulations, John! You just wrote 50 lines of code\n",
            "8-Congratulations, John! You just wrote 50 lines of code\n",
            "9-Congratulations, John! You just wrote 50 lines of code\n",
            "10-Congratulations, John! You just wrote 50 lines of code\n",
            "\n"
          ]
        }
      ]
    },
    {
      "cell_type": "code",
      "source": [
        "lst = [['asd', 23], [54, 'dfg'], ['4rw', 23.5], [65.4, 100]]\n",
        "#lst = ['asd', '23', '54', 'dfg', '4rw', '23.5', '65.4', '100']\n",
        "dct = dict(lst)\n",
        "print(dct)"
      ],
      "metadata": {
        "colab": {
          "base_uri": "https://localhost:8080/"
        },
        "id": "6acC0KGTRKcr",
        "outputId": "9b30f253-98b0-41c8-ed57-7e1539f8e535"
      },
      "execution_count": null,
      "outputs": [
        {
          "output_type": "stream",
          "name": "stdout",
          "text": [
            "{'asd': 23, 54: 'dfg', '4rw': 23.5, 65.4: 100}\n"
          ]
        }
      ]
    },
    {
      "cell_type": "code",
      "source": [
        "s1 = 'hello'\n",
        "s2 = 'python'\n",
        "l1 = list(s1)\n",
        "l2 = list(s2)\n",
        "#print(l1.intersection(l2)) # not available\n",
        "st1 = set(s1)\n",
        "st2 = set(s2)\n",
        "print(st1)\n",
        "print(st2)\n",
        "s3 = st1.intersection(st2)\n",
        "print(s3)"
      ],
      "metadata": {
        "colab": {
          "base_uri": "https://localhost:8080/",
          "height": 211
        },
        "id": "FlFENH_0RKf-",
        "outputId": "1f6bbf02-face-44ae-8d91-ca58e24ff97e"
      },
      "execution_count": null,
      "outputs": [
        {
          "output_type": "error",
          "ename": "TypeError",
          "evalue": "'list' object is not callable",
          "traceback": [
            "\u001b[0;31m---------------------------------------------------------------------------\u001b[0m",
            "\u001b[0;31mTypeError\u001b[0m                                 Traceback (most recent call last)",
            "\u001b[0;32m/tmp/ipython-input-20-4254265161.py\u001b[0m in \u001b[0;36m<cell line: 0>\u001b[0;34m()\u001b[0m\n\u001b[1;32m      1\u001b[0m \u001b[0ms1\u001b[0m \u001b[0;34m=\u001b[0m \u001b[0;34m'hello'\u001b[0m\u001b[0;34m\u001b[0m\u001b[0;34m\u001b[0m\u001b[0m\n\u001b[1;32m      2\u001b[0m \u001b[0ms2\u001b[0m \u001b[0;34m=\u001b[0m \u001b[0;34m'python'\u001b[0m\u001b[0;34m\u001b[0m\u001b[0;34m\u001b[0m\u001b[0m\n\u001b[0;32m----> 3\u001b[0;31m \u001b[0ml1\u001b[0m \u001b[0;34m=\u001b[0m \u001b[0mlist\u001b[0m\u001b[0;34m(\u001b[0m\u001b[0ms1\u001b[0m\u001b[0;34m)\u001b[0m\u001b[0;34m\u001b[0m\u001b[0;34m\u001b[0m\u001b[0m\n\u001b[0m\u001b[1;32m      4\u001b[0m \u001b[0ml2\u001b[0m \u001b[0;34m=\u001b[0m \u001b[0mlist\u001b[0m\u001b[0;34m(\u001b[0m\u001b[0ms2\u001b[0m\u001b[0;34m)\u001b[0m\u001b[0;34m\u001b[0m\u001b[0;34m\u001b[0m\u001b[0m\n\u001b[1;32m      5\u001b[0m \u001b[0;31m#print(l1.intersection(l2)) # not available\u001b[0m\u001b[0;34m\u001b[0m\u001b[0;34m\u001b[0m\u001b[0m\n",
            "\u001b[0;31mTypeError\u001b[0m: 'list' object is not callable"
          ]
        }
      ]
    },
    {
      "cell_type": "code",
      "source": [
        "list1 = [7,4,12,15]\n",
        "l1aaa = 0\n",
        "while l1aaa < len(list1):\n",
        "  print(list1[l1aaa])\n",
        "  l1aaa += 1\n"
      ],
      "metadata": {
        "id": "pk3LuJ4MRKjV",
        "outputId": "95945f22-045d-4c1d-8e8d-18de5b2cf22c",
        "colab": {
          "base_uri": "https://localhost:8080/"
        }
      },
      "execution_count": null,
      "outputs": [
        {
          "output_type": "stream",
          "name": "stdout",
          "text": [
            "7\n",
            "4\n",
            "12\n",
            "15\n"
          ]
        }
      ]
    },
    {
      "cell_type": "code",
      "source": [
        "st = 'New York City'\n",
        "print(st.find('York'))\n",
        "print(st.find('York', 10))\n",
        "print(st.find('York', 10, 15))\n",
        "print(st[:])\n",
        "print(st[::])\n",
        "print(st[::2])\n",
        "print(st[1::2])\n",
        "print(st[::-1])\n",
        "print(st[::-2])\n",
        "print(st[10:1:-1])\n",
        "print(st[4:18])"
      ],
      "metadata": {
        "id": "HrjrjznGRKnL",
        "colab": {
          "base_uri": "https://localhost:8080/"
        },
        "outputId": "27ccc016-697c-4ed2-ea8b-0b15f8f95270"
      },
      "execution_count": null,
      "outputs": [
        {
          "output_type": "stream",
          "name": "stdout",
          "text": [
            "4\n",
            "-1\n",
            "-1\n",
            "New York City\n",
            "New York City\n",
            "NwYr iy\n",
            "e okCt\n",
            "ytiC kroY weN\n",
            "yi rYwN\n",
            "iC kroY w\n",
            "York City\n"
          ]
        }
      ]
    },
    {
      "cell_type": "code",
      "source": [
        "tp = tuple(st)\n",
        "tp"
      ],
      "metadata": {
        "id": "EJTlkX-7fbhD",
        "colab": {
          "base_uri": "https://localhost:8080/"
        },
        "outputId": "84c59ca4-0994-43a4-f3d6-c1b032737f67"
      },
      "execution_count": null,
      "outputs": [
        {
          "output_type": "execute_result",
          "data": {
            "text/plain": [
              "('N', 'e', 'w', ' ', 'Y', 'o', 'r', 'k', ' ', 'C', 'i', 't', 'y')"
            ]
          },
          "metadata": {},
          "execution_count": 11
        }
      ]
    },
    {
      "cell_type": "code",
      "source": [
        "tp1 = ('a', 'b', 'c','d', 'e')\n",
        "tp2 = (1,2,3,4,5)\n",
        "tp3 = tp1 + tp2\n",
        "print(tp3)\n",
        "\n",
        "zipped = zip(tp1, tp2)\n",
        "print(zipped)\n",
        "zp_t = tuple(zipped)\n",
        "print(zp_t)\n",
        "zp_l = list(zipped)\n",
        "print(zp_l)\n",
        "\n",
        "tp11, tp22 = zip(*zp_t)\n",
        "print(tp11)\n",
        "print(tp22)"
      ],
      "metadata": {
        "id": "qDIldVqWfbkp",
        "colab": {
          "base_uri": "https://localhost:8080/"
        },
        "outputId": "06199c37-5972-41e1-bdfb-c264b6a411b9"
      },
      "execution_count": null,
      "outputs": [
        {
          "output_type": "stream",
          "name": "stdout",
          "text": [
            "('a', 'b', 'c', 'd', 'e', 1, 2, 3, 4, 5)\n",
            "<zip object at 0x79e2869c7200>\n",
            "(('a', 1), ('b', 2), ('c', 3), ('d', 4), ('e', 5))\n",
            "[]\n",
            "('a', 'b', 'c', 'd', 'e')\n",
            "(1, 2, 3, 4, 5)\n"
          ]
        }
      ]
    },
    {
      "cell_type": "code",
      "source": [
        "#Generators -\n",
        "def generator():\n",
        "  count = 0\n",
        "  while True:\n",
        "    n = yield count\n",
        "    if n is not None:\n",
        "      count = n\n",
        "    count += 1\n",
        "\n",
        "my_generator = generator()\n",
        "print(next(my_generator)) # Output: 0\n",
        "print(next(my_generator)) # Output: 1\n",
        "print(my_generator.send(3)) # Output: 4\n",
        "print(next(my_generator)) # Output: 5\n"
      ],
      "metadata": {
        "id": "37uniIHQfbn9",
        "colab": {
          "base_uri": "https://localhost:8080/"
        },
        "outputId": "c4fdad24-ee1f-473c-aed3-ee7d73be6160"
      },
      "execution_count": null,
      "outputs": [
        {
          "output_type": "stream",
          "name": "stdout",
          "text": [
            "0\n",
            "1\n",
            "4\n",
            "5\n"
          ]
        }
      ]
    },
    {
      "cell_type": "code",
      "source": [
        "#Generators - send()\n",
        "MAX_STUDENTS = 50\n",
        "\n",
        "def get_student_ids():\n",
        "  student_id = 1\n",
        "  while student_id <= MAX_STUDENTS:\n",
        "    # Write your code below\n",
        "    n = yield student_id\n",
        "    if n is not None:\n",
        "      student_id = n\n",
        "      continue\n",
        "    student_id += 1\n",
        "\n",
        "student_id_generator = get_student_ids()\n",
        "for i in student_id_generator:\n",
        "  # Write your code below\n",
        "  if i == 1:\n",
        "    i = student_id_generator.send(25)\n",
        "  print(i, end=\" \")"
      ],
      "metadata": {
        "id": "Dzkdkw6Xfbuo",
        "colab": {
          "base_uri": "https://localhost:8080/"
        },
        "outputId": "4b48aca9-b14b-4bae-96ad-5c2a6d2b5249"
      },
      "execution_count": null,
      "outputs": [
        {
          "output_type": "stream",
          "name": "stdout",
          "text": [
            "25 26 27 28 29 30 31 32 33 34 35 36 37 38 39 40 41 42 43 44 45 46 47 48 49 50 "
          ]
        }
      ]
    },
    {
      "cell_type": "code",
      "source": [
        "#Generators - next()\n",
        "def generator():\n",
        "  i = 0\n",
        "  while True:\n",
        "    yield i\n",
        "    i += 1\n",
        "\n",
        "my_generator = generator()\n",
        "next(my_generator)\n",
        "next(my_generator)\n",
        "my_generator.close()\n",
        "next(my_generator) # raises StopGenerator exception\n"
      ],
      "metadata": {
        "id": "QYOzvrzMBs8C",
        "outputId": "16ca5325-e7e2-4402-91af-3cbc0b65a554",
        "colab": {
          "base_uri": "https://localhost:8080/",
          "height": 176
        }
      },
      "execution_count": null,
      "outputs": [
        {
          "output_type": "error",
          "ename": "StopIteration",
          "evalue": "",
          "traceback": [
            "\u001b[0;31m---------------------------------------------------------------------------\u001b[0m",
            "\u001b[0;31mStopIteration\u001b[0m                             Traceback (most recent call last)",
            "\u001b[0;32m/tmp/ipython-input-3-4052206444.py\u001b[0m in \u001b[0;36m<cell line: 0>\u001b[0;34m()\u001b[0m\n\u001b[1;32m      9\u001b[0m \u001b[0mnext\u001b[0m\u001b[0;34m(\u001b[0m\u001b[0mmy_generator\u001b[0m\u001b[0;34m)\u001b[0m\u001b[0;34m\u001b[0m\u001b[0;34m\u001b[0m\u001b[0m\n\u001b[1;32m     10\u001b[0m \u001b[0mmy_generator\u001b[0m\u001b[0;34m.\u001b[0m\u001b[0mclose\u001b[0m\u001b[0;34m(\u001b[0m\u001b[0;34m)\u001b[0m\u001b[0;34m\u001b[0m\u001b[0;34m\u001b[0m\u001b[0m\n\u001b[0;32m---> 11\u001b[0;31m \u001b[0mnext\u001b[0m\u001b[0;34m(\u001b[0m\u001b[0mmy_generator\u001b[0m\u001b[0;34m)\u001b[0m \u001b[0;31m# raises StopGenerator exception\u001b[0m\u001b[0;34m\u001b[0m\u001b[0;34m\u001b[0m\u001b[0m\n\u001b[0m",
            "\u001b[0;31mStopIteration\u001b[0m: "
          ]
        }
      ]
    },
    {
      "cell_type": "code",
      "source": [
        "#Generators - close()\n",
        "def student_counter():\n",
        "  for i in range(1,5001):\n",
        "    yield i\n",
        "\n",
        "student_generator = student_counter()\n",
        "for student_id in student_generator:\n",
        "  print(student_id, end=' ')\n",
        "  # Write your code below:\n",
        "  if student_id >= 100:\n",
        "    student_generator.close()\n",
        "\n",
        "next(student_generator)"
      ],
      "metadata": {
        "id": "rB2SLfnTBs_5",
        "outputId": "e8115c0b-375b-44e8-8367-e46d67be090c",
        "colab": {
          "base_uri": "https://localhost:8080/",
          "height": 213
        }
      },
      "execution_count": null,
      "outputs": [
        {
          "output_type": "stream",
          "name": "stdout",
          "text": [
            "1 2 3 4 5 6 7 8 9 10 11 12 13 14 15 16 17 18 19 20 21 22 23 24 25 26 27 28 29 30 31 32 33 34 35 36 37 38 39 40 41 42 43 44 45 46 47 48 49 50 51 52 53 54 55 56 57 58 59 60 61 62 63 64 65 66 67 68 69 70 71 72 73 74 75 76 77 78 79 80 81 82 83 84 85 86 87 88 89 90 91 92 93 94 95 96 97 98 99 100 "
          ]
        },
        {
          "output_type": "error",
          "ename": "StopIteration",
          "evalue": "",
          "traceback": [
            "\u001b[0;31m---------------------------------------------------------------------------\u001b[0m",
            "\u001b[0;31mStopIteration\u001b[0m                             Traceback (most recent call last)",
            "\u001b[0;32m/tmp/ipython-input-7-3733187448.py\u001b[0m in \u001b[0;36m<cell line: 0>\u001b[0;34m()\u001b[0m\n\u001b[1;32m     10\u001b[0m     \u001b[0mstudent_generator\u001b[0m\u001b[0;34m.\u001b[0m\u001b[0mclose\u001b[0m\u001b[0;34m(\u001b[0m\u001b[0;34m)\u001b[0m\u001b[0;34m\u001b[0m\u001b[0;34m\u001b[0m\u001b[0m\n\u001b[1;32m     11\u001b[0m \u001b[0;34m\u001b[0m\u001b[0m\n\u001b[0;32m---> 12\u001b[0;31m \u001b[0mnext\u001b[0m\u001b[0;34m(\u001b[0m\u001b[0mstudent_generator\u001b[0m\u001b[0;34m)\u001b[0m\u001b[0;34m\u001b[0m\u001b[0;34m\u001b[0m\u001b[0m\n\u001b[0m",
            "\u001b[0;31mStopIteration\u001b[0m: "
          ]
        }
      ]
    },
    {
      "cell_type": "code",
      "source": [
        "#Generators - close()\n",
        "def generator():\n",
        "  i = 0\n",
        "  while True:\n",
        "    try:\n",
        "      yield i\n",
        "    except GeneratorExit:\n",
        "      print(\"Early exit, BYE!\")\n",
        "      break\n",
        "    i += 1\n",
        "\n",
        "my_generator = generator()\n",
        "for item in my_generator:\n",
        "  print(item)\n",
        "  if item == 1:\n",
        "    my_generator.close()\n",
        "\n",
        "next(my_generator)\n"
      ],
      "metadata": {
        "id": "CM6Cgy9YBtDs",
        "outputId": "232d0208-9a25-4968-d0da-0263a1596671",
        "colab": {
          "base_uri": "https://localhost:8080/",
          "height": 228
        }
      },
      "execution_count": null,
      "outputs": [
        {
          "output_type": "stream",
          "name": "stdout",
          "text": [
            "0\n",
            "1\n",
            "Early exit, BYE!\n"
          ]
        },
        {
          "output_type": "error",
          "ename": "StopIteration",
          "evalue": "",
          "traceback": [
            "\u001b[0;31m---------------------------------------------------------------------------\u001b[0m",
            "\u001b[0;31mStopIteration\u001b[0m                             Traceback (most recent call last)",
            "\u001b[0;32m/tmp/ipython-input-9-1216643431.py\u001b[0m in \u001b[0;36m<cell line: 0>\u001b[0;34m()\u001b[0m\n\u001b[1;32m     15\u001b[0m     \u001b[0mmy_generator\u001b[0m\u001b[0;34m.\u001b[0m\u001b[0mclose\u001b[0m\u001b[0;34m(\u001b[0m\u001b[0;34m)\u001b[0m\u001b[0;34m\u001b[0m\u001b[0;34m\u001b[0m\u001b[0m\n\u001b[1;32m     16\u001b[0m \u001b[0;34m\u001b[0m\u001b[0m\n\u001b[0;32m---> 17\u001b[0;31m \u001b[0mnext\u001b[0m\u001b[0;34m(\u001b[0m\u001b[0mmy_generator\u001b[0m\u001b[0;34m)\u001b[0m\u001b[0;34m\u001b[0m\u001b[0;34m\u001b[0m\u001b[0m\n\u001b[0m",
            "\u001b[0;31mStopIteration\u001b[0m: "
          ]
        }
      ]
    },
    {
      "cell_type": "code",
      "source": [
        "#Connecting Generators - 2 are connected in 3rd\n",
        "def cs_courses():\n",
        "    yield 'Computer Science'\n",
        "    yield 'Artificial Intelligence'\n",
        "\n",
        "def art_courses():\n",
        "    yield 'Intro to Art'\n",
        "    yield 'Selecting Mediums'\n",
        "\n",
        "\n",
        "def all_courses():\n",
        "    yield from cs_courses()\n",
        "    yield from art_courses()\n",
        "\n",
        "combined_generator = all_courses()\n",
        "for course in combined_generator:\n",
        "    print(course)"
      ],
      "metadata": {
        "id": "auoND74mBtGc",
        "outputId": "822268b1-c484-480f-91c5-03bdce9fec8a",
        "colab": {
          "base_uri": "https://localhost:8080/"
        }
      },
      "execution_count": null,
      "outputs": [
        {
          "output_type": "stream",
          "name": "stdout",
          "text": [
            "Computer Science\n",
            "Artificial Intelligence\n",
            "Intro to Art\n",
            "Selecting Mediums\n"
          ]
        }
      ]
    },
    {
      "cell_type": "code",
      "source": [
        "#Generator Pipelines : multiple generators to perform a series of operations all within one expression. the output of one generator function can be the input of another generator function\n",
        "def number_generator():\n",
        "  i = 0\n",
        "  while True:\n",
        "    print('----->')\n",
        "    yield i\n",
        "    i += 1\n",
        "\n",
        "def even_number_generator(numbers):\n",
        "  for n in numbers:\n",
        "    print('----->------>')\n",
        "    if n % 2 == 0:\n",
        "      yield n\n",
        "\n",
        "even_numbers = even_number_generator(number_generator())\n",
        "\n",
        "for e in even_numbers:\n",
        "  print(e, end=' ')\n",
        "  if e == 10:\n",
        "    break\n",
        "\n"
      ],
      "metadata": {
        "id": "4DhLVfPGBtJw",
        "outputId": "d9225098-0f06-450e-a27d-e4b421340a89",
        "colab": {
          "base_uri": "https://localhost:8080/"
        }
      },
      "execution_count": null,
      "outputs": [
        {
          "output_type": "stream",
          "name": "stdout",
          "text": [
            "----->\n",
            "----->------>\n",
            "0 ----->\n",
            "----->------>\n",
            "----->\n",
            "----->------>\n",
            "2 ----->\n",
            "----->------>\n",
            "----->\n",
            "----->------>\n",
            "4 ----->\n",
            "----->------>\n",
            "----->\n",
            "----->------>\n",
            "6 ----->\n",
            "----->------>\n",
            "----->\n",
            "----->------>\n",
            "8 ----->\n",
            "----->------>\n",
            "----->\n",
            "----->------>\n",
            "10 "
          ]
        }
      ]
    },
    {
      "cell_type": "code",
      "source": [
        "def course_generator():\n",
        "    yield (\"Computer Science\", 5)\n",
        "    yield (\"Art\", 10)\n",
        "    yield (\"Business\", 15)\n",
        "\n",
        "def add_five_students(courses):\n",
        "  for course, num_students in courses:\n",
        "    print('------->')\n",
        "    yield (course, num_students + 5)\n",
        "\n",
        "increased_courses = add_five_students(course_generator())\n",
        "for course in increased_courses:\n",
        "  print(course)"
      ],
      "metadata": {
        "id": "JdWTMj5uBtNK",
        "outputId": "24eb0fa1-e27e-46c2-e3c9-387820c627ea",
        "colab": {
          "base_uri": "https://localhost:8080/"
        }
      },
      "execution_count": null,
      "outputs": [
        {
          "output_type": "stream",
          "name": "stdout",
          "text": [
            "------->\n",
            "('Computer Science', 10)\n",
            "------->\n",
            "('Art', 15)\n",
            "------->\n",
            "('Business', 20)\n"
          ]
        }
      ]
    },
    {
      "cell_type": "code",
      "source": [
        "def summa():\n",
        "    yield 'Summa Cum Laude'\n",
        "def magna():\n",
        "    yield 'Magna Cum Laude'\n",
        "def cum_laude():\n",
        "    yield 'Cum Laude'\n",
        "# Write your code below:\n",
        "def graduation_countdown(days):\n",
        "  while days >= 0:\n",
        "    days_left = yield days\n",
        "    if days_left != None:\n",
        "      days = days_left\n",
        "    else:\n",
        "      days = days - 1\n",
        "\n",
        "days = 25\n",
        "countdown_generator = (day for day in range(days, -1, -1))\n",
        "for num in countdown_generator: print(num, end=' ')\n",
        "print()\n",
        "grad_days = graduation_countdown(days)\n",
        "for day in grad_days:\n",
        "  if day == 15:\n",
        "    grad_days.send(10)\n",
        "  elif day == 3:\n",
        "    grad_days.close()\n",
        "  print(\"Days Left: \" + str(day))\n",
        "\n",
        "gpas = [3.2, 4.0, 3.6, 3.9]\n",
        "def honors_generator(gpas):\n",
        "  for gpa in gpas:\n",
        "    if gpa > 3.9:\n",
        "      yield from summa()\n",
        "    elif gpa > 3.7:\n",
        "      yield from magna()\n",
        "    elif gpa > 3.5:\n",
        "      yield from cum_laude()\n",
        "\n",
        "honors = honors_generator(gpas)\n",
        "for honor_label in honors:\n",
        "  print(honor_label)\n"
      ],
      "metadata": {
        "id": "b81NtVTFHSmi",
        "outputId": "3981fe55-fdce-4918-d3a9-da06dd38300a",
        "colab": {
          "base_uri": "https://localhost:8080/"
        }
      },
      "execution_count": null,
      "outputs": [
        {
          "output_type": "stream",
          "name": "stdout",
          "text": [
            "25 24 23 22 21 20 19 18 17 16 15 14 13 12 11 10 9 8 7 6 5 4 3 2 1 0 \n",
            "Days Left: 25\n",
            "Days Left: 24\n",
            "Days Left: 23\n",
            "Days Left: 22\n",
            "Days Left: 21\n",
            "Days Left: 20\n",
            "Days Left: 19\n",
            "Days Left: 18\n",
            "Days Left: 17\n",
            "Days Left: 16\n",
            "Days Left: 15\n",
            "Days Left: 9\n",
            "Days Left: 8\n",
            "Days Left: 7\n",
            "Days Left: 6\n",
            "Days Left: 5\n",
            "Days Left: 4\n",
            "Days Left: 3\n",
            "Summa Cum Laude\n",
            "Cum Laude\n",
            "Magna Cum Laude\n"
          ]
        }
      ]
    },
    {
      "cell_type": "code",
      "source": [
        "import numpy as np\n",
        "\n",
        "def print_var(n, x):\n",
        "  print(f'{n}: {x} {type(x)}')\n",
        "\n",
        "x = 2**99\n",
        "print_var('x', x)"
      ],
      "metadata": {
        "id": "Beg329C2HSpw",
        "outputId": "c901edf3-59ca-4bef-910e-e98855a6fa1a",
        "colab": {
          "base_uri": "https://localhost:8080/"
        }
      },
      "execution_count": 1,
      "outputs": [
        {
          "output_type": "stream",
          "name": "stdout",
          "text": [
            "x: 633825300114114700748351602688 <class 'int'>\n"
          ]
        }
      ]
    },
    {
      "cell_type": "code",
      "source": [
        "y = np.int64(2**33)\n",
        "print_var('y', y)"
      ],
      "metadata": {
        "id": "238_m0sqHStF",
        "outputId": "42ec3cac-f283-4999-b5c7-876513603585",
        "colab": {
          "base_uri": "https://localhost:8080/"
        }
      },
      "execution_count": 2,
      "outputs": [
        {
          "output_type": "stream",
          "name": "stdout",
          "text": [
            "y: 8589934592 <class 'numpy.int64'>\n"
          ]
        }
      ]
    },
    {
      "cell_type": "code",
      "source": [
        "# Create a variable to hold a double floating point number\n",
        "z = np.float64(387438.238439843934329)\n",
        "print_var('z', z)"
      ],
      "metadata": {
        "id": "6gXlbNiOk5R_",
        "outputId": "87e8efd4-aca8-44c3-e89d-0d565a171846",
        "colab": {
          "base_uri": "https://localhost:8080/"
        }
      },
      "execution_count": 3,
      "outputs": [
        {
          "output_type": "stream",
          "name": "stdout",
          "text": [
            "z: 387438.23843984393 <class 'numpy.float64'>\n"
          ]
        }
      ]
    },
    {
      "cell_type": "code",
      "source": [
        "# Convert the 64-bit integer to a 32-bit integer\n",
        "y2 = y.astype(np.int32)\n",
        "print_var('y2', y2)\n",
        "\n",
        "y3 = np.int32(np.int64(2**31))\n",
        "print_var('y3', y3)\n",
        "\n",
        "# Convert the double floating point number to a single floating point number\n",
        "z2 = np.float32(z)\n",
        "print_var('z2', z2)"
      ],
      "metadata": {
        "id": "JcMcwKSzk5Ve",
        "outputId": "3fe1d2ca-58e0-4058-928a-c997ba7fc4fb",
        "colab": {
          "base_uri": "https://localhost:8080/"
        }
      },
      "execution_count": 5,
      "outputs": [
        {
          "output_type": "stream",
          "name": "stdout",
          "text": [
            "y2: 0 <class 'numpy.int32'>\n",
            "y3: -2147483648 <class 'numpy.int32'>\n",
            "z2: 387438.25 <class 'numpy.float32'>\n"
          ]
        }
      ]
    },
    {
      "cell_type": "code",
      "source": [
        "# Create a function that uses the global variable and a local one\n",
        "g_x = 1\n",
        "def f1(x):\n",
        "  global g_x\n",
        "  y = 6\n",
        "  g_x = x * y\n",
        "  return g_x\n",
        "\n",
        "print(f1(10))\n",
        "g_x"
      ],
      "metadata": {
        "id": "_tbb4h8-k5Zf",
        "outputId": "4e8c5e79-fec5-4506-92d9-34f854e2bcc7",
        "colab": {
          "base_uri": "https://localhost:8080/"
        }
      },
      "execution_count": 9,
      "outputs": [
        {
          "output_type": "stream",
          "name": "stdout",
          "text": [
            "60\n"
          ]
        },
        {
          "output_type": "execute_result",
          "data": {
            "text/plain": [
              "60"
            ]
          },
          "metadata": {},
          "execution_count": 9
        }
      ]
    },
    {
      "cell_type": "code",
      "source": [
        "# Create a function that uses the global variable and a local one\n",
        "def f1(x):\n",
        "  global g_x\n",
        "  y = 6\n",
        "  g_x = x * y\n",
        "  return g_x"
      ],
      "metadata": {
        "id": "nxaMarLqk5c0"
      },
      "execution_count": null,
      "outputs": []
    },
    {
      "cell_type": "code",
      "source": [
        "# Print the function's return value\n",
        "print(f'f1(5): {f1(5)}')\n",
        "print(f'g_x: {g_x}')\n",
        "\n",
        "print(f'f1(g_x): {f1(g_x)}')\n",
        "print(f'g_x: {g_x}')"
      ],
      "metadata": {
        "id": "94LS-mxuk5gb",
        "outputId": "a173b024-f093-49a4-f049-774cc4fe0e9f",
        "colab": {
          "base_uri": "https://localhost:8080/"
        }
      },
      "execution_count": 10,
      "outputs": [
        {
          "output_type": "stream",
          "name": "stdout",
          "text": [
            "f1(5): 30\n",
            "g_x: 30\n",
            "f1(g_x): 180\n",
            "g_x: 180\n"
          ]
        }
      ]
    },
    {
      "cell_type": "code",
      "source": [
        "# Create a function that accepts variable arguments as lists and named arguments\n",
        "def fn(*args, **kwargs):\n",
        "  # Perform an operation on the list of arguments\n",
        "  total = sum(args)\n",
        "  retval = f'sum of args: {total}\\n'\n",
        "  # Perform an operation on the named arguments\n",
        "  for k, v in kwargs.items():\n",
        "    retval += f'{k}={v}\\n'\n",
        "  return retval\n",
        "\n",
        "s = fn(1,2,3, test=5, p='Hello, World!')\n",
        "print(s)\n",
        "\n",
        "t = fn(4,5,6, greeting='Hello', recipient='World')\n",
        "print(t)"
      ],
      "metadata": {
        "id": "6TQZtUMQk5q-",
        "outputId": "1ce42e06-a96d-47a3-9275-0059cddc2731",
        "colab": {
          "base_uri": "https://localhost:8080/"
        }
      },
      "execution_count": 12,
      "outputs": [
        {
          "output_type": "stream",
          "name": "stdout",
          "text": [
            "sum of args: 6\n",
            "test=5\n",
            "p=Hello, World!\n",
            "\n",
            "sum of args: 15\n",
            "greeting=Hello\n",
            "recipient=World\n",
            "\n"
          ]
        }
      ]
    },
    {
      "cell_type": "code",
      "source": [
        "# Create a python function\n",
        "def fn_next(begin):\n",
        "  current = begin\n",
        "  # Create an inner function to act as a closure\n",
        "  def fn_inc():\n",
        "    nonlocal current\n",
        "    current += 1\n",
        "    return current\n",
        "  return fn_inc\n",
        "\n",
        "# Return the closure function object\n",
        "get_next = fn_next(100)\n",
        "\n",
        "# Call the function to return a value that changes each time it is called\n",
        "print(get_next())\n",
        "print(get_next())\n",
        "print(get_next())\n",
        "print(get_next())\n",
        "print(get_next())\n",
        "print(get_next())\n",
        "print(get_next())"
      ],
      "metadata": {
        "id": "btaRPrBlk5u1",
        "outputId": "e0962146-22a5-4296-e8d2-79d1a780beda",
        "colab": {
          "base_uri": "https://localhost:8080/"
        }
      },
      "execution_count": 15,
      "outputs": [
        {
          "output_type": "stream",
          "name": "stdout",
          "text": [
            "11\n",
            "11\n",
            "11\n",
            "11\n",
            "11\n",
            "11\n",
            "11\n"
          ]
        }
      ]
    },
    {
      "cell_type": "code",
      "source": [
        "items = ['cake', 'cookie', 'bread']\n",
        "total_items = items + ['biscuit', 'tart']\n",
        "print(total_items)\n",
        "# Result: ['cake', 'cookie', 'bread', 'biscuit', 'tart']\n",
        "total_items = total_items + ['mango']\n",
        "print(total_items)\n",
        "itm1 = []\n",
        "itm1 = itm1 + ['mango']\n",
        "print(itm1)"
      ],
      "metadata": {
        "id": "rsckiUB0sFsR",
        "outputId": "dbbc7159-c88e-454d-98ab-4e3336f2e6ab",
        "colab": {
          "base_uri": "https://localhost:8080/"
        }
      },
      "execution_count": 1,
      "outputs": [
        {
          "output_type": "stream",
          "name": "stdout",
          "text": [
            "['cake', 'cookie', 'bread', 'biscuit', 'tart']\n",
            "['cake', 'cookie', 'bread', 'biscuit', 'tart', 'mango']\n",
            "['mango']\n"
          ]
        }
      ]
    },
    {
      "cell_type": "code",
      "source": [],
      "metadata": {
        "id": "318RmKctsFvW"
      },
      "execution_count": null,
      "outputs": []
    },
    {
      "cell_type": "code",
      "source": [],
      "metadata": {
        "id": "Y0Vwne0bsFy0"
      },
      "execution_count": null,
      "outputs": []
    },
    {
      "cell_type": "code",
      "source": [],
      "metadata": {
        "id": "-iSkT8a8k5ym"
      },
      "execution_count": null,
      "outputs": []
    }
  ]
}