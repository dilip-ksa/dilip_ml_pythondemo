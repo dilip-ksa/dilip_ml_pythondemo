{
  "nbformat": 4,
  "nbformat_minor": 0,
  "metadata": {
    "colab": {
      "provenance": [],
      "name": "Day12_ML_Journey.ipynb",
      "authorship_tag": "ABX9TyM1zH/nvxG9XEKV4uVCBrzw",
      "include_colab_link": true
    },
    "kernelspec": {
      "name": "python3",
      "display_name": "Python 3"
    },
    "language_info": {
      "name": "python"
    }
  },
  "cells": [
    {
      "cell_type": "markdown",
      "metadata": {
        "id": "view-in-github",
        "colab_type": "text"
      },
      "source": [
        "<a href=\"https://colab.research.google.com/github/dilip-ksa/dilip_ml_pythondemo/blob/main/Day12_ML_Journey.ipynb\" target=\"_parent\"><img src=\"https://colab.research.google.com/assets/colab-badge.svg\" alt=\"Open In Colab\"/></a>"
      ]
    },
    {
      "cell_type": "code",
      "source": [
        "def func1(a,b,c,d):\n",
        "  return a,b,c,d\n",
        "\n",
        "_,val2,_,val4 = func1(10,20,30,40)\n",
        "print(val2, val4)"
      ],
      "metadata": {
        "id": "kJCknJRJR0Km",
        "colab": {
          "base_uri": "https://localhost:8080/"
        },
        "outputId": "5224f550-a3d5-47b5-889f-2c4c787e2953"
      },
      "execution_count": null,
      "outputs": [
        {
          "output_type": "stream",
          "name": "stdout",
          "text": [
            "20 40\n"
          ]
        }
      ]
    },
    {
      "cell_type": "code",
      "source": [
        "###################### Day 12/13 (12May2025)###########################\n",
        "# nested function\n",
        "def func1():\n",
        "  print(\"This is func1, calling func1\")\n",
        "  func2()\n",
        "  print(\"This is func1, after func2 call\")\n",
        "\n",
        "def func2():\n",
        "  print(\"This is func2, called from func1\")\n",
        "\n",
        "func1()\n"
      ],
      "metadata": {
        "id": "_pUePbOzR0HN",
        "colab": {
          "base_uri": "https://localhost:8080/"
        },
        "outputId": "2a387ec3-428f-4bc0-c249-2c31b704e5f0"
      },
      "execution_count": 1,
      "outputs": [
        {
          "output_type": "stream",
          "name": "stdout",
          "text": [
            "This is func1, calling func1\n",
            "This is func2, called from func1\n",
            "This is func1, after func2 call\n"
          ]
        }
      ]
    },
    {
      "cell_type": "code",
      "source": [
        "#### function local veriable\n",
        "def test1():\n",
        "  x = 10\n",
        "  print(x)\n",
        "  x = x + 1\n",
        "  print(x)\n",
        "\n",
        "test1()\n",
        "#print(x) # NameError: name 'x' is not defined\n",
        "test1()\n",
        "test1()"
      ],
      "metadata": {
        "colab": {
          "base_uri": "https://localhost:8080/"
        },
        "id": "33jJVv9dBt9S",
        "outputId": "f6dcc2df-3a5b-42ab-b661-d703d139b188"
      },
      "execution_count": 4,
      "outputs": [
        {
          "output_type": "stream",
          "name": "stdout",
          "text": [
            "10\n",
            "11\n",
            "10\n",
            "11\n",
            "10\n",
            "11\n"
          ]
        }
      ]
    },
    {
      "cell_type": "code",
      "source": [
        "# global variable in function\n",
        "globaly = 20\n",
        "def test2():\n",
        "  print(globaly)\n",
        "\n",
        "test2()\n",
        "print(globaly)"
      ],
      "metadata": {
        "colab": {
          "base_uri": "https://localhost:8080/"
        },
        "id": "TXkB-K2IBuIE",
        "outputId": "da202d0e-ef3f-40bc-8f19-5373b2d3ced4"
      },
      "execution_count": 7,
      "outputs": [
        {
          "output_type": "stream",
          "name": "stdout",
          "text": [
            "20\n",
            "20\n"
          ]
        }
      ]
    },
    {
      "cell_type": "code",
      "source": [
        "# global & local variable in function\n",
        "globaly = 20\n",
        "def test2():\n",
        "  globaly = 30\n",
        "  print(globaly)\n",
        "  globaly = globaly + 12\n",
        "  print(globaly)\n",
        "\n",
        "test2()\n",
        "print(globaly)"
      ],
      "metadata": {
        "colab": {
          "base_uri": "https://localhost:8080/"
        },
        "id": "jE8PGMD-BuL1",
        "outputId": "8978da16-8fc1-482b-d4c1-2855e9cbb838"
      },
      "execution_count": 11,
      "outputs": [
        {
          "output_type": "stream",
          "name": "stdout",
          "text": [
            "30\n",
            "42\n",
            "20\n"
          ]
        }
      ]
    },
    {
      "cell_type": "code",
      "source": [
        "# global & local variable in function\n",
        "globaly = 20\n",
        "def test2():\n",
        "  global globaly\n",
        "  globaly = globaly + 12\n",
        "  print(globaly)\n",
        "\n",
        "test2()\n",
        "print(globaly)"
      ],
      "metadata": {
        "colab": {
          "base_uri": "https://localhost:8080/"
        },
        "id": "vMpBY8_pBuPV",
        "outputId": "36f2360c-1d1f-4e4a-a8b7-23328c0185ce"
      },
      "execution_count": 10,
      "outputs": [
        {
          "output_type": "stream",
          "name": "stdout",
          "text": [
            "32\n",
            "32\n"
          ]
        }
      ]
    },
    {
      "cell_type": "code",
      "source": [
        "# global & local variable in function\n",
        "globaly = 50\n",
        "def test2():\n",
        "  global globaly\n",
        "  globaly = globaly + 12\n",
        "  print(globaly)\n",
        "\n",
        "def test3():\n",
        "  global globaly\n",
        "  globaly = globaly + 12\n",
        "  print(globaly)\n",
        "\n",
        "test2()\n",
        "print(globaly)\n",
        "test3()\n",
        "print(globaly)"
      ],
      "metadata": {
        "colab": {
          "base_uri": "https://localhost:8080/"
        },
        "id": "-F8SJHtgBuSu",
        "outputId": "fc21f632-d137-453a-a864-bb57da3310a6"
      },
      "execution_count": 12,
      "outputs": [
        {
          "output_type": "stream",
          "name": "stdout",
          "text": [
            "62\n",
            "62\n",
            "74\n",
            "74\n"
          ]
        }
      ]
    },
    {
      "cell_type": "code",
      "source": [
        "# Nested function (inner function)\n",
        "def multiplier_factory(factor):\n",
        "\n",
        "  def multiplier(number):\n",
        "\n",
        "    return number * factor\n",
        "\n",
        "  # Return the nested function\n",
        "  return multiplier  # returning the inner function\n",
        "\n",
        "# Create a function that multiplies by 5\n",
        "multiply_by_5 = multiplier_factory(5)\n",
        "print(multiply_by_5.__name__)\n",
        "\n",
        "# Create a function that multiplies by 10\n",
        "multiply_by_10 = multiplier_factory(10)\n",
        "\n",
        "# Use the created functions\n",
        "result1 = multiply_by_5(8)\n",
        "result2 = multiply_by_10(8)\n",
        "\n",
        "print(f\"8 multiplied by 5 is: {result1}\")  # Output: 8 multiplied by 5 is: 40\n",
        "print(f\"8 multiplied by 10 is: {result2}\") # Output: 8 multiplied by 10 is: 80"
      ],
      "metadata": {
        "colab": {
          "base_uri": "https://localhost:8080/"
        },
        "id": "EwMCK8TEBuWA",
        "outputId": "0922d675-a4fd-45ad-c70a-f1f352be6420"
      },
      "execution_count": 20,
      "outputs": [
        {
          "output_type": "stream",
          "name": "stdout",
          "text": [
            "multiplier\n",
            "8 multiplied by 5 is: 40\n",
            "8 multiplied by 10 is: 80\n"
          ]
        }
      ]
    },
    {
      "cell_type": "code",
      "source": [
        "# Function alias\n",
        "def func1():\n",
        "  print(\"This is func1 called by func2\")\n",
        "\n",
        "func2 = func1\n",
        "func2()"
      ],
      "metadata": {
        "colab": {
          "base_uri": "https://localhost:8080/"
        },
        "id": "jxY4PxngBuZK",
        "outputId": "c08b4146-1ca5-49dd-8f4f-0445873c5f82"
      },
      "execution_count": 17,
      "outputs": [
        {
          "output_type": "stream",
          "name": "stdout",
          "text": [
            "This is func1 called by func2\n"
          ]
        }
      ]
    },
    {
      "cell_type": "code",
      "source": [
        "# positional function arguments\n",
        "def func1(name,age,address):\n",
        "  print(name, age, address)\n",
        "\n",
        "func1(\"Dinesh\", 25, \"Pune\")"
      ],
      "metadata": {
        "colab": {
          "base_uri": "https://localhost:8080/"
        },
        "id": "SH735RwyBucP",
        "outputId": "a740d2b1-6e43-42ca-cdb0-82ddfdd2a5ef"
      },
      "execution_count": 21,
      "outputs": [
        {
          "output_type": "stream",
          "name": "stdout",
          "text": [
            "Dinesh 25 Pune\n"
          ]
        }
      ]
    },
    {
      "cell_type": "code",
      "source": [
        "# positional function arguments with keywords\n",
        "def func1(name,age,address):\n",
        "  print(name, age, address)\n",
        "\n",
        "func1(\"Dinesh\", 25, \"Pune\")\n",
        "func1(name=\"Dinesh\", age=25, address=\"Pune\")\n",
        "func1(age=25, name=\"Dinesh\", address=\"Pune\")\n",
        "func1(age=25, address=\"Pune\", name=\"Dinesh\")"
      ],
      "metadata": {
        "id": "HLmCvoUMLo-P",
        "outputId": "2e182f8a-9e15-43a5-ff6f-250c691afd02",
        "colab": {
          "base_uri": "https://localhost:8080/"
        }
      },
      "execution_count": 23,
      "outputs": [
        {
          "output_type": "stream",
          "name": "stdout",
          "text": [
            "Dinesh 25 Pune\n",
            "Dinesh 25 Pune\n",
            "Dinesh 25 Pune\n",
            "Dinesh 25 Pune\n"
          ]
        }
      ]
    },
    {
      "cell_type": "code",
      "source": [
        "# positional function arguments with keywords\n",
        "def func1(name,age,address):\n",
        "  print(name, age, address)\n",
        "\n",
        "func1(\"Dinesh\", 25, \"Pune\")\n",
        "func1(\"Dinesh\", age=25, address=\"Pune\")\n",
        "func1(\"Dinesh\", address=\"Pune\", age=25)\n",
        "func1(25, \"Dinesh\", address=\"Pune\") # Incorrect result\n",
        "func1(age=25, address=\"Pune\", name=\"Dinesh\")"
      ],
      "metadata": {
        "id": "xoVh56dlLpBw",
        "outputId": "fb4c12dc-6748-431f-effb-e047819eae29",
        "colab": {
          "base_uri": "https://localhost:8080/"
        }
      },
      "execution_count": 26,
      "outputs": [
        {
          "output_type": "stream",
          "name": "stdout",
          "text": [
            "Dinesh 25 Pune\n",
            "Dinesh 25 Pune\n",
            "Dinesh 25 Pune\n",
            "25 Dinesh Pune\n",
            "Dinesh 25 Pune\n"
          ]
        }
      ]
    },
    {
      "cell_type": "code",
      "source": [
        "# default argument value in function\n",
        "def func3(name,age,address=\"Pune\"):\n",
        "  print(name, age, address)\n",
        "\n",
        "func3(\"Dinesh\", 25, \"Mumbai\")\n",
        "func3(\"Dinesh\", 25)\n",
        "\n"
      ],
      "metadata": {
        "id": "92WoA1IaLpFB",
        "outputId": "f8be85b6-e678-4eb4-996a-3e3eaa9d0ad7",
        "colab": {
          "base_uri": "https://localhost:8080/"
        }
      },
      "execution_count": 28,
      "outputs": [
        {
          "output_type": "stream",
          "name": "stdout",
          "text": [
            "Dinesh 25 Mumbai\n",
            "Dinesh 25 Pune\n"
          ]
        }
      ]
    },
    {
      "cell_type": "code",
      "source": [
        "# Positional args -> keyword args -> default args\n",
        "def func4(name, age, address, city, state = 'OD'):\n",
        "  print(name, age, address, city, state)\n",
        "\n",
        "func4(\"Dinesh\", 25, \"Mumbai\", city=\"Pune\", state=\"MH\")\n",
        "func4(\"Dinesh\", 25, \"Mumbai\", city=\"Pune\")\n",
        "func4(\"Dinesh\", 25, \"Mumbai\", state=\"AP\", city=\"Hyd\")\n"
      ],
      "metadata": {
        "id": "hBo7a4w0Rvr3",
        "outputId": "29ec9dbe-5409-4d70-a25f-2aeb42812ba8",
        "colab": {
          "base_uri": "https://localhost:8080/"
        }
      },
      "execution_count": 32,
      "outputs": [
        {
          "output_type": "stream",
          "name": "stdout",
          "text": [
            "Dinesh 25 Mumbai Pune MH\n",
            "Dinesh 25 Mumbai Pune OD\n",
            "Dinesh 25 Mumbai Hyd AP\n"
          ]
        }
      ]
    },
    {
      "cell_type": "code",
      "source": [
        "# variable length argument\n",
        "def func5(*args):\n",
        "  print(args)\n",
        "\n",
        "func5(\"Dinesh\", 25, \"Mumbai\", \"Pune\", \"MH\")\n",
        "func5(\"Dinesh\", 25, \"Mumbai\")\n",
        "func5(\"Dinesh\", 25)\n",
        "func5(12,13,14,15,16)"
      ],
      "metadata": {
        "id": "3jtyatUwUb2r",
        "outputId": "3587d07d-dffd-447a-c0d7-c13a8920f658",
        "colab": {
          "base_uri": "https://localhost:8080/"
        }
      },
      "execution_count": 34,
      "outputs": [
        {
          "output_type": "stream",
          "name": "stdout",
          "text": [
            "('Dinesh', 25, 'Mumbai', 'Pune', 'MH')\n",
            "('Dinesh', 25, 'Mumbai')\n",
            "('Dinesh', 25)\n",
            "(12, 13, 14, 15, 16)\n"
          ]
        }
      ]
    },
    {
      "cell_type": "code",
      "source": [
        "#variable length keyword args\n",
        "def func5(**kwargs):\n",
        "  print(kwargs)\n",
        "\n",
        "func5(name=\"Dinesh\", age=25, address=\"Mumbai\", city=\"Pune\", state=\"MH\")\n",
        "func5(name=\"Dinesh\", age=25, address=\"Mumbai\")\n",
        "func5(name=\"Dinesh\", age=25)"
      ],
      "metadata": {
        "id": "N9KVzvvJUxsY",
        "outputId": "4707346a-0c14-43c8-dc84-08f3f238d0fb",
        "colab": {
          "base_uri": "https://localhost:8080/"
        }
      },
      "execution_count": 35,
      "outputs": [
        {
          "output_type": "stream",
          "name": "stdout",
          "text": [
            "{'name': 'Dinesh', 'age': 25, 'address': 'Mumbai', 'city': 'Pune', 'state': 'MH'}\n",
            "{'name': 'Dinesh', 'age': 25, 'address': 'Mumbai'}\n",
            "{'name': 'Dinesh', 'age': 25}\n"
          ]
        }
      ]
    },
    {
      "cell_type": "code",
      "source": [
        "# var args & keyword args\n",
        "def func5(*args,**kwargs):\n",
        "  print(args)\n",
        "  print(kwargs)\n",
        "\n",
        "func5(\"Dinesh\", 25, \"Mumbai\", city=\"Pune\", state=\"MH\")"
      ],
      "metadata": {
        "id": "-STH-Uz2Q2TQ",
        "outputId": "eb2c0550-19d4-49c4-d751-a2c03b50f1bb",
        "colab": {
          "base_uri": "https://localhost:8080/"
        }
      },
      "execution_count": 29,
      "outputs": [
        {
          "output_type": "stream",
          "name": "stdout",
          "text": [
            "('Dinesh', 25, 'Mumbai')\n",
            "{'city': 'Pune', 'state': 'MH'}\n"
          ]
        }
      ]
    },
    {
      "cell_type": "code",
      "source": [],
      "metadata": {
        "id": "MQFl1lYBBufY"
      },
      "execution_count": null,
      "outputs": []
    },
    {
      "cell_type": "code",
      "source": [],
      "metadata": {
        "id": "bOM1cJsqBuoS"
      },
      "execution_count": null,
      "outputs": []
    }
  ]
}