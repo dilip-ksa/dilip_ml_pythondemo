{
  "nbformat": 4,
  "nbformat_minor": 0,
  "metadata": {
    "colab": {
      "provenance": [],
      "name": "Day12_ML_Journey.ipynb",
      "authorship_tag": "ABX9TyPJT7ARD3Rw+oaONhDO82Fb",
      "include_colab_link": true
    },
    "kernelspec": {
      "name": "python3",
      "display_name": "Python 3"
    },
    "language_info": {
      "name": "python"
    }
  },
  "cells": [
    {
      "cell_type": "markdown",
      "metadata": {
        "id": "view-in-github",
        "colab_type": "text"
      },
      "source": [
        "<a href=\"https://colab.research.google.com/github/dilip-ksa/dilip_ml_pythondemo/blob/main/Day12_ML_Journey.ipynb\" target=\"_parent\"><img src=\"https://colab.research.google.com/assets/colab-badge.svg\" alt=\"Open In Colab\"/></a>"
      ]
    },
    {
      "cell_type": "code",
      "source": [
        "def func1(a,b,c,d):\n",
        "  return a,b,c,d\n",
        "\n",
        "_,val2,_,val4 = func1(10,20,30,40)\n",
        "print(val2, val4)"
      ],
      "metadata": {
        "id": "kJCknJRJR0Km",
        "colab": {
          "base_uri": "https://localhost:8080/"
        },
        "outputId": "5224f550-a3d5-47b5-889f-2c4c787e2953"
      },
      "execution_count": null,
      "outputs": [
        {
          "output_type": "stream",
          "name": "stdout",
          "text": [
            "20 40\n"
          ]
        }
      ]
    },
    {
      "cell_type": "code",
      "source": [
        "###################### Day 12/13 (12May2025)###########################\n",
        "# nested function\n",
        "def func1():\n",
        "  print(\"This is func1, calling func1\")\n",
        "  func2()\n",
        "  print(\"This is func1, after func2 call\")\n",
        "\n",
        "def func2():\n",
        "  print(\"This is func2, called from func1\")\n",
        "\n",
        "func1()\n"
      ],
      "metadata": {
        "id": "_pUePbOzR0HN",
        "colab": {
          "base_uri": "https://localhost:8080/"
        },
        "outputId": "2a387ec3-428f-4bc0-c249-2c31b704e5f0"
      },
      "execution_count": 1,
      "outputs": [
        {
          "output_type": "stream",
          "name": "stdout",
          "text": [
            "This is func1, calling func1\n",
            "This is func2, called from func1\n",
            "This is func1, after func2 call\n"
          ]
        }
      ]
    },
    {
      "cell_type": "code",
      "source": [
        "#### function local veriable\n",
        "def test1():\n",
        "  x = 10\n",
        "  print(x)\n",
        "  x = x + 1\n",
        "  print(x)\n",
        "\n",
        "test1()\n",
        "#print(x) # NameError: name 'x' is not defined\n",
        "test1()\n",
        "test1()"
      ],
      "metadata": {
        "id": "33jJVv9dBt9S",
        "outputId": "f6dcc2df-3a5b-42ab-b661-d703d139b188",
        "colab": {
          "base_uri": "https://localhost:8080/"
        }
      },
      "execution_count": 4,
      "outputs": [
        {
          "output_type": "stream",
          "name": "stdout",
          "text": [
            "10\n",
            "11\n",
            "10\n",
            "11\n",
            "10\n",
            "11\n"
          ]
        }
      ]
    },
    {
      "cell_type": "code",
      "source": [
        "# global variable in function\n",
        "globaly = 20\n",
        "def test2():\n",
        "  print(globaly)\n",
        "\n",
        "test2()\n",
        "print(globaly)"
      ],
      "metadata": {
        "id": "TXkB-K2IBuIE",
        "outputId": "da202d0e-ef3f-40bc-8f19-5373b2d3ced4",
        "colab": {
          "base_uri": "https://localhost:8080/"
        }
      },
      "execution_count": 7,
      "outputs": [
        {
          "output_type": "stream",
          "name": "stdout",
          "text": [
            "20\n",
            "20\n"
          ]
        }
      ]
    },
    {
      "cell_type": "code",
      "source": [
        "# global & local variable in function\n",
        "globaly = 20\n",
        "def test2():\n",
        "  globaly = 30\n",
        "  print(globaly)\n",
        "  globaly = globaly + 12\n",
        "  print(globaly)\n",
        "\n",
        "test2()\n",
        "print(globaly)"
      ],
      "metadata": {
        "id": "jE8PGMD-BuL1",
        "outputId": "8978da16-8fc1-482b-d4c1-2855e9cbb838",
        "colab": {
          "base_uri": "https://localhost:8080/"
        }
      },
      "execution_count": 11,
      "outputs": [
        {
          "output_type": "stream",
          "name": "stdout",
          "text": [
            "30\n",
            "42\n",
            "20\n"
          ]
        }
      ]
    },
    {
      "cell_type": "code",
      "source": [
        "# global & local variable in function\n",
        "globaly = 20\n",
        "def test2():\n",
        "  global globaly\n",
        "  globaly = globaly + 12\n",
        "  print(globaly)\n",
        "\n",
        "test2()\n",
        "print(globaly)"
      ],
      "metadata": {
        "id": "vMpBY8_pBuPV",
        "outputId": "36f2360c-1d1f-4e4a-a8b7-23328c0185ce",
        "colab": {
          "base_uri": "https://localhost:8080/"
        }
      },
      "execution_count": 10,
      "outputs": [
        {
          "output_type": "stream",
          "name": "stdout",
          "text": [
            "32\n",
            "32\n"
          ]
        }
      ]
    },
    {
      "cell_type": "code",
      "source": [],
      "metadata": {
        "id": "-F8SJHtgBuSu"
      },
      "execution_count": null,
      "outputs": []
    },
    {
      "cell_type": "code",
      "source": [],
      "metadata": {
        "id": "EwMCK8TEBuWA"
      },
      "execution_count": null,
      "outputs": []
    },
    {
      "cell_type": "code",
      "source": [],
      "metadata": {
        "id": "jxY4PxngBuZK"
      },
      "execution_count": null,
      "outputs": []
    },
    {
      "cell_type": "code",
      "source": [],
      "metadata": {
        "id": "SH735RwyBucP"
      },
      "execution_count": null,
      "outputs": []
    },
    {
      "cell_type": "code",
      "source": [],
      "metadata": {
        "id": "MQFl1lYBBufY"
      },
      "execution_count": null,
      "outputs": []
    },
    {
      "cell_type": "code",
      "source": [],
      "metadata": {
        "id": "bOM1cJsqBuoS"
      },
      "execution_count": null,
      "outputs": []
    }
  ]
}