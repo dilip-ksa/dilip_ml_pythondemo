{
  "nbformat": 4,
  "nbformat_minor": 0,
  "metadata": {
    "colab": {
      "provenance": [],
      "name": "Day12_ML_Journey.ipynb",
      "authorship_tag": "ABX9TyM9KhmFC3w66ps/lZEFadvs",
      "include_colab_link": true
    },
    "kernelspec": {
      "name": "python3",
      "display_name": "Python 3"
    },
    "language_info": {
      "name": "python"
    }
  },
  "cells": [
    {
      "cell_type": "markdown",
      "metadata": {
        "id": "view-in-github",
        "colab_type": "text"
      },
      "source": [
        "<a href=\"https://colab.research.google.com/github/dilip-ksa/dilip_ml_pythondemo/blob/main/Day12_ML_Journey.ipynb\" target=\"_parent\"><img src=\"https://colab.research.google.com/assets/colab-badge.svg\" alt=\"Open In Colab\"/></a>"
      ]
    },
    {
      "cell_type": "code",
      "source": [
        "def func1(a,b,c,d):\n",
        "  return a,b,c,d\n",
        "\n",
        "_,val2,_,val4 = func1(10,20,30,40)\n",
        "print(val2, val4)"
      ],
      "metadata": {
        "id": "kJCknJRJR0Km",
        "colab": {
          "base_uri": "https://localhost:8080/"
        },
        "outputId": "5224f550-a3d5-47b5-889f-2c4c787e2953"
      },
      "execution_count": null,
      "outputs": [
        {
          "output_type": "stream",
          "name": "stdout",
          "text": [
            "20 40\n"
          ]
        }
      ]
    },
    {
      "cell_type": "code",
      "source": [
        "###################### Day 12/13 ###########################\n",
        "# nested function\n",
        "def func1():\n",
        "  print(\"This is func1, calling func1\")\n",
        "  func2()\n",
        "  print(\"This is func1, after func2 call\")\n",
        "\n",
        "def func2():\n",
        "  print(\"This is func2, called from func1\")\n",
        "\n",
        "func1()\n"
      ],
      "metadata": {
        "id": "_pUePbOzR0HN",
        "colab": {
          "base_uri": "https://localhost:8080/"
        },
        "outputId": "2a387ec3-428f-4bc0-c249-2c31b704e5f0"
      },
      "execution_count": 1,
      "outputs": [
        {
          "output_type": "stream",
          "name": "stdout",
          "text": [
            "This is func1, calling func1\n",
            "This is func2, called from func1\n",
            "This is func1, after func2 call\n"
          ]
        }
      ]
    }
  ]
}