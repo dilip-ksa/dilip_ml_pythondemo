{
  "nbformat": 4,
  "nbformat_minor": 0,
  "metadata": {
    "colab": {
      "provenance": [],
      "name": "Day20_ML_Journey_Exception_handling.ipynb",
      "authorship_tag": "ABX9TyNCmICtVLPSd4Pn/DF63u86",
      "include_colab_link": true
    },
    "kernelspec": {
      "name": "python3",
      "display_name": "Python 3"
    },
    "language_info": {
      "name": "python"
    }
  },
  "cells": [
    {
      "cell_type": "markdown",
      "metadata": {
        "id": "view-in-github",
        "colab_type": "text"
      },
      "source": [
        "<a href=\"https://colab.research.google.com/github/dilip-ksa/dilip_ml_pythondemo/blob/main/Day20_ML_Journey_Exception_handling.ipynb\" target=\"_parent\"><img src=\"https://colab.research.google.com/assets/colab-badge.svg\" alt=\"Open In Colab\"/></a>"
      ]
    },
    {
      "cell_type": "code",
      "source": [
        "########### Day 19(28 May)  #####################\n",
        "#polymorphism with function\n",
        "class Vehicle:\n",
        "  def __init__(self, name, price, color):\n",
        "    self.name = name\n",
        "    self.price = price\n",
        "    self.color = color\n",
        "  def get_details(self):\n",
        "    print('Name:', self.name, ', Price:', self.price, ', Color:', self.color)\n",
        "\n",
        "class Audi(Vehicle):\n",
        "  def __init__(self, name, price, color):\n",
        "    super().__init__(name, price, color)\n",
        "\n",
        "  def max_speed(self):\n",
        "    print('Max speed is 200')\n",
        "\n",
        "  def change_gear(self):\n",
        "    print('Vehicle change 6 gear')\n",
        "\n",
        "class BMW(Vehicle):\n",
        "  def __init__(self, name, price, color):\n",
        "    super().__init__(name, price, color)\n",
        "\n",
        "  def max_speed(self):\n",
        "    print('Max speed is 300')\n",
        "\n",
        "  def change_gear(self):\n",
        "    print('Vehicle change 7 gear')\n",
        "\n",
        "def vehicle_details(v):\n",
        "  v.get_details()\n",
        "  v.max_speed()\n",
        "  v.change_gear()\n",
        "\n",
        "b1 = BMW('BMW', 900000, 'White')\n",
        "a1 = Audi('Audi', 1000000, 'Black')\n",
        "vehicle_details(b1)\n",
        "vehicle_details(a1)"
      ],
      "metadata": {
        "id": "2zALK3lMGdfY",
        "colab": {
          "base_uri": "https://localhost:8080/"
        },
        "outputId": "576c0115-3099-489c-af46-42afbd9da375"
      },
      "execution_count": null,
      "outputs": [
        {
          "output_type": "stream",
          "name": "stdout",
          "text": [
            "Name: BMW , Price: 900000 , Color: White\n",
            "Max speed is 300\n",
            "Vehicle change 7 gear\n",
            "Name: Audi , Price: 1000000 , Color: Black\n",
            "Max speed is 200\n",
            "Vehicle change 6 gear\n"
          ]
        }
      ]
    },
    {
      "cell_type": "code",
      "source": [
        "class Vehicle:\n",
        "  def __init__(self, name, price, color):\n",
        "    self.name = name\n",
        "    self.price = price\n",
        "    self.color = color\n",
        "  def get_details(self):\n",
        "    print('Name:', self.name, ', Price:', self.price, ', Color:', self.color, self.__class__)\n",
        "\n",
        "class Audi(Vehicle):\n",
        "  def __init__(self, name, price, color):\n",
        "    super().__init__(name, price, color)\n",
        "\n",
        "  def max_speed(self):\n",
        "    print('Audi - Max speed is 200')\n",
        "\n",
        "  def change_gear(self):\n",
        "    print('Audi - Vehicle change 6 gear')\n",
        "\n",
        "class BMW(Vehicle):\n",
        "  def __init__(self, name, price, color):\n",
        "    super().__init__(name, price, color)\n",
        "\n",
        "  def max_speed(self):\n",
        "    print('BMW - Max speed is 300')\n",
        "\n",
        "  def change_gear(self):\n",
        "    print('BMW - Vehicle change 7 gear')\n",
        "\n",
        "class Car:\n",
        "  def __init__(self, v):\n",
        "    self.v = v\n",
        "  def get_details(self):\n",
        "    self.v.get_details()\n",
        "    self.v.max_speed()\n",
        "    self.v.change_gear()\n",
        "\n",
        "b1 = BMW('BMW', 900000, 'White')\n",
        "a1 = Audi('Audi', 1000000, 'Black')\n",
        "c1 = Car(b1)\n",
        "c1.get_details()\n",
        "\n",
        "c2 = Car(a1)\n",
        "c2.get_details()"
      ],
      "metadata": {
        "id": "Iga-Ttm6Gdip",
        "colab": {
          "base_uri": "https://localhost:8080/"
        },
        "outputId": "64abb217-5210-4f8b-8d1f-4df405662214"
      },
      "execution_count": null,
      "outputs": [
        {
          "output_type": "stream",
          "name": "stdout",
          "text": [
            "Name: BMW , Price: 900000 , Color: White <class '__main__.BMW'>\n",
            "BMW - Max speed is 300\n",
            "BMW - Vehicle change 7 gear\n",
            "Name: Audi , Price: 1000000 , Color: Black <class '__main__.Audi'>\n",
            "Audi - Max speed is 200\n",
            "Audi - Vehicle change 6 gear\n"
          ]
        }
      ]
    },
    {
      "cell_type": "code",
      "source": [
        "###  Operator overloading - with number\n",
        "n1 = 10\n",
        "n2 = 20\n",
        "n3 = 30\n",
        "print(n1+n2)\n",
        "print(n1.__add__(n2))\n",
        "print(int.__add__(n1,n2))\n",
        "print(dir(int))\n",
        "print(n1+n2+n3)\n",
        "print(int.__add__(n1,int.__add__(n2,n3)))\n"
      ],
      "metadata": {
        "id": "5515Www5GdmC",
        "colab": {
          "base_uri": "https://localhost:8080/"
        },
        "outputId": "f03d9daa-8a6f-420a-a067-c7d4e5860705"
      },
      "execution_count": null,
      "outputs": [
        {
          "output_type": "stream",
          "name": "stdout",
          "text": [
            "30\n",
            "30\n",
            "30\n",
            "['__abs__', '__add__', '__and__', '__bool__', '__ceil__', '__class__', '__delattr__', '__dir__', '__divmod__', '__doc__', '__eq__', '__float__', '__floor__', '__floordiv__', '__format__', '__ge__', '__getattribute__', '__getnewargs__', '__getstate__', '__gt__', '__hash__', '__index__', '__init__', '__init_subclass__', '__int__', '__invert__', '__le__', '__lshift__', '__lt__', '__mod__', '__mul__', '__ne__', '__neg__', '__new__', '__or__', '__pos__', '__pow__', '__radd__', '__rand__', '__rdivmod__', '__reduce__', '__reduce_ex__', '__repr__', '__rfloordiv__', '__rlshift__', '__rmod__', '__rmul__', '__ror__', '__round__', '__rpow__', '__rrshift__', '__rshift__', '__rsub__', '__rtruediv__', '__rxor__', '__setattr__', '__sizeof__', '__str__', '__sub__', '__subclasshook__', '__truediv__', '__trunc__', '__xor__', 'as_integer_ratio', 'bit_count', 'bit_length', 'conjugate', 'denominator', 'from_bytes', 'imag', 'numerator', 'real', 'to_bytes']\n",
            "60\n"
          ]
        }
      ]
    },
    {
      "cell_type": "code",
      "source": [
        "###  Operator overloading - with string\n",
        "#s1 = 10 # not supported\n",
        "s1 = 'Hello'\n",
        "s2 = 'World'\n",
        "print(s1+s2)\n",
        "print(s1.__add__(s2))\n",
        "print(str.__add__(s1,s2))\n",
        "print(dir(str))"
      ],
      "metadata": {
        "id": "_VAAMPLIGdpk",
        "colab": {
          "base_uri": "https://localhost:8080/"
        },
        "outputId": "bafacd10-0a5c-4a74-b2e0-c0e808a200e4"
      },
      "execution_count": null,
      "outputs": [
        {
          "output_type": "stream",
          "name": "stdout",
          "text": [
            "HelloWorld\n",
            "HelloWorld\n",
            "HelloWorld\n",
            "['__add__', '__class__', '__contains__', '__delattr__', '__dir__', '__doc__', '__eq__', '__format__', '__ge__', '__getattribute__', '__getitem__', '__getnewargs__', '__getstate__', '__gt__', '__hash__', '__init__', '__init_subclass__', '__iter__', '__le__', '__len__', '__lt__', '__mod__', '__mul__', '__ne__', '__new__', '__reduce__', '__reduce_ex__', '__repr__', '__rmod__', '__rmul__', '__setattr__', '__sizeof__', '__str__', '__subclasshook__', 'capitalize', 'casefold', 'center', 'count', 'encode', 'endswith', 'expandtabs', 'find', 'format', 'format_map', 'index', 'isalnum', 'isalpha', 'isascii', 'isdecimal', 'isdigit', 'isidentifier', 'islower', 'isnumeric', 'isprintable', 'isspace', 'istitle', 'isupper', 'join', 'ljust', 'lower', 'lstrip', 'maketrans', 'partition', 'removeprefix', 'removesuffix', 'replace', 'rfind', 'rindex', 'rjust', 'rpartition', 'rsplit', 'rstrip', 'split', 'splitlines', 'startswith', 'strip', 'swapcase', 'title', 'translate', 'upper', 'zfill']\n"
          ]
        }
      ]
    },
    {
      "cell_type": "code",
      "source": [
        "## add in 2 student object\n",
        "class Student:\n",
        "  def __init__(self, name, marks):\n",
        "    self.name = name\n",
        "    self.marks = marks\n",
        "  def __add__(self, other):\n",
        "    print(self.name, other.name)\n",
        "    return self.marks + other.marks\n",
        "\n",
        "\n",
        "s1 = Student('Tom', 100)\n",
        "s2 = Student('Harry', 200)\n",
        "print(s1+s2)"
      ],
      "metadata": {
        "id": "vTz4SmEtGdsw",
        "colab": {
          "base_uri": "https://localhost:8080/"
        },
        "outputId": "9658ffd3-a3d8-43fb-c485-dc06ff0d8a7c"
      },
      "execution_count": null,
      "outputs": [
        {
          "output_type": "stream",
          "name": "stdout",
          "text": [
            "Tom Harry\n",
            "300\n"
          ]
        }
      ]
    },
    {
      "cell_type": "code",
      "source": [
        "class Hotel:\n",
        "  def __init__(self, name, price):\n",
        "    self.name = name\n",
        "    self.price = price\n",
        "  def __gt__(self, other):\n",
        "    return self.price > other.price\n",
        "\n",
        "h1 = Hotel('Mariot', 10000)\n",
        "h2 = Hotel('Taj', 20000)\n",
        "print(h1>h2)\n",
        "\n",
        "h1.price = 30000\n",
        "print(h1>h2)"
      ],
      "metadata": {
        "colab": {
          "base_uri": "https://localhost:8080/"
        },
        "id": "bgbRET6uhhnb",
        "outputId": "9c961ee3-5272-43a2-c8ec-fdcb80c15b11"
      },
      "execution_count": null,
      "outputs": [
        {
          "output_type": "stream",
          "name": "stdout",
          "text": [
            "False\n",
            "True\n"
          ]
        }
      ]
    },
    {
      "cell_type": "code",
      "source": [
        "# Method overloading\n",
        "class Addition:\n",
        "  def add(self, a, b, c): # This is not executed\n",
        "    print(a+b+c)\n",
        "  def add(self, a, b): # always executes this method\n",
        "    print(a+b)\n",
        "\n",
        "a1 = Addition()\n",
        "a1.add(10,20)\n",
        "a1.add(10,20,30)"
      ],
      "metadata": {
        "colab": {
          "base_uri": "https://localhost:8080/",
          "height": 193
        },
        "id": "KHJE809Phhq6",
        "outputId": "bf0ff336-b98d-4f98-ff75-54d254b2b370"
      },
      "execution_count": null,
      "outputs": [
        {
          "output_type": "stream",
          "name": "stdout",
          "text": [
            "30\n"
          ]
        },
        {
          "output_type": "error",
          "ename": "TypeError",
          "evalue": "Addition.add() takes 3 positional arguments but 4 were given",
          "traceback": [
            "\u001b[0;31m---------------------------------------------------------------------------\u001b[0m",
            "\u001b[0;31mTypeError\u001b[0m                                 Traceback (most recent call last)",
            "\u001b[0;32m<ipython-input-26-54e99288d49f>\u001b[0m in \u001b[0;36m<cell line: 0>\u001b[0;34m()\u001b[0m\n\u001b[1;32m      8\u001b[0m \u001b[0ma1\u001b[0m \u001b[0;34m=\u001b[0m \u001b[0mAddition\u001b[0m\u001b[0;34m(\u001b[0m\u001b[0;34m)\u001b[0m\u001b[0;34m\u001b[0m\u001b[0;34m\u001b[0m\u001b[0m\n\u001b[1;32m      9\u001b[0m \u001b[0ma1\u001b[0m\u001b[0;34m.\u001b[0m\u001b[0madd\u001b[0m\u001b[0;34m(\u001b[0m\u001b[0;36m10\u001b[0m\u001b[0;34m,\u001b[0m\u001b[0;36m20\u001b[0m\u001b[0;34m)\u001b[0m\u001b[0;34m\u001b[0m\u001b[0;34m\u001b[0m\u001b[0m\n\u001b[0;32m---> 10\u001b[0;31m \u001b[0ma1\u001b[0m\u001b[0;34m.\u001b[0m\u001b[0madd\u001b[0m\u001b[0;34m(\u001b[0m\u001b[0;36m10\u001b[0m\u001b[0;34m,\u001b[0m\u001b[0;36m20\u001b[0m\u001b[0;34m,\u001b[0m\u001b[0;36m30\u001b[0m\u001b[0;34m)\u001b[0m\u001b[0;34m\u001b[0m\u001b[0;34m\u001b[0m\u001b[0m\n\u001b[0m",
            "\u001b[0;31mTypeError\u001b[0m: Addition.add() takes 3 positional arguments but 4 were given"
          ]
        }
      ]
    },
    {
      "cell_type": "code",
      "source": [
        "# Method overloading with default\n",
        "class Addition:\n",
        "  def add(self, a=None, b=None, c=None): # This is not executed\n",
        "    if a!=None and b!=None and c!=None:\n",
        "      print(a+b+c)\n",
        "    elif a!=None and b!=None:\n",
        "      print(a+b)\n",
        "    elif a!=None:\n",
        "      print(a)\n",
        "    else:\n",
        "      print('Invalid arguments')\n",
        "\n",
        "\n",
        "a1 = Addition()\n",
        "a1.add(10,20,30)\n",
        "a1.add(10)\n",
        "a1.add(10,20)\n"
      ],
      "metadata": {
        "colab": {
          "base_uri": "https://localhost:8080/"
        },
        "id": "WKZkVgPhhhvB",
        "outputId": "47e745e6-0c99-47a0-9879-ce5dff721963"
      },
      "execution_count": null,
      "outputs": [
        {
          "output_type": "stream",
          "name": "stdout",
          "text": [
            "60\n",
            "10\n",
            "30\n"
          ]
        }
      ]
    },
    {
      "cell_type": "code",
      "source": [
        "#### python destructor\n",
        "class Addition:\n",
        "  def add(self, a, b):\n",
        "    print(a+b)\n",
        "\n",
        "  def __del__(self): # Do not define destructor method\n",
        "    print('Destructor called')\n",
        "\n",
        "\n",
        "a1 = Addition()\n",
        "a1.add(10,20)\n",
        "del a1\n",
        "#a1.add(10,20) # a1 is already deleted in previous line, so a1 is not available at this point\n"
      ],
      "metadata": {
        "colab": {
          "base_uri": "https://localhost:8080/"
        },
        "collapsed": true,
        "id": "-wPWVKs0hhya",
        "outputId": "6c6ec402-bb91-4833-a601-d473ef917f71"
      },
      "execution_count": 1,
      "outputs": [
        {
          "output_type": "stream",
          "name": "stdout",
          "text": [
            "30\n",
            "Destructor called\n"
          ]
        }
      ]
    },
    {
      "cell_type": "code",
      "source": [
        "######################  Day 20(29May2025) Exception handling  #######################\n",
        "n1 = 10\n",
        "n2 = 0\n",
        "result = n1/n2\n",
        "print(result)"
      ],
      "metadata": {
        "id": "bpA3eCHDt5L1",
        "colab": {
          "base_uri": "https://localhost:8080/",
          "height": 193
        },
        "outputId": "812d1945-46e3-47f5-a97d-bee9ad899eb8"
      },
      "execution_count": 2,
      "outputs": [
        {
          "output_type": "error",
          "ename": "ZeroDivisionError",
          "evalue": "division by zero",
          "traceback": [
            "\u001b[0;31m---------------------------------------------------------------------------\u001b[0m",
            "\u001b[0;31mZeroDivisionError\u001b[0m                         Traceback (most recent call last)",
            "\u001b[0;32m<ipython-input-2-cca5d6069b73>\u001b[0m in \u001b[0;36m<cell line: 0>\u001b[0;34m()\u001b[0m\n\u001b[1;32m      2\u001b[0m \u001b[0mn1\u001b[0m \u001b[0;34m=\u001b[0m \u001b[0;36m10\u001b[0m\u001b[0;34m\u001b[0m\u001b[0;34m\u001b[0m\u001b[0m\n\u001b[1;32m      3\u001b[0m \u001b[0mn2\u001b[0m \u001b[0;34m=\u001b[0m \u001b[0;36m0\u001b[0m\u001b[0;34m\u001b[0m\u001b[0;34m\u001b[0m\u001b[0m\n\u001b[0;32m----> 4\u001b[0;31m \u001b[0mresult\u001b[0m \u001b[0;34m=\u001b[0m \u001b[0mn1\u001b[0m\u001b[0;34m/\u001b[0m\u001b[0mn2\u001b[0m\u001b[0;34m\u001b[0m\u001b[0;34m\u001b[0m\u001b[0m\n\u001b[0m\u001b[1;32m      5\u001b[0m \u001b[0mprint\u001b[0m\u001b[0;34m(\u001b[0m\u001b[0mresult\u001b[0m\u001b[0;34m)\u001b[0m\u001b[0;34m\u001b[0m\u001b[0;34m\u001b[0m\u001b[0m\n",
            "\u001b[0;31mZeroDivisionError\u001b[0m: division by zero"
          ]
        }
      ]
    },
    {
      "cell_type": "code",
      "source": [
        "try:\n",
        "  n1 = int(input('Enter first number: '))\n",
        "  n2 = int(input('Enter second number: '))\n",
        "  result = n1/n2\n",
        "  print('No exception occurred, Result is:', result)\n",
        "except (ZeroDivisionError,ValueError) as e:\n",
        "  print('Provide valid input :', e)\n",
        "  print(e.__dict__)\n",
        "  print(e.__dir__)\n",
        "else:\n",
        "  print('No exception occurred, else block executed')\n",
        "finally:\n",
        "  print('Finally block')\n",
        "\n",
        "print('End of program')\n"
      ],
      "metadata": {
        "id": "wIxOYIght5Py",
        "colab": {
          "base_uri": "https://localhost:8080/"
        },
        "outputId": "9774a9fd-89e4-4ac3-9eb9-69150415909d"
      },
      "execution_count": 23,
      "outputs": [
        {
          "output_type": "stream",
          "name": "stdout",
          "text": [
            "Enter first number: 10\n",
            "Enter second number: 0\n",
            "Provide valid input : division by zero\n",
            "{}\n",
            "<built-in method __dir__ of ZeroDivisionError object at 0x7b5490981120>\n",
            "Finally block\n",
            "End of program\n"
          ]
        }
      ]
    },
    {
      "cell_type": "code",
      "source": [
        "try:\n",
        "  n1 = int(input('Enter first number: '))\n",
        "  n2 = int(input('Enter second number: '))\n",
        "  result = n1/n2\n",
        "  print('No exception occurred, Result is:', reslt)\n",
        "except (ZeroDivisionError,ValueError):\n",
        "  print('Provide valid input')\n",
        "except Exception as e:\n",
        "  print('Exception occurred:', e)\n",
        "else:\n",
        "  print('No exception occurred, else block executed')\n",
        "finally:\n",
        "  print('Finally block')\n",
        "\n",
        "print('End of program')"
      ],
      "metadata": {
        "id": "8qBTK8O2t5dC",
        "colab": {
          "base_uri": "https://localhost:8080/"
        },
        "outputId": "243354d3-60c9-4f23-ebb2-2351b55fc2a7"
      },
      "execution_count": 19,
      "outputs": [
        {
          "output_type": "stream",
          "name": "stdout",
          "text": [
            "Enter first number: 10\n",
            "Enter second number: 2\n",
            "Exception occurred: name 'reslt' is not defined\n",
            "Finally block\n",
            "End of program\n"
          ]
        }
      ]
    },
    {
      "cell_type": "code",
      "source": [
        "try:\n",
        "  n1 = int(input('Enter first number: '))\n",
        "  n2 = int(input('Enter second number: '))\n",
        "  result = n1/n2\n",
        "  print('No exception occurred, Result is:', result)\n",
        "except Exception as e:\n",
        "  print('Exception occurred, provide valid input:', e)\n",
        "  print(e.__getattribute__)\n",
        "  print(e.__dir__)\n",
        "else:\n",
        "  print('No exception occurred, else block executed')\n",
        "finally:\n",
        "  print('Finally block')\n",
        "\n",
        "print('End of program')"
      ],
      "metadata": {
        "id": "z2jgq6fgt5gb",
        "colab": {
          "base_uri": "https://localhost:8080/"
        },
        "outputId": "5bbff23e-07bd-4904-a512-7182a468bbb5"
      },
      "execution_count": 28,
      "outputs": [
        {
          "output_type": "stream",
          "name": "stdout",
          "text": [
            "Enter first number: 12\n",
            "Enter second number: we\n",
            "Exception occurred, provide valid input: invalid literal for int() with base 10: 'we'\n",
            "<method-wrapper '__getattribute__' of ValueError object at 0x7b5490981ba0>\n",
            "<built-in method __dir__ of ValueError object at 0x7b5490981ba0>\n",
            "Finally block\n",
            "End of program\n"
          ]
        }
      ]
    },
    {
      "cell_type": "code",
      "source": [
        "# using sys module\n",
        "import sys\n",
        "try:\n",
        "  n1 = int(input('Enter first number: '))\n",
        "  n2 = int(input('Enter second number: '))\n",
        "  result = n1/n2\n",
        "  print('No exception occurred, Result is:', result)\n",
        "except Exception as e:\n",
        "  print('Exception occurred, provide valid input:', e)\n",
        "  print(sys.exc_info() )\n",
        "  print(sys.exc_info()[0] )\n",
        "  print(sys.exc_info()[1] )\n",
        "  print(sys.exc_info()[2] )\n",
        "  print(e.args)\n",
        "  print(e.with_traceback)\n",
        "  print(sys.get_int_max_str_digits)\n",
        "else:\n",
        "  print('No exception occurred, else block executed')\n",
        "finally:\n",
        "  print('Finally block')\n",
        "\n",
        "print('End of program')"
      ],
      "metadata": {
        "id": "bUpEWQpnqSPi",
        "outputId": "639568cb-25f9-4eaa-8313-ee89a47f7682",
        "colab": {
          "base_uri": "https://localhost:8080/"
        }
      },
      "execution_count": 37,
      "outputs": [
        {
          "output_type": "stream",
          "name": "stdout",
          "text": [
            "Enter first number: 12\n",
            "Enter second number: 0\n",
            "Exception occurred, provide valid input: division by zero\n",
            "(<class 'ZeroDivisionError'>, ZeroDivisionError('division by zero'), <traceback object at 0x7b5475956d80>)\n",
            "<class 'ZeroDivisionError'>\n",
            "division by zero\n",
            "<traceback object at 0x7b5475956d80>\n",
            "('division by zero',)\n",
            "<built-in method with_traceback of ZeroDivisionError object at 0x7b54909821a0>\n",
            "<built-in function get_int_max_str_digits>\n",
            "Finally block\n",
            "End of program\n"
          ]
        }
      ]
    },
    {
      "cell_type": "code",
      "source": [
        "# raise error/exception manually\n",
        "try:\n",
        "  n1 = int(input('Enter first number: '))\n",
        "  n2 = int(input('Enter second number: '))\n",
        "  if n2 <= 0:\n",
        "    raise ValueError('Second number cannot be zero or -ve')\n",
        "  result = n1/n2\n",
        "  print('No exception occurred, Result is:', result)\n",
        "except ValueError as e:\n",
        "  print('ValueError occurred, provide valid input:', e)\n",
        "  print(e.args)\n",
        "  print(e.with_traceback)\n",
        "except Exception as e:\n",
        "  print('Exception occurred, provide valid input:', e)\n",
        "  print(e.args)\n",
        "else:\n",
        "  print('No exception occurred, else block executed')\n",
        "finally:\n",
        "  print('Finally block')\n",
        "\n",
        "print('End of program')"
      ],
      "metadata": {
        "id": "B51OuMduqSTa",
        "outputId": "49669425-61d9-4479-91e8-772aa2e4323a",
        "colab": {
          "base_uri": "https://localhost:8080/"
        }
      },
      "execution_count": 44,
      "outputs": [
        {
          "output_type": "stream",
          "name": "stdout",
          "text": [
            "Enter first number: 10\n",
            "Enter second number: -10\n",
            "ValueError occurred, provide valid input: Second number cannot be zero or -ve\n",
            "('Second number cannot be zero or -ve',)\n",
            "<built-in method with_traceback of ValueError object at 0x7b547579b280>\n",
            "Finally block\n",
            "End of program\n"
          ]
        }
      ]
    },
    {
      "cell_type": "code",
      "source": [],
      "metadata": {
        "id": "ZyJutWwKqSWc"
      },
      "execution_count": null,
      "outputs": []
    },
    {
      "cell_type": "code",
      "source": [],
      "metadata": {
        "id": "-MUldLROqSZf"
      },
      "execution_count": null,
      "outputs": []
    },
    {
      "cell_type": "code",
      "source": [],
      "metadata": {
        "id": "XcoHLXvkqScq"
      },
      "execution_count": null,
      "outputs": []
    }
  ]
}